{
 "cells": [
  {
   "cell_type": "code",
   "execution_count": null,
   "metadata": {},
   "outputs": [],
   "source": []
  },
  {
   "cell_type": "code",
   "execution_count": 3,
   "metadata": {
    "id": "CkXheZ_EHz-N"
   },
   "outputs": [],
   "source": [
    "!pip install -q kaggle"
   ]
  },
  {
   "cell_type": "code",
   "execution_count": 4,
   "metadata": {
    "id": "hSjJHQ_oH0z0"
   },
   "outputs": [
    {
     "name": "stderr",
     "output_type": "stream",
     "text": [
      "The syntax of the command is incorrect.\n"
     ]
    }
   ],
   "source": [
    "!mkdir ~/.kaggle #creating kaggle directory"
   ]
  },
  {
   "cell_type": "code",
   "execution_count": 3,
   "metadata": {
    "id": "ViJ4Whb6H06e"
   },
   "outputs": [
    {
     "name": "stderr",
     "output_type": "stream",
     "text": [
      "'cp' is not recognized as an internal or external command,\n",
      "operable program or batch file.\n"
     ]
    }
   ],
   "source": [
    "!cp kaggle.json ~/.kaggle/  # copying json file to folder"
   ]
  },
  {
   "cell_type": "code",
   "execution_count": 5,
   "metadata": {
    "id": "3ib4NZuuH09l"
   },
   "outputs": [
    {
     "name": "stderr",
     "output_type": "stream",
     "text": [
      "'chmod' is not recognized as an internal or external command,\n",
      "operable program or batch file.\n"
     ]
    }
   ],
   "source": [
    "!chmod 600 ~/.kaggle/kaggle.json  # changing the permissions to json"
   ]
  },
  {
   "cell_type": "code",
   "execution_count": 6,
   "metadata": {
    "colab": {
     "base_uri": "https://localhost:8080/"
    },
    "id": "Tem-LGYRH1C6",
    "outputId": "f49fb1d5-7848-4470-b06c-4e68cf2f6c46"
   },
   "outputs": [
    {
     "name": "stderr",
     "output_type": "stream",
     "text": [
      "c:\\programdata\\anaconda3\\lib\\site-packages\\requests\\__init__.py:91: RequestsDependencyWarning: urllib3 (1.26.7) or chardet (3.0.4) doesn't match a supported version!\n",
      "  RequestsDependencyWarning)\n",
      "Traceback (most recent call last):\n",
      "  File \"c:\\programdata\\anaconda3\\lib\\runpy.py\", line 193, in _run_module_as_main\n",
      "    \"__main__\", mod_spec)\n",
      "  File \"c:\\programdata\\anaconda3\\lib\\runpy.py\", line 85, in _run_code\n",
      "    exec(code, run_globals)\n",
      "  File \"C:\\ProgramData\\Anaconda3\\Scripts\\kaggle.exe\\__main__.py\", line 5, in <module>\n",
      "  File \"c:\\programdata\\anaconda3\\lib\\site-packages\\kaggle\\__init__.py\", line 23, in <module>\n",
      "    api.authenticate()\n",
      "  File \"c:\\programdata\\anaconda3\\lib\\site-packages\\kaggle\\api\\kaggle_api_extended.py\", line 166, in authenticate\n",
      "    self.config_file, self.config_dir))\n",
      "OSError: Could not find kaggle.json. Make sure it's located in C:\\Users\\User\\.kaggle. Or use the environment method.\n"
     ]
    }
   ],
   "source": [
    "!kaggle datasets download -d bharadwaj6/kindle-reviews"
   ]
  },
  {
   "cell_type": "code",
   "execution_count": 7,
   "metadata": {
    "colab": {
     "base_uri": "https://localhost:8080/"
    },
    "id": "egXxHBTRH1Fd",
    "outputId": "58a1f2f4-7831-4da2-bb05-bbe924a030cb"
   },
   "outputs": [
    {
     "name": "stderr",
     "output_type": "stream",
     "text": [
      "'unzip' is not recognized as an internal or external command,\n",
      "operable program or batch file.\n"
     ]
    }
   ],
   "source": [
    "!unzip kindle-reviews.zip"
   ]
  },
  {
   "cell_type": "markdown",
   "metadata": {
    "id": "I_ikBysUG0oo"
   },
   "source": [
    "#  Importing necessary libraries"
   ]
  },
  {
   "cell_type": "code",
   "execution_count": 8,
   "metadata": {
    "id": "hIiXOlV7G0oz"
   },
   "outputs": [
    {
     "name": "stderr",
     "output_type": "stream",
     "text": [
      "C:\\ProgramData\\Anaconda3\\lib\\site-packages\\sklearn\\feature_extraction\\image.py:167: DeprecationWarning: `np.int` is a deprecated alias for the builtin `int`. To silence this warning, use `int` by itself. Doing this will not modify any behavior and is safe. When replacing `np.int`, you may wish to use e.g. `np.int64` or `np.int32` to specify the precision. If you wish to review your current use, check the release note link for additional information.\n",
      "Deprecated in NumPy 1.20; for more details and guidance: https://numpy.org/devdocs/release/1.20.0-notes.html#deprecations\n",
      "  dtype=np.int):\n",
      "C:\\ProgramData\\Anaconda3\\lib\\site-packages\\sklearn\\linear_model\\least_angle.py:30: DeprecationWarning: `np.float` is a deprecated alias for the builtin `float`. To silence this warning, use `float` by itself. Doing this will not modify any behavior and is safe. If you specifically wanted the numpy scalar type, use `np.float64` here.\n",
      "Deprecated in NumPy 1.20; for more details and guidance: https://numpy.org/devdocs/release/1.20.0-notes.html#deprecations\n",
      "  method='lar', copy_X=True, eps=np.finfo(np.float).eps,\n",
      "C:\\ProgramData\\Anaconda3\\lib\\site-packages\\sklearn\\linear_model\\least_angle.py:167: DeprecationWarning: `np.float` is a deprecated alias for the builtin `float`. To silence this warning, use `float` by itself. Doing this will not modify any behavior and is safe. If you specifically wanted the numpy scalar type, use `np.float64` here.\n",
      "Deprecated in NumPy 1.20; for more details and guidance: https://numpy.org/devdocs/release/1.20.0-notes.html#deprecations\n",
      "  method='lar', copy_X=True, eps=np.finfo(np.float).eps,\n",
      "C:\\ProgramData\\Anaconda3\\lib\\site-packages\\sklearn\\linear_model\\least_angle.py:284: DeprecationWarning: `np.float` is a deprecated alias for the builtin `float`. To silence this warning, use `float` by itself. Doing this will not modify any behavior and is safe. If you specifically wanted the numpy scalar type, use `np.float64` here.\n",
      "Deprecated in NumPy 1.20; for more details and guidance: https://numpy.org/devdocs/release/1.20.0-notes.html#deprecations\n",
      "  eps=np.finfo(np.float).eps, copy_Gram=True, verbose=0,\n",
      "C:\\ProgramData\\Anaconda3\\lib\\site-packages\\sklearn\\linear_model\\least_angle.py:862: DeprecationWarning: `np.float` is a deprecated alias for the builtin `float`. To silence this warning, use `float` by itself. Doing this will not modify any behavior and is safe. If you specifically wanted the numpy scalar type, use `np.float64` here.\n",
      "Deprecated in NumPy 1.20; for more details and guidance: https://numpy.org/devdocs/release/1.20.0-notes.html#deprecations\n",
      "  eps=np.finfo(np.float).eps, copy_X=True, fit_path=True,\n",
      "C:\\ProgramData\\Anaconda3\\lib\\site-packages\\sklearn\\linear_model\\least_angle.py:1101: DeprecationWarning: `np.float` is a deprecated alias for the builtin `float`. To silence this warning, use `float` by itself. Doing this will not modify any behavior and is safe. If you specifically wanted the numpy scalar type, use `np.float64` here.\n",
      "Deprecated in NumPy 1.20; for more details and guidance: https://numpy.org/devdocs/release/1.20.0-notes.html#deprecations\n",
      "  eps=np.finfo(np.float).eps, copy_X=True, fit_path=True,\n",
      "C:\\ProgramData\\Anaconda3\\lib\\site-packages\\sklearn\\linear_model\\least_angle.py:1127: DeprecationWarning: `np.float` is a deprecated alias for the builtin `float`. To silence this warning, use `float` by itself. Doing this will not modify any behavior and is safe. If you specifically wanted the numpy scalar type, use `np.float64` here.\n",
      "Deprecated in NumPy 1.20; for more details and guidance: https://numpy.org/devdocs/release/1.20.0-notes.html#deprecations\n",
      "  eps=np.finfo(np.float).eps, positive=False):\n",
      "C:\\ProgramData\\Anaconda3\\lib\\site-packages\\sklearn\\linear_model\\least_angle.py:1362: DeprecationWarning: `np.float` is a deprecated alias for the builtin `float`. To silence this warning, use `float` by itself. Doing this will not modify any behavior and is safe. If you specifically wanted the numpy scalar type, use `np.float64` here.\n",
      "Deprecated in NumPy 1.20; for more details and guidance: https://numpy.org/devdocs/release/1.20.0-notes.html#deprecations\n",
      "  max_n_alphas=1000, n_jobs=None, eps=np.finfo(np.float).eps,\n",
      "C:\\ProgramData\\Anaconda3\\lib\\site-packages\\sklearn\\linear_model\\least_angle.py:1602: DeprecationWarning: `np.float` is a deprecated alias for the builtin `float`. To silence this warning, use `float` by itself. Doing this will not modify any behavior and is safe. If you specifically wanted the numpy scalar type, use `np.float64` here.\n",
      "Deprecated in NumPy 1.20; for more details and guidance: https://numpy.org/devdocs/release/1.20.0-notes.html#deprecations\n",
      "  max_n_alphas=1000, n_jobs=None, eps=np.finfo(np.float).eps,\n",
      "C:\\ProgramData\\Anaconda3\\lib\\site-packages\\sklearn\\linear_model\\least_angle.py:1738: DeprecationWarning: `np.float` is a deprecated alias for the builtin `float`. To silence this warning, use `float` by itself. Doing this will not modify any behavior and is safe. If you specifically wanted the numpy scalar type, use `np.float64` here.\n",
      "Deprecated in NumPy 1.20; for more details and guidance: https://numpy.org/devdocs/release/1.20.0-notes.html#deprecations\n",
      "  eps=np.finfo(np.float).eps, copy_X=True, positive=False):\n"
     ]
    }
   ],
   "source": [
    "import numpy as np # scientific computation\n",
    "import pandas as pd # loading dataset file\n",
    "import matplotlib.pyplot as plt # Visulization\n",
    "import nltk  # Preprocessing our text\n",
    "from nltk.corpus import stopwords # removing all the stop words\n",
    "from nltk.stem.porter import PorterStemmer # stemming of words"
   ]
  },
  {
   "cell_type": "markdown",
   "metadata": {
    "id": "VeyHEW5UG0o5"
   },
   "source": [
    "# Load our dataset\n"
   ]
  },
  {
   "cell_type": "code",
   "execution_count": 9,
   "metadata": {
    "id": "1Bxoeo1_G0o7"
   },
   "outputs": [],
   "source": [
    "#Load our dataset\n",
    "df = pd.read_csv(r\"kindle_reviews.csv\")"
   ]
  },
  {
   "cell_type": "markdown",
   "metadata": {
    "id": "rOeyrR0lG0o9"
   },
   "source": [
    "# Top 5 Rows of Dataset"
   ]
  },
  {
   "cell_type": "code",
   "execution_count": 10,
   "metadata": {
    "colab": {
     "base_uri": "https://localhost:8080/",
     "height": 250
    },
    "id": "PfyuwkyaG0o-",
    "outputId": "8cb12cdd-2c35-4a1f-ab3c-a4be7e114e87"
   },
   "outputs": [
    {
     "data": {
      "text/html": [
       "<div>\n",
       "<style scoped>\n",
       "    .dataframe tbody tr th:only-of-type {\n",
       "        vertical-align: middle;\n",
       "    }\n",
       "\n",
       "    .dataframe tbody tr th {\n",
       "        vertical-align: top;\n",
       "    }\n",
       "\n",
       "    .dataframe thead th {\n",
       "        text-align: right;\n",
       "    }\n",
       "</style>\n",
       "<table border=\"1\" class=\"dataframe\">\n",
       "  <thead>\n",
       "    <tr style=\"text-align: right;\">\n",
       "      <th></th>\n",
       "      <th>Unnamed: 0</th>\n",
       "      <th>asin</th>\n",
       "      <th>helpful</th>\n",
       "      <th>overall</th>\n",
       "      <th>reviewText</th>\n",
       "      <th>reviewTime</th>\n",
       "      <th>reviewerID</th>\n",
       "      <th>reviewerName</th>\n",
       "      <th>summary</th>\n",
       "      <th>unixReviewTime</th>\n",
       "    </tr>\n",
       "  </thead>\n",
       "  <tbody>\n",
       "    <tr>\n",
       "      <th>0</th>\n",
       "      <td>0</td>\n",
       "      <td>B000F83SZQ</td>\n",
       "      <td>[0, 0]</td>\n",
       "      <td>5</td>\n",
       "      <td>I enjoy vintage books and movies so I enjoyed ...</td>\n",
       "      <td>05 5, 2014</td>\n",
       "      <td>A1F6404F1VG29J</td>\n",
       "      <td>Avidreader</td>\n",
       "      <td>Nice vintage story</td>\n",
       "      <td>1399248000</td>\n",
       "    </tr>\n",
       "    <tr>\n",
       "      <th>1</th>\n",
       "      <td>1</td>\n",
       "      <td>B000F83SZQ</td>\n",
       "      <td>[2, 2]</td>\n",
       "      <td>4</td>\n",
       "      <td>This book is a reissue of an old one; the auth...</td>\n",
       "      <td>01 6, 2014</td>\n",
       "      <td>AN0N05A9LIJEQ</td>\n",
       "      <td>critters</td>\n",
       "      <td>Different...</td>\n",
       "      <td>1388966400</td>\n",
       "    </tr>\n",
       "    <tr>\n",
       "      <th>2</th>\n",
       "      <td>2</td>\n",
       "      <td>B000F83SZQ</td>\n",
       "      <td>[2, 2]</td>\n",
       "      <td>4</td>\n",
       "      <td>This was a fairly interesting read.  It had ol...</td>\n",
       "      <td>04 4, 2014</td>\n",
       "      <td>A795DMNCJILA6</td>\n",
       "      <td>dot</td>\n",
       "      <td>Oldie</td>\n",
       "      <td>1396569600</td>\n",
       "    </tr>\n",
       "    <tr>\n",
       "      <th>3</th>\n",
       "      <td>3</td>\n",
       "      <td>B000F83SZQ</td>\n",
       "      <td>[1, 1]</td>\n",
       "      <td>5</td>\n",
       "      <td>I'd never read any of the Amy Brewster mysteri...</td>\n",
       "      <td>02 19, 2014</td>\n",
       "      <td>A1FV0SX13TWVXQ</td>\n",
       "      <td>Elaine H. Turley \"Montana Songbird\"</td>\n",
       "      <td>I really liked it.</td>\n",
       "      <td>1392768000</td>\n",
       "    </tr>\n",
       "    <tr>\n",
       "      <th>4</th>\n",
       "      <td>4</td>\n",
       "      <td>B000F83SZQ</td>\n",
       "      <td>[0, 1]</td>\n",
       "      <td>4</td>\n",
       "      <td>If you like period pieces - clothing, lingo, y...</td>\n",
       "      <td>03 19, 2014</td>\n",
       "      <td>A3SPTOKDG7WBLN</td>\n",
       "      <td>Father Dowling Fan</td>\n",
       "      <td>Period Mystery</td>\n",
       "      <td>1395187200</td>\n",
       "    </tr>\n",
       "  </tbody>\n",
       "</table>\n",
       "</div>"
      ],
      "text/plain": [
       "   Unnamed: 0        asin helpful  overall  \\\n",
       "0           0  B000F83SZQ  [0, 0]        5   \n",
       "1           1  B000F83SZQ  [2, 2]        4   \n",
       "2           2  B000F83SZQ  [2, 2]        4   \n",
       "3           3  B000F83SZQ  [1, 1]        5   \n",
       "4           4  B000F83SZQ  [0, 1]        4   \n",
       "\n",
       "                                          reviewText   reviewTime  \\\n",
       "0  I enjoy vintage books and movies so I enjoyed ...   05 5, 2014   \n",
       "1  This book is a reissue of an old one; the auth...   01 6, 2014   \n",
       "2  This was a fairly interesting read.  It had ol...   04 4, 2014   \n",
       "3  I'd never read any of the Amy Brewster mysteri...  02 19, 2014   \n",
       "4  If you like period pieces - clothing, lingo, y...  03 19, 2014   \n",
       "\n",
       "       reviewerID                         reviewerName             summary  \\\n",
       "0  A1F6404F1VG29J                           Avidreader  Nice vintage story   \n",
       "1   AN0N05A9LIJEQ                             critters        Different...   \n",
       "2   A795DMNCJILA6                                  dot               Oldie   \n",
       "3  A1FV0SX13TWVXQ  Elaine H. Turley \"Montana Songbird\"  I really liked it.   \n",
       "4  A3SPTOKDG7WBLN                   Father Dowling Fan      Period Mystery   \n",
       "\n",
       "   unixReviewTime  \n",
       "0      1399248000  \n",
       "1      1388966400  \n",
       "2      1396569600  \n",
       "3      1392768000  \n",
       "4      1395187200  "
      ]
     },
     "execution_count": 10,
     "metadata": {},
     "output_type": "execute_result"
    }
   ],
   "source": [
    "df.head()"
   ]
  },
  {
   "cell_type": "code",
   "execution_count": 11,
   "metadata": {
    "colab": {
     "base_uri": "https://localhost:8080/",
     "height": 206
    },
    "id": "tFS__PanIcwc",
    "outputId": "c5d07bd8-641e-4ae2-e96d-8bbcef02e62f"
   },
   "outputs": [
    {
     "data": {
      "text/html": [
       "<div>\n",
       "<style scoped>\n",
       "    .dataframe tbody tr th:only-of-type {\n",
       "        vertical-align: middle;\n",
       "    }\n",
       "\n",
       "    .dataframe tbody tr th {\n",
       "        vertical-align: top;\n",
       "    }\n",
       "\n",
       "    .dataframe thead th {\n",
       "        text-align: right;\n",
       "    }\n",
       "</style>\n",
       "<table border=\"1\" class=\"dataframe\">\n",
       "  <thead>\n",
       "    <tr style=\"text-align: right;\">\n",
       "      <th></th>\n",
       "      <th>Unnamed: 0</th>\n",
       "      <th>ProductId</th>\n",
       "      <th>helpful</th>\n",
       "      <th>Score</th>\n",
       "      <th>Text</th>\n",
       "      <th>reviewTime</th>\n",
       "      <th>UserId</th>\n",
       "      <th>reviewerName</th>\n",
       "      <th>Summary</th>\n",
       "      <th>Time</th>\n",
       "    </tr>\n",
       "  </thead>\n",
       "  <tbody>\n",
       "    <tr>\n",
       "      <th>0</th>\n",
       "      <td>0</td>\n",
       "      <td>B000F83SZQ</td>\n",
       "      <td>[0, 0]</td>\n",
       "      <td>5</td>\n",
       "      <td>I enjoy vintage books and movies so I enjoyed ...</td>\n",
       "      <td>05 5, 2014</td>\n",
       "      <td>A1F6404F1VG29J</td>\n",
       "      <td>Avidreader</td>\n",
       "      <td>Nice vintage story</td>\n",
       "      <td>1399248000</td>\n",
       "    </tr>\n",
       "    <tr>\n",
       "      <th>1</th>\n",
       "      <td>1</td>\n",
       "      <td>B000F83SZQ</td>\n",
       "      <td>[2, 2]</td>\n",
       "      <td>4</td>\n",
       "      <td>This book is a reissue of an old one; the auth...</td>\n",
       "      <td>01 6, 2014</td>\n",
       "      <td>AN0N05A9LIJEQ</td>\n",
       "      <td>critters</td>\n",
       "      <td>Different...</td>\n",
       "      <td>1388966400</td>\n",
       "    </tr>\n",
       "    <tr>\n",
       "      <th>2</th>\n",
       "      <td>2</td>\n",
       "      <td>B000F83SZQ</td>\n",
       "      <td>[2, 2]</td>\n",
       "      <td>4</td>\n",
       "      <td>This was a fairly interesting read.  It had ol...</td>\n",
       "      <td>04 4, 2014</td>\n",
       "      <td>A795DMNCJILA6</td>\n",
       "      <td>dot</td>\n",
       "      <td>Oldie</td>\n",
       "      <td>1396569600</td>\n",
       "    </tr>\n",
       "    <tr>\n",
       "      <th>3</th>\n",
       "      <td>3</td>\n",
       "      <td>B000F83SZQ</td>\n",
       "      <td>[1, 1]</td>\n",
       "      <td>5</td>\n",
       "      <td>I'd never read any of the Amy Brewster mysteri...</td>\n",
       "      <td>02 19, 2014</td>\n",
       "      <td>A1FV0SX13TWVXQ</td>\n",
       "      <td>Elaine H. Turley \"Montana Songbird\"</td>\n",
       "      <td>I really liked it.</td>\n",
       "      <td>1392768000</td>\n",
       "    </tr>\n",
       "    <tr>\n",
       "      <th>4</th>\n",
       "      <td>4</td>\n",
       "      <td>B000F83SZQ</td>\n",
       "      <td>[0, 1]</td>\n",
       "      <td>4</td>\n",
       "      <td>If you like period pieces - clothing, lingo, y...</td>\n",
       "      <td>03 19, 2014</td>\n",
       "      <td>A3SPTOKDG7WBLN</td>\n",
       "      <td>Father Dowling Fan</td>\n",
       "      <td>Period Mystery</td>\n",
       "      <td>1395187200</td>\n",
       "    </tr>\n",
       "  </tbody>\n",
       "</table>\n",
       "</div>"
      ],
      "text/plain": [
       "   Unnamed: 0   ProductId helpful  Score  \\\n",
       "0           0  B000F83SZQ  [0, 0]      5   \n",
       "1           1  B000F83SZQ  [2, 2]      4   \n",
       "2           2  B000F83SZQ  [2, 2]      4   \n",
       "3           3  B000F83SZQ  [1, 1]      5   \n",
       "4           4  B000F83SZQ  [0, 1]      4   \n",
       "\n",
       "                                                Text   reviewTime  \\\n",
       "0  I enjoy vintage books and movies so I enjoyed ...   05 5, 2014   \n",
       "1  This book is a reissue of an old one; the auth...   01 6, 2014   \n",
       "2  This was a fairly interesting read.  It had ol...   04 4, 2014   \n",
       "3  I'd never read any of the Amy Brewster mysteri...  02 19, 2014   \n",
       "4  If you like period pieces - clothing, lingo, y...  03 19, 2014   \n",
       "\n",
       "           UserId                         reviewerName             Summary  \\\n",
       "0  A1F6404F1VG29J                           Avidreader  Nice vintage story   \n",
       "1   AN0N05A9LIJEQ                             critters        Different...   \n",
       "2   A795DMNCJILA6                                  dot               Oldie   \n",
       "3  A1FV0SX13TWVXQ  Elaine H. Turley \"Montana Songbird\"  I really liked it.   \n",
       "4  A3SPTOKDG7WBLN                   Father Dowling Fan      Period Mystery   \n",
       "\n",
       "         Time  \n",
       "0  1399248000  \n",
       "1  1388966400  \n",
       "2  1396569600  \n",
       "3  1392768000  \n",
       "4  1395187200  "
      ]
     },
     "execution_count": 11,
     "metadata": {},
     "output_type": "execute_result"
    }
   ],
   "source": [
    "df.rename(columns={'asin':'ProductId', 'overall':'Score', 'reviewText':'Text', 'reviewerID':'UserId', 'summary':'Summary', 'unixReviewTime':'Time'}, inplace=True)\n",
    "\n",
    "df.head()"
   ]
  },
  {
   "cell_type": "code",
   "execution_count": 12,
   "metadata": {
    "colab": {
     "base_uri": "https://localhost:8080/",
     "height": 206
    },
    "id": "PPgg1pGJIpEd",
    "outputId": "4aa7bb02-71fb-4e1c-ad1e-1d44549b7598"
   },
   "outputs": [
    {
     "data": {
      "text/html": [
       "<div>\n",
       "<style scoped>\n",
       "    .dataframe tbody tr th:only-of-type {\n",
       "        vertical-align: middle;\n",
       "    }\n",
       "\n",
       "    .dataframe tbody tr th {\n",
       "        vertical-align: top;\n",
       "    }\n",
       "\n",
       "    .dataframe thead th {\n",
       "        text-align: right;\n",
       "    }\n",
       "</style>\n",
       "<table border=\"1\" class=\"dataframe\">\n",
       "  <thead>\n",
       "    <tr style=\"text-align: right;\">\n",
       "      <th></th>\n",
       "      <th>ProductId</th>\n",
       "      <th>Score</th>\n",
       "      <th>Text</th>\n",
       "      <th>UserId</th>\n",
       "      <th>Summary</th>\n",
       "      <th>Time</th>\n",
       "    </tr>\n",
       "  </thead>\n",
       "  <tbody>\n",
       "    <tr>\n",
       "      <th>0</th>\n",
       "      <td>B000F83SZQ</td>\n",
       "      <td>5</td>\n",
       "      <td>I enjoy vintage books and movies so I enjoyed ...</td>\n",
       "      <td>A1F6404F1VG29J</td>\n",
       "      <td>Nice vintage story</td>\n",
       "      <td>1399248000</td>\n",
       "    </tr>\n",
       "    <tr>\n",
       "      <th>1</th>\n",
       "      <td>B000F83SZQ</td>\n",
       "      <td>4</td>\n",
       "      <td>This book is a reissue of an old one; the auth...</td>\n",
       "      <td>AN0N05A9LIJEQ</td>\n",
       "      <td>Different...</td>\n",
       "      <td>1388966400</td>\n",
       "    </tr>\n",
       "    <tr>\n",
       "      <th>2</th>\n",
       "      <td>B000F83SZQ</td>\n",
       "      <td>4</td>\n",
       "      <td>This was a fairly interesting read.  It had ol...</td>\n",
       "      <td>A795DMNCJILA6</td>\n",
       "      <td>Oldie</td>\n",
       "      <td>1396569600</td>\n",
       "    </tr>\n",
       "    <tr>\n",
       "      <th>3</th>\n",
       "      <td>B000F83SZQ</td>\n",
       "      <td>5</td>\n",
       "      <td>I'd never read any of the Amy Brewster mysteri...</td>\n",
       "      <td>A1FV0SX13TWVXQ</td>\n",
       "      <td>I really liked it.</td>\n",
       "      <td>1392768000</td>\n",
       "    </tr>\n",
       "    <tr>\n",
       "      <th>4</th>\n",
       "      <td>B000F83SZQ</td>\n",
       "      <td>4</td>\n",
       "      <td>If you like period pieces - clothing, lingo, y...</td>\n",
       "      <td>A3SPTOKDG7WBLN</td>\n",
       "      <td>Period Mystery</td>\n",
       "      <td>1395187200</td>\n",
       "    </tr>\n",
       "  </tbody>\n",
       "</table>\n",
       "</div>"
      ],
      "text/plain": [
       "    ProductId  Score                                               Text  \\\n",
       "0  B000F83SZQ      5  I enjoy vintage books and movies so I enjoyed ...   \n",
       "1  B000F83SZQ      4  This book is a reissue of an old one; the auth...   \n",
       "2  B000F83SZQ      4  This was a fairly interesting read.  It had ol...   \n",
       "3  B000F83SZQ      5  I'd never read any of the Amy Brewster mysteri...   \n",
       "4  B000F83SZQ      4  If you like period pieces - clothing, lingo, y...   \n",
       "\n",
       "           UserId             Summary        Time  \n",
       "0  A1F6404F1VG29J  Nice vintage story  1399248000  \n",
       "1   AN0N05A9LIJEQ        Different...  1388966400  \n",
       "2   A795DMNCJILA6               Oldie  1396569600  \n",
       "3  A1FV0SX13TWVXQ  I really liked it.  1392768000  \n",
       "4  A3SPTOKDG7WBLN      Period Mystery  1395187200  "
      ]
     },
     "execution_count": 12,
     "metadata": {},
     "output_type": "execute_result"
    }
   ],
   "source": [
    "df.drop(['Unnamed: 0','helpful','reviewTime','reviewerName'], axis=1, inplace=True)\n",
    "\n",
    "df.head()"
   ]
  },
  {
   "cell_type": "code",
   "execution_count": 13,
   "metadata": {
    "colab": {
     "base_uri": "https://localhost:8080/",
     "height": 400
    },
    "id": "Kt0GTlaBIpHJ",
    "outputId": "62dfce02-f783-4a65-ed1f-1ebf4e350b1b"
   },
   "outputs": [
    {
     "data": {
      "image/png": "[encoded data removed]",
      "text/plain": [
       "<Figure size 720x432 with 1 Axes>"
      ]
     },
     "metadata": {
      "needs_background": "light"
     },
     "output_type": "display_data"
    }
   ],
   "source": [
    "category_dist = df['Score'].value_counts()\n",
    "\n",
    "plt.figure(figsize=(10,6))\n",
    "my_colors = ['g', 'r', 'b', 'm', 'y']\n",
    "#category_dist.plot(kind='bar', color=my_colors)\n",
    "plt.grid()\n",
    "plt.xlabel(\"Scores\")\n",
    "plt.ylabel(\"Number of Reviews Per Score\")\n",
    "plt.title(\"Distribution of Reviews Per Score\")\n",
    "plt.show()"
   ]
  },
  {
   "cell_type": "code",
   "execution_count": 14,
   "metadata": {
    "colab": {
     "base_uri": "https://localhost:8080/"
    },
    "id": "5YDPkxyAI1PG",
    "outputId": "9d31e98a-11e6-4376-c505-1e0e4e9d442a"
   },
   "outputs": [
    {
     "data": {
      "text/plain": [
       "(886425, 6)"
      ]
     },
     "execution_count": 14,
     "metadata": {},
     "output_type": "execute_result"
    }
   ],
   "source": [
    "df = df.loc[df['Score'] != 3]\n",
    "\n",
    "df.shape"
   ]
  },
  {
   "cell_type": "code",
   "execution_count": 15,
   "metadata": {
    "colab": {
     "base_uri": "https://localhost:8080/",
     "height": 206
    },
    "id": "YCV0o_RUI1YD",
    "outputId": "f74f47c0-cdfd-4d6d-dafc-5a877c50b4fa"
   },
   "outputs": [
    {
     "data": {
      "text/html": [
       "<div>\n",
       "<style scoped>\n",
       "    .dataframe tbody tr th:only-of-type {\n",
       "        vertical-align: middle;\n",
       "    }\n",
       "\n",
       "    .dataframe tbody tr th {\n",
       "        vertical-align: top;\n",
       "    }\n",
       "\n",
       "    .dataframe thead th {\n",
       "        text-align: right;\n",
       "    }\n",
       "</style>\n",
       "<table border=\"1\" class=\"dataframe\">\n",
       "  <thead>\n",
       "    <tr style=\"text-align: right;\">\n",
       "      <th></th>\n",
       "      <th>ProductId</th>\n",
       "      <th>Score</th>\n",
       "      <th>Text</th>\n",
       "      <th>UserId</th>\n",
       "      <th>Summary</th>\n",
       "      <th>Time</th>\n",
       "    </tr>\n",
       "  </thead>\n",
       "  <tbody>\n",
       "    <tr>\n",
       "      <th>0</th>\n",
       "      <td>B000F83SZQ</td>\n",
       "      <td>Positive</td>\n",
       "      <td>I enjoy vintage books and movies so I enjoyed ...</td>\n",
       "      <td>A1F6404F1VG29J</td>\n",
       "      <td>Nice vintage story</td>\n",
       "      <td>1399248000</td>\n",
       "    </tr>\n",
       "    <tr>\n",
       "      <th>1</th>\n",
       "      <td>B000F83SZQ</td>\n",
       "      <td>Positive</td>\n",
       "      <td>This book is a reissue of an old one; the auth...</td>\n",
       "      <td>AN0N05A9LIJEQ</td>\n",
       "      <td>Different...</td>\n",
       "      <td>1388966400</td>\n",
       "    </tr>\n",
       "    <tr>\n",
       "      <th>2</th>\n",
       "      <td>B000F83SZQ</td>\n",
       "      <td>Positive</td>\n",
       "      <td>This was a fairly interesting read.  It had ol...</td>\n",
       "      <td>A795DMNCJILA6</td>\n",
       "      <td>Oldie</td>\n",
       "      <td>1396569600</td>\n",
       "    </tr>\n",
       "    <tr>\n",
       "      <th>3</th>\n",
       "      <td>B000F83SZQ</td>\n",
       "      <td>Positive</td>\n",
       "      <td>I'd never read any of the Amy Brewster mysteri...</td>\n",
       "      <td>A1FV0SX13TWVXQ</td>\n",
       "      <td>I really liked it.</td>\n",
       "      <td>1392768000</td>\n",
       "    </tr>\n",
       "    <tr>\n",
       "      <th>4</th>\n",
       "      <td>B000F83SZQ</td>\n",
       "      <td>Positive</td>\n",
       "      <td>If you like period pieces - clothing, lingo, y...</td>\n",
       "      <td>A3SPTOKDG7WBLN</td>\n",
       "      <td>Period Mystery</td>\n",
       "      <td>1395187200</td>\n",
       "    </tr>\n",
       "  </tbody>\n",
       "</table>\n",
       "</div>"
      ],
      "text/plain": [
       "    ProductId     Score                                               Text  \\\n",
       "0  B000F83SZQ  Positive  I enjoy vintage books and movies so I enjoyed ...   \n",
       "1  B000F83SZQ  Positive  This book is a reissue of an old one; the auth...   \n",
       "2  B000F83SZQ  Positive  This was a fairly interesting read.  It had ol...   \n",
       "3  B000F83SZQ  Positive  I'd never read any of the Amy Brewster mysteri...   \n",
       "4  B000F83SZQ  Positive  If you like period pieces - clothing, lingo, y...   \n",
       "\n",
       "           UserId             Summary        Time  \n",
       "0  A1F6404F1VG29J  Nice vintage story  1399248000  \n",
       "1   AN0N05A9LIJEQ        Different...  1388966400  \n",
       "2   A795DMNCJILA6               Oldie  1396569600  \n",
       "3  A1FV0SX13TWVXQ  I really liked it.  1392768000  \n",
       "4  A3SPTOKDG7WBLN      Period Mystery  1395187200  "
      ]
     },
     "execution_count": 15,
     "metadata": {},
     "output_type": "execute_result"
    }
   ],
   "source": [
    "#give reviews with Score > 3 a positive rating and reviews with a score < 3 a negative rating\n",
    "def partition(x):\n",
    "    if x < 3:\n",
    "        return 'Negative'\n",
    "    else:\n",
    "        return 'Positive'\n",
    "\n",
    "actualScore = df['Score']\n",
    "pos_neg = actualScore.map(partition)\n",
    "df['Score'] = pos_neg\n",
    "\n",
    "df.head()"
   ]
  },
  {
   "cell_type": "code",
   "execution_count": 16,
   "metadata": {
    "id": "MQta6p9QJHrm"
   },
   "outputs": [],
   "source": [
    "df = df.head(10000) #considering only 50k rows"
   ]
  },
  {
   "cell_type": "code",
   "execution_count": 17,
   "metadata": {
    "colab": {
     "base_uri": "https://localhost:8080/",
     "height": 439
    },
    "id": "ZBYprEC3JOwV",
    "outputId": "19d358c3-65a1-4270-9d2c-fe26cd503115"
   },
   "outputs": [
    {
     "data": {
      "image/png": "[encoded data removed]",
      "text/plain": [
       "<Figure size 720x432 with 1 Axes>"
      ]
     },
     "metadata": {
      "needs_background": "light"
     },
     "output_type": "display_data"
    }
   ],
   "source": [
    "category_dist = df['Score'].value_counts()\n",
    "\n",
    "plt.figure(figsize=(10,6))\n",
    "my_colors = ['g', 'r']\n",
    "#category_dist.plot(kind='bar', color=my_colors)\n",
    "plt.grid()\n",
    "plt.xlabel(\"Scores\")\n",
    "plt.ylabel(\"Number of Reviews\")\n",
    "plt.title(\"Distribution of Reviews\")\n",
    "plt.show()"
   ]
  },
  {
   "cell_type": "code",
   "execution_count": 18,
   "metadata": {
    "colab": {
     "base_uri": "https://localhost:8080/",
     "height": 81
    },
    "id": "4FgBvUdpJVt-",
    "outputId": "371e3511-fbf8-49af-a67e-4464952be923"
   },
   "outputs": [
    {
     "data": {
      "text/html": [
       "<div>\n",
       "<style scoped>\n",
       "    .dataframe tbody tr th:only-of-type {\n",
       "        vertical-align: middle;\n",
       "    }\n",
       "\n",
       "    .dataframe tbody tr th {\n",
       "        vertical-align: top;\n",
       "    }\n",
       "\n",
       "    .dataframe thead th {\n",
       "        text-align: right;\n",
       "    }\n",
       "</style>\n",
       "<table border=\"1\" class=\"dataframe\">\n",
       "  <thead>\n",
       "    <tr style=\"text-align: right;\">\n",
       "      <th></th>\n",
       "      <th>ProductId</th>\n",
       "      <th>Score</th>\n",
       "      <th>Text</th>\n",
       "      <th>UserId</th>\n",
       "      <th>Summary</th>\n",
       "      <th>Time</th>\n",
       "    </tr>\n",
       "  </thead>\n",
       "  <tbody>\n",
       "    <tr>\n",
       "      <th>4</th>\n",
       "      <td>B000F83SZQ</td>\n",
       "      <td>Positive</td>\n",
       "      <td>If you like period pieces - clothing, lingo, y...</td>\n",
       "      <td>A3SPTOKDG7WBLN</td>\n",
       "      <td>Period Mystery</td>\n",
       "      <td>1395187200</td>\n",
       "    </tr>\n",
       "  </tbody>\n",
       "</table>\n",
       "</div>"
      ],
      "text/plain": [
       "    ProductId     Score                                               Text  \\\n",
       "4  B000F83SZQ  Positive  If you like period pieces - clothing, lingo, y...   \n",
       "\n",
       "           UserId         Summary        Time  \n",
       "4  A3SPTOKDG7WBLN  Period Mystery  1395187200  "
      ]
     },
     "execution_count": 18,
     "metadata": {},
     "output_type": "execute_result"
    }
   ],
   "source": [
    "df[df['UserId']=='A3SPTOKDG7WBLN']"
   ]
  },
  {
   "cell_type": "code",
   "execution_count": 19,
   "metadata": {
    "id": "I8wutoHeJZgd"
   },
   "outputs": [],
   "source": [
    "#sorting data according to ProductId in ascending order\n",
    "df = df.sort_values('ProductId', axis=0, ascending=True, inplace=False, kind='quicksort', na_position='last')"
   ]
  },
  {
   "cell_type": "code",
   "execution_count": 20,
   "metadata": {
    "colab": {
     "base_uri": "https://localhost:8080/"
    },
    "id": "0Y0WO7uRJZjg",
    "outputId": "8fd6928c-8608-48f4-fc52-5a18b3e4a9e9"
   },
   "outputs": [
    {
     "data": {
      "text/plain": [
       "(10000, 6)"
      ]
     },
     "execution_count": 20,
     "metadata": {},
     "output_type": "execute_result"
    }
   ],
   "source": [
    "#deduplication of entries\n",
    "df = df.drop_duplicates(subset={\"ProductId\",\"UserId\",\"Time\",\"Text\"}, keep='first', inplace=False)\n",
    "df.shape"
   ]
  },
  {
   "cell_type": "code",
   "execution_count": 21,
   "metadata": {
    "id": "SLqxm5YLKB0H"
   },
   "outputs": [],
   "source": [
    "#joining review description and summary into one col\n",
    "df['reviewText']=df['Text']+\" \"+df['Summary']"
   ]
  },
  {
   "cell_type": "code",
   "execution_count": 22,
   "metadata": {
    "colab": {
     "base_uri": "https://localhost:8080/",
     "height": 206
    },
    "id": "-hfBArpNKV0-",
    "outputId": "9e0c918e-e72b-44e5-873b-1dd1be0d6010"
   },
   "outputs": [
    {
     "data": {
      "text/html": [
       "<div>\n",
       "<style scoped>\n",
       "    .dataframe tbody tr th:only-of-type {\n",
       "        vertical-align: middle;\n",
       "    }\n",
       "\n",
       "    .dataframe tbody tr th {\n",
       "        vertical-align: top;\n",
       "    }\n",
       "\n",
       "    .dataframe thead th {\n",
       "        text-align: right;\n",
       "    }\n",
       "</style>\n",
       "<table border=\"1\" class=\"dataframe\">\n",
       "  <thead>\n",
       "    <tr style=\"text-align: right;\">\n",
       "      <th></th>\n",
       "      <th>ProductId</th>\n",
       "      <th>Score</th>\n",
       "      <th>Text</th>\n",
       "      <th>UserId</th>\n",
       "      <th>Summary</th>\n",
       "      <th>Time</th>\n",
       "      <th>reviewText</th>\n",
       "    </tr>\n",
       "  </thead>\n",
       "  <tbody>\n",
       "    <tr>\n",
       "      <th>0</th>\n",
       "      <td>B000F83SZQ</td>\n",
       "      <td>Positive</td>\n",
       "      <td>I enjoy vintage books and movies so I enjoyed ...</td>\n",
       "      <td>A1F6404F1VG29J</td>\n",
       "      <td>Nice vintage story</td>\n",
       "      <td>1399248000</td>\n",
       "      <td>I enjoy vintage books and movies so I enjoyed ...</td>\n",
       "    </tr>\n",
       "    <tr>\n",
       "      <th>1</th>\n",
       "      <td>B000F83SZQ</td>\n",
       "      <td>Positive</td>\n",
       "      <td>This book is a reissue of an old one; the auth...</td>\n",
       "      <td>AN0N05A9LIJEQ</td>\n",
       "      <td>Different...</td>\n",
       "      <td>1388966400</td>\n",
       "      <td>This book is a reissue of an old one; the auth...</td>\n",
       "    </tr>\n",
       "    <tr>\n",
       "      <th>2</th>\n",
       "      <td>B000F83SZQ</td>\n",
       "      <td>Positive</td>\n",
       "      <td>This was a fairly interesting read.  It had ol...</td>\n",
       "      <td>A795DMNCJILA6</td>\n",
       "      <td>Oldie</td>\n",
       "      <td>1396569600</td>\n",
       "      <td>This was a fairly interesting read.  It had ol...</td>\n",
       "    </tr>\n",
       "    <tr>\n",
       "      <th>3</th>\n",
       "      <td>B000F83SZQ</td>\n",
       "      <td>Positive</td>\n",
       "      <td>I'd never read any of the Amy Brewster mysteri...</td>\n",
       "      <td>A1FV0SX13TWVXQ</td>\n",
       "      <td>I really liked it.</td>\n",
       "      <td>1392768000</td>\n",
       "      <td>I'd never read any of the Amy Brewster mysteri...</td>\n",
       "    </tr>\n",
       "    <tr>\n",
       "      <th>4</th>\n",
       "      <td>B000F83SZQ</td>\n",
       "      <td>Positive</td>\n",
       "      <td>If you like period pieces - clothing, lingo, y...</td>\n",
       "      <td>A3SPTOKDG7WBLN</td>\n",
       "      <td>Period Mystery</td>\n",
       "      <td>1395187200</td>\n",
       "      <td>If you like period pieces - clothing, lingo, y...</td>\n",
       "    </tr>\n",
       "  </tbody>\n",
       "</table>\n",
       "</div>"
      ],
      "text/plain": [
       "    ProductId     Score                                               Text  \\\n",
       "0  B000F83SZQ  Positive  I enjoy vintage books and movies so I enjoyed ...   \n",
       "1  B000F83SZQ  Positive  This book is a reissue of an old one; the auth...   \n",
       "2  B000F83SZQ  Positive  This was a fairly interesting read.  It had ol...   \n",
       "3  B000F83SZQ  Positive  I'd never read any of the Amy Brewster mysteri...   \n",
       "4  B000F83SZQ  Positive  If you like period pieces - clothing, lingo, y...   \n",
       "\n",
       "           UserId             Summary        Time  \\\n",
       "0  A1F6404F1VG29J  Nice vintage story  1399248000   \n",
       "1   AN0N05A9LIJEQ        Different...  1388966400   \n",
       "2   A795DMNCJILA6               Oldie  1396569600   \n",
       "3  A1FV0SX13TWVXQ  I really liked it.  1392768000   \n",
       "4  A3SPTOKDG7WBLN      Period Mystery  1395187200   \n",
       "\n",
       "                                          reviewText  \n",
       "0  I enjoy vintage books and movies so I enjoyed ...  \n",
       "1  This book is a reissue of an old one; the auth...  \n",
       "2  This was a fairly interesting read.  It had ol...  \n",
       "3  I'd never read any of the Amy Brewster mysteri...  \n",
       "4  If you like period pieces - clothing, lingo, y...  "
      ]
     },
     "execution_count": 22,
     "metadata": {},
     "output_type": "execute_result"
    }
   ],
   "source": [
    "df.head()"
   ]
  },
  {
   "cell_type": "code",
   "execution_count": 23,
   "metadata": {
    "id": "i9U5Lw3oKmtc"
   },
   "outputs": [],
   "source": [
    "df.drop(['ProductId','UserId','Time','reviewText'],axis=1,inplace=True)"
   ]
  },
  {
   "cell_type": "code",
   "execution_count": 24,
   "metadata": {
    "id": "7Ggkjxq4K1z3"
   },
   "outputs": [],
   "source": [
    "df.drop(['Summary'],axis=1,inplace=True)"
   ]
  },
  {
   "cell_type": "code",
   "execution_count": 25,
   "metadata": {
    "colab": {
     "base_uri": "https://localhost:8080/",
     "height": 206
    },
    "id": "shbgTCJAKyDn",
    "outputId": "6a2474c7-0a09-4cba-d02e-16bacf2d45f6"
   },
   "outputs": [
    {
     "data": {
      "text/html": [
       "<div>\n",
       "<style scoped>\n",
       "    .dataframe tbody tr th:only-of-type {\n",
       "        vertical-align: middle;\n",
       "    }\n",
       "\n",
       "    .dataframe tbody tr th {\n",
       "        vertical-align: top;\n",
       "    }\n",
       "\n",
       "    .dataframe thead th {\n",
       "        text-align: right;\n",
       "    }\n",
       "</style>\n",
       "<table border=\"1\" class=\"dataframe\">\n",
       "  <thead>\n",
       "    <tr style=\"text-align: right;\">\n",
       "      <th></th>\n",
       "      <th>Score</th>\n",
       "      <th>Text</th>\n",
       "    </tr>\n",
       "  </thead>\n",
       "  <tbody>\n",
       "    <tr>\n",
       "      <th>0</th>\n",
       "      <td>Positive</td>\n",
       "      <td>I enjoy vintage books and movies so I enjoyed ...</td>\n",
       "    </tr>\n",
       "    <tr>\n",
       "      <th>1</th>\n",
       "      <td>Positive</td>\n",
       "      <td>This book is a reissue of an old one; the auth...</td>\n",
       "    </tr>\n",
       "    <tr>\n",
       "      <th>2</th>\n",
       "      <td>Positive</td>\n",
       "      <td>This was a fairly interesting read.  It had ol...</td>\n",
       "    </tr>\n",
       "    <tr>\n",
       "      <th>3</th>\n",
       "      <td>Positive</td>\n",
       "      <td>I'd never read any of the Amy Brewster mysteri...</td>\n",
       "    </tr>\n",
       "    <tr>\n",
       "      <th>4</th>\n",
       "      <td>Positive</td>\n",
       "      <td>If you like period pieces - clothing, lingo, y...</td>\n",
       "    </tr>\n",
       "  </tbody>\n",
       "</table>\n",
       "</div>"
      ],
      "text/plain": [
       "      Score                                               Text\n",
       "0  Positive  I enjoy vintage books and movies so I enjoyed ...\n",
       "1  Positive  This book is a reissue of an old one; the auth...\n",
       "2  Positive  This was a fairly interesting read.  It had ol...\n",
       "3  Positive  I'd never read any of the Amy Brewster mysteri...\n",
       "4  Positive  If you like period pieces - clothing, lingo, y..."
      ]
     },
     "execution_count": 25,
     "metadata": {},
     "output_type": "execute_result"
    }
   ],
   "source": [
    "df.head()"
   ]
  },
  {
   "cell_type": "code",
   "execution_count": 26,
   "metadata": {
    "colab": {
     "base_uri": "https://localhost:8080/"
    },
    "id": "chDIxhSvK9yN",
    "outputId": "525f736e-127a-48f4-f45a-a7e90c61de42"
   },
   "outputs": [
    {
     "data": {
      "text/plain": [
       "Score    0\n",
       "Text     0\n",
       "dtype: int64"
      ]
     },
     "execution_count": 26,
     "metadata": {},
     "output_type": "execute_result"
    }
   ],
   "source": [
    "df.isna().sum()"
   ]
  },
  {
   "cell_type": "code",
   "execution_count": 27,
   "metadata": {
    "id": "1FVxm4MOLDGe"
   },
   "outputs": [],
   "source": [
    "#since there is only one null value, replace it with blank space\n",
    "df['Text'].fillna(\"\",inplace = True)"
   ]
  },
  {
   "cell_type": "code",
   "execution_count": 28,
   "metadata": {
    "colab": {
     "base_uri": "https://localhost:8080/"
    },
    "id": "5NUVce-XLGdt",
    "outputId": "23666fc2-01da-4199-e112-7f41732141c2"
   },
   "outputs": [
    {
     "data": {
      "text/plain": [
       "Score    0\n",
       "Text     0\n",
       "dtype: int64"
      ]
     },
     "execution_count": 28,
     "metadata": {},
     "output_type": "execute_result"
    }
   ],
   "source": [
    "df.isna().sum()"
   ]
  },
  {
   "cell_type": "code",
   "execution_count": 29,
   "metadata": {
    "colab": {
     "base_uri": "https://localhost:8080/"
    },
    "id": "TNKOGf3lLLMU",
    "outputId": "19ae68ff-891e-4d5a-bf85-1bf63069e4bc"
   },
   "outputs": [
    {
     "data": {
      "text/plain": [
       "Positive    8826\n",
       "Negative    1174\n",
       "Name: Score, dtype: int64"
      ]
     },
     "execution_count": 29,
     "metadata": {},
     "output_type": "execute_result"
    }
   ],
   "source": [
    "df.Score.value_counts()"
   ]
  },
  {
   "cell_type": "code",
   "execution_count": 30,
   "metadata": {
    "colab": {
     "base_uri": "https://localhost:8080/"
    },
    "id": "N8RHBaa_JZmK",
    "outputId": "6cde5903-d41a-4842-82cb-aa52142e5b3f"
   },
   "outputs": [
    {
     "name": "stderr",
     "output_type": "stream",
     "text": [
      "[nltk_data] Downloading package stopwords to\n",
      "[nltk_data]     C:\\Users\\User\\AppData\\Roaming\\nltk_data...\n",
      "[nltk_data]   Package stopwords is already up-to-date!\n",
      "[nltk_data] Downloading package wordnet to\n",
      "[nltk_data]     C:\\Users\\User\\AppData\\Roaming\\nltk_data...\n",
      "[nltk_data]   Package wordnet is already up-to-date!\n"
     ]
    },
    {
     "data": {
      "text/plain": [
       "True"
      ]
     },
     "execution_count": 30,
     "metadata": {},
     "output_type": "execute_result"
    }
   ],
   "source": [
    "import nltk\n",
    "nltk.download(\"stopwords\")\n",
    "nltk.download(\"wordnet\")"
   ]
  },
  {
   "cell_type": "code",
   "execution_count": null,
   "metadata": {
    "id": "lFaSKkMGJZnz"
   },
   "outputs": [],
   "source": []
  },
  {
   "cell_type": "code",
   "execution_count": null,
   "metadata": {
    "id": "hlq0-e4gJZqd"
   },
   "outputs": [],
   "source": []
  },
  {
   "cell_type": "markdown",
   "metadata": {
    "id": "8wk1L9lhG0pA"
   },
   "source": [
    "# EDA on Dataset"
   ]
  },
  {
   "cell_type": "code",
   "execution_count": 31,
   "metadata": {
    "colab": {
     "base_uri": "https://localhost:8080/"
    },
    "id": "5KJslEB1G0pD",
    "outputId": "dfe580b1-545f-463f-8163-dc1b48ff377e"
   },
   "outputs": [
    {
     "data": {
      "text/plain": [
       "(10000, 2)"
      ]
     },
     "execution_count": 31,
     "metadata": {},
     "output_type": "execute_result"
    }
   ],
   "source": [
    "# Return the shape of data \n",
    "df.shape"
   ]
  },
  {
   "cell_type": "code",
   "execution_count": 32,
   "metadata": {
    "colab": {
     "base_uri": "https://localhost:8080/"
    },
    "id": "emLXBVicG0pE",
    "outputId": "7b3ac7a8-0fe2-4805-fa0f-7bd25ec2c685"
   },
   "outputs": [
    {
     "data": {
      "text/plain": [
       "2"
      ]
     },
     "execution_count": 32,
     "metadata": {},
     "output_type": "execute_result"
    }
   ],
   "source": [
    "# Return the n dimensions of data\n",
    "df.ndim"
   ]
  },
  {
   "cell_type": "code",
   "execution_count": 33,
   "metadata": {
    "colab": {
     "base_uri": "https://localhost:8080/"
    },
    "id": "w1URAa0fG0pG",
    "outputId": "6b2403c7-bace-40ea-9859-88b436172cad"
   },
   "outputs": [
    {
     "data": {
      "text/plain": [
       "20000"
      ]
     },
     "execution_count": 33,
     "metadata": {},
     "output_type": "execute_result"
    }
   ],
   "source": [
    "# Return the size of data \n",
    "df.size"
   ]
  },
  {
   "cell_type": "code",
   "execution_count": 34,
   "metadata": {
    "colab": {
     "base_uri": "https://localhost:8080/"
    },
    "id": "9IjX5FAiG0pJ",
    "outputId": "60a3bc4f-7dbc-4836-af27-c709fe4821b8"
   },
   "outputs": [
    {
     "data": {
      "text/plain": [
       "Score    0\n",
       "Text     0\n",
       "dtype: int64"
      ]
     },
     "execution_count": 34,
     "metadata": {},
     "output_type": "execute_result"
    }
   ],
   "source": [
    "#Returns the sum fo all na values\n",
    "df.isna().sum() "
   ]
  },
  {
   "cell_type": "code",
   "execution_count": 36,
   "metadata": {
    "colab": {
     "base_uri": "https://localhost:8080/"
    },
    "id": "Yl35nv7tG0pL",
    "outputId": "af197dcd-030c-4f95-fc8a-990a29379adf"
   },
   "outputs": [],
   "source": [
    "#Give concise summary of a DataFrame\n",
    "#df.info()\n"
   ]
  },
  {
   "cell_type": "code",
   "execution_count": 37,
   "metadata": {
    "colab": {
     "base_uri": "https://localhost:8080/",
     "height": 206
    },
    "id": "DGZO45SAG0pM",
    "outputId": "33e0b9d1-7741-4096-e52e-214d08d1c3aa"
   },
   "outputs": [
    {
     "data": {
      "text/html": [
       "<div>\n",
       "<style scoped>\n",
       "    .dataframe tbody tr th:only-of-type {\n",
       "        vertical-align: middle;\n",
       "    }\n",
       "\n",
       "    .dataframe tbody tr th {\n",
       "        vertical-align: top;\n",
       "    }\n",
       "\n",
       "    .dataframe thead th {\n",
       "        text-align: right;\n",
       "    }\n",
       "</style>\n",
       "<table border=\"1\" class=\"dataframe\">\n",
       "  <thead>\n",
       "    <tr style=\"text-align: right;\">\n",
       "      <th></th>\n",
       "      <th>Score</th>\n",
       "      <th>Text</th>\n",
       "    </tr>\n",
       "  </thead>\n",
       "  <tbody>\n",
       "    <tr>\n",
       "      <th>0</th>\n",
       "      <td>Positive</td>\n",
       "      <td>I enjoy vintage books and movies so I enjoyed ...</td>\n",
       "    </tr>\n",
       "    <tr>\n",
       "      <th>1</th>\n",
       "      <td>Positive</td>\n",
       "      <td>This book is a reissue of an old one; the auth...</td>\n",
       "    </tr>\n",
       "    <tr>\n",
       "      <th>2</th>\n",
       "      <td>Positive</td>\n",
       "      <td>This was a fairly interesting read.  It had ol...</td>\n",
       "    </tr>\n",
       "    <tr>\n",
       "      <th>3</th>\n",
       "      <td>Positive</td>\n",
       "      <td>I'd never read any of the Amy Brewster mysteri...</td>\n",
       "    </tr>\n",
       "    <tr>\n",
       "      <th>4</th>\n",
       "      <td>Positive</td>\n",
       "      <td>If you like period pieces - clothing, lingo, y...</td>\n",
       "    </tr>\n",
       "  </tbody>\n",
       "</table>\n",
       "</div>"
      ],
      "text/plain": [
       "      Score                                               Text\n",
       "0  Positive  I enjoy vintage books and movies so I enjoyed ...\n",
       "1  Positive  This book is a reissue of an old one; the auth...\n",
       "2  Positive  This was a fairly interesting read.  It had ol...\n",
       "3  Positive  I'd never read any of the Amy Brewster mysteri...\n",
       "4  Positive  If you like period pieces - clothing, lingo, y..."
      ]
     },
     "execution_count": 37,
     "metadata": {},
     "output_type": "execute_result"
    }
   ],
   "source": [
    "# top 5 rows of the dataframe\n",
    "df.head() "
   ]
  },
  {
   "cell_type": "code",
   "execution_count": 38,
   "metadata": {
    "colab": {
     "base_uri": "https://localhost:8080/",
     "height": 206
    },
    "id": "05O3ZplBG0pN",
    "outputId": "d7dfd174-7ed9-4e27-9eea-037fda89883e"
   },
   "outputs": [
    {
     "data": {
      "text/html": [
       "<div>\n",
       "<style scoped>\n",
       "    .dataframe tbody tr th:only-of-type {\n",
       "        vertical-align: middle;\n",
       "    }\n",
       "\n",
       "    .dataframe tbody tr th {\n",
       "        vertical-align: top;\n",
       "    }\n",
       "\n",
       "    .dataframe thead th {\n",
       "        text-align: right;\n",
       "    }\n",
       "</style>\n",
       "<table border=\"1\" class=\"dataframe\">\n",
       "  <thead>\n",
       "    <tr style=\"text-align: right;\">\n",
       "      <th></th>\n",
       "      <th>Score</th>\n",
       "      <th>Text</th>\n",
       "    </tr>\n",
       "  </thead>\n",
       "  <tbody>\n",
       "    <tr>\n",
       "      <th>11616</th>\n",
       "      <td>Positive</td>\n",
       "      <td>Four years at West Point usually provide offic...</td>\n",
       "    </tr>\n",
       "    <tr>\n",
       "      <th>11613</th>\n",
       "      <td>Positive</td>\n",
       "      <td>Kept me on the edge of my seat, nice action se...</td>\n",
       "    </tr>\n",
       "    <tr>\n",
       "      <th>11625</th>\n",
       "      <td>Positive</td>\n",
       "      <td>For more than 50 years a secret organization o...</td>\n",
       "    </tr>\n",
       "    <tr>\n",
       "      <th>11619</th>\n",
       "      <td>Positive</td>\n",
       "      <td>Another great read from Bob Mayer in the same ...</td>\n",
       "    </tr>\n",
       "    <tr>\n",
       "      <th>11626</th>\n",
       "      <td>Negative</td>\n",
       "      <td>This book has a rather farfetched, but interes...</td>\n",
       "    </tr>\n",
       "  </tbody>\n",
       "</table>\n",
       "</div>"
      ],
      "text/plain": [
       "          Score                                               Text\n",
       "11616  Positive  Four years at West Point usually provide offic...\n",
       "11613  Positive  Kept me on the edge of my seat, nice action se...\n",
       "11625  Positive  For more than 50 years a secret organization o...\n",
       "11619  Positive  Another great read from Bob Mayer in the same ...\n",
       "11626  Negative  This book has a rather farfetched, but interes..."
      ]
     },
     "execution_count": 38,
     "metadata": {},
     "output_type": "execute_result"
    }
   ],
   "source": [
    "# bottom 5 rows of the dataframe\n",
    "df.tail()"
   ]
  },
  {
   "cell_type": "markdown",
   "metadata": {
    "id": "fjfZCouJG0pO"
   },
   "source": [
    "# Let’s Visualize the Column label_num"
   ]
  },
  {
   "cell_type": "code",
   "execution_count": 53,
   "metadata": {
    "colab": {
     "base_uri": "https://localhost:8080/",
     "height": 374
    },
    "id": "drYDGVJCG0pO",
    "outputId": "8345bff7-6f94-4ccb-da26-8e0fecaa2f8c"
   },
   "outputs": [
    {
     "ename": "TypeError",
     "evalue": "Cannot interpret '<attribute 'dtype' of 'numpy.generic' objects>' as a data type",
     "output_type": "error",
     "traceback": [
      "\u001b[1;31m---------------------------------------------------------------------------\u001b[0m",
      "\u001b[1;31mTypeError\u001b[0m                                 Traceback (most recent call last)",
      "\u001b[1;32m<ipython-input-53-e88f36bd6602>\u001b[0m in \u001b[0;36m<module>\u001b[1;34m\u001b[0m\n\u001b[1;32m----> 1\u001b[1;33m \u001b[0mdf\u001b[0m\u001b[1;33m[\u001b[0m\u001b[1;34m\"Score\"\u001b[0m\u001b[1;33m]\u001b[0m\u001b[1;33m.\u001b[0m\u001b[0mvalue_counts\u001b[0m\u001b[1;33m(\u001b[0m\u001b[1;33m)\u001b[0m\u001b[1;33m.\u001b[0m\u001b[0mplot\u001b[0m\u001b[1;33m(\u001b[0m\u001b[0mkind\u001b[0m\u001b[1;33m=\u001b[0m\u001b[1;34m\"bar\"\u001b[0m\u001b[1;33m,\u001b[0m\u001b[0mfigsize\u001b[0m\u001b[1;33m=\u001b[0m\u001b[1;33m(\u001b[0m\u001b[1;36m12\u001b[0m\u001b[1;33m,\u001b[0m\u001b[1;36m6\u001b[0m\u001b[1;33m)\u001b[0m\u001b[1;33m)\u001b[0m\u001b[1;33m\u001b[0m\u001b[1;33m\u001b[0m\u001b[0m\n\u001b[0m\u001b[0;32m      2\u001b[0m \u001b[0mplt\u001b[0m\u001b[1;33m.\u001b[0m\u001b[0mxticks\u001b[0m\u001b[1;33m(\u001b[0m\u001b[0mnp\u001b[0m\u001b[1;33m.\u001b[0m\u001b[0marange\u001b[0m\u001b[1;33m(\u001b[0m\u001b[1;36m2\u001b[0m\u001b[1;33m)\u001b[0m\u001b[1;33m,\u001b[0m \u001b[1;33m(\u001b[0m\u001b[1;34m'Positive'\u001b[0m\u001b[1;33m,\u001b[0m \u001b[1;34m'Negative'\u001b[0m\u001b[1;33m)\u001b[0m\u001b[1;33m,\u001b[0m\u001b[0mrotation\u001b[0m\u001b[1;33m=\u001b[0m\u001b[1;36m0\u001b[0m\u001b[1;33m)\u001b[0m\u001b[1;33m;\u001b[0m\u001b[1;33m\u001b[0m\u001b[1;33m\u001b[0m\u001b[0m\n",
      "\u001b[1;32mC:\\ProgramData\\Anaconda3\\lib\\site-packages\\pandas\\plotting\\_core.py\u001b[0m in \u001b[0;36m__call__\u001b[1;34m(self, kind, ax, figsize, use_index, title, grid, legend, style, logx, logy, loglog, xticks, yticks, xlim, ylim, rot, fontsize, colormap, table, yerr, xerr, label, secondary_y, **kwds)\u001b[0m\n\u001b[0;32m   2740\u001b[0m                            \u001b[0mcolormap\u001b[0m\u001b[1;33m=\u001b[0m\u001b[0mcolormap\u001b[0m\u001b[1;33m,\u001b[0m \u001b[0mtable\u001b[0m\u001b[1;33m=\u001b[0m\u001b[0mtable\u001b[0m\u001b[1;33m,\u001b[0m \u001b[0myerr\u001b[0m\u001b[1;33m=\u001b[0m\u001b[0myerr\u001b[0m\u001b[1;33m,\u001b[0m\u001b[1;33m\u001b[0m\u001b[1;33m\u001b[0m\u001b[0m\n\u001b[0;32m   2741\u001b[0m                            \u001b[0mxerr\u001b[0m\u001b[1;33m=\u001b[0m\u001b[0mxerr\u001b[0m\u001b[1;33m,\u001b[0m \u001b[0mlabel\u001b[0m\u001b[1;33m=\u001b[0m\u001b[0mlabel\u001b[0m\u001b[1;33m,\u001b[0m \u001b[0msecondary_y\u001b[0m\u001b[1;33m=\u001b[0m\u001b[0msecondary_y\u001b[0m\u001b[1;33m,\u001b[0m\u001b[1;33m\u001b[0m\u001b[1;33m\u001b[0m\u001b[0m\n\u001b[1;32m-> 2742\u001b[1;33m                            **kwds)\n\u001b[0m\u001b[0;32m   2743\u001b[0m     \u001b[0m__call__\u001b[0m\u001b[1;33m.\u001b[0m\u001b[0m__doc__\u001b[0m \u001b[1;33m=\u001b[0m \u001b[0mplot_series\u001b[0m\u001b[1;33m.\u001b[0m\u001b[0m__doc__\u001b[0m\u001b[1;33m\u001b[0m\u001b[1;33m\u001b[0m\u001b[0m\n\u001b[0;32m   2744\u001b[0m \u001b[1;33m\u001b[0m\u001b[0m\n",
      "\u001b[1;32mC:\\ProgramData\\Anaconda3\\lib\\site-packages\\pandas\\plotting\\_core.py\u001b[0m in \u001b[0;36mplot_series\u001b[1;34m(data, kind, ax, figsize, use_index, title, grid, legend, style, logx, logy, loglog, xticks, yticks, xlim, ylim, rot, fontsize, colormap, table, yerr, xerr, label, secondary_y, **kwds)\u001b[0m\n\u001b[0;32m   1996\u001b[0m                  \u001b[0myerr\u001b[0m\u001b[1;33m=\u001b[0m\u001b[0myerr\u001b[0m\u001b[1;33m,\u001b[0m \u001b[0mxerr\u001b[0m\u001b[1;33m=\u001b[0m\u001b[0mxerr\u001b[0m\u001b[1;33m,\u001b[0m\u001b[1;33m\u001b[0m\u001b[1;33m\u001b[0m\u001b[0m\n\u001b[0;32m   1997\u001b[0m                  \u001b[0mlabel\u001b[0m\u001b[1;33m=\u001b[0m\u001b[0mlabel\u001b[0m\u001b[1;33m,\u001b[0m \u001b[0msecondary_y\u001b[0m\u001b[1;33m=\u001b[0m\u001b[0msecondary_y\u001b[0m\u001b[1;33m,\u001b[0m\u001b[1;33m\u001b[0m\u001b[1;33m\u001b[0m\u001b[0m\n\u001b[1;32m-> 1998\u001b[1;33m                  **kwds)\n\u001b[0m\u001b[0;32m   1999\u001b[0m \u001b[1;33m\u001b[0m\u001b[0m\n\u001b[0;32m   2000\u001b[0m \u001b[1;33m\u001b[0m\u001b[0m\n",
      "\u001b[1;32mC:\\ProgramData\\Anaconda3\\lib\\site-packages\\pandas\\plotting\\_core.py\u001b[0m in \u001b[0;36m_plot\u001b[1;34m(data, x, y, subplots, ax, kind, **kwds)\u001b[0m\n\u001b[0;32m   1799\u001b[0m         \u001b[0mplot_obj\u001b[0m \u001b[1;33m=\u001b[0m \u001b[0mklass\u001b[0m\u001b[1;33m(\u001b[0m\u001b[0mdata\u001b[0m\u001b[1;33m,\u001b[0m \u001b[0msubplots\u001b[0m\u001b[1;33m=\u001b[0m\u001b[0msubplots\u001b[0m\u001b[1;33m,\u001b[0m \u001b[0max\u001b[0m\u001b[1;33m=\u001b[0m\u001b[0max\u001b[0m\u001b[1;33m,\u001b[0m \u001b[0mkind\u001b[0m\u001b[1;33m=\u001b[0m\u001b[0mkind\u001b[0m\u001b[1;33m,\u001b[0m \u001b[1;33m**\u001b[0m\u001b[0mkwds\u001b[0m\u001b[1;33m)\u001b[0m\u001b[1;33m\u001b[0m\u001b[1;33m\u001b[0m\u001b[0m\n\u001b[0;32m   1800\u001b[0m \u001b[1;33m\u001b[0m\u001b[0m\n\u001b[1;32m-> 1801\u001b[1;33m     \u001b[0mplot_obj\u001b[0m\u001b[1;33m.\u001b[0m\u001b[0mgenerate\u001b[0m\u001b[1;33m(\u001b[0m\u001b[1;33m)\u001b[0m\u001b[1;33m\u001b[0m\u001b[1;33m\u001b[0m\u001b[0m\n\u001b[0m\u001b[0;32m   1802\u001b[0m     \u001b[0mplot_obj\u001b[0m\u001b[1;33m.\u001b[0m\u001b[0mdraw\u001b[0m\u001b[1;33m(\u001b[0m\u001b[1;33m)\u001b[0m\u001b[1;33m\u001b[0m\u001b[1;33m\u001b[0m\u001b[0m\n\u001b[0;32m   1803\u001b[0m     \u001b[1;32mreturn\u001b[0m \u001b[0mplot_obj\u001b[0m\u001b[1;33m.\u001b[0m\u001b[0mresult\u001b[0m\u001b[1;33m\u001b[0m\u001b[1;33m\u001b[0m\u001b[0m\n",
      "\u001b[1;32mC:\\ProgramData\\Anaconda3\\lib\\site-packages\\pandas\\plotting\\_core.py\u001b[0m in \u001b[0;36mgenerate\u001b[1;34m(self)\u001b[0m\n\u001b[0;32m    247\u001b[0m     \u001b[1;32mdef\u001b[0m \u001b[0mgenerate\u001b[0m\u001b[1;33m(\u001b[0m\u001b[0mself\u001b[0m\u001b[1;33m)\u001b[0m\u001b[1;33m:\u001b[0m\u001b[1;33m\u001b[0m\u001b[1;33m\u001b[0m\u001b[0m\n\u001b[0;32m    248\u001b[0m         \u001b[0mself\u001b[0m\u001b[1;33m.\u001b[0m\u001b[0m_args_adjust\u001b[0m\u001b[1;33m(\u001b[0m\u001b[1;33m)\u001b[0m\u001b[1;33m\u001b[0m\u001b[1;33m\u001b[0m\u001b[0m\n\u001b[1;32m--> 249\u001b[1;33m         \u001b[0mself\u001b[0m\u001b[1;33m.\u001b[0m\u001b[0m_compute_plot_data\u001b[0m\u001b[1;33m(\u001b[0m\u001b[1;33m)\u001b[0m\u001b[1;33m\u001b[0m\u001b[1;33m\u001b[0m\u001b[0m\n\u001b[0m\u001b[0;32m    250\u001b[0m         \u001b[0mself\u001b[0m\u001b[1;33m.\u001b[0m\u001b[0m_setup_subplots\u001b[0m\u001b[1;33m(\u001b[0m\u001b[1;33m)\u001b[0m\u001b[1;33m\u001b[0m\u001b[1;33m\u001b[0m\u001b[0m\n\u001b[0;32m    251\u001b[0m         \u001b[0mself\u001b[0m\u001b[1;33m.\u001b[0m\u001b[0m_make_plot\u001b[0m\u001b[1;33m(\u001b[0m\u001b[1;33m)\u001b[0m\u001b[1;33m\u001b[0m\u001b[1;33m\u001b[0m\u001b[0m\n",
      "\u001b[1;32mC:\\ProgramData\\Anaconda3\\lib\\site-packages\\pandas\\plotting\\_core.py\u001b[0m in \u001b[0;36m_compute_plot_data\u001b[1;34m(self)\u001b[0m\n\u001b[0;32m    355\u001b[0m                                                    \u001b[1;34m\"datetime\"\u001b[0m\u001b[1;33m,\u001b[0m\u001b[1;33m\u001b[0m\u001b[1;33m\u001b[0m\u001b[0m\n\u001b[0;32m    356\u001b[0m                                                    \u001b[1;34m\"datetimetz\"\u001b[0m\u001b[1;33m,\u001b[0m\u001b[1;33m\u001b[0m\u001b[1;33m\u001b[0m\u001b[0m\n\u001b[1;32m--> 357\u001b[1;33m                                                    \"timedelta\"])\n\u001b[0m\u001b[0;32m    358\u001b[0m \u001b[1;33m\u001b[0m\u001b[0m\n\u001b[0;32m    359\u001b[0m         \u001b[1;32mtry\u001b[0m\u001b[1;33m:\u001b[0m\u001b[1;33m\u001b[0m\u001b[1;33m\u001b[0m\u001b[0m\n",
      "\u001b[1;32mC:\\ProgramData\\Anaconda3\\lib\\site-packages\\pandas\\core\\frame.py\u001b[0m in \u001b[0;36mselect_dtypes\u001b[1;34m(self, include, exclude)\u001b[0m\n\u001b[0;32m   3324\u001b[0m         \u001b[1;31m# the \"union\" of the logic of case 1 and case 2:\u001b[0m\u001b[1;33m\u001b[0m\u001b[1;33m\u001b[0m\u001b[1;33m\u001b[0m\u001b[0m\n\u001b[0;32m   3325\u001b[0m         \u001b[1;31m# we get the included and excluded, and return their logical and\u001b[0m\u001b[1;33m\u001b[0m\u001b[1;33m\u001b[0m\u001b[1;33m\u001b[0m\u001b[0m\n\u001b[1;32m-> 3326\u001b[1;33m         \u001b[0minclude_these\u001b[0m \u001b[1;33m=\u001b[0m \u001b[0mSeries\u001b[0m\u001b[1;33m(\u001b[0m\u001b[1;32mnot\u001b[0m \u001b[0mbool\u001b[0m\u001b[1;33m(\u001b[0m\u001b[0minclude\u001b[0m\u001b[1;33m)\u001b[0m\u001b[1;33m,\u001b[0m \u001b[0mindex\u001b[0m\u001b[1;33m=\u001b[0m\u001b[0mself\u001b[0m\u001b[1;33m.\u001b[0m\u001b[0mcolumns\u001b[0m\u001b[1;33m)\u001b[0m\u001b[1;33m\u001b[0m\u001b[1;33m\u001b[0m\u001b[0m\n\u001b[0m\u001b[0;32m   3327\u001b[0m         \u001b[0mexclude_these\u001b[0m \u001b[1;33m=\u001b[0m \u001b[0mSeries\u001b[0m\u001b[1;33m(\u001b[0m\u001b[1;32mnot\u001b[0m \u001b[0mbool\u001b[0m\u001b[1;33m(\u001b[0m\u001b[0mexclude\u001b[0m\u001b[1;33m)\u001b[0m\u001b[1;33m,\u001b[0m \u001b[0mindex\u001b[0m\u001b[1;33m=\u001b[0m\u001b[0mself\u001b[0m\u001b[1;33m.\u001b[0m\u001b[0mcolumns\u001b[0m\u001b[1;33m)\u001b[0m\u001b[1;33m\u001b[0m\u001b[1;33m\u001b[0m\u001b[0m\n\u001b[0;32m   3328\u001b[0m \u001b[1;33m\u001b[0m\u001b[0m\n",
      "\u001b[1;32mC:\\ProgramData\\Anaconda3\\lib\\site-packages\\pandas\\core\\series.py\u001b[0m in \u001b[0;36m__init__\u001b[1;34m(self, data, index, dtype, name, copy, fastpath)\u001b[0m\n\u001b[0;32m    260\u001b[0m             \u001b[1;32melse\u001b[0m\u001b[1;33m:\u001b[0m\u001b[1;33m\u001b[0m\u001b[1;33m\u001b[0m\u001b[0m\n\u001b[0;32m    261\u001b[0m                 data = sanitize_array(data, index, dtype, copy,\n\u001b[1;32m--> 262\u001b[1;33m                                       raise_cast_failure=True)\n\u001b[0m\u001b[0;32m    263\u001b[0m \u001b[1;33m\u001b[0m\u001b[0m\n\u001b[0;32m    264\u001b[0m                 \u001b[0mdata\u001b[0m \u001b[1;33m=\u001b[0m \u001b[0mSingleBlockManager\u001b[0m\u001b[1;33m(\u001b[0m\u001b[0mdata\u001b[0m\u001b[1;33m,\u001b[0m \u001b[0mindex\u001b[0m\u001b[1;33m,\u001b[0m \u001b[0mfastpath\u001b[0m\u001b[1;33m=\u001b[0m\u001b[1;32mTrue\u001b[0m\u001b[1;33m)\u001b[0m\u001b[1;33m\u001b[0m\u001b[1;33m\u001b[0m\u001b[0m\n",
      "\u001b[1;32mC:\\ProgramData\\Anaconda3\\lib\\site-packages\\pandas\\core\\internals\\construction.py\u001b[0m in \u001b[0;36msanitize_array\u001b[1;34m(data, index, dtype, copy, raise_cast_failure)\u001b[0m\n\u001b[0;32m    640\u001b[0m \u001b[1;33m\u001b[0m\u001b[0m\n\u001b[0;32m    641\u001b[0m             subarr = construct_1d_arraylike_from_scalar(\n\u001b[1;32m--> 642\u001b[1;33m                 value, len(index), dtype)\n\u001b[0m\u001b[0;32m    643\u001b[0m \u001b[1;33m\u001b[0m\u001b[0m\n\u001b[0;32m    644\u001b[0m         \u001b[1;32melse\u001b[0m\u001b[1;33m:\u001b[0m\u001b[1;33m\u001b[0m\u001b[1;33m\u001b[0m\u001b[0m\n",
      "\u001b[1;32mC:\\ProgramData\\Anaconda3\\lib\\site-packages\\pandas\\core\\dtypes\\cast.py\u001b[0m in \u001b[0;36mconstruct_1d_arraylike_from_scalar\u001b[1;34m(value, length, dtype)\u001b[0m\n\u001b[0;32m   1185\u001b[0m                 \u001b[0mvalue\u001b[0m \u001b[1;33m=\u001b[0m \u001b[0mto_str\u001b[0m\u001b[1;33m(\u001b[0m\u001b[0mvalue\u001b[0m\u001b[1;33m)\u001b[0m\u001b[1;33m\u001b[0m\u001b[1;33m\u001b[0m\u001b[0m\n\u001b[0;32m   1186\u001b[0m \u001b[1;33m\u001b[0m\u001b[0m\n\u001b[1;32m-> 1187\u001b[1;33m         \u001b[0msubarr\u001b[0m \u001b[1;33m=\u001b[0m \u001b[0mnp\u001b[0m\u001b[1;33m.\u001b[0m\u001b[0mempty\u001b[0m\u001b[1;33m(\u001b[0m\u001b[0mlength\u001b[0m\u001b[1;33m,\u001b[0m \u001b[0mdtype\u001b[0m\u001b[1;33m=\u001b[0m\u001b[0mdtype\u001b[0m\u001b[1;33m)\u001b[0m\u001b[1;33m\u001b[0m\u001b[1;33m\u001b[0m\u001b[0m\n\u001b[0m\u001b[0;32m   1188\u001b[0m         \u001b[0msubarr\u001b[0m\u001b[1;33m.\u001b[0m\u001b[0mfill\u001b[0m\u001b[1;33m(\u001b[0m\u001b[0mvalue\u001b[0m\u001b[1;33m)\u001b[0m\u001b[1;33m\u001b[0m\u001b[1;33m\u001b[0m\u001b[0m\n\u001b[0;32m   1189\u001b[0m \u001b[1;33m\u001b[0m\u001b[0m\n",
      "\u001b[1;31mTypeError\u001b[0m: Cannot interpret '<attribute 'dtype' of 'numpy.generic' objects>' as a data type"
     ]
    }
   ],
   "source": [
    "df[\"Score\"].value_counts().plot(kind=\"bar\",figsize=(12,6))\n",
    "plt.xticks(np.arange(2), ('Positive', 'Negative'),rotation=0);"
   ]
  },
  {
   "cell_type": "code",
   "execution_count": 40,
   "metadata": {
    "id": "h4UJrNhkIjI1"
   },
   "outputs": [],
   "source": [
    "#split the data into x(independent variable)\n",
    "x=df.iloc[:,1].values"
   ]
  },
  {
   "cell_type": "code",
   "execution_count": 41,
   "metadata": {
    "colab": {
     "base_uri": "https://localhost:8080/"
    },
    "id": "aSyOFjGDN11_",
    "outputId": "e2f86a6c-3b78-4c1b-ba00-3c6b485b2c2b"
   },
   "outputs": [
    {
     "data": {
      "text/plain": [
       "array([\"I enjoy vintage books and movies so I enjoyed reading this book.  The plot was unusual.  Don't think killing someone in self-defense but leaving the scene and the body without notifying the police or hitting someone in the jaw to knock them out would wash today.Still it was a good read for me.\",\n",
       "       \"This book is a reissue of an old one; the author was born in 1910. It's of the era of, say, Nero Wolfe. The introduction was quite interesting, explaining who the author was and why he's been forgotten; I'd never heard of him.The language is a little dated at times, like calling a gun a &#34;heater.&#34;  I also made good use of my Fire's dictionary to look up words like &#34;deshabille&#34; and &#34;Canarsie.&#34; Still, it was well worth a look-see.\",\n",
       "       \"This was a fairly interesting read.  It had old- style terminology.I was glad to get  to read a story that doesn't have coarse, crasslanguage.  I read for fun and relaxation......I like the free ebooksbecause I can check out a writer and decide if they are intriguing,innovative, and have enough of the command of Englishthat they can convey the story without crude language.\",\n",
       "       ...,\n",
       "       \"For more than 50 years a secret organization of military officers has manipulated national policy.  Now, they have reached a point in which they want to take over the country.  First discovery comes because Trace is writing a fictional book about some of the events without understanding what it is all about.  Or is it fiction?  Events become intense as she and Boomer begin to realize the country may be in peril.Bob Mayer has created a compelling plot with characters that are mostly 3-dimensional and situations that are believable.  This is a story of conspiracy and of doing that which is necesaary even though it smacks of evil.  The ending is satisfying, at least to me.  But what would you do?  There is a wealth of descriptive material, especially about military capabilities, that add to the story.  This is a gripping novel of suspense, political and military type action with a twist of morality.  This is a work of fiction, but in our time could something like this happen or is it too far out?  Reviewed by the author of The Children's Story, A Novel Not for Children (about good and evil).\",\n",
       "       'Another great read from Bob Mayer in the same tradition of his series I found to be good reads with plenty of action and suspense',\n",
       "       \"This book has a rather farfetched, but interesting premise...that a group of West Pointers going back over a hundred years are secretly controlling the world.  Could have been fun, but the author seems to have strung together a number of separately written sections, while forgetting what happened in the previous sections!  Its nuts, i.e. characters show up injured but no injury was ever described, characters jump from one location to another with no connection, and there seems to be no point to any of it.Very poor writing, even worse editing (does this author even have an editor?).  Mayer needs to clean up his writing, and get it edited.  In addition, his plot is rather thin, and if he's going to go for the outlandish, at least make it a little believable.But my biggest complaint about the book is that it isn't even exciting or particularly interesting. This is no thriller, in fact it drags along so slowly, and fails to grip the reader to such a degree it is actually quite boring and laborious to plod through.Update: After reading the book, the ending was fairly good and some action sequences just prior to the ending were't so bad. So, I'm upgrading the book from one star and making it two stars.  All of my previous comments stand, and Mayer will hopefully turn out something better next time.\"],\n",
       "      dtype=object)"
      ]
     },
     "execution_count": 41,
     "metadata": {},
     "output_type": "execute_result"
    }
   ],
   "source": [
    "x"
   ]
  },
  {
   "cell_type": "markdown",
   "metadata": {
    "id": "rL1hUjjQG0pP"
   },
   "source": [
    "# Cleaning The Text"
   ]
  },
  {
   "cell_type": "code",
   "execution_count": 42,
   "metadata": {
    "colab": {
     "base_uri": "https://localhost:8080/"
    },
    "id": "OsTwxgADJjCG",
    "outputId": "d44b967a-fd33-4934-9352-e0b8b64671c8"
   },
   "outputs": [
    {
     "name": "stderr",
     "output_type": "stream",
     "text": [
      "[nltk_data] Downloading package stopwords to\n",
      "[nltk_data]     C:\\Users\\User\\AppData\\Roaming\\nltk_data...\n",
      "[nltk_data]   Package stopwords is already up-to-date!\n",
      "[nltk_data] Downloading package wordnet to\n",
      "[nltk_data]     C:\\Users\\User\\AppData\\Roaming\\nltk_data...\n",
      "[nltk_data]   Package wordnet is already up-to-date!\n"
     ]
    }
   ],
   "source": [
    "import nltk\n",
    "nltk.download(\"stopwords\")\n",
    "nltk.download(\"wordnet\")\n",
    "from nltk.stem import WordNetLemmatizer\n",
    "#create an object for wordnet lemmatizer\n",
    "wordnet=WordNetLemmatizer()"
   ]
  },
  {
   "cell_type": "code",
   "execution_count": 43,
   "metadata": {
    "id": "RMo9UFCkG0pQ"
   },
   "outputs": [],
   "source": [
    "import re\n",
    "corpus = []\n",
    "length = len(df)\n"
   ]
  },
  {
   "cell_type": "code",
   "execution_count": 44,
   "metadata": {
    "colab": {
     "base_uri": "https://localhost:8080/"
    },
    "id": "zkYDAAWURk3W",
    "outputId": "e4bc9edc-e6e2-4f70-a181-0f04894442e8"
   },
   "outputs": [
    {
     "data": {
      "text/plain": [
       "10000"
      ]
     },
     "execution_count": 44,
     "metadata": {},
     "output_type": "execute_result"
    }
   ],
   "source": [
    "len(df)"
   ]
  },
  {
   "cell_type": "code",
   "execution_count": 45,
   "metadata": {
    "colab": {
     "base_uri": "https://localhost:8080/"
    },
    "id": "Q9Sh-WCTRh0O",
    "outputId": "97812874-fdc1-4df1-85b2-a4ec0628dd20"
   },
   "outputs": [
    {
     "data": {
      "text/plain": [
       "0"
      ]
     },
     "execution_count": 45,
     "metadata": {},
     "output_type": "execute_result"
    }
   ],
   "source": [
    "len(corpus)"
   ]
  },
  {
   "cell_type": "code",
   "execution_count": 50,
   "metadata": {
    "id": "IclVY5mJL0Ku"
   },
   "outputs": [],
   "source": [
    "# no of rows to clean \n",
    "for i in range(len(x)):\n",
    "    #replacing punctuations and numbers using re library \n",
    "    temp=re.sub('[^a-zA-Z]',' ',x[i])\n",
    "     # convert all text to lower cases\n",
    "    temp=temp.lower()\n",
    "    # split to array(default delimiter is \" \") \n",
    "    temp=temp.split()\n",
    "    #creating WordNetLemmatizer object to take main lemma of each word\n",
    "    wordnet = WordNetLemmatizer()\n",
    "    #loop for leammatization each word in string array at ith row \n",
    "    temp=[wordnet.lemmatize(word) for word in temp if not word in set(\n",
    "            stopwords.words('english'))]\n",
    "    #rejoin all string array elements to create back into a string \n",
    "    temp=' '.join(temp)\n",
    "    #append each string to create array of clean text \n",
    "    corpus.append(temp)"
   ]
  },
  {
   "cell_type": "code",
   "execution_count": 51,
   "metadata": {
    "id": "OCSgdaVWG0pQ"
   },
   "outputs": [],
   "source": [
    "# for i in range(0,length):\n",
    "#     text = re.sub(\"[^a-zA-Z0-9]\",\" \",df[\"text\"][i])\n",
    "#     text = text.lower()\n",
    "#     text = text.split()\n",
    "#     pe = PorterStemmer()\n",
    "#     stopword = stopwords.words(\"english\")\n",
    "#     text = [pe.stem(word) for word in text if not word in set(stopword)]\n",
    "#     text = \" \".join(text)\n",
    "#     corpus.append(text)\n"
   ]
  },
  {
   "cell_type": "code",
   "execution_count": 52,
   "metadata": {
    "colab": {
     "base_uri": "https://localhost:8080/"
    },
    "id": "XZh7yWwPG0pR",
    "outputId": "78476c57-2d43-4d7f-a85c-a0f30cd4c680"
   },
   "outputs": [
    {
     "data": {
      "text/plain": [
       "['enjoy vintage book movie enjoyed reading book plot unusual think killing someone self defense leaving scene body without notifying police hitting someone jaw knock would wash today still good read',\n",
       " 'book reissue old one author born era say nero wolfe introduction quite interesting explaining author forgotten never heard language little dated time like calling gun heater also made good use fire dictionary look word like deshabille canarsie still well worth look see',\n",
       " 'fairly interesting read old style terminology glad get read story coarse crasslanguage read fun relaxation like free ebooksbecause check writer decide intriguing innovative enough command englishthat convey story without crude language',\n",
       " 'never read amy brewster mystery one really hooked',\n",
       " 'like period piece clothing lingo enjoy mystery author guessing least way',\n",
       " 'beautiful depth character description make like fast pacing movie pity mr merwin write instead amy brewster mystery',\n",
       " 'enjoyed one tho sure called amy brewster mystery much clean well written character well drawn',\n",
       " 'never heard amy brewster need like amy brewster like book actually amy brewster side kick story added mystery story one resolved story brings back old time simple life simple people straight relationship',\n",
       " 'darth maul working cloak darkness committing sabotage story worth reading many time great story',\n",
       " 'short story focused darth maul role helping trade federation gain mining colony bad also nothing exceptional fairly short really get see character develop event happen seem go quickly including major battle story included novelshadow hunter star war darth maul worth reading bother buy one separately',\n",
       " 'think one book audio good story either way good ol maul',\n",
       " 'title nothing story enjoy though good short story darth maul setting two corporation end help darth sidious rise power take long read cheap go',\n",
       " 'version star star include novella recovery downloaded book onto fire recovery tell leia recovery nearly killed balance point meant tell story healing han leia relationship surely failed far much action attempt much brief moment reconciliation deeper understanding much time work necessary read really could skipped actually miss much felt like extraneous part book edited like dvd billed extra people pay see extra worth probably everyone',\n",
       " 'one promise another good book reading series gotten far yet',\n",
       " 'excellent well written story exciting lot action bad guy trying kill leia han viki shesh introduced',\n",
       " 'really enjoyed book normal back wall moment even laugh loud moment',\n",
       " 'sure much difference short story overall series read yet would recommend anyone buy help understand whole series better p series one best star war series',\n",
       " 'great read enjoyed every minute think answer question series',\n",
       " 'ylesia novella originally published e book form walter jon williams get opportunity insert story novel destiny way event ylesia take place midway book good read tackle immediately finishing destiny way novella follows new republic mission titular planet serving capital traitorous peace brigade house attempt senate peace brigade promote capitulation yuuzhan vong served human counterpoint effort jedi heroic member new republic throughout new jedi order logical part story one found terribly interesting rarely get anything told point view making rather cardboard adversary yleisa brings back thracken sal solo entertaining plotline see forcibly installed president peace brigade fit well sal solo plan better galactic situation display knack adaption survival unlike famous cousin han solo ylesia major source drug spice star war galaxy familiar reader c crispin han solo trilogy nice see return part yleisa advance story destiny way much primarily delivers closure peace brigade subplot sal solo memorable aspect space battle ground assault material following new republic invasion system felt like material read awful lot time ylesia solid enough little story would recommend someone going entire new jedi order wanting little',\n",
       " 'great book put story expands event new jedi order series good writer walter jon williams',\n",
       " 'new jedi order book focus solo kid extent viewed jacen book jania book novella ylesia anything book starring thrackan sal solo thrackan forcibly recruited yuuzhan vong become president peace brigade republic however new republic force also choose attack ylesia nothing new terribly exciting novel nice side story written similar style asdestiny way star war new jedi order book surprising author short story actually take place novel recommend reading novel first ylesia spoil surprise',\n",
       " 'hoping find one book form story look like good get far series',\n",
       " 'really sure actually fit overall story line story involves chewie wife son character mentioned passing enjoyable well written glad short keep main story long',\n",
       " 'love story chewie e book exception great character introduction wonderful story line',\n",
       " 'great little chapter read kindle necessarily worth price would nice addition courtship princess leia add tatooine ghost liked even rate published paperback avid star war fan need download read ebook',\n",
       " 'love anything chewbacca family bonus kind nice see problem son',\n",
       " 'book good idea always wanted read chewbaccas son lumpy though wish would added ending would recommend book anyone love star war chewbacca',\n",
       " 'really han solo cover come story story chewbacca family give anything away nice short read',\n",
       " 'great short story give little insight walking carpet love time father',\n",
       " 'absolutely love book though short written zahn star war fan know book good one would recommend book anyone love star war',\n",
       " 'say stormtroopers story trooper awesome story sith lord awesome',\n",
       " 'whatever reason star war short story bit hit miss tale great explain background character however fool bargaindidn really fit bill short story relatively minor unmemorable character timothy zahn ssurvivor quest star war story basically stormtroopers storming fortress mysterious warlord unlike zahn work mostly book action intricate plot development fact story end exciting twist develop feel like short story would better character know love included really interesting plot twist also note story included paperback copy ofsurvivor quest star war need buy separate kindle version',\n",
       " 'admit snapped moment saw new release tend anything written timothy zahn opinion one best contemporary sci fi author come world building intricate plot edge seat action thrawn conqueror trilogy incredible quadrail cobra unique engaging even one novel like icarus hunt outbound flight excellent figured would first hit end jaw dropped literally said aloud huh spent several minute looking see picked somewhere else really short story barely longer one appear tale star war series book several also must say lot le interesting probably single weakest plot seen zahn write terrible really great either twist end left wondering half story novella revolves around force stormtroopers somewhat memorable case white armored shock troop though quite bit action kind read like short movie videogame script overall worth paying fact really free ask',\n",
       " 'love timothy zahn work writer even george lucas take rank file storm trooper give personality talent skill make multi dimensional character people get invested writer show storm trooper faceless cannon fodder hit anything blaster zahn show competent sharpshooting elite commando think foot adapt situation well follow order spoiler spoiler spoiler story pretty basic one alien warlord ruling planet iron fist empire decides time go free plant rule dispatch st legion k vader fist take something wonder though take place vader dead thrawn rule ended st legion keep calling vader fist vader around anymore keep name sake nostalgia really major gripe something make scratch head main character three storm trooper different skill specialty infiltrate warlord fortress meet local freedom fighter strike deal trooper help free imprisoned comrade help trooper get inside take warlord troop bring justice trooper agree infiltrate stronghold together later seems rebel betrayed storm trooper turn elaborate ruse rebel always side trooper prisoner freed warlord captured empire brought justice later head rebel offered position st legion awesome really help enforce fact empire learned human military help hindrance main reason rebel alliance able defeat end spoiler end spoiler end spoiler zahn give u action gun fight intrigue little bit politics well story fan star war zahn writing enjoy book much',\n",
       " 'big gambling corrupt city eastern seaboard go west become real hero video also good',\n",
       " 'story louis l amour first novel ever read novel western theme thing growning imagine surprise sort drifted book one rainy afternoon guess attracted fact open new york city desert new mexico anyway soon found l amour writing style smooth silk found sliding book easily took hand led alter since read several l amour book enjoyed review next week time permitting book tell story young man new york city end small kansa town pick job sheriff one day hell scheduled break loose others outlined text already bore yet another outline say read louis l amour past would really great place start even get reacquainted gonna find another l amour book read',\n",
       " 'almost get book cover since double always author came good book character plot interesting',\n",
       " 'iron marshall louie l amour one best course best louie man knew west book make possible really feel',\n",
       " 'hero story living nyc working sort crime bos beaten tossed empty train car competition end west series fluke becomes sheriff small western town serious trouble one l amour favorite tell usual flair attention detail well worth reading',\n",
       " 'yet another l amour winner yet read book le great ability keep enthalled enough story make want put book finished',\n",
       " 'pat anjali da man overview spiritual practice indian perspective ad ad controversial part pj imo discus length siddhis power accruing sp definition sp according pat opening yogaham chitta vritti narodaham yoga stilling thought wave mind orcloseness god result clearing childish distraction mind must book every learned person book shelf see another reviewer comment translation evidently thekindle crap scholarly quality buy book avoid kindle',\n",
       " 'simply stated translated copy easily understood review say eleven word accepted',\n",
       " 'several translation yoga sutra find one fairly understandable one decent layout move fairly fast',\n",
       " 'aspiring yogini required reading easy read essential translation good',\n",
       " 'thought would instructive compare charles johnston translation sutra sutra chip hartranft shambhala version patanjali yoga sutra glad also shambhala book typo kindle book make time real head scratcher funnier one weakening cause bondage learning method sassing consciousness transferred body vesture consciousness built conformity boston feeling selfhood internals batik thought arise impression dynamic mind image glad hartranft version able figure said unlike hartranft modern translator johnston take exception calling sutra aphorism pointing aphorism really standalone gem wisdom sutra interdependent kind agree older translation word use bit quaint example johnson like word psychic sense psychological extrasensory perception us phrase judicial action connote reflection free fond word unwisdom hartranft translates seeing thing explain sutra need much explanation comprehend hartranft go great detail also lesson learned interested original philosophy yoga posture read one version seminal relatively short book translation always tricky compare contrast different version various time period interpreter achieve better understanding original work',\n",
       " 'brionne another one l amour great book imagine would see mountain canyon dessert see lower fourth eight nothing compared back drove golden spike railroad joined however awful lot like alaska',\n",
       " 'look forward getting next book sometimes recall exactly book good book real good reading',\n",
       " 'l among classic great read great book great kendle',\n",
       " 'needed evening relaxed reading settling old friend whose story already heard picked louis l amour brionne l amour staple growing still return go along fair blow wind remains favorite novel author combination old world swordplay coming age early americana beside point james brionne l amour creates one best fighting men man served union army civil war man ear president grant man lost wife tragic circumstance first page book draw reader set journey see good triumph evil book much remember written lot introspection bouncing around character character le action tension would liked l amour also instills romantic lyricism word choice though james brionne educated man thinker show page real tension reader going get read endgame almost transparent still l amour manages throw couple curve leave unsettled thing turn page wish little story even ending seems coast halt rather escalating piece fall together without real stress narrative tension plot pretty thin even l amour novel tale pulled even though knew book ended would known anyway clear enjoyed roving old west stepping past',\n",
       " 'l amour story man whose wife killed band thief thug rape murder keep interest first brionne concern son traumatized witnessing mother attack death attempt help young woman distress take wild country band outlaw trying kill son young woman anyone else traveling good story',\n",
       " 'typical book louis l amour one best read read seems riding trail along side story character see see hear hears go wrong author',\n",
       " 'like louis l amour book one exception want word word word word word word word',\n",
       " 'enjoyed book dislike reviewing l aour book found one like writes part country love course love western also book wellas others written good cast character story line easy follow could write mnore would book good read',\n",
       " 'paper cost lot per online issue lot good content like choose region download maybe way always get nyc version good newspaper',\n",
       " 'combination online print version wsj cost per year kindle version alone run per year might buy single issue day vacation otherwise guess keep filling landfill old per year would switched amazon listening',\n",
       " 'wsj kindle overpriced customer service gone completely haywire since newspaper bought read subscribed kindle print edition iphone app wsj mobile unfortunately horrible contebt delivery even though writing still superb try calling minute wait speak someone different country put hold try cancel abysmal waiting never part wsj online pinrt mobile kindle recent experience company bought way beware',\n",
       " 'downloaded read sitting ocean something cool reading journal beach like article',\n",
       " 'always love get newspaper kindle really enjoy insightful opinion piece quick read day headline apply u non financial type please enjoy know',\n",
       " 'come speed convenience better way read wall street journal almost advertisement get article picture concise easy read format wireless delivery get paper delivered kindle matter soon come say enough much enjoy version wall street journal kindle able whenever looking something read perfect commute unexpected wait complaint small one page one section paper several news blurb first couple article useful print version annoying distracting kindle get first paragraph article deep paper link get since menu page already link every single article paper detracting disrupts flow reading paper pointless really wish would get rid article teaser link mean time get used skipping overall really love wsj kindle highly recommend get format good luck cancel paper version though keep delivering long cancel keep reporting reader advertiser magazine newspaper best thing kindle',\n",
       " 'ten day trial subscription decided cancel read wsj year guess one foot digital world one analog world repeat comment concur difficulty making transition kindle reading still job traveling alot might make sense since pick wsj front porch work one thing really baffle cancel free trial unless magic button hiding right open find website kindle method cancel call customer service yes got taken care disconnected three time made queue fidelity call made almost impossible understand person saying english rep spotty best usual amazon quality',\n",
       " 'english accent seemed trying hide know impression europeons wsj england great country suspicious europeon socialism really spell particular brit proud writing ability rightly rather american brainwashing american bad may',\n",
       " 'read nearly book magazine kindle paper subscription wsj several year trouble reading small print nevertheless renewed via amazon kindle apparently mistaken belief would able read kindle two first one hell time getting open kindle fire much fumbling managed serious problem app type face size small hardly larger print version get open ipad could continued online version ipad kindle going start receiving print version soon hope cheaper opted amazon version thinking mistakenly would able read ipad larger screen quite disaster come close buy print digital combination directly use either kindle ipad special app ok part disaster thought ordering kindle print version somehow managed order print version cordial conversation amazon cancelled order amazon print version nearly offer wsj bought wsj line logged kindle presto decent readable product type size still small line read kindle fire imac find ipad probably thing considered product good one price extracted buying thru amazon high suppose change email',\n",
       " 'big kahuna financial newspaper delivered right kindle even need get bed throne retrieve soggy paper version snowed yard read right beloved kindle problem high price get pesky drm content put kindle content like evil drm inherent kindle let view content kindle printing article emailing article friend using presentation stuck evil live price restriction drm go friend',\n",
       " 'occasional reader wall street journal many year never really considered subscribing part happy get news free online variety source late craving consistent access kind high quality news story wsj known decided check several subscription option compare kindle version even though limited many respect turn pretty good line expectation wanted get reading wsj subscribe wsj setup delivery one kindle device enabled kindle reader also manually download current issue wsj another device automatic downloads enabled one device time change one online kindle setting time kindle formatting wsj leaf lot desired may imagine reading experience much closer reading book newspaper mind much wsj always pretty text heavy newspaper exception graph chart almost illegible presented kindle section article well organized easily accessible menu overall pleased navigation option term formatting still prefer dedicated wsj ipad version kindle version get job done one big difference kindle version various tablet able access various embedded video kindle even tablet version kindle software small video clip indeed lot fun definitely add overall reading experience however also add size download unless really fast wireless connection latest version tablet download choppy video nice addition crucial far price go yes wall street journal kindle kind expensive however keep mind principle cancel subscription without much trouble number month passed something experience easy pull print subscription newspaper consider wsj high quality publication opinion price reasonable kind content convenience get spoiled year de facto free online access various newspaper magazine unfortunately free state affair lead many fine journal newspaper shut seeking convenience ease use kindle version wsj provides concerned formatting various bell whistle definitely recommend check far satisfied expected based negative review read',\n",
       " 'cost delivered door paper online version combined confusing read intuitive layout nightmare cant find anything like paper online version price went even cancelled get right like everyone else tried big let',\n",
       " 'somewhat disappointment article missed pepper salt list declared dividend currency exchange weather small thing would like travel whole stack paperes waiting home stop gap travel abroad wsj available',\n",
       " 'update original review content kindle version wsj similar would find getting print edition delivered thing missing stock quote ok easier look read stock quote web format make navigating paper bit cumbersome graph photo graphic poor kindle format help subscription come wsj online iphone access wsj online good iphone app terrible content via iphone app incomplete put ad considering new cost month day think cost electronic format way overpriced considering deficiency seriously considering canceling update canceled subscription',\n",
       " 'awesome kilndle paper content cannot beaten great writing around coverage news way costly per month next costliest paper wanted continue subscription way many paper per month would give star cost',\n",
       " 'particularly partial book review section read kindleedition awash newspaper advertising etc get tospeed news least want tell u weekly basis',\n",
       " 'admit biased already loved content nyt love reading finance entertainment style course current event kindle edition easy navigate filled picture pleasure read kindle edition exactly supposed making great reading experience occasion might supplement looking online edition must see color picture something online edition hard read best glance ipod touch nice exactly idea desired reading experience like kindle like clockwork paper arrives early morning missed paper easy search headline nice compliment online edition great reading format well done',\n",
       " 'ny time kindle format great majority paper day easy navigate read print portion article good quality limited number picture rare graphic could better sometimes article missing one day pop next day issue acceptable know point day edition closed distributed really like annoying distraction ad considering excellent content cost bad day update two month canceled subscription would subscribe cost month month expensive digital edition paper',\n",
       " 'downloaded read vacation good paper covered everything interested reading',\n",
       " 'love paper great writer cancelled subscription due price price come like mo might buy buy occasional single issue really like gave star paper content rate low due cost since aware cost subscribing',\n",
       " 'forget ipad version time real paper photo ad kindle edition yes get story looking newspaper experience',\n",
       " 'love ny time home subscriber year method cheap two people household ipads starting reading liked saw got kindle fire hd switched still love time ipad app nicer look like paper front page whereas kindle app nice still believe content read daily love fact cost third home delivery miss seeing front page view kindle come series story click story get picture look even better newsprint color believe miss gorgeous full page add time ad kindle version ipads get kind ad one hardcopy paper give kindle app star time always get star get news anywhere else hope amazon improves app ipad family member stop snickering',\n",
       " 'many way get news day fact barrage medium day long choose read new york time kindle get fact opinion like anchor storm',\n",
       " 'periodically buy paper copy enjoy cup coffee e book edition convenient whenever minute spare available coffee shop comment buying hard copy one day e book edition next day may include duplicate story',\n",
       " 'big kahuna newspaper delivered right kindle even need get bed throne retrieve soggy paper version snowed yard read right beloved kindle problem high price get pesky drm content put kindle content like evil drm inherent kindle let view content kindle printing article emailing article friend using presentation stuck evil live price restriction drm go friend',\n",
       " 'month free trial well worth try say front second nyt great paper gotten newspaper due wanting cut amount trash generate got tired excessive advertising blah blah blah getting nyt wake morning remembering missing spending minute per morning reading part find interesting good stuff probably continue trial said agree price tad high much comfortable le per month considering much stripped also someone nyt read go bridge column last week made numerous reference missing diagram understand leaving picture vital picture never left going leave picture think static op ed picture left bridge column without diagram pointless added item strip include diagram good science section far miss crossword even crossword interactive love see grid paper nyt really close think little care could something le frustrating send decided continue subscribing reading nyt bed getting awhile great way start day still like better reading newspaper bed early morning new joy want give',\n",
       " 'nyt way rated example first page talked saving nation energy painting roof white white paint special white paint government lab turn old white paint government program necesaary nyt say irresponsible area health reporting pope wrote silly article dr kesler book food mention head fda engaged running battle vitamin food manufacturer year many battle lost court use aspirin heart treatment good expensive biotech drug fda touting uncritical irresponsible reporting dereliction journalist duty economist like krugman clue save nation economy yet pontificate page time reader encourage find better source later continue rant posted comment nyt website response article tone reserved systematic subject blocking medical innovation medical bureaucracy government fda guess comment erased evidently censor comment agree may offend advertiser kind society want may agree want shut disagree hint could next objection nyt ethical moral unfortunately become government hack rather responsible journalist',\n",
       " 'much information packed daily issue time read read book kindle magazine news make new york time great newspaper included kindle edition minus ad time read daily well worth monthly subscription price',\n",
       " 'thought n time morning daily west coast new york nearly noon received today paper yet left wireless night reading kindle content morning standard',\n",
       " 'enjoy reading time kindle little expensive one major indulgence kindle wise carry kindle around snatch quick read page day night ever since kid grandpa dad would always read time every morning paper content usually fairly well formatted kindle occasional exception graphic rendered greyscale usually see basically going always go article list appreciate summary article wish online content would included guess sell blog separately kindle subscription section uninteresting sport etc wish could skip section still article list skip section section list except lose place article list',\n",
       " 'ny time great read little expensive opinion e reader version buy often enjoy reading news paper',\n",
       " 'received one fourteen free copy nyt please end non subscription time meaning agreeable charge placed account nyt thank douglas',\n",
       " 'big fan ny time see one top newspaper u one kindle download cover every edition month okay say miss looking day two still excellent price time read problem fact everyday download well worth price two listen also get access ny time homepage giving article opportunity email letter sent box outline major story day case life particularly busy like said downloading ny time amazon double plus pas',\n",
       " 'purchased issue boston globe newspaper expensive found writing coverage high quality good price buy future issue newspaper sure',\n",
       " 'newspaper looked boston globe jam packed seen new england paper kindle',\n",
       " 'premier newspaper new england sent automatically beloved kindle sleep trudging snow find wet soggy glop dead tree nice',\n",
       " 'live town adjacent medium sized city massachusetts local newspaper leave lot desired really want know going read globe give want know timelymanner',\n",
       " 'live boston waiting boston globe become available kindle since mine arrived december subscribed first day found disappointed big print newspaper fan find environmentally unfriendly dirty think blank ink hand contain lot information usually interest ad sport stock list etc thicker need messy even take two free paper offered subway day excellent metro whiny bloggy boston hand find web version newspaper hard drill find article apply today know topic search really way tell least skimmed article day enter kindle edition solves complaint print web edition boston globe material interested still easy bypass really cause clutter eat resource kb disc space guess picture beginning appear ad gone unless buy paper ad people pleased content section next article layout great main page skim headline hitting next page button get end know missed today headline want detail select headline link finished reading article deciding read none easily hit back button return list finished article go forward directly next story come handy favorite section know want read article thing missing comic death notice read line comic site first case globe site case death notice really really want good job',\n",
       " 'e newspaper primarily local interest news little international coverage sub optimal national coverage insipid editorial price boston globe kindle edition disproportionately high seems newspaper limping trying find way world e paper limp noticeable',\n",
       " 'love read whashington post kindle reader good important everyone recommend',\n",
       " 'enjoy getting washington post wp every morning new k device k allows view every headline within paper view break number article within section view item section choose included wp k edition front page metro every county style editorial classifies obituary world politics health sport metro home etc section published daily therefore included k daily health food etc really enjoy reading wp k cardio gym always used time read paper longer struggle keeping page together worry paper falling get cardio machine pick daily rate month smile paper wasted read wp k morning',\n",
       " 'washington enjoy good medium unfortuntely washington post mostly politics redskin local story pertient washington dc whereas ny time international wall street journal business oriented least national wash post narrow unsubscribed',\n",
       " 'cool forgot request rate came make mine unreliable rating doubt change rotation planet enough measure',\n",
       " 'reporting good higher priced good newspaper tend get newspaper basically news',\n",
       " 'karen traviss noted time star war author fascination mandalorian culture along disdain jedi trait fueled several exceptional story republic commando novel also started become bit distraction time especially story became increasingly drenched mandalorian worship interesting choice author short story originally e book new jedi order beyond nod final volume mandalorians conspicuously absent story much like full length star war novel mandalorian focused chapter starting intriguing italicized quote various universe source cinematic way staging scene cutting turn choice good one m traviss bring sensibility new jedi order provides sorely needed shift overall tone nineteen novel fascinating juxtaposes boba fett ally yuuzhan vong two culture comfortable violence mean end diametrically opposed mean story set chronologically vector prime meaning could reader first introduction yuuzhan vong culture overall would say neither worse better first encountering via vector prime different vector prime show vong lens jedi meet alternate viewpoint mandalorian mercenary story brings u date older boba fett one still living mercenary life also responsibility mandalore leader people interesting dynamic fett feel sense duty role simultaneously keeping arm length sequence fett companion walk vong vessel encounter extra galactic invader first time superb see disgusted reaction bloody vong culture firsthand ending story leaf mandalorians true anti hero secretly right thing openly despised seemingly traitorous action would liked see thread interwoven throughout new jedi order ala practical man penned late game despite misgiving developed time m traviss tendency elevate mandalorians demonize jedi writing denying exceptional star war author story distinct hard edged propel along much like film even get heavy dialogue v action boba fett practical man distinct entity new jedi order well worth read even better could read someone interested fett people without go nineteen book follow',\n",
       " 'good read enjoyed look another side boba fett suggest gate way next set',\n",
       " 'boba fett sort get screwed turn around start screwing yuzahn vong cool',\n",
       " 'nice see author go back visit new jedi order era time karen traviss combine fan favorite boba fett njo favorite nom anor show mandalorians role yuuzhan vong war traviss pretty good job fitting character boba fett appropriately cynical time also concerned mandalorians traviss yet go far make boba fett one good guy interesting character transformation also get see nom anor private thought bit insight time infiltrator even short story seemed bit short end rather abruptly would liked seen bit least learn mandalorians first week invasion tough satisfied reading unifying force han see boba fett fighting alongside alliance troop hopefully story written one day',\n",
       " 'ebook good read include one new jedi order book supplement fun read kindle still could added several new jedi order series',\n",
       " 'got two page giving style clunky internal monolog gel character know story start end chase scene probably would really interesting author bothered write',\n",
       " 'ti good short story hoping big fan yuzan vong war series good anyway would better',\n",
       " 'gotten time read one yet intend read soon though look like good book',\n",
       " 'sigh say karen traviss mary sue adventure boba fett almighty infallible infinitely detailed completely boring mandalorians bear strong resemblance scottish highlander average b grade romance novel stuff like make glad decided stop writing star war usual traviss throw established canon match idea fit story book pointless whole premise flawed based non canon idea zapped existence canon episode clone war trump c canon soon canon n canon idea traviss book traviss managed take one coolest character star war universe turn one annoying uninteresting boring obnoxious mary sue character ever written took quiet cool boba fett turned character shut took mandalorians turned elusive lost dying race people cooler scattered across galaxy clan dancing singing mando speaking boastful moron whose place canon convoluted mess get started plodding detailed writing want know every tiny minuscule stupid thing character turn traviss book lucky tell boba acquired underwear made suffice say fan traviss work consider star war book notch barbara hambly disastrous effort read huge fan traviss huge fan non canon star war book one stand scrutiny',\n",
       " 'let start review saying one mean one write boba fett well karen traviss saw book amazon delighted even excited found wrote spoiler spoiler spoiler knew star war comic mandalorians involved vong war invasion fought alongside new republic e book really helped fill gap comic novel left knew credit visuals karen travis paint story amazing boba fett walking depth one vong ship great could almost smell slime oozing wall hear squishing boot walked across pulsing floor also compare ship back inside sarlaac pit cool well book mandalorians faced moral dilemma signed vong thinking army want wreck world get quick cash turn entire invasion armada want destroy entire galaxy boba fett mandalorians already taken job honor bound stand word fight alongside vong new republic however fett add vong leave home planet mandalore alone agree course lying give boba fett time need mobilize people war entire population mandalorian home world gunning might want reconsider course action fighting alongside vong boba fett manages sneak information new republic vong plan technology biology eventually new republic wise realizes mandos double agent send jedi master parley boba fett tell jedi keep wrap keep fighting mandalorians true enemy order keep ruse continue slip new republic information invader jedi master asks fett want return asks one thing republic know mandalorian warrior died save jedi master end spoiler end spoiler end spoiler book awesome karen traviss continued best star war universe writing boba fett mandalorians really bad rest star war writer falling due creative difference longer writing star war would loved read work star war setting',\n",
       " 'interesting adventure story leading suspension story hold attention duration enjoyed book much look forward follow u',\n",
       " 'romantic suspense novel quick read predictable event well written well balanced enjoyed sick flue kept interested read one day best ever read general would give star',\n",
       " 'able get book several year ago free kindle getting read list quite sure recognize got amazon anymore usually top product page wish book longer real problem even short would preferred chapter demarcation would make much easier find stopping place see close end chapter need want much big problem book short reading novella still nice really felt character book seem mostly real bit irrationality mixed think would completely way real life bore plot summary know reviewer fond like light adventure story smattering intrigue suspense think enjoy story especially like tad sexual tension titillation wait read next one',\n",
       " 'real fan romantic suspense rarely enjoy series length novel one terrific credible detail great speed tension smokin hot chemistry reasonable character development gonna go buy stacey book',\n",
       " 'alex rossi aka sean devlin leading double life founder devlin group sean devlin alex rossi real name one devlin group senior agent lifetime goal find kill man murdered mother grace nolan ex agent considers sean devlin friend young son danny kidnapped forced ask devlin group help find rescue kidnapper happens killer alex seeking killer know secret connection grace alex danny alex son although alex found furious grace never told danny furious alex shot found pregnant romantic suspense book plenty action scene tense moment great one liner great secondary character likely story e gallagher carmen',\n",
       " 'free kindle book got couple month ago read product description seemed like interesting concept give descent overview heroine grace nolan ex agent trying raise son hero alex rossi ex partner man loved book quick read nothing really unexpected first book read shannon stacy overly impressed fact saw ending coming page one disappointing wish character interesting found speeding reading could get end check tbr list move going continue series listed case anyone interested second book available hero tony casavetti heroine charlotte rhames edgethe third book series coming june hero john gallagher heroine carmen olivera character book one surrender devlin group book',\n",
       " 'read several shannon stacey book devlin group series far favorite book st book series order hour edge surrender never read book twice definitely revisiting series saw author website th one work say enough series definitely pick favorite read review st book say agree star rating would willing read finish series write complete review',\n",
       " 'great book short pick finish one night also constant action strong female lead nice find thoroughly enjoyed book recommend',\n",
       " 'one aspect book like fast paced action one good action movie made character captivating course love conquers written well paced well simply put page turner thumb book',\n",
       " 'guess diary like anybodies get better time nobody good sense humor though',\n",
       " 'enjoyed book great deal witty pleasant read actually laugh loud couple time thanks free classic',\n",
       " 'may fair review book finish read perhaps quarter finally gave thinking book waiting simply capture attention',\n",
       " 'thirty year sinclair lewis publishedbabbittand set standard smug self important middle class conformity diary nobody charles pooter pooter senior bank clerk city renting home london suburb holloway encapsulates victorian respectability snobbery pretension pooter nearly invariably get short end stick interaction two neighbor cummings gowings spendthrift reckless son lupin various tradesman servant attempt bully slavishly devoted employer mr perkupp pooter try without much luck cut son mold instead lupin slack work spends night engaged amateur theatrics carousing chum till hour father first serialized punch diary nobody published book form print since give slim volume chance available free kindle format see despite century old diary nobody remains quite amusing laugh loud funny part particularly section dealing tradesman lupin impetuous business dealing love affair long self satisfied petit bourgeois snob diary nobody continue entertain',\n",
       " 'seen title around many year back book intrigued little luck finding got kindle whole world classic longer print opened enjoyable read love wodehouse wilde british social satirist likely enjoy one well',\n",
       " 'give star read worse book book boring yadda yadda type recommend',\n",
       " 'book really humor usually dry kept laughing doubt book everyone said offer sound advice prospective reader download book free premise first entry laughing least smiling stop reading also check pulse',\n",
       " 'truly hilarious book small masterpiece bizzare unusual witty good language well written absolutely great classic',\n",
       " 'twain satire contemporary religious more last fiction published lifetime like much later work slightly cynical sarcastic although upbeat example letter earth mankind come across looking fairly silly overall whole positive probably interest twain fan want read everything scholar writing twain religious view casual twain reader mildly amusing throughout twain certainly wrote many work entertaining insightful fairly short read kindle location',\n",
       " 'stage production mark twain writing year going bring critical view organized religion captain stormfield beginning convenient kindle research',\n",
       " 'know would like interesting thought provoking especially consider time written easy enjoyable read',\n",
       " 'need recommendation since asked unless thorough reprobate give miss wag put mark twain show promise',\n",
       " 'fan mark twain ever since found share birthday glad found story',\n",
       " 'mark twain one favorite author work put smile face one tale give u food thought always great classic',\n",
       " 'twain question common understanding heaven satirical account one man trip experience afterlife',\n",
       " 'according twain heaven year earth even transported speed light huge containing soul multiple world creature imagined later scify author multiple gate minimal entry condition caste system reception never received reward life wish wing decoration according sandy elderly resident travel wishing around greet new arrival return earth divine message inhabitant dress formal occasion halo harp wing sort uniform sandy tell stormfield heaven libertarian place plenty room please appear age paradise imagined earth idleness get old please irritate patriarch sandy keen observer people heaven rest tale similarly imaginative twain enlivens thing speaking argot th century sailing master sprinkling dialogue phrase like ordinary comet make mile minute course came across one sort like encke halley comet instance warn anything flash vanish see rightly call race comet gravel train telegraph despatch got outside astronomical system used flush comet occasionally something like got comet begin one night swinging along good round gait everything taut trim wind favor judged going million mile minute might le flushed uncommonly big one three point starboard bow published early manuscript exists',\n",
       " 'mark twain sure turn survey somewhat forbidding vista free book kindle generally find book actually read fun conceit riverboat captain dy travel heaven find expected twain impious full wit reminiscent talk cracker barrel old general store long good',\n",
       " 'greatest hit grab bag story grimm fairy tale collection unillustrated apparently taken margaret hunt translation good collection highlight complete collection example household tale brother grimm available free kindle store list goose girlthe little brother sisterhansel gretheloh could shiver dummling three featherslittle snow whitecatherine frederickthe valiant little tailorlittle red capthe golden goosebearskincinderellafaithful johnthe water lifethumblingbriar rosethe six swansrapunzelmother hollethe frog princethe travel tom thumbsnow white rose redthe three little men woodrumpelstiltskinlittle one eye two eye three eye',\n",
       " 'real big fan fairy tale fairy tale always good read',\n",
       " 'many tale aparently cosmeticly rendered disney ilk gas read since childhood recommend',\n",
       " 'exactly remember story might different version one read',\n",
       " 'fascinating collection collected story many different version one another interested fairytale would advise get various published story brother grimm tale',\n",
       " 'absolutely love book turn read feature listen story every night familiar story book know heart book get star opinion',\n",
       " 'never sunk story grim horrid thought getting book child fairy tale could read grandchild forewarned',\n",
       " 'never realized fairy tale heard life based horrible tale thought good book hand grandchild would read allow read',\n",
       " 'fun story read child always asking read favorite book excellent writer jacob grimm every child someone read',\n",
       " 'yet read grimm tale heard please take time sit see age fairy tale telling produced early day basis many modern day tale written',\n",
       " 'though tale brother tale incorrect story happy tale tale written brother horrid without happy ending',\n",
       " 'pretty good collection grimm fairy tale translated pretty simple english grimm story lot book story good quick read grimm fairy tale would recommend someone looking quick read selection grimm tale',\n",
       " 'glad new version grimm story grew reading grimm andersen lost old storybook many year ago comforting reread',\n",
       " 'note title selection fairy tale fairly poor translation full grimm fairy tale household story collection place story seem drop change direction suddenly mid stream little brother little sister example missing paragraph version needed follow plot story seem point plot added ending although catherine frederick little worse version found good story repeated better collection notable bit bearskin one every collection grimm tale found enjoyable prefer story like six swan day persistence cleverness also cheat devil always nice touch many story solved nothing interesting dumb luck version frog prince beautiful beginning rest story disjointed uninspired annoying overall uneven next time search project gutenberg full tale',\n",
       " 'fell love show thought would read story themself thease story twisted fantastic read',\n",
       " 'love book several story heard child never heard read wonderful book',\n",
       " 'great book always like fairy tale tale bit morbid suitable child today guess sure told guess reason tv primary culture resource input allowed parent society pickle mind today child since requirement education would allow read recommend grimm story allow read opportunity exercise mind original virtual space imagination get free',\n",
       " 'excited read year tale came back vivid reminder youth great book',\n",
       " 'say classic fable best brother grimm great story great fantasy give mind workout classic tale',\n",
       " 'great beginning prayer book child excellent way teach habit prayer used denomination christian faith',\n",
       " 'lot prayer little old grandchild keep till get school',\n",
       " 'book many prayer child know kindle easily teach sunday school class started also enjoyed reading prayer new',\n",
       " 'written poetically horror trench come close see war stage wanton destruction civilian building church public building another step road history destruction alexandrian library current coronation hiroshima nothing changed waiting thing come could imagine horror partially book fall category war propaganda surprise mourning extinction city grown century',\n",
       " 'book author account portion france germany attempt occupation wwi author quite descriptive document scene death destruction throughout stay front line found book interest politically historically one seeking glimpse history eye someone present time disappointed book somewhat short good read nevertheless',\n",
       " 'liked book gave insight life activity france thr first world war pertained civilian troop without ususl tumult actual warfare',\n",
       " 'title book phrase used british american world war indicate continental europe fighting taking place book written world war western front subtitle line westward moving german army met army country invading arnold bennett novelist director propaganda france ministry information war background book bennett tell time spent moving town town france belgium along front always escorted military officer often walk trench take cover artillery shell explodes nearby frequently go detail town building damaged destroyed german personal book seldom writes people meet relates conversation occasionally mus absurdity german costing term people life livelihood cynicism shine moment book best enjoyed war buff short excellent description war zone recommend people normally read war book well',\n",
       " 'well written romantic style time author romanticizes war vilifies confused think related thing period still amazes anger belgian germany managed survive nation call brute barbarian murderer enough perpetrated europe two world war beyond comprehension viewing wanton unnecessary almost childish destruction caused retreating german author actually hope one german city levelled entirely punishment retribution lesson future german war expansion europe unwanted avenged happen author tour french british trench rear area giving amazing insight french military psyche time part enjoyed people ridicule french military prowess idea speak certainly student history',\n",
       " 'like jules vern story enjoyed reading little kindle away home needing something read waiting mode',\n",
       " 'best book ever read life year old read book year story group men really care risk life help plenty action adventure keep interest true story group men keep kindle nothing else read open book read wish modern novel quality enjoy book best recommend everyone free get better',\n",
       " 'story man life working together betterment betterment group man respect life thing intended',\n",
       " 'never read old classic picked book reading many good review start little slow time intriguing mystery bullet came time could put enjoyed character found interesting created thing take granted today hard remember people used everything sure lost art western society found writing wonderful jules verne painted wonderful detail made story pleasure read',\n",
       " 'grew considering jules verne contamparies people scientific vision read work including one feel betrayed racist people believing white man superiority look like recurrent theme bit pseudoscience thrown waste time',\n",
       " 'good sequel jules verne league sea like book although movie justice',\n",
       " 'never read great book growing time catch classic think free',\n",
       " 'jules verne indeed author rely fast flowing suspense enjoy reading classic written way originally penned much enjoyable child age would benefit reading book eminence',\n",
       " 'st realize author wonderful finish league kept interest',\n",
       " 'jules verne guide survival enjoyed adventure one classic want miss fun read might learn something well next time read fully intend read book going keep laptop elbow find picture animal plant mentioned especially like know horse real make believe',\n",
       " 'took long time read get story overall good slow reading book would recommend book anyone interest science interesting turn',\n",
       " 'growing exposed literary world purchased kindle book glad time repetitive wanted say ok told u already time time idealistic time realistic detail made island educational definitely got caught would recommend book middle school student pre teen imagination language requires attention worth effort',\n",
       " 'slow beginning much information number charcters beginning turned quite boring',\n",
       " 'mysterious island first read author long read detail made island come alive lot surprise',\n",
       " 'first read book read itevery year since boy tale embroidering history science survival science fiction bravery comradeship silken mapi glad grew reading story dreadfulharry potter hogwash eyewash obliterated young peoplesminds turned zombie',\n",
       " 'great read really glad downloaded want put would recommend reading mysterious island',\n",
       " 'fun see mysterious island play primary part wonderful book love good mystery one great thank',\n",
       " 'ill fated escape balloon ended disaster depositing men dog seemingly deserted island worked start colony sort experienced many hardship triumph classic story filled well defined character interesting locale one downfall somewhat wordy course explanation scientific kind outdated small complaint nothing diminish quality tale',\n",
       " 'always fantastic read good age taste well worth time spent enjoying story better movie',\n",
       " 'classic book time action character may pc story give real view attitude particular era expecting tale like movie inspired book find story men surviving difficult circumstance somewhat fantastical real readable',\n",
       " 'gave rating good adventure tale characterization also good enjoyed learned something surviving island',\n",
       " 'group men escape balloon confederate prison land deserted island need met mysterious benefactor',\n",
       " 'care story others may like keep reading much good stuff keep going one',\n",
       " 'liked creative idea making building item whole story great except killing many animal book written different time history world language interesting read understand distroy much need save plantet hurt read think book worth reading author book naturally would perfer kill leading mystery man many life form writer genuis',\n",
       " 'good reading anyone age book could shared kid age five ninty five learn much experience time traveler',\n",
       " 'jules verne attempt writing robinson crusoe swiss family robinson castaway story twist five castaway crash land balloon thus come island almost nothing unlike crusoe swiss family castaway boat full resource tool etc fall back make everything ground armed knowledge science engineering since always seemed crusoe swiss family cheated bit bringing many tool forth along really enjoyed scientific focus replaced swiss family answer one book would want desert island question part novel drag bit jules verne novel good story island mysterious unseen inhabitant also pirate always awesome main flaw based kingston translation make fair number edits verne original example change protagonist name remove captain nemo anti imperialist anti british rhetoric accurate translation available free kindle store recommend grabbing accurate version instead look edition engineer named cyrus smith rather cyrus harding kingston reportedly felt smith gypsy name hence unsuitable heroic character find version kindle store mysterious island oh yeah captain nemo book way sequel verne twenty thousand league sea well search castaway sequence direct really case cameo character direct plot sequel either book might want read two book first picking one',\n",
       " 'said book one never read good read nice adventure bit old style',\n",
       " 'get enough type literature year old something keep long time maybe old story something get back',\n",
       " 'excellent read extremely descriptive almost feel though one character first novel read jules verne hesitate read story matter far fetched may seemed first penned enjoy bit fantasizing would problem recommending purchase sit back enjoy',\n",
       " 'complexity detail story amazes especially since recently published story hard put',\n",
       " 'slow first totally suspenseful end glad stuck find ending possibly imagined',\n",
       " 'book kept attention first page ending could see myselfin position escapee managed survive help themysterious person ending quite surprise',\n",
       " 'put book finished never read book read work written jules verne always wondered happened captain memo know great story keeper',\n",
       " 'find work understand hopefully still held high esteem science fiction reading community',\n",
       " 'read jules verne story worth reading believe made movie worth refreshing story especially one movie never justice dated language little difficult fun like use dictionary often search obscure word phrase anyone never read saw story movie strongly recommend good early science fiction',\n",
       " 'another adventure story everything needed keep reading action intrigue mystery likable character always happy reader verne think reader would like',\n",
       " 'mysterious island st time read jules verne course known year alive since teenage year say really enjoy book downloaded free amazon kindle one classic jules verne remarkable intelligent thoughtful writer definitely reading work',\n",
       " 'star think one best book written jules verne saw movie young glamorous book however book endeared men hardship would recommend book anyone enjoys good read',\n",
       " 'take place five castaway good mystery well written keep coming back find',\n",
       " 'enjoyable read first verne book read want read would survive island old world wisdom shared within chronology',\n",
       " 'love read old classic reading one many time later like book',\n",
       " 'another classic read performed samsung galaxy iii one recommend others probably read future',\n",
       " 'great read jules verne fan little simplistic detail get character long way impossible situation suspend disbelief much lead final scene slap forehead seeing coming lot fun',\n",
       " 'love jules verne man ahead time story comparable league sea even ignore fact way ahead time story always fun pleasure read',\n",
       " 'one classic story jules verne also one favorite five prisoner war escape using balloon caught massive storm carried thousand mile land remote island inhabitant begin build life creative ingenious adventure make story entertaining true nature island discovered group faced threat enemy help mysterious benefactor jules verne writing perception future sci fi well ahead time excellent story recommend',\n",
       " 'another old classic amazon released ebook format read story first fifty year ago held hardback binding library book conjunction twenty thousand league sea search castaway discovered exciting jules verne writing truly started reading book could find certainty appreciated every one saw mysterious island ebook format amazon simply copy desire acquire book read book personal hard copy library ebook format even though grown reading hardback paperback book enjoying smell printer ink experiencing feeling good binding fine paper hand longer able collect original format due lack available shelf space discovered able carry book around kindle fire hd bad way go hunting book shelf book shelf novel digging box box book place storage book completely taking home looking right book unfortunately become unrealistic however regress review jules verne book mysterious island read believe love',\n",
       " 'one interesting book read keep suspense throughout entire book amazing much men accomplished island loved book put would recommend book adventure reader',\n",
       " 'every child read league sea classic adventure following little prompting intrigue read sequel happened captain nemo nautilus classic book viewpoint child exposed tom sawyer sequel huckleberry finn last mohican animal farm hobbit tarzan harry potter yankee king arthur court book good league interest peaked tehy may stll wade novel reading classic far better activity child video game',\n",
       " 'read book year ago enjoyed however enjoyed even reading kindle inspired book people book island different yet come together work together survive yes know lot review book however want say looking book inspire survive anything read book read low time life meaningful see right answer found book helped see important',\n",
       " 'finally read book last month enjoyed every chapter show managed survive island making tool item cave book far one best stranded island book could hope probably one jules verne best inhabitant island banded together get tight spot mysterious force always help force revealed nearly end highly recommend everyone',\n",
       " 'good interesting story well told actually book tour de force survival technique proverbial field manual survival semi tropical island encapsulated within framework novel providing one ability recognize identify plant mineral found within page ability transform us identified author',\n",
       " 'great suspense story kept guessing till end story like classic author great work really enjoyed',\n",
       " 'already seen movie book serf clear lot thing movie make sense wish read book first jaded',\n",
       " 'quite good read got little carried away still interesting show people could working together',\n",
       " 'one better fiction book read long time jules verne master subtly building suspense',\n",
       " 'know classic author feel join positive reviewer afraid book start well enough daring prisoner war camp escape balloon followed harrowing flight storm forced landing pacific island plot weakens one book biggest mystery must whilst huge number indiginent pacific islander evolve scratching living fishing sand bar island extemely large visible huge mountain middle island remains undiscovered pity surely must one verdant farming friendly mineral wealthy island earth also extremely well stocked manner useful tasty beast hero short year manage become completely self sufficient soon spoilt choice abide supper would estimate full eighty percent plot dedicated ingenious almost miraculous development island bounty five hero innovative castaway nothing beyond time island know resource produce brick pottery ironware gunpowder nitro glycerene etc etc even introducing telegraph system detail spared description operation consequence book read like cross handyman journal construction weekly farming monthly castaway deadly boring bunch quickly become firm friend respectful tolerant pas time mutual hero worship devotion hail fellow well met group complete absence sort jealousy resentment discontent moaning indeed complete absence emotional excitement mystery involved feel worth effort wading massive amount technical detail find end result look blandness tip look elsewhere adventure',\n",
       " 'reading story took back youth reminded school library favorite place school imagination soared place could dream',\n",
       " 'could enjoy jules verne story entertaining others interesting men stranded island came way survive island',\n",
       " 'could take book got started great amount mystery could figured especially familiar jules verne however lot twist turn kept guessing must done tremendous amount research able describe thing character order survive like said educational',\n",
       " 'adventure seeker literature aficionado alike satisfied rich story group castaway come together name survival remote island pacific',\n",
       " 'would highly recommend classic everyone young teen senior adult warning long involved tale read one evening since every character man le sentimental journey though definitely tearful scene one character former slave treated others equal though somewhat condescendedly enjoyed looking back culture custom long gone spoiler may want read another verne classic done one',\n",
       " 'simply outstanding even though read verne outstanding writer n generation offer child',\n",
       " 'classic must read especial anyone read league even simply watched walt disney early film adaptation sure enjoy story place drag bit language usage dated seems add charm',\n",
       " 'keep interested recommend age genuine masterpiece everyone read good child make wonderful gift',\n",
       " 'read thing phone enjoyed lot much king salomon mine also free',\n",
       " 'classic else need said adventure classic must remember verne writing world different place',\n",
       " 'remember going movie theatre yr old cousin year older enjoyed much staye second showing got huge trouble saw book availability realized never actually read book disappoint upcoming family reunion like share movie experience grandkids sending book enjoy first',\n",
       " 'author great story line brought character life quite interesting ending see ending coming recommend book friend family',\n",
       " 'manual desert island survival right book besides old verne slow build climax love much lot interesting little aside give lot information attitude behaviour time treatment castaway towards land around animal worth reading',\n",
       " 'expected thinking would like movie pleasantly surprised',\n",
       " 'illustration describe good job jules verne husband dislexic prefer reading pleasure read together reading aloud time however mysterious island tear away downloaded onto phone could read spare time breakthrough folk excellent exciting educational read',\n",
       " 'purchased husband totally enjoyed could put one jules verne best book',\n",
       " 'true classic like movie fight large dinosaur good tail survival get good read age true adventure lesson human nature good evil best understand wish others',\n",
       " 'probably good book around sience containswell writen story even tho fiction',\n",
       " 'wonderful adventure described great detail jules verne reader age greatly enjoy book',\n",
       " 'trying go classic book year found many interesting refreshing book different great character wonderful story line recommend enjoy bit sci fi ish book',\n",
       " 'book first bookmobile book bought school book club loved story bet dollar donut love memory serf bought book th grade would looking forward reliving memory',\n",
       " 'book inspired true story alexander selkirk survived alone almost five year uninhabited island coast chile interesting story lot imagination verne written later start march richmond va capital confederacy siege union army lt gen u grant five men cyrus pencroft herbert neb gideon dog named top trapped richmond wish escape town weather bad balloon tethered middle town storm seems provide cover confederate le attentive storm get balloon dog set adventure blown west storm end ocean balloon losing altitude fortunately crash tropical island turn volcanic large enough variety island interesting verne us balloon coming use device get folk onto deserted tropical island five men good collection skill personality work well together captain cyrus knowledgeable inspiring leader engineer practical knowledge pencroft practical hardworking sailor gideon kind everyman observant strong resourceful loving herbert young man learning becoming naturalist well done book whole crew work hard make life island using available excellent job using hand make chemical including nitroglycerine using island well done interesting adventure tale hard always appreciate written aged well enjoyable verne adventure novel certainly one best',\n",
       " 'first read book year ago enjoyed much realized time reading precursor macgyver lost lassie countless book movie tv show jules verne genius writing style absolutely delightful unfortunately book worded thus today would realize sale ten copy tried imitate style work',\n",
       " 'wonderful jules verne give plausible possibilties escape hot air balloon midst hurricane volcanic island later meeting mystery person perfect wish even tiny bit jules verne talent writing love science explanation neither didactic boring character wonderful well good read',\n",
       " 'verne favorite downloaded kindle library always touch finger easy share daughter recommend keeping favorite classic digital library',\n",
       " 'always loved jules verne creator steampunk book true classic making worthwhile time',\n",
       " 'book captivated character interesting story amazing may find description bit long add dimension character read book like adventure action suspense enjoyed league sea like',\n",
       " 'true jules verne style rich description real character adventure action downloaded mistake thoroughly glad',\n",
       " 'go wrong jules verne scene graphic accurate well researched draw story',\n",
       " 'captivating engaging truly pleasurable classic worthy late night attention look forward book like',\n",
       " 'came book expecting great surprised exceeded even inflated expectation read many jules verne work sat thoroughly amused whole time reading book come realization writer today even come close marvelous work wrought hand jules verne would recommend yes enjoy little bit sci fi lot adventure laugh good time well spent love reading jules verne mysterious island',\n",
       " 'much enjoyed jules verne book kept interest time think description castaway creation lengthy also thought lot wrote never actually experienced thing bit naive book definitely make one think would circumstance',\n",
       " 'typical jules vern advanced science beyond time good read hard put sometimes',\n",
       " 'old story never read love kindle free classic android love writing style language descriptive great author great sci fi mind enjoyable read',\n",
       " 'tale everything something historical lot action character sense cooperation imagination unique way making found plus found fate captain nemo',\n",
       " 'first tread jules verne rewarded good read complaint lot detail put different mechanism make however still interesting learn thing way build many thing raw resource create makeshift item help survival story begin prisoner engineer sailor reporter servant young man along bright dog traveling hot air balloon escape imprisonment civil war thrown onto island listed map well way ship pacific go even go short trip close un useful island help castaway four long year escapee start nothing make civilized dwelling create everything house granite rock garden animal farm mechanism might need create something survive spend day working building creating necessity well want build two ship last second fear death saved reference league sea captain nemo well historical thing story long detail learn feel like know islander also enough see surroundings feel anxiety adventure camaraderie pirate survival many thing wrapped amazing classic',\n",
       " 'day hyatt verrill mostly known adventure fantasy story today verrill mostly remembered little book knot knot one mankind oldest invention millennium evolved thousand knot used everyone sailor brain surgeon join hold thing together book verrill gather hundred useful knot show tie give little bit background us instruction accompanying illustration clear least simpler knot make tying easy wonderful book everyone scout sailor armchair browsing',\n",
       " 'nice reference helpful looking learn best way make knot different application real world situation',\n",
       " 'would recommend trying tie knot common knot unusual',\n",
       " 'enjoy outdoors include mountain climbing backpacking camping boating scuba diving work involves ranching logging construction transportation knowing lash something correctly must one reference endeavor',\n",
       " 'think secret society origin get born christian get see group need approached care',\n",
       " 'written language structure reminiscent king james bible author point unlawful hurtful vestige secrecy maybe considered past destruction secrecy organized religion note terrible freemasonry member one pay membership fee hogwash open eye ask catholic church destroying member family deny god sacrament subject manmade rule parishoner pay annulment sure money admin fee joke cry continually money reference fee around also disgusting performance organized pastor hide sin secrecy secretly plan continually beg money patron lowest financial level receive none church pastor blatantly hold hand stop using christ name justify thievery also stop pedophilia donate directly needy without church guilt lie',\n",
       " 'go show blind american come le prefect society corruption best place rated four content excellent presentation',\n",
       " 'anyone interested secret society definitely worth read interesting read',\n",
       " 'blanchard beecher ssecret societiesis product time review fear distrust many late th century thinker society freemason marxist anarchist well contempt non christian religion reading book however important keep mind thought two individual even day seen fringe writer dealing fear paranoia beecher example abolitionist brother harriet beecher stowe wroteuncle tom cabinwhile jonathan blanchard abolitionist preacher well known inflamatory anti masonic rhetoric one primary purpose publishing work reinforce superiority american style protestant christianity hinduism islam achieved great deal popularity among new england academic economic elite freemasonry another major topic book recently involved event known paris commune group marxist anarchist temporarily gained political control paris blanchard beecher concerned movement would endanger stability united state memory civil war reconstruction livid angry scar psyche nation secret society therefore provides keen insight logic rational behind deep concern felt generation american seen country torn civil war feared rising popularity marx inspired secret society could lead directly renewal widespread violence',\n",
       " 'came across book accidentally seeing tv special secret society naturally captivating extremely interesting would recommend anyone interest thing hidden right nose',\n",
       " 'secret society book want put reading reading blow mind',\n",
       " 'purchased kindle amazon enjoy would recommend unless desperate something read',\n",
       " 'story would appeal young woman like read others like good clean story orphan book range age revealed story progress main character mary especially sympathetic progress poor orphan poor house servant widow home young adult worked hard education',\n",
       " 'good story life orphan problem encounter recommend read couple time well written',\n",
       " 'like character good plot strong would recommend quick read',\n",
       " 'wonderful heartfelt story tune lot jane austin novel easy read follow life orphan depressing englad long ago enjoyable read would recommend anyone',\n",
       " 'book great made cry time well writen presented lovely plot could put',\n",
       " 'nice innocent read whole family beat free price either afraid download kindle',\n",
       " 'absolutely love book glad found wonder never heard exciting discovery anne green gable series similar feel english orphan written around classic rag rich story glued kindle two solid day enjoyed story character immensely experienced tear laughter highly recommended',\n",
       " 'book seemed well researched written interesting way since read remember detail liked much',\n",
       " 'interesting read well organized hurried end enjoy though heroine sooooo good villain sooooo evil',\n",
       " 'disappointed sometimes sad sometimes happy always keeping turning page definitely would read author need realize set time past set stage grateful live wonderful tale keeper english orphansi went kindle store downloaded several book wait start went freebie know plus book would formating english etc may better',\n",
       " 'wonderful book gave glimpse life like poor destitute also inspirational highly recommend book',\n",
       " 'book much style dickens thoroughly enjoyed tender story recommend entertaining engaging read',\n",
       " 'title kind give away fact child become orphan time story based show life hard people could die short time without medication unknown reason enjoyed book one problem pulled mary two front teeth kept talking beautiful become seems little strange',\n",
       " 'great read enduring seek book written author capturs interest start end',\n",
       " 'picked book blurb intrigued never heard book far halfway enjoying sad book though many way sure necessarily happy ending good nonetheless',\n",
       " 'basically good book took place turn twentieth century time different today vocabulary used book little difficult follow told tragedy mary howard faced hoe overcame story bit dry time book hard put also',\n",
       " 'obviously vintage book enjoyed style window another world time required reading high school',\n",
       " 'always enamoured underdog coming top type story reminiscent anne green gable story book delightful read',\n",
       " 'found bit hard understand way speak really enjoy story still wonder amizon amish fiction',\n",
       " 'move like one classic good plot good writing like story successful underdog book',\n",
       " 'thorouhly enjoyed reading brought new insight faith journey delving next one let know like reading',\n",
       " 'downloaded baltimore catechism research book writing memory st mary rockford il associate fully met expectation add never recieved five star nun reason',\n",
       " 'felt like right back parochial school philadelphia great get back basic',\n",
       " 'recent convert catholic faith wonderfully fulfilling work explains difference similarity education older cradle catholic help ground faith even deeper remember mass prayer somewhat different wait star number',\n",
       " 'novel set ancient egypt pharaoh date unspecified story royalty succession ruler egypt love story young woman tua child heir pharaoh rames son king kingdom south egypt egypt raised trained army spend time together child save life crocodile losing little finger right hand croc get separated becomes pharoeh upon death father book includes wizard magic different character lot interesting twist turn involving ka tua duplicate person granted god called called rule place two year tua pressured marry uncle year older start slow pick tie ancient egypt could much better done like adventure story love component set egypt thousand year ago could interest',\n",
       " 'ok admit bit skeptical saw free book written exactly characterize learned reader literary classic received kindle figured got loose absolutely pulled story problem putting captivating mystical love story egyptian princess first haggard book ever read definitely download famous literary work read future',\n",
       " 'good book bit fact good story power king intelligent decision made love story lot action little mystique mixed reminded river god wilbur smith tho quite good smith book like read ancient egypt try book',\n",
       " 'actually call hog butcher bacon love masculine lust life potrays chivalrous ideologue arbitrating sexual prowess oh',\n",
       " 'hard believe long tedious silly tale egyptian wizardry written man wrote king solomon mine wooden prose stilted dialogue utter lack good literary imagery make chore start finish unless epic tale god interacting human terrible',\n",
       " 'glorious read language lovely story compels keep reading author know story going sheer pleasure pick book heartbreak done classic cheap paperback time filler disappointed morning star',\n",
       " 'enjoyable well written story ancient egypt story hold interest page page quite interesting story',\n",
       " 'great history ottawa chippewa indian enlightening book history indian michigan',\n",
       " 'great read knowledgeable tribe michigan would highly recommend anyone read reason school get informed',\n",
       " 'appreciated informative information tribe war position war specificly looking information tribe member married child detail included',\n",
       " 'good read north quiet lake back wood kinda give better feel overall picture book actual environment based upon really go wrong state cultural history read',\n",
       " 'appreciated book memoir author life interesting native american man enjoyed content last chapter suddenly dirge lost wave european immigration would loved chapter transition relatively good time clearly bad time writing light clear legend well recounted anecdote well told',\n",
       " 'interesting book ottawa chippewa indian michigan etc indian author andrew blackbird wanted get education hard worker money sent u government really available system including agent friend disposed first another documented case system indian agent really work well indian rather used agent benefit typical system captured person operating system people system set serve excellent job collecting historical information creating english local indian tongue dictionary little gem book',\n",
       " 'written said wanted say understand must write many word needed seems like waste time person review wrote n way expected',\n",
       " 'book many wonderful indian fairy tale includes tale classical fairy tale style one moralistic folktale instead wonderful story included lion cranehow raja son princess labamthe lambikinpunchkinthe broken potthe magic fiddlethe cruel crane outwittedloving lailithe tiger brahman jackelthe soothsayer sonharisamanthe charmed ringthe talkative tortoisea lac rupee bit advicethe gold giving serpentthe son seven queensa lesson kingspride goeth fallraja rasaluthe as lion skinthe farmer money lenderthe boy moon forehead prince fakirwhy fish laughedthe demon matted hairthe ivory city fairy princesshow sun moon wind went dinnerhow wicked son dupedthe pigeon crowfor indian tale also check outdeccan nursery tale fairy tale southorhindu tale sanskrit although aimed slightly towards audience child',\n",
       " 'indian fairy tale great several book indian culture book fit right thank thank thank',\n",
       " 'knowing mythological background native inhabitant help understanding people around u thank amazon providing link part history known u word really enough describe wonderfulness book well could go',\n",
       " 'admittedly read first story seemed disjointed flow seem point written tripped walked street bus went downtown end perhaps translate well maybe put worst story beginning',\n",
       " 'recommend anyone looking fun wonderful fairy tale every story magical inspiring without exert imagination see story come life',\n",
       " 'fairy tale usually thought child literature term much child particular fascinated categorization without merit however good fairy tale tap social personal tension fact life natural phenomenon often take rather ordinary situation push limit imagination considers plausible fairy tale thus form reductio ad absurdum common sense often help u see various life situation term basic principle fairy tale continue lot fascination adult well u grown fairy tale han christian andersen brother grimm sort cannon western fairy tale become part common patrimony entire world little red riding hood snow white rapunzel many others however fairy tale tip iceberg come european fairy tale world literature even filled beautiful unusual imaginative story collection indian fairy tale great collection fairy tale come rather fascinating see even thought many fairy tale reflect certain indian cultural norm basic structure motif surprisingly familiar villain hero charged unusual demanding task monster talking animal everywhere damsel distress aplenty tale take place long long time ago tale well written language crisp contemporary collection great source enjoyment child adult alike',\n",
       " 'far fairy tale big surprise mostly typical fairy tale fare bad thing resembled european fairy tale much form function wonder translation indeed indian fairy tale similar european one enjoy european style mythology probably like short set tale',\n",
       " 'enjoyed short fairy story great deal right length read one two bus ride work without stop forget place lot similarity story european fairy tale quite like collection',\n",
       " 'bought book cultural experience learning culture grow hearing enjoyed experience reading book would certantly recommend',\n",
       " 'twenty nine story collection indian tale resemble story flourished europe tale brother grimm aesop although indian flavor collector story contends old older legend folk tale later flourished europe belief india originator genre story possibly brought europe crusader traveler passed india example tale lion crane well known lion eating animal bone got stuck throat crane offered help lion promise eat lion agrees crane protects placing stick lion mouth keep open inside lion mouth removing bone soon crane remove bone push stick fly high tree later crane asks lion lion give saving lion life lion responds already gave crane gift eating indian version end speaking transmigration soul belief many indian lion crane people another life raja son princess labam another example familiar tale although known west name prince go search beautiful princess journeying take food find ant place ground ant come finish ant raja arrives tell since fed ant need help future need think come help leaf continues searching princess come across tiger thorn paw help tiger tell prince need help future think wife come help prince continues search come across four fakir four magic item bag give food whenever requested bowl offer water bed fly take prince want go stick beat group try harm take four item fakir us bed go princess us bag bowl food drink us ant tiger bed princess father insists performs task give daughter final fourth task father insists perform one none friend magical item help princess tell task story end stating two lived happily never needed use magic stick',\n",
       " 'book contains everything mystery love story suspense like reading modern thriller without filthy language wich hate',\n",
       " 'book many twist turn keep reader guessing liked author tied together character relation end book show intertwined story although main plot excellent still found hard concentrate book seemed like author going anywhere understand book classic glad read',\n",
       " 'literary classic understood significance good read lagged sometimes otherwise keep hold great classic',\n",
       " 'sure expect ordered book heard great review sometimes get around reading book live hype case sincerely enjoyed tale young innocent oliver twist story misfortune novel darker violent first anticipated language flow like poetry loved roller coaster ride dickens take u oliver search escape evil forced upon pulled back build climax story expertly formulated executed oliver twist classic true sense word pleasure reading novel delay order today',\n",
       " 'excellent read required middle school student read discus even make formal report take reading video game used',\n",
       " 'love old story like enjoy read great read since school kid definitely enjoy',\n",
       " 'favorite book classic book must collection always enjoyed since kid',\n",
       " 'long time since first read school truly still love nuance time language th time used time took mr dickens write strangely enough still see great deal problem today felt strongly advise reading book poor people always look movie learn story miss much',\n",
       " 'explain taken many year finally pick read book written sicken pleased done long last',\n",
       " 'great book within easy reach ipad glad carry book one unit',\n",
       " 'great read novel full tragedy villans heartache surprise typical dickens masterpiece kindle version happens pretty good best free',\n",
       " 'never seen movie movie book really stir emotion sometimes wish could go back kick bleep bleep excellent story excellent',\n",
       " 'really like hard keep character storyline way numerous disjointed end finishing avid reader',\n",
       " 'got love classic timeless portal lose age',\n",
       " 'finally read classic story first time vaguely aware story line thoroughly enjoyed reading cover cover',\n",
       " 'love oliver twist classic love triumph always feel good story',\n",
       " 'hundred thing lincoln said humor subtle none cause peal laughter book definitely enjoyable reading intro tell lincoln used humor throughout life following calender important event life',\n",
       " 'book filled lot gap lincoln story consists series anecdote remembered contemporary abe lincoln many humorous story joke liked tell many reiterated one person saying lifted speech made especially occurred lincoln douglas debate story le placed chronological order abe boyhood day whole life experience end evening assassination prepared go ford theater saying remembered coming mouth th president prove life long aversion slavery form read opinion interest preservation union end slavery think quote lincoln mouth show horror outrage slavery early manhood minimize desire preserve union another area lincoln faith story abe mouth show devout faith christianity bible prayer boyhood ever intensifying faith horror civil war ran course read opinion contemporary law practice day lincoln atheist best agnostic statement nature come abraham mouth book true would seem reflect stage questioning early professional day became candidate office several observation made know love twice alliance mary todd one girl named anne annie engaged someone east enamored lincoln eastern swain gone back east get permission relative considered higher class needed permission family order marry western annie absence easterner annie sickened died abe devastated wept grave disconsolate long time mary todd third love remembered another suitor mary douglas little giant lincoln political rival douglas short round well dressed would predicted would mary choice however unpredictably picked lincoln ungainly rustic giant commented mary saw diamond inside rough exterior another interesting thread many threat assassination attempt made lincoln life beginning political success unconcern stated believed life secure maker called astounded people evading body guard taking unusual risk last day war visited front line advice time hue cry arose forbid risky act already safely returned collection evidently put together edited quite close time event much language archaic ear explanation made help reader understand still geared much earlier generation joke lost humor archaic language time general public evidently thought three president poisoned political end vice president would favorable desired policy story given controversial accepted opinion day mentioned show ground believe story white house kitchen worker said offered large amount money poison milk lincoln household teetotaler family drank milk favored beverage poisoned president considered william harrison general taylor scott',\n",
       " 'story lincoln good course written narrative time compared stuff read one better book',\n",
       " 'love reading thing involving th president got learn enjoy reading would suggest others get reader',\n",
       " 'well written historical detail interesting',\n",
       " 'nice story fact president found interesting nice read story',\n",
       " 'read thesis tail seemed old one different name wast load',\n",
       " 'bit different expected good light fast reading lot reading last couple month filled time thanks',\n",
       " 'story written rough tone unpolished feel necessarily detraction tale better occasionally wearying read poor grammar colloquial speech hence four star also lack interactive table content tale included tom tit totthe three silliesthe rose treethe old woman pighow jack went seek fortunemr vinegarnix nought nothingjack hannafordbinnoriemouse mousercap rushesteeny tinyjack beanstalkthe story three little pigsthe master pupiltitty mouse tatty mousejack golden snuff boxthe story three bearsjack giant killerhenny pennychilde rowlandmolly whuppiethe red ettinthe golden armthe history tom thumbmr foxlazy jackjohnny cakeearl mar daughtermr miaccawhittington catthe strange visitorthe laidly worm spindleston heughthe cat mousethe fish ringthe magpie nestkate crackernutsthe cauld lad hiltonthe as table stickfairy ointmentthe well world endmaster mastersthe three head well',\n",
       " 'like cutesy fairy tale around enjoy reading read reading different one never heard',\n",
       " 'like fairy tale share child also fan type fairy tale give author bow great story telling',\n",
       " 'story depressing morbid much death story really gory expect see word fairy tale title',\n",
       " 'good collection folk tale britain author tried hard make sure story commonly britain though may spread elsewhere variation came elsewhere english folk tale henny penny jack beanstalk many jack tale three bear humourous ending seem story amuse everyone jacob author said used fairy tale title kid ever asks folk tale',\n",
       " 'open kindle app read really want put quite macabre think child disney light fairy tale',\n",
       " 'familiar several new tale hope ordering book pleased version familiar tale well',\n",
       " 'love reading fairy tale different area world much fun learning experience would give story',\n",
       " 'fairy tale usually thought child literature term much child particular fascinated categorization without merit however good fairy tale tap social personal tension fact life natural phenomenon often take rather ordinary situation push limit imagination considers plausible fairy tale thus form reductio ad absurdum common sense often help u see various life situation term basic principle fairy tale continue lot fascination adult well u grown fairy tale han christian andersen brother grimm sort cannon western fairy tale become part common patrimony entire world little red riding hood snow white rapunzel many others however fairy tale tip iceberg come european fairy tale many folk tale familiar yet equally beautiful imaginative collection english fairy tale great collection fairy tale come rather fascinating see even thought many fairy tale reflect certain english cultural norm basic structure motif surprisingly familiar villain hero charged unusual demanding task monster unusual magical object everywhere damsel distress aplenty tale take place upon time tale well written language crisp contemporary dialogue however replete colloquial english expression turn phrase characteristic give fairy tale folksy feel collection great source enjoyment child adult alike',\n",
       " 'bought book cultural experience american familar english fairy tale quote enjoy read',\n",
       " 'review comparing book meet expectation based read well known fairy tale compiler like grimm brother han christian anderson english fairy tale familiar always quite know first impression book varied term fairy tale lot folk tale silly child story moral resolution really master master spring mind short tale seems point reciting silly word also fixation name jack lot character thought interesting wonder person also reference king arthur court found fascinating tale seem grounded realistic detail mention king reigned real location england seen event story make tale little le fantastical even giant roaming english countryside probably tale surprised story dick whittington realize confused french pus boot fairy tale dick whittington story much le magical lucky enough industrious cat like hunt mouse mr fox kind stood implied romance gruesomeness confrontation heroine many story book ilk lastly story surprised see included golden arm always familiar ghost story know definitely old one realistic setting sometimes whimsical nature tale english slang used time book fairy tale rather different used find interesting read original familiar tale see thing changed instance story three bear familiar reader goldilocks three bear original story goldilocks rather intruder disagreeable old woman book definitely worth read something different usual story perhaps find new favorite fairy tale',\n",
       " 'first know expect started reading however interesting provides appears historical account event war',\n",
       " 'lose war lose boat lose girl maybe kind insight mentality upper class german take thing',\n",
       " 'like reality felt read little book much submarine detail feel could exerpt someone diary especially liked reveal conclusion',\n",
       " 'one wonder people survived condition stress lived daily although cause bravado admirable great book manyone interested history',\n",
       " 'vaughan know write novel fast moving hard put enjoy western give novel try',\n",
       " 'read hawke series enjoyed much wish vaughan would keep writing',\n",
       " 'another robert vaughan book good hard put book kept interested way thru book enjoy reading western glad got book hopefully author make book hawke',\n",
       " 'really enjoyed book bought another one series would reccomend western reader',\n",
       " 'like western love book great story great character book well worth reading go ahead try',\n",
       " 'vaughan created appealing character series western hero physically true western genre yet talented respected classical pianist draw fast shoot straight story entertaining make nice addition library enjoy reading western twist',\n",
       " 'really title say go shoot people well thought worth reading',\n",
       " 'mallory edward married john barron sixteen neither wanted marry forced marriage security mallory father john part john leaf mallory without consummating marriage wedding night fast forward seven year path cross show soiree latest mistress john longer young man pushed around father mallory longer teenage bride literally run away soiree due john crooked uncle louis embezzling john fund leaving broke mob people owes money mallory lost home due receiving help absent husband want divorce marry old friend running hiding john decides give mallory divorce instead lay siege win back mallory tough woman though put john misery one way',\n",
       " 'good book cathy maxwell writes superb love story never boring recommended gave four star hea ending',\n",
       " 'ingenious plot sympathetic character falling love entertaining light read dash humor strong romance nicely woven plot good tension protagonist mallory john meet wedding day mallory sixteen john year older uncertain resentful parent arranged marriage john must marry mallory keep beloved castle john marries mallory duty want see lose home need please father man publicly claim john privately eschews really flesh blood day wedding john leaf join military determined forge destiny one dictated father year sends mallory fund uncle basically life life without laying eye wife return england sought lover quite man town mallory find john london mistress house le demanding divorce lost home creditor infuriated husband john astounded see mallory even surprised learn home deeply debt seems uncle siphoning fund even worse loan shark circling john know could go debtor prison find uncle conveniently skipped town wife mallory could suffer fate run john friend land job one family estate john become steward friend hunt uncle mallory agrees plan mostly feel choice want avoid prison first almost impossible like john selfish irresponsible mallory completely justified feeling time estate manager brings best character also insecurity john realizes self centered thoughtless mallory confronts lonely life take hard look reserved manner commoner john likable smooth smart best sincere feel something hold back mallory cautious abandoned one marriage also uncertain social situation lack john natural charm get beyond hindrance grows much confident woman understands husband heart open day sweet romance discovery lead discover much love also discover become better people',\n",
       " 'cathy never disappoint fan one first book missed malory year old john barron heir lord craige lost ancestral home father died without male heir john father inhere title property malory momwill keep castle rich viscountess according tradition couple consummate marriage morning show bed sheet blood stain proof malory virginity sick like give spoiler john tricked malory run away deserted responsibility sorry reader find reason enrolled army spite father know aillegitimate result mother indiscretion father know claim john son give credit man john came back army meet malory hilarious circumstance adventure couple journey love laugh laugh went bed like romance feel sad book recommendation read early weekend late sleep enjoy',\n",
       " 'mallory edward seventeen john barron year older parent arranged marriage met wedding day first time exchanged vow next morning left joining army seven year later mallory tossed home due payment wandering husband uncle stopped sending allotment fuming mallory come london confront husband demand divorce caring one iota proper behavior rip head front mistress john realizes screaming crone wife grab leaf mistress home mallory prof owns nothing fortune embezzled dallied together seek missing relative absconded money however fall love hiding commoner realizes wife intelligent beauty longer little girl married realizes husband intelligent hunk longer runaway boy married reader enjoy regency treasure metamorphosis lead couple deftly handled cathy maxwell john selfish boor mallory lack self esteem matures look inside dislike see begin gain confidence reader enjoy second chance marriage time protagonist fall love harriet klausner',\n",
       " 'star quality writing okay story okay female character call character horrid book know freckle brown hair ugly brown dress angry care happens male character better character',\n",
       " 'enjoyed story much story line easy follow author always draw reader allows reader experience many emotion main character story anyone enjoys intrigue suspense adventure romance ended story perfectly giving u glimpse future like',\n",
       " 'chicago five overly protective older brother italian parent driving lottie santori crazy leave breathing room female youngest enjoys opportunity escape constant vigil thus look forward town work trouble pennsylvania conduct site research serial killer owned seaton house though doubt find sexual relief small town seaton house lottie meet new owner simon lebeaux inherited old hotel late uncle immediately revise thought trouble mean abstinence however several accident occur including near fatal one someone want prevent lottie completing assignment simon think hotel haunted lottie belief mortal person want stopped sequel amusing contemporary come trouble delightful investigative romance lead couple explores haunting hotel heart story line contains plenty action lead couple keep focused entertaining know want sex lasting love know trouble enough tsuris without trouble novel leslie kelly keep audience late reading one sitting harriet klausner',\n",
       " 'simon lebeaux inherited seaton house uncle recuperating injury staying seemingly haunted house simon haunted memory one fateful night beautiful stranger simon stayed away woman past four month intends keep way one rainy night another beautiful stranger show door lottie santori trouble pennsylvania researching josef zangara psychology professor zangara made seaton house exclusive hotel nineteen thirty later convicted serial killer lottie overprotected five older brother relishing idea solving mystery two relaxing hopefully finding hot guy fool around arriving seaton house thunderstorm lottie meet simon fall instantly lust simon clearly want nothing lottie giving though plan discover mystery surrounding house simon trying seduce bed strange thing happening someone get simon going crazy leslie kelly written another hit asking trouble funny sexy sometimes spooky story blast read simon beginning haunted memory guilt ridden soul made want hold never let go lottie sweetheart beautiful witty fearless chemistry simon lottie simply sizzle asking trouble entertaining read come trouble first book series trouble nothing still come reader get plenty town trouble pennsylvania something scary passionate bound happen nannette reviewed joyfully reviewed',\n",
       " 'first real modern romance trapped regency england intimate scene stretched full twenty page chapter every freakin button erotic kelly helped see light without book think would branched found favorite author love kelly encourage everyone read book great um eye opening',\n",
       " 'pointed review alternating point view hero heroine written first person heroine section effect jarring really wanted skip whole chapter especially describing body hot centerfold worthy made lot le likable continuity issue chapter internal monologue includes mr lebeaux god even know first name page later portable lantern simon left half page later hoping simon would suddenly remember think well maybe know name next chapter asks name first name couple gaff one nearly made give book heroine go back forth contemplating many guy college saying thing like lot experience underneath hero first half book many page talking horny want tell get life read book series okay one even though premise good simon sympathetic enough overall clunker',\n",
       " 'like print edition printed like word document wanted want pay',\n",
       " 'thought would like line paper expected navigate well still like print version even must wait sometimes maybe old foggey e version',\n",
       " 'finally texas newspaper kindle format way go amazon',\n",
       " 'trying kindle newspaper one first grabbed interested state politics texas longhorn found decent read knowing front review none kindle newspaper seem like getting actual paper print guess mind pleasantly surprised got get looking seems decent amount state politics usually article longhorn got couple texas newspaper review yet unless get unexpected surprise one end subscribing longhorn nut like like suggest burnt orange nation blog kindle numerous daily blog many lengthy sent daily sometimes several time day kindle keep right top longhorn happening',\n",
       " 'going give four star newspaper subscription experience really better expectation low based old review look like everything worked sufficient graphic plenty good content bylines expect okay cartoon comic crossword would nice forgive omission fairness reading paper day maybe delivery problem future update review far good considering move austin expect learn lot area reading local paper really good small newspaper',\n",
       " 'say title new analog subscribed kindle loving idea kindle version expensive print version find curious preexisting view fair price magazine think per month instant delivery much pleasant reading format kindly versus paper pretty happy delight analog credit magazine kindle thoroughly loving',\n",
       " 'would really like subscribe perhaps like previous poster said world come pricing printed version subscribe printed version buck year come month come amazon get real cost buck issue bob',\n",
       " 'love analog science fiction fact remember reading kid recently introduced bought paper copy book million madison tn excited find could delivered automatically kindle every month subscribed immediately fiction always first rate fact article editorial always right money look forward receiving every month hurt save per month news stand price highly recommend analog science fiction fact anyone love genre',\n",
       " 'first really understand negative review getting magazine kindle also read magazine iphone hard copy magazine type font small folk easily increase font size kindle phone read magazine kindle found typo really understand gripe yeah little cheaper mail cancel kindle subscription month want kindle edition also available immediately seen news stand usually way behind nay sayers probably kindle would know joy simplicity entire library kindle phone work outside access magazine book time awesome okay back magazine simply fantastic also subscribe asimov fantasy science fiction magazine kindle format finally figured year best sf story short story format like find magazine simply amazing page something interesting head next story rare happen complaint great great magazine',\n",
       " 'like science fiction magazine keep real analog definitely magazine get refreshing entertaining informative try love',\n",
       " 'nice old stanby story still absorbing short enough read le hour variety good',\n",
       " 'joy available kindle much easier read enjoy pulp magazine material lively fresh one enjoys interesting mystery best mystery writer anywhere love',\n",
       " 'become big fan e magazine along hitchcock asimov analog mag ask better escapism kindle long que book read gathering dust due new fondness short fiction story go wrong price enjoy reading gripe able view cover color kindle guess need buy new kindle fire like mystery detective story etc enjoy eqmm nothing else try day free trial find',\n",
       " 'mystery thriller fan happy see magazine offered kindle live bermuda magazine available sale magazine sale double even triple u list price problem paying month magazine',\n",
       " 'mystery thriller fan great treat see ellery queen mystery magazine offered kindle kindle edition initial issue offered included short story including great lawrence block keller story new english translation wonderful japanese mystery set world japanese police also short review column mystery blog meaty interesting book review column issue rounded nice reproduction print edition cover two cute poem crime oriented course announcement magazine reader award end story one given option jump back table content select another story chose sail right read whole edition cover cover something never print edition reason guess seeing one nicely presented page time kindle versus seeing one big intimidating digest make difference u reader battle occasional lazy streak likely check one two dell magazine offered kindle nice diversion regular reading kindle novel news blog enjoy piece short fiction every day made first issue last two week whatever dell title end trying ellery queen mystery magazine likely one ongoing regular visitor kindle month note amazon frequently update presentation functionality kindle blog periodical review get older may longer accurately describe current version product',\n",
       " 'read ellery queen alfred hitchcock magazine greatly prefer former consistently strong entry clark howard doug allyn short story powerhouse really make magazine pleasure travel business short story perfect entertainment well written enough really hold interest short enough complete shorter period time available reading particularly love publication available kindle fantastic',\n",
       " 'downloaded eqmm yesterday keep reading even though ton book waiting read love story happy pay day free trial end ellery queen mystery magazineafter reading lot book kindle nice settle quick mystery cup tea',\n",
       " 'magazine gave st introduction genre story figured better read magazine dedicated mystery suspense get st taste spend eight ten dollar book may may end liking disappointed story read st rate moved along good pace rather book read get bogged detail seems like take forever author finally get around revealing plot story like mystery suspense fiction would recommend magazine like stranger genre want get foot wet see whether cup tea also recommend magazine',\n",
       " 'try reuters international per month leave liberal opinion page drama seeker pay left wing political opnion page news',\n",
       " 'relied bbc many year international news coverage however longed depth coverage represented excellent newspaper live rural area newspaper prohibitively expensive untimely international herald tribune solves problem well selected news well written editorial',\n",
       " 'cannot imagine life without iht sorry word needed repeat cannot imagine life without iht',\n",
       " 'favorite anytime overseas particularly read editorial publisher key country point view particularly commenting united state',\n",
       " 'since offered kindle purchased one two issue international herald tribune good paper broad international perspective aware mainly compilation newspaper pull story feature world prominent newspaper news source including many may already subscribe kindle already get item like new york time latest news blog dollar month wire service news blog mind slight redundancy article go like handful kindle newspaper experienced kindle edition international herald tribune laid well easy navigate feature generous allotment photograph tempted buy often maybe even subscribe subscription single issue price bit lower course issue everyone note amazon frequently update presentation functionality kindle blog periodical review get older may longer accurately describe current version product',\n",
       " 'used go europe would seek copy international herald tribune every morning usually read cover cover simply superior newspaper covering usa news world news business sport etc coming back home would actually feel sense loss read local paper thrilled kindle edition international herald tribune came immediately subscribed iht good ever excellent well written article depth analysis world event advice try trial subscription two week bet end cancelling time etc go international herald tribune',\n",
       " 'extremely nice able still keep happening world stage new home overseas discovering amazon com finally able quit trying find english written book daily newspaper delivered every morning new kindle international new york time previously international herald give give extremely broad well written picture happenig world particularly asia receive asia edition',\n",
       " 'great read beginning end character come alive reader wait read rest westmoreland series',\n",
       " 'love brenda jackson great story say story story got better better great get know character feel like part family great buy recommend adult grab copy get started',\n",
       " 'like series one yet read buy last book order think go second set book anyway looking light romance reading little drama happy ending one series kind reminded romance novel early',\n",
       " 'love series westmoreland beautiful family westmoreland story romantic selfless family oriented full love love brenda jackson love story call equally family bond get little repetitive wording love making scene would still give star story writing love take romance however editing five book set awful need use better editor',\n",
       " 'loved every novel series delaney desert sheikh favorite knowing something middle eastern culture since realize fairy tale even adult enjoy sexy good fairy tale westmoreland men alpha much fun watch fall want sexy read highly recommend novel',\n",
       " 'read four six book complaint love love love love sappy love story brenda jackson capture interest every time like way set story line person looking love help fall love story truly love like every character relate type way also love series family friend keep good work',\n",
       " 'usually like read book one history follows leaf hanging story bring back old character nice meet old character book stand nice',\n",
       " 'love anything brenda jackson writes book different compilation thing westmoreland hog heaven',\n",
       " 'collection let get started westmoreland series little remember book hanging around first brenda jackson book one taylor dominick enjoyed going decade back time read family loved first book series price well worth opinion',\n",
       " 'loved series seeing story family member together convenient best',\n",
       " 'recommend rating book bomb better could write write every one family think young girl man left dry come another scenario really captivating book good put finish reading yet recommend anyway age young middle age older something u',\n",
       " 'series love expected mr jackson never disappoints fan long time recommend series',\n",
       " 'love westmoreland men handsome sexy make hot keep reading book',\n",
       " 'volume contains six booksdelaney desert sheikh delaney little dare dare thorn challenge thorn stone cold surrender stone riding storm storm seduction westmoreland style casey well written romance make root character adult steamy sexy scene must read',\n",
       " 'read mr jackson book love westmoreland men awesome got book',\n",
       " 'love series wait read others family wedding coordinator retainer seem get married every month lol',\n",
       " 'love brenda jackson book glad picked start westmoreland family book read great collection strong men even stronger woman',\n",
       " 'always enjoy great romance novel brenda jackson never fails deliver brings right amount spice book keep wanting read cant wait get started next one',\n",
       " 'since read almost francis ray book brenda seems excellent writer truly enjoyed reading book think next author',\n",
       " 'read author book simply love love love westmoreland family series wonderful heroine hero love westmoreland men westmoreland woman right riveting character although extremely manly womanly fear expressing feeling emotion always expressed matter situation whatever emotion consistently pour love love love westmoreland clan keep em coming brenda love one favorite author',\n",
       " 'book first set westmoreland story hardback wanted also tablet easie store tablet even though collecting book hardback great read never read brenda jackson book',\n",
       " 'love brenda jackson best ever like way come together big happy family westmoreland',\n",
       " 'love bella andre cannot wait sullivan promised summer would continue series read twice read sullivan men handsome regal gentleman woman love believe really man like rich yet honorable sexy understanding actually feel loved one going make wrong always strives make right wonderul course sex scene amazing yet believable m andre waiting wonderful talented imagination put print',\n",
       " 'wine romance perfect combo bella andre delivers story three friend escaping daily life city indulging weekend getaway three men know break wall around heart struggle new found love men know wine country disastrous relationship make second guess three napa men prove second chance nothing afraid',\n",
       " 'book good read price avid reader read lot book bella andre however way anyone pay price paperback page recently released book expensive well believe tremendous number great writer equal better cost',\n",
       " 'tempt next day dumping seemingly perfect boyfriend carrie friend take trip napa valley ex seemed perfect moment proposed closer get wine country carrie realizes close came making huge mistake carrie meet tyson handsome winemaker see perfect really taste full figured rose know feel like dumped trip napa valley boyfriend dump much thinner woman arrives hotel surprised win weekend cooking lesson delectable chef jack gerard jack find rose voluptuous curve delicious touch vanessa know want know get see painting desire stop nothing get mean taking gorgeous sexy artist struggling show immunity wile tempt taste touch bella andre collection three erotically charged novella leave panting devoured three course evening fell asleep satisfied smile face loved three favorite taste fan rubenesque heroine adore men love touch taste touch bella andre delivers three erotic novella appeal romantic u annmariereviewed joyfully reviewed',\n",
       " 'story could expanded stand alone novel character unique likeable steamy romance humor drama winning trifecta',\n",
       " 'book great loved read every book bella andre written book friend find love able put',\n",
       " 'loved book great romance great charcters must read bella andre book great',\n",
       " 'love belle andre let start saying truly truly enjoy reading belle andre book yet one fell short usually sit pot coffee saturday sunday morning soaking romance drip page sunday evening sorry read fast want story make sense really hard time getting character steamy usually belle andre love story steam bonus one much',\n",
       " 'even though recently found m andre writer erotica erotic absolutely love book one exception enjoyed premise three friend weekend wine country ca description vineyard town made want visit area character book devoted story within book good different loved first two character first second part carrie rose absolutely fell love chef reason one gee cook rose story believable though really care believable vanessa least favorite character matter fact really care end changed mind however vanessa weekend far one erotic story ever read word scenario feeling portrayed beautiful one point tear running cheek writing poignant wow keeper read want entertained day getaway',\n",
       " 'tempt carrie reject wealthy james proposal marriage instead go wine country best friend rose vanessa napa meet winemaker tyson delight shock want join cave taste though dumping elliot monster truck rally rose feel good voluptuous build relaxes napa valley hotel spa win grand prize private cooking session renowned chef jack food crave meet touch vanessa see painting want buy sam artist refuse give money instead demand much know instantly must paint asks three day paint portrait return painting hide know found lifetime muse even denies love exists three day persuade otherwise three terrific erotic romance starring full blooded well male many scene blood rushing lower head character turn bella delightful compilation harriet klausner',\n",
       " 'another amazing book belle andre read book need read review everything writes amazing great story hot steamy always favorite author keep coming',\n",
       " 'bella andre share amazing trio story three best friend surrender love weekend trip napa valley wine country story individual character yet story spoke need love designed satisfy individual heart desire carrie tyson rose jack vanessa sam read book determine come closet resembling story one long hmm good',\n",
       " 'want put love going right next sequel keeping eye work',\n",
       " 'purchase book bundle however read start could put book till end kava gifted writer awesome imagination cornwell patterson reich etc fan instantly addicted enjoy',\n",
       " 'started order written matter choice one better one like divulge much info spoil read sometimes brief description give enough go whether want read book really page turner thought knew wrong really enjoyed look forward',\n",
       " 'great value money fan author got kindle one first purchase read book collection year ago way got read didnt cost fortune',\n",
       " 'finished reading kava book good book critic say entire lot book entertaining held interest anytime pick book read instead something else free time saying something kava garnder gerritssen gagnon list great read anyone enjoys type story bundle provieds ability acquire six book good price',\n",
       " 'thoroughly enjoyed first five maggie dell novel bonus novel bundled good think future buy bundled novel advantage x ray kindle really like anyone like murder mystery read alex kava strongly recommend',\n",
       " 'great story author really good first time reading wait pick storyline next mckettrick',\n",
       " 'reading way series good others price made even better',\n",
       " 'modern western romance best poignant story great price jesse keegan rance three story great character come alive',\n",
       " 'know many time read one thing certain author could write phone book would runaway best seller started reading mckettricks saga starting angus mckettrich loved writing excellent character described depth author able describe character reason three part series starting rance mckettrick pride jesse mckettrick luck finally keegan mckettrick heart keegan character grip heart pain becomes pain joy finally find becomes joy enjoyed getting know reason keegan stayed heart',\n",
       " 'awesome trio book love cc cowboy modern day err romance definitely enjoy story',\n",
       " 'dislike book ended soon linda lael miller know keep interested love author',\n",
       " 'would prefer image ad price difference brainer going cancel print subscription save tree give nation difference donation',\n",
       " 'like nation magazine zoomed much could type tiny readable great difficulty reading small type make eye ache give headache viable option reading kindle glad purchased one issue rather subscribing intended others might difficulty work',\n",
       " 'fan nation many year thrilled able digital subscription',\n",
       " 'really good liberal progressive publication available kindle anywhere matter subscribe support two political kindle periodical nation dailykos right wing fare go read free online nation issue well organized sometimes thematically linked article well written ample depth find learning global issue normally even touched usual lowest common denominator fare tv happening art science also covered nation come week find good rate publication magazine type get breathless breaking news type reporting la wolf blitzer nation find refreshing issue current usually considerable importance editor time editor writer time homework measured intelligent approach world gotten used cable news screaming head blog find nation left wing contrary find balance perspective left mostly left center center right importantly screaming extremist portion well articulated viewpoint occasional intelligent debate like see tone general discourse nation work great kindle find easy get around issue far encountered typo either appreciate work go issue',\n",
       " 'casual reader opinionated content spend hour getting new perspective expensive subscription entertainng',\n",
       " 'tall chief begin wonderful book morgan tallchief ex army haired time life colorado way one find enter high school love find along daughter loved character well developed great story line get reading',\n",
       " 'book become number two bible list favorite want end reason repeat review written advise read romantic book',\n",
       " 'always sharon sala come away another amazing story thanks another great read keep getting better better',\n",
       " 'strong loyal brave describes morgan tallchief also describes kathleen girl believed killed explosion year ago shock show house year old daughter look like eye believable character well developed story secret two',\n",
       " 'whether writing dinah mccall sharon sala author never fails deliver well crafted story enjoy story realistic people fast paced intense love story drama',\n",
       " 'oh hate round neither way fit romance angst relationship story incredible heart wrenching tear jerking sigh worthy wonderfulness suspense little tiny itty bit flat',\n",
       " 'new kindle user downloaded first issue reader digest simply delighted read cover cover day time never done hard copy magazine love ad found easy navigate article feature thanks kindle reader digest month later updating still love magazine kindle format seen people complain getting back issue trouble week returned went manage kindle amazon arrow could select issue wanted download selected read voila kindle read problem enjoy magazine',\n",
       " 'read reader digest year love thought getting kindle would great much compare kindle version plain white rice full course meal hardly anything liked think table content laid differently like listed main component click click find want read would much better show main catagory physically print subtitle underneath link way could actually quickly see article like read thought content poor best seemed like much magazine short article interestng article loss picture content short anedotes story left feeling disappointed think reader digest need much better especially since lot magazine going business due evolution internet application ereaders think like e version absence pesky ad glad bought single current issue come rd much better',\n",
       " 'well old enough remember reader digest advertising began accepting ad quit buying reader digest seemed contain nothing advertising difficult find article kindle edition reader digest solves problem nicely ad article regular feature',\n",
       " 'always like reader digest good blend writing humor drama subscribed print version number time year actual content quality always remained consistently high publication seem print version become overloaded ad le problem annoying cardboard insert tear ad make thing physically difficult read kindle version much improved experience print version high quality writing course bonus linked navigation make really easy find article mood given moment',\n",
       " 'enjoyed reader digest much could figure get kinkle would',\n",
       " 'best reader digest read far like',\n",
       " 'magazine around year read cool new chic kindle nice pesky ad way go amazon reader digest thank highly recommended',\n",
       " 'subscribed reader digest kindle turn wireless st th month therefore receive first issue canceled subscription noting reason receive first issue due fact know wireless first day month fault reading info subscription anyway couple day later received refund credit card without even requesting subscribed reader digest set cell phone calendar alarm remind turn wireless kindle first day month get copy got copy month hope give enough information want subscribe sure subscribing happy reading',\n",
       " 'say subscribed yet picked occasional issue reader digest kindle good mix light feature piece entertaining profile actor pierce brosnan good read long detailed investigative article good one airline industry issue also get actual captioned cartoon rarity kindle fun element also get another bonus one criticism kindle blog magazine visual sameness new york time look like newsweek look like philadelphia inquirer etc reader digest kindle look like well reader digest get sharp catchy graphic print edition headline sub headline story often embedded within main photo like regular magazine piece visual flair like cartoon mentioned earlier carried magazine guess small point content really important thing nice seeing kindle magazine look truly different kindle magazine luck beginning trend yeah give issue shot even usually read weightier fare kindle may find content visual flair reader digest kindle occasional refreshing change note amazon frequently update presentation functionality kindle blog periodical review get older may longer accurately describe current version product',\n",
       " 'new york time latest news great buy get updated day virtually morning evening edition news obviously abbreviated version newspaper include section newspaper like science time art leisure etc however detailed analysis reporting day main headline table content run page news article run page kindle making quick satisfying read time inclination read entire newspaper new york time latest news sweet price month one deal get pay',\n",
       " 'subscribed new york time latest news blog since shortly purchased kindle version blog come gone kindle nyt ln constant indeed combined ap u news blog finding little justification keep daily print newspaper fort worth star telegram every morning open star telegram find already read virtually every news story section national international news previous day evening since star telegram like many newspaper print ap nyt article local news comic classified ad desire see local newspaper continue exist would cancel print paper brief time also subscribed via kindle actual new york time quickly cancelled found read main story recommend subscribing ap u news new york time latest news blog two excellent domestic international news coverage four buck month',\n",
       " 'since nyt began paid service view article online rarely clip article view later save message appears article longer available guess nyt amazon want pay month full subscription cancelling blog',\n",
       " 'thethe new york timesis considered one ntion finest paper although stated leftist bias negates value paper however bigger problem paper size cost youth used read half week day edition four five hour want estimate long would take read sunday edition older family career life way could devote much life reading paper addition cost buying time high even kindle time taken interesting approach kindle addition making full paper available also made sub section paper available kindle blog much cheaper price blog best selling nyt blog may interested one nyt blog listed amazon listomania list include address amazon blocked go profile list latest news blog blog updated several time day latest article time aticles hard news however occassional sport lifestyle article also appear well ocassional analysis article analysis article little opportunity leftist bias article unlike current newspaper article time tend longer background context two downside blog first new york time new york paper news article new york news many live florida may wish skip article second transient nsture kindle blog see article want read later turn wireless read article otherwise may loose article next update also occassionally lost sync amazon server subscription update restart kindle take minute give subscription kick pant start updating looking current news blog found',\n",
       " 'enjoy wall street journal daily publication wanted date news break ny time blog solves issue pump news story kindle every hour story appear comprehensive well written word long approximately headline active time ny time newspaper regarding content amount getting thousand word date info effortlessly every hour well worth monthly story timely even ny time subscription newspaper used experimental web feature kindle secure news story work also cumbersome slower take click wheel neat tidy active headline pushed device trial subscription reuters headline found far inferior ny time headline content photo navigability writing quality try time reuters difference stun ny time blog even photo almost every article good quality easy navigate read highly recommended',\n",
       " 'great addition kindle imagine anyone cancelling new york time latest news giving try story varied depth well written update several time day allowing subscriber track latest development big news story given period presentation article kindle clean organized pleasing eye article contain photograph look fine kindle new article arrive old one drop mus fuss constantly using blog imagine helpful subscription summer trip shore mountain away television computer benefit economical price new york time latest news easy buying decision likely find note amazon frequently update presentation functionality kindle blog periodical review get older may longer accurately describe current version product',\n",
       " 'first book read tonya ramagos really loved heat character sex good character interesting little something badge bunny loved seeing fireman hero great book even better start series',\n",
       " 'dean wolcott never gotten one got away since young hell raiser fascinated veronica abbott always knew would never considered beneath wealthy status class grew anyone dated contrasted dream everyone paled comparison dean grown leaving bad boy image behind find moving back town veronica moving back childhood hometown break hold family life start also want locale one knew husband died line duty goal open new business find someone string hot affair saw fire department captain none childhood crush dean set seduce moderately entertaining read found character veronica shallow irritating understand need person wanted different thing life dean wanted instant gratification interest long term time dean tried serious discussion would distract sex thing important wanted',\n",
       " 'first book hero silver spring totally loved book put started loved two people came back together year apart must admit made think guy crushing high school wondering thought lol loved veronica become woman decided want feel like instead others expect want loved able knock dean balance beginning really enjoyed watching two people learn fall love think going great series read know rest series good one treat',\n",
       " 'fire captain dean wolcott dreaming since young adult blonde hair figure die haunt dream invades waking moment yearns make love life mother child find moving back town heart jump joy knowing probably even look man like veronica abbott get parent control even though married widowed moving back hometown decides open romance shop taking basket local fire department thank saving childhood home burning veronica walk locker room come face face dean wolcott object secret teenage crush veronica proceeds show much missed attracted dean want veronica every ounce want part time lover want love life forever promise give time unsure girl like ever love caught guard naughty look two people whose childhood crush still alive strong year later fell love dean completely absolutely intention loving honorable found wincing veronica mannerism blatant sexuality realizing wanted finally free controlled could see coming caught guard tonya ramagos delightful read liked plot love true love prevails taliareviewed joyfully reviewed',\n",
       " 'first story series robert st clare given gift slave girl two week visiting brought first night find english girl know father sex sex every night watched peep hole want take home hard talk make plan everyone listening get leave together sure first happen brief seperation hea happen story man telling met wife enjoyable series one like like sex story certainly find',\n",
       " 'inside one london exclusive club several gentleman gather month visit one another diversion jonas maxim suggests reveal daring sexual exploit men sex one favorite subject earl grayson request opportunity first share tale robert st claire earl grayson stunned sultan gift beautiful slave see carnal need visit exactly comfortable unorthadox practice complicate matter robert learns woman meant pleasure ordinary slave girl english daughter friend chance freeing avail many charm pray sultan allow take time come leave lady celia davenport belle london society abducted sold slavery expected pleasure guest sultan overwhelming gentle breeding discovers man service english know father great relief smidgen hope able return home submissive robert desire plea otherwise may lost harem rest life night celia brought robert room share bed indulge growing passion neither able speak freely watched carefully constructed peep hole wall manner sultan assured indeed guest pleased generosity please immediately punished replaced fortunately robert skilled lover go way ensure celia enjoys session much first night together sultan gift celia four perfect pearl one time esteemed guest found satisfaction inside body two week robert guest feeling celia grow worry future able successfully rescue lifetime slavery harem going explain father emma wilde brother absinthe club series brilliant start gem tale arabian pearl satisfies wicked fantasy many woman kidnaped thrust life harem girl still retaining sense independence hope freedom love celia change throughout storyline go shy virgin self confident young woman rejoices sexuality robert blatant adoration celia really endears arabian pearl captured interest first page held enthralled right end wait delve rest group story chrissy dionne courtesy romance junky',\n",
       " 'upset read series order book best novella series sex scene hot adored robert celia great match think though novella could full length novel plot unique nevertheless satisfying read even wasnt much mystery one adventure truly enjoyed',\n",
       " 'loveddddddddd amazing something new read book starting read author love writing style would recommend way loved ending reunited father office sighing',\n",
       " 'arabian fantasy slavegirl trained seduce submit taste much sex erotic kind mechanical',\n",
       " 'classic never go style sherlock watson exception story fresh today read child',\n",
       " 'volume sherlock holmes series absolutely great introducing great detective sherlock home companion dr watson accompanied holmes many adventure volume includes different type mystery like murder crime blackmail bloodthirsty mystery thrilling read recommend anyone love mystery book definitely make want buy well worth time',\n",
       " 'really enough superlative time describe wonderful series height english fiction power plot excellence still fresh day read every available tale time read future',\n",
       " 'adventure thrill action great detection better sherlock holmes love collection much read time far',\n",
       " 'authorized volume set joined one fabulous ebook random house bantam contains sherlock holmes novel collection sherlock holmes short story including story case book sherlock holmes frequently omitted called complete set set truly complete everything sir arthur conan doyle ever wrote sherlock holmes novel short story informative introduction loren estleman added bonus though appears twice ebook version start volume originally published paperback bantam ebook edition well formatted comfortable read active toc short story presented proper order even accurately depicts graphic representation dancing men unlike many version substitute word graphic drawing undoubtedly best sherlock holmes collection currently available kindle store non holmes set tale mystery terror sometimes added incomplete holmes set boost story total need complete sherlock holmes set want tale mystery terror easily obtained separately public domain freebie kindle store love reading beloved classic sherlock holmes mystery ebook edition purchase paying bantam quality rather going incomplete unauthorized name ebook bundler good deal addendum since written maplewood book come updated truly complete edition price bantam version sherlock holmes ultimate collection cost one may wish compare',\n",
       " 'ok know free complain sometimes help make bad person honest one first ok bad signed real blog discovered yes bad getting worse waste time read cooking utensil something never cook designer clothes never able afford occasionally info book certainly find seriously kitchen utensil celebrity wore concert korean cooking quite frequently blogged thing miss canceling subscription hey dawnbee get pay',\n",
       " 'enjoyed blog lot kindle really nice mix stuff better say kind interesting musing kind thing book technology posting well written expect amazon entry right length enjoyable read addicted engadget pretty much see tech event happen almost real time amazon reporting event hour behind barely behind couple strange thing work well formatting odd best lot hyperlink blog unfortunately kindle get underlined little character behing space super strange read annoying little character course open hyperlink clicking kind pain image always work best ok sometimes picture important video posted occaisonally well sure doens work biggest complaint happen read blog day old posting disappear way go reload thursday forgetten bothered read monday tuesday wednesday posting certainly monday material tuesday shot article two thursday entry small wednesday much fun able read old post oh feed iphone blog free well anybody really complain almost daily reader apparently blog somewhere amazon best effort search could find way could get use google search term amazon daily sad go way find nice blog think type amazon dot com slash gp slash daily',\n",
       " 'like article whish would open content listno button cancel subscription',\n",
       " 'took advantage freeamazon dailyblog right received kindle seen evolve time generally speaking better perfect like often random yet usually informative content range article wide much like thumbing magazine sunday newspaper supplement something anyone kindle blog widely spaced covering book music recent topic jim henson lost project found new year alex carr author spotlight antoine wilson interloper kindle editor nifty tip los angeles time food section melissa trainer original mach speed racer mach gogogo car guy th golden globe went editor total reader immersion writing evocative description susan j morrisand one really caught eye offer enter amazon com book gift card sweepstakes one could visit amazon facebook page chance win one explained would randomly select one lucky winner january th one might guess amazon daily reader jumped one reader seen item amazon daily blog might missed good thing subscriber aware trying subscribe via ipad iphone blackberry computer work according amazon please note blog others currently available following device kindle kindle touch kindle keyboard kindle dx kindle nd generation kindle st generation time posting yet available kindle fire find strange speaking kindle book also subscribe tofree kindle book plus tipsfrom michael gallagher paid subscription buck month one proven invaluable resource peruse title free book offering let anyone kid freebie often surprise quality content back amazon daily blog comment cool catchy minor marvelous feature best retailer updated wirelessly throughout day weekend meal latest hi tech toy daily blog cover offering amazon com colossal catalog item book gadget food quirky eclectic subject cover wide range topic interested music kindle offering film video latest best selling book quite lot plow interest diverse want get one read leisure cost real kindle freebie try see think',\n",
       " 'imagine kindle owner signing freebie info source get light fast news item quickie feature piece meaty author interview goofy picture lava lamp trendy adult beverage fun stuff even rhapsodic essay failed discontinued automobile like gremlin pacer inexplicably regular feature growing even bought kindle read e book get news feature like everything kindle offer sign free blog generously offered amazon power least enjoy many book suggestion amazon daily send way note amazon frequently update presentation functionality kindle blog periodical review get older may longer accurately describe current version product',\n",
       " 'one cent per month ok bit glad updated several time day whenever feel like blogging wide variety subject day article early car influenced later model etc thought grammy award recipe new device book review previously would turn whispernet whatever called morning receiving newspaper tend leave day enjoy skip case may new amazon blog five star due presence many article link click computer since kindle follow link bit intrusive time update free heck',\n",
       " 'whoever wrote synopsis story read trying drive away sweetness really sweet though apparently sweet casually give away virginity give credit smart enough mention get away real point telling know reader felt remained virgin time period unfortunately girl talked wrong guy throughout history nothing new front anyway still pretty good story',\n",
       " 'really enjoyed scottish historical romance think one first read set mid nineteenth century character leaving country look forward reading author would definitely recommend others',\n",
       " 'good highland series book enjoyed much also fun read',\n",
       " 'noticed many romance title featured scotland skirt men bagpipe haggis story transport another world people feel like repeat story tell sense satisfaction happiness reading skillfully written tale high recommended',\n",
       " 'good story unexpected twist really made pleasure read satisfied book ending great',\n",
       " 'know cover bit taste book started good got bored finished mary',\n",
       " 'premise tried true totally different twist twin story usually predictable get expect stealing sophie every page venture another possibility writer know grasp reader dissapoint look forward reading author work',\n",
       " 'enjoyed reading book robert vaughan list must read author lot action well written',\n",
       " 'get one much protagonist far wondering would done get fist fight course gun always answer',\n",
       " 'admit western pianist gunfighter interest much read author would highly recommend good read enjoy',\n",
       " 'really enjoy character hawke created author expects piano player bar gunfighter fast lightning series enjoyable say least vaughan writes good story',\n",
       " 'read hawke series wish hopefully mr vaughan write',\n",
       " 'good book glad bought keep interested way thru book hard time putting enjoy reading western know like book author another one called vendetta trail plan reading next',\n",
       " 'vaughan written great story sheep cattle open range problem come gready cow rancher wanting sheep range series hawke great read',\n",
       " 'war might deciding right another fast moving western vaughan hold interest first page buy one',\n",
       " 'mr vaughan always good read story tight plot may good old standard well done last showdown little fast rough well tested men went like duck fair hard believe could guessed someone would blast bad guy trying kill hero thing missing riding sunset',\n",
       " 'another fantastic emerging story one best author around find put start draw world dragon fighting rider miss series',\n",
       " 'bought lark one day expecting much oh wrong bought every book available day anxiously awaiting new one released read write response post author blog wrote showing horrible review book got well felt let know one happy customer bought series went purchase brotherhood blood vampire tale book along tale ware also love rarely write review ask book book people reading sure one happy writing m arc already next two book dragon knight series pre order keep checking website update next tale ware coming thank',\n",
       " 'finish sure great erotic novel guess expecting sort plot',\n",
       " 'belora life mother isolated forest set magical andenchanted world although raised delightful story ofdragons bonded knight belora never met dragonfirsthand noble dragon kelvan inadvertently enters herlife belora future take sharp turn belora ability communicate dragon kelvanrecognizes special woman believing shecould well mate one powerful knight kelvansnatches take meet knight gareth gareth strong noble resides border lair theother fighting dragon warrior knight fightingagainst evil land kelvan partner longwhile upon meeting belora gareth feel instant attraction notesthat mutual shortage wife knight life border lair far cry belief belorawas raised gareth hope belora able accept thetraditions lair recognizes gareth mate maiden flight fantasy dash drama lot heat completely fascinated way expected wascaptivated contradiction almost childlike innocenceof dialogue love scene packed steamy sexuality inone paragraph would pure syrupy word next dbe reading scorching eacute nage scene would blow boot every character extremely likable although seemed almost tooperfect flaw make human thoroughly enjoyedthe journey reading maiden flight loved bonding thedragons knight family definitely lookingforward sequel m arc may later offer joliereviewed joyfully reviewed',\n",
       " 'little apprehensive book read summary get try happy enjoyed character amount love story definitely interesting steamy different read liked',\n",
       " 'interaction main character really mind blowing way new character brought story line caught surprise wait read book',\n",
       " 'insta lust someone whose face seen even spoken word absolutely ridiculous nothing sexy scene horribly unbelievable seriously girl multiple orgasm literally back back first time',\n",
       " 'would think dragon would bond closely knight merged mind body really enjoy wonderful episode',\n",
       " 'bianca never disappoints always writes lovely story strong believable character believe never read dragon knight series',\n",
       " 'bianca arc ability make feel character feel make see see make want want enjoyed thrill maiden flight wait continue journey future story dragon knight',\n",
       " 'drag rating higher star acknowledge despite love dragon erotica might best reader book one book everyone always spouting wonderful affirmation bad thing never really happen despite storyline like stuck church van full kumbaya singing mormon want help see wonderful really feel good factor start chafe think plot encompasses whole series book novella obvious war brewing royal progeny going spring somewhere ect however really seemed single plot contained within book lot lot sex unfortunately even think sex particularly hot lacked detail lot example h h never even changed position plus everything move exceedingly fast insta lust even fast enough describe within course one brief conversation h h met fell love dispensed virginity within two day asked marry introduced third party h mix convinced comfortable voyeuristic knight within day rolling double penetration draconic aphrodisiac apparently learned multiple orgasm drop freakin hat little play know erotica know suspend disbelief know fantasy good fun seriously could make believe anything could move quickly like h h h probably like mother jarred liked dragon liked interesting wyre life sorry lair life idea two men per woman interesting one though male pairing would seem easier think first review point either aspect care h though h might point even important enough name book description imagine much effect book despite liking many disparate part book like book whole others say cared much',\n",
       " 'love book read hour already started next one book want give anything away must read waiting get',\n",
       " 'first introduction author brotherhood blood novel absolutely remarkable think thing turned reader type erotica book unexpected threesome often writing monogamist relationship open mind truly get everything work think novel also need healthy dose imagination read work open mind definitely read book imagination one met book like exception',\n",
       " 'bad enough save story love almost erotica romance dragon dragon giving uh gulp oral sex little yuck thought might dragon shape shifter gave star instead balance star review two people suspect get paid review book',\n",
       " 'story poacher named belora shoot deer meet dragon knight protect land gareth knight lars take beginning novella reading story wait find character story book read bianca arc let',\n",
       " 'reviewer slammed book enjoyed best series would still recommend reading',\n",
       " 'enjoyed book character gave star instead feel author could backed little erotica story line good one need developed review complaining link rider dragon sex anyone read dragonriders pern series would know already established dragon fantasy lore however pern series play sexual side relationship maiden flight face erotica agree need warning adult dragon fantasy novel young adult series great promise hoping next book go story line little sex thrown',\n",
       " 'love series get enough highly recommend series anyone enjoys fantasy sex combined',\n",
       " 'absolutely loved story started reading put read one sitting loved character way thing worked relationship flow fairly realistically everything involved way went believable loved action story way thing flowed story bore wait read series',\n",
       " 'preferred story nice moderately robust plot book arc promised paranormal fantasy well erotica romance great del lust frequent close encounter action start early book slightly disappointed felt lead would tied story together neatly stick storyline new inception interesting appreciate emotion action often connected erotica enjoy new offering eacute nage male female male variety present well traditional one one author even includes non human character',\n",
       " 'magical mystical sensual enjoyable definitely sex story brings clear plot well thought world hero heroine pleasure interacting perhaps say hero heroine dragon certainly major player plot story never inter specie hanky panky occurring plot outline world dragon rider connected dragon rider able share feeling including sexual urge desire occur dragon coupling mate course feeling intense course last long time dragon may able keep check long time let loose one apparently ready almost anything shared feeling lack available female lead openness within community around sex voyeurism involved interaction may entirely behind closed door especially wedding lack female also lead accepted practice knight sharing mate case particular story sexual interaction gareth belara belara mother brought back lair quickly change lars added mix attempt made slowly introduce reader multiple partner sexual exploit situation bring truly lot lot sex many different way shape form outside sex plot continue epic battle scene described belara mother encounter healing power dragon battle belara find dragon healing power cement place within community brief note especially happy ending story happily set lead directly new book continuation story although labeled part series front cover list story dragon knight leading believe encounter dragon community particular character bad thing nice combination fantasy sex book nice one pick lose enjoy originally posted la erotic review',\n",
       " 'reviewed ann posted cover book blogbianca arc take reader alternate world dragon exist unique world dragon bounded knight way make experience feeling bolera fair maiden go hunt stag food family come across huge dragon named kelvan try steal latest game argue made kill decide see sir gareth dragon knight settle matter bolera sir gareth experience instant attraction one another sometimes felt dialogue character tad bit cheesy book fairy tale feel romance bloom soon gareth wish make bolera eternity mating ritual dragon knight different going book knew would eacute nage first half book three major character bolera sir gareth kelvan dragon second thought going sex dragon fear none book lars enters lars knight bounded kelvan new mate since dragon knight connected visceral level knight find mate dragon able mate well since gareth found new wife bolera kelvan find mate kelvan new dragon mate also knight lars lars feel erotic pull bound dragon soon resist urge either essentially bound go right bolera sir gareth lars mated still connected newly mated dragon well together make family complicated first story unique take dragon think read dragon book deliciously intricate also great introduction next book series feature bolera mother adora despite initial hesitation series think enjoy world enough read arc provided publisher',\n",
       " 'one steamy erotic fantasy belora find one two hot lover hunt interrupted dragon one day life never scene tasteful even threesome theme sensual enjoyed actual story behind romance would read author',\n",
       " 'put book story addictive captivating easy lose romantic fantasy',\n",
       " 'thank god free terrible heroine meet hero second later declaring feeling sex course virgin decide go back dragon lair heroine mother perfectly ok mother perfectly okay get lair weird rule marry two men man fall love next day mom okay bc mama dragon told way thing boring f sex intertwined dragon course also rather boring hated',\n",
       " 'good story line like dragonriders theme definatly erotic book pretty kinky stuff thinking checking book series',\n",
       " 'lot bianca arc since found first paperback book exchange store lord hooked book read whole series liked one equally love knowing character former book read life supporting character previous book would highly recommend reading series',\n",
       " 'strange world full strange creature knight beautiful maiden magical aspect healing nice touch',\n",
       " 'dragon healer came amazon recommended novella prequel dragon knight series world knight ride dragon slay setting midieval sex hot story intresting entertaining enough picked book maiden flight intrduces new knight dragon lair sex hot nice progression story line read one first',\n",
       " 'within minute meeting two main character sex graphically get worse plot could good turned porno naive young woman meet dashing knight ride dragon woman unique ability speak dragon join companion new base operation main character happen married within week meeting numerous sexual encounter new husband dragon new husband narration document continual mating dragon human book appropriate teen would recommend squeamish adult stay away well',\n",
       " 'stumbled series accident looked like good series bought first three book series finished reading maiden flight took five hour loved wait next book',\n",
       " 'im shocked see review series absolutley loved whole series reread several time cause found missing character guess sereis always one favorite',\n",
       " 'enjoyed several m arc book decided try series definitely enjoying idea dragon mating tied knight finding mate great idea world building great including idea dragon society human dragon work together successfully peacefully exist wonderful think meet sex aspect little rushed since short read different society author explained love first sight thing okay liked action eagerly rushing read next book border lair like fact sub story book published yet guess patient',\n",
       " 'say id never read biance arc book recommended im glad brilliant story character fall love first book series reading book went bought rest book',\n",
       " 'story wild ride really enjoy fun issue sex book cause full',\n",
       " 'wow dragon knight mistress oh smile loved great blend character story line fun reading bit sassy girl meet dragon knight one day swept foot loved action fast paced sex hot element pleasure rider best intertwined wait mention sex scene hot smile awesome tale made want continue read wee bit sad done garath lars played story mellowing bel well make one think played mention dragon sex along magic mama dragon soo endearing cant help love good thing book series enjoy',\n",
       " 'nothing author story beginning thought going awesome story cant historical fiction cant get passed thee thou spoil good story',\n",
       " 'found book well written engaging character fact drew extent purchased book series far',\n",
       " 'love series book one great series thesis always looking forward next one',\n",
       " 'usual type book read however found enjoying story first page way end take good writer draw reader like',\n",
       " 'fell love series read first one got series waiting next baited breath',\n",
       " 'many human female world ability speak dragon much le courage stand one dragon kelvan meet human woman belora know special resolve take knight gareth know gareth belora instantly drawn falling love gareth know recognizes belora true mate worry turn away reveals secret belora able live life dragon knight mate secret revealed change life mother first book bianca arc read instantly mesmerized arc draw reader story page one engendering familiarity character reader known time belora gareth love tender almost innocent romance let fool story filled plenty spicy scene including eacute nage scene setting story fantasy realm give author prime opportunity create valid reason eacute nage make understand agree love dragon knight sweet romance chock full sexiness must read series order maidenflight book also found print book lady lair along book border lair lady lair dragon knight book ice dragon dragon knight prince spy dragon knight book wing change',\n",
       " 'liked good story want read book author buying',\n",
       " 'serum finally back home new hampshire long two year absence face demon psychic ability led sabbatical arizona emotional psychic connection jake candellori caused ultimate humiliation need flee serum thought something special barrier made love emotion overflowed jake literally bolted needed time learn control psychic sens never repeat experience jake jake hated spring snowstorm hated even worse suv rolled hitting deer snow coming knew needed find shelter storm walking half hour spotted light house distance made door practically fell door opened jake regained consciousness found plastered next almost naked serum realized back exhausted contact trying look unable stop thinking since left knew badly treated obviously decided permanently close talking inane thing matter jake determined get back life would whatever took make happen serum jake chemistry connection jake willingness read psychic become informed endearing',\n",
       " 'romantic steamy distracting element one character psychic little actually happens',\n",
       " 'sorry late review thought sent one book good thank much',\n",
       " 'hot short story got thinking christmas story though snow storm serum phina empath fled new hampshire home nypd turned small town sheriff boyfriend jake broke heart making love first time gave full monty mind mind let doorknob hit as raced away serum back learned better control power jake done little growing research freak snowstorm trap together provides excuse course serum take jake clothes warm save life many time done still likable character cody dog add humorous touch sex hot enjoyable like read author',\n",
       " 'plot jake collapsed doorstep serum knew finally confront past expect night hot healing loving would fix comment contemporary paranormal psychic erotic romance kindle location word finish around location f explicit sufficiently frequent loving includes excerpt believe magic melani blazer opinion nice novella strong story plenty sweet lovin heavily relationship based get two adult coming together maturity intelligence caring take responsibility past action move forward okay jake amazing recuperative power would put werewolf shame forgive like expect complete believability smutty romance clever well written novella happily pass cold evening front fire glass red barossa valley course cr',\n",
       " 'disappointed story ok want read one weekend sex people story part lacking thing get point story could developed end whole thing could longer fleshed took maybe minute read book price worth wade kinda thrown rd person menage part hardly believable love another woman ok sex someone know',\n",
       " 'free never would even considered book title little knew gone gut pay money waste time reading barely plot amazed mean guy new bos maybe let slide go along madly love lust guy anything friend wade give break description guy made want gag much le thing truly case get pay case paid nothing actually spend money trash know take le hour read even end enjoying book think much willing spend hour worth entertainment',\n",
       " 'reviewed donna b gotta read review sweet taste forbidden arousing potent ensnares angie bos entices spend christmas house bed fall overwhelming charm surprised early arrival holiday houseguest ryan always shared best friend wade wade set sight angie ryan begin realize sometimes better act like scrooge mackenzie mckade spun explicitly erotic tale wicked wanton act turned heartwarming romance description vivid clear character chemistry spade tale sexy sin bound holiday',\n",
       " 'book seemed like getting started usually love book usually comment book read say dissappointed book ended honestly felt like middle book lost last chapter',\n",
       " 'short story free thought great hot rooting couple liked',\n",
       " 'sleeping bos bad idea angela clarke tell seem care ryan tyler wrap arm around dance floor company christmas party proposition spend night definitely much appealing spending christmas eve alone never expected night include handcuff unexpected arrival ryan best friend ryan personal policy fraternization longer seems important since hired angie know must least one night sharing best friend rous uncharacteristic feeling possessiveness realizes one night never enough forget everything think know christmas story care say like one smoking hot truly holiday theme really backdrop sexy intense romance complete eacute nage scene story eacute nage relationship scene serf well propel romance angie ryan acting catalyst make ryan realize deeper feeling angie reader benefit mackenzie mckade obvious love cowboy supporting character wade wade hot sexy brings enough story make reader hungry sequel starring dominant cowboy say bound holiday classified holiday story one read think mckade penned steamy contemporary romance guarantee satisfaction year round',\n",
       " 'little bit sex story bound holiday mackenzie mckade hot read quick flirty book difficult pas angie invitation spend night bos mention family ground main character really simple story beginning relationship end wish could known enjoyed angie ryan story already resigned spending christmas alone angie cannot believe find arm new bos office party attraction hot promise thing come set fire find one two gorgeous men powerful executive one sexy cowboy holiday wish fulfilled ryan never considered sharing woman best friend wade natural introduce angie stir feeling inside ryan realizes one decadent night eacute nage enough want finding time understanding wavelength reinforces feeling ryan surprise start hot sex turn something deeper wish story angie ryan could happened without eacute nage wade seem necessary felt like dark spot beginning regardless liked character found looking second book series see wade get hea rating chocolate dipped strawberry originally posted guilty indulgence review',\n",
       " 'angie expecting spend lonely christmas share unexpected time sexy bos ryan tyler christmas party asks come home jump chance ready leave party ryan remembers really company pal wade shared many woman past maybe share angie angie ryan arrive house keep hand knock door interrupt wade suddenly scene first time life ryan face unfamiliar feeling fact want share angie erotic sexy story chemistry angie ryan die',\n",
       " 'newly employed angela clark company annual christmas party oh sexy bos ryan tyler approach asks familiar layout almost misinterprets meaning find wanting laid pleasure coming reverie pleasantly surprised find ryan moved closer might actually meant said ryan tyler hots new employee since initial hiring christmas time dream ryan decides test water see angie acknowledge eye promise getting alone take bit planning since happens bos get home plan let go possible snag hit lover plan ryan best friend wade come visit bit early want partake angie alluring charm well ryan find bit dilemma first time life ryan want share happy holiday eacute nage lover bound holiday made put hot chocolate grab ice water extremely sensual lovemaking heady emotion get every time mackenzie mckade delivers bound holiday angie could woman attracted bos fact feeling reciprocated make special loved watching ryan feeling angie change simple attraction intense love mackenzie mckade one versatile writer privilege reading whether writing vampire bondage cowboy eacute nage count deliver well written often naughty story keep yearning bound holiday need everyone stocking season bound holiday release december samhain publishing',\n",
       " 'nate kelly happy going home tired playing dumb bodyguard russian arm dealer going last assignment ready undercover encounter beautiful woman natalya seem fit curious need finish job find arm exchange going take place samantha taylor con artist running scam local sport star daz actually involved much bargained samantha sexy natalya samantha realize gotten late get nate samantha bump searching daz study nate feel choice take sexy natalya home find know samantha find handcuffed nate bed thing heat nate samantha attempt bring bad guy grow closer feeling part thrown closely together twelve lie christmas fast paced read nate sexy spy really want settle bit samantha good even though con artist nate samantha share instant attraction interesting watch fight bad guy well feeling reading kate johnson graciereviewed joyfully reviewed',\n",
       " 'exactly called prequel breath width relation rest series bad story got one late free kindle got read pile short enough mind lack chapter demarcation get ticked longer book least time length one nice book time one length like light suspense little bit slap tickle novella might like book intrigue mystery think give one shot think disappointed expect hugely fleshed story one short wait read next one',\n",
       " 'stand along book really enjoyed twelve lie christmas although much holiday theme title would indicate main character engaging bit developed story fast paced kept interest throughout story one issue story since prequel sophie green series expect read something story interest series really sophie minor footnote end hand would interested reading nate samantha imagine life would become le exciting started book',\n",
       " 'expecting whole lot author enjoyed previous book book short character developed enough also expecting christmas theme part christmas none character celebrate christmas christmas day another day hard swallow con artist spy could immediately trust fall bed live happily ever glad borrowed instead paid money worth either time money',\n",
       " 'whenever want good read pick stripped bare surprised tired yet favorite joker wild trilogy',\n",
       " 'pleasantly surprised book loved fact plus sized woman attention handsome man love like brody missy give book star',\n",
       " 'brody formerly special ops officer marine corp something renaissance literature professor thing one student completed semester class missy working way college dream going medical school one night crush professor brody come adult store missy work little chit chat lead brody volunteer teach missy play poker friendly lesson card turn lesson bedroom missy inhibition weight threaten crush relationship brody convince missy ante turn two kind full house missy fold instead remember first romance novel read like snatched mother aunt alternately grinned giggled part intimacy subject matter even book sedate compared read today part reading something maybe exactly book like found grinning giggling like happy fool throughout story book slightly dangerous slightly possessive handsy hero mouthy shy weight heroine whole lot sexy banter sweet hot monkey love couple girlfriend previous book supportive maybe little crazy loved brody missy good time together whether fooling around fighting simple conversation brody little unreasonable sometimes missy let run push back back forth repartee brody brother funny demonstrates good relationship missy somewhere around size according brody estimation though definitive size never given result encouragement self confidence brody friend help build missy undergoes bit physical transformation explain plus sized woman thrilled watch change without lose weight see well received circle friend many story curvy heroine require loses weight finally get attention love hero pleased brody helped reveal hidden part curve remained unchanged since book listed erotica story explicit part outside proverbial bedroom made book great writing story author develop character telling like showing example suppose character reader believe dangerous telling author narrative story basically say hero dangerous used marine know fight etc showing fight hero take five armed men broken pool stick showing get experience see character author want think much easier tell reader hero heroine especially erotica many author think storyline sex story however magical balance telling showing know brody want missy get see constantly touch together scan crowd find like hold hand encourages sexually open love body etc read several lena matthew book past always well written creative still sweet love scene story probably favorite book fantastic value current kindle price story probably hour read highly recommended',\n",
       " 'loved first last book series thought second book much heavy chris eliza nearly much fun kayla dylan missy brody found laughing loud antic hot bothered love scene plus size woman truly understand insecurity though brody handful think handled fine someone love domineering man problem heavy handedness quick read revisiting story go wrong adding book library',\n",
       " 'day friday aj set marry kyle find ex cooper going wedding cooper trouble accepting aj moved plan go wedding closure cooper distant relative god eros bored decides complicate aj cooper life eros make aj cooper repeat friday week solid repeating day aj cooper still much love fighting book kept entertained got total kick bored got eros great light read everyone read',\n",
       " 'sweet read true love everyone always day want couple get much aj cooper continue try get right whether want god give second chance easily make work love strong enough break cycle going chase dream forever enjoyed cooper aj story two truly love one another make great couple work past mistake love shine need grab watch two repeat day see much happen split second decision day much change interesting see day would unfold new decision change bond grows stronger received complimentary copy book exchange honest review',\n",
       " 'grab wine fill bubble bath grab awesome book think bill murray ground hog day love romance getting redo valentine day may sound like nightmare sharing really love getting expand moment time yum perfect read getting valentine spirit',\n",
       " 'call cupid sydney somers fun cute fast read second chance love thanks interfering god eros copper aj one repeating day rediscover love enjoyed twist loved copper aj remembered day event journey showed still feeling matter long take love give three little word future changed',\n",
       " 'really fun read also hot valentine day day wedding find ex really got coming wedding looking closure cause old feeling stir morning wedding wake valentine day happens aj cooper relive day amazing learn people relive day grab second chance love',\n",
       " 'sydney somers sure magic finger writing book call cupid another outstanding book brings emotion roller coaster ride definitely must read',\n",
       " 'human being flawed one u perfect loved charlotte tony flawed past haunt yet grit leave past behind find love',\n",
       " 'loved adventure devlin group series shannon stacey little excitement little sex happy ending could ask',\n",
       " 'tony casavetti work devlin group job one undercover danger quite often thing depend besides calm voice end link voice name face end rest group called meeting new york city tony know charlotte efficient calm circumstance also know ruthless guess matronly lady charlotte rhames executive assistant devlin group job love respected know people take appears rich beautiful charlotte wait meet tony know everything never actually met man charlotte many expectation meeting hoping end home tony stunned actually discovers person behind voice young sexy woman came pick shock beginning event put entire devlin group high alert group attacked discover inside job charlotte know one get person behind attack mean going back world swore never visit tony let charlotte go danger alone thing go horribly wrong depend voice ability people end link edge brings back character devlin group time charlotte turn get happy ever member group nothing ever easy includes love tony put life background one make perfect undercover work charlotte worked hard year remove past must face save others danger feed passion tony charlotte already flame rising even danger happened never happier tony charlotte made okay tear apart made want knock head together rewarded end perfect ending suspense story always able hold grip m stacey one even better let put book last word read edge sexy full danger two main character back also book rereading time sure joreviewed joyfully reviewed',\n",
       " 'read several shannon stacey book devlin group series far favorite book nd book series order hour edge surrender never read book twice definitely revisiting series saw author website th one work say enough series definitely pick favorite',\n",
       " 'wow st time reading author definitely buy thought suspensewas well done kept edge seat romance good',\n",
       " 'really enjoyed second installment series wish longer would also say liked fact one unlike first chapter demarcation even though short chapter demarcation make much easier see close end chapter find stopping place need although much problem short novella character series far realistic opinion think book right amount bit everything except short bore plot summary know reviewer fond liked first book series think like one give shot think disappointed wait read third final one',\n",
       " 'love book book everything love book good put love book',\n",
       " 'book funny exciting character great detail great easy read keep attention',\n",
       " 'great romance action love story loved situation ending would recommend book anyone love romance',\n",
       " 'thoroughly enjoyed reading book called two sighted easy read lot fun',\n",
       " 'enjoyed interaction character troubled woman able come top love author keep em coming',\n",
       " 'ainslinn kyle two well thought character enjoyed ainslinn letting go fear allowing kyle get close loved book',\n",
       " 'novella favorite like annmarie thought try loved whly storyline plot h h know aislinn issue trusting men know kyle mind know happens could love great story yes longer would better sex got story happy know strength three follow book friend christina story fantastic',\n",
       " 'aislinn campbell done best keep becoming attached anyone running ex moving place place several month first time unable remain detached people around complicate matter even falling bos witnessed death clairvoyant vision ex special force operative owner turner industry kyle turner iii know everything know aislinn carefully investigated perfectly aware never stay one place eight month abusive ex personal assistant past six month desperately like get know intimate term anonymous email warning somebody would kill kitchen give advantage need kyle thorough finding aislinn point even know clairvoyant ability kyle decided time show aislinn passion brewing powerful ignore aislinn try deny even turn dinner us ace hole mention go eat go home eat lonely kitchen doubt warning email came aislinn using advantage obvious aislinn attracted fear ex keeping even considering sort permanent relationship kyle positive protect prove simple right well maybe quite simple think annmarie mckenna two sighted delight reader fun array character witty conversation sexual innuendo enough suspense keep riveted page loved intensity relationship kyle aislinn got kick friend christina kyle groupie refers jon jt playful banter sexual interest among three m mckenna wonderful job blending emotional situation plot genuinely care happens character never want story end fortunately m mckenna treat u christina jon jt story follow book strength three currently available chrissy dionne courtesy romance junky',\n",
       " 'absolutely love mckennas booksthis storie wonderfull huge potential full storie aposed short wonderfull two story good one wish full story',\n",
       " 'loved storyline main character writing great read several book love',\n",
       " 'abusive ex husband stalking relentlessly aislinn keep moving order stay clutch never stay one town one month remaining unattached possible leaving easier bear take job turner industry staying isolated prof impossible find irresistibly drawn employer kyle turner iii still avoids becoming involved past working relationship clairvoyant ability show fatal vision involving kyle kyle know aislinn past minute detail ex special force security industry business know everything people close especially pretty little personal assistant distract like woman intention letting aislinn run protect past keep close belongs think annmarie mckenna wrong story loved every piece work read far two sighted pleasure read write review book like make job simple wish could good kyle turner iii pushed every button proving author know woman love hero fact could place order men would exactly suit need would want mckenna help placing order since seems know want better kyle epitome overprotective alpha male pursues woman love unwavering focus sensitivity belies man status aislinn fear loneliness palpable longs simple human comfort long denied best friend phone call mother man fall love home longer month yet even determination remain detached see help care around abusive ex husband may stolen sense belonging hope future robbed empathy might easy jealous woman capture attention hunky kyle one could begrudge aislinn stealing heart impressed annmarie mckenna first novel blackmailed admiration work grows new release two sighted effortlessly set stage sequel starring several supporting leaving fan aching without leaving book feeling unfinished way know hungrily snapping new release series author',\n",
       " 'series series story well produced others must say though fact areso predictable begin make le exciting read difficult thing repetitious explanation use sort weaponry abc soup word used almost everyone today sorry feel still fact enjoy book',\n",
       " 'sky hunter anarchy reign like sky hunter installment fantastic xbat trilogy non stop action worthy entertainment anyone enjoys military suspense look forward jack shane next book whatever might',\n",
       " 'naive people living powerful strong country thing could happen u country jack shane give u good look could occur gary weir cia ride stupid people pentagon want disband bobby autry team good hard imagine world leader meeting la day group agitator like bobby autry team called weir help every body get shot even weir considered one autry team end saving life along president world leader etc fun read shane make think come la la land cliff mitt',\n",
       " 'excellent work great author well thought written series book wonderful way finish',\n",
       " 'like plot easy readable enjoyed character sub plot would make decent cable movie cast done right',\n",
       " 'action action action equipment keep getting blown hero live',\n",
       " 'look review series truly enjoyed book look forward reading jack shane',\n",
       " 'bear idea video life style boat affair ahhhh murder enjoyed book felt ending needed one two paragraph truly satisfy certain point worth reading',\n",
       " 'thing quickly degenerated today slide slime pity used tell good tale',\n",
       " 'interesting story plot change non stop several story within one story interrelated one course know wife take scenario may change mind read one sitting',\n",
       " 'loved book originality basic premise familiar matthew hope series definitely read always enjoyed th precinct series character development continues excellent',\n",
       " 'really enjoyed book never read work h rider quite adventure story philosophical point view especially end read definitely look king salomon mine future read',\n",
       " 'expected enjoyed read said wanted say understand must write many word needed seems like waste time person review wrote',\n",
       " 'never read quatermain story decided download one sure glad old fashioned adventure turned real page turner wait read earlier story',\n",
       " 'become older find visiting old friend childhood burroughs haggard verne others character allan quatermain larger life hundred year continue long people continue read kindle renewed friendship never could imagined',\n",
       " 'father indy great story africa last century adventure pure love adventure indiana jones continued tradition century',\n",
       " 'allan quatermain final adventure hero penned magnificent h rider haggard beginning may best ever read else haggard would start story death main character child amazing battle well middle dragged pretty heavily however redeemed thrilling finale umslopogaas character reach grab finale suited well think one haggard favorite character grab free kindle version regret',\n",
       " 'crack serious british take th century racism funny look forward reading book series',\n",
       " 'want white guy black side kick versus weird place type story one read read league extraordinary gentleman feature far interesting allan quatermain bad though',\n",
       " 'good book mark end allan quartermaine era africa great chase battle hunt romance adventure fill page believable story life like character',\n",
       " 'first allan quartermain book read certainly last fact started reading king solomon mine kindle formatting ok one gripe various end note really end book kind hard turn real page flip back would nice note end chapter however since version free going dock star many note anyway vital story story allan quartermain last adventure sir henry curtis commander john good go search lost city white people africa also umslopagaas zulu ex chief warrior might favorite character hope show another allan quartermain novel curtis good also king solomon mine far umslopagaas mentioned know actually show book lot fun highly recommend anyone like good adventure story',\n",
       " 'great adventure story read remaining story series perhaps follow great others good read',\n",
       " 'reading king solomon mine looking forward book try might get enjoy reading deleted kindle',\n",
       " 'bought book watching movie league extraordinary gentleman found character movie fascinating wanted learn history',\n",
       " 'lost mine king solomon found next allan quartermain quatermain friend return africa next adventure',\n",
       " 'written earlier time get past stereotype enjoy really want end',\n",
       " 'book denise agnew liked quick read eve getting ready turn friend want live little sean solider co worker eve writing letter start getting really steamy sean tell eve home soon make letter real eve go male strip club birthday guess dance birthday',\n",
       " 'reader want lot sex short book thing looking plot characterization satisfy',\n",
       " 'cute little quick mean quick story plot concept people writing falling love must admit beginning author includes letter writing got little annoying matter sean crazy sexy loved eve personality type want feel connected character deep level might fast paste sex thump quick still thump',\n",
       " 'eve carmichael writes letter co worker sean callahan stationed iraq reservist letter become sexier sexier hear week worried best friend take male call chippendale like show th birthday sean surprise performs male dancer hoo rah get married happy want sexy guy striptease great story',\n",
       " 'denise agnew know write hot military men book exception communication form letter eve sean add chemistry elevate sexual tension flaming intensity male call element fun sexy book keep wanting fortunate denise agnew fan book hot zone series recommend male call book series disappointed',\n",
       " 'yes much story others hot zone series superficial silly old fashioned letter writing suddenly falling love computer geek work entire scene male strip club etc kind fun story personally sucker hot military hero cowboy romance male call despite awful pun reeled hour worth reading story definitely enjoyable',\n",
       " 'first book author quite enjoyed sexual tension character friend hot sex hot fall love character start short story great one',\n",
       " 'two year caitlyn culver back town get want despite father threat want rancher cord daily aware truth behind cord wicked reputation cait decides beat cord game luscious cowboy soon find tied left wanting father barn cait better watch payback hell delicious sort cord loved cait year mean going let vixen get away trick cousin dolan crane court treat cait passionate night beyond wildest dream dawn break reality set cord find one want cait dolan make move cait cait father make choose life always known future could cord take first story read mackenzie mckade last cait character would love friend want spend night arm cord dolan impressed take besides sexy cowboy natural emotional complication arose trio passionate encounter dreamily sighed cord possessiveness admired m mckade handled dolan attraction cait hand another author dolan desire start relationship cait might annoyed detracted tale however case m mckade deftly handle emotion involved happy story ending take engaging read filled likeable character deliciously hot love scene sinful yet satisfying greatly enjoyed m mckade book shaynareviewed joyfully reviewed',\n",
       " 'great story humor really liked character antic wish cord cait story end abruptly think show another book cord cousin dolan enough',\n",
       " 'smexy cowboy menage love steamy quick read one delightful little snack would love see series great story super hot heavy great character make story thoroughly entertaining',\n",
       " 'short story kept turning page enjoyed dynamic two main character enjoyed read',\n",
       " 'lori foster put one favorite series one already book paperback stored kindle plus rereading old friend nice',\n",
       " 'sawyer morgan gabe jordan say hot alpha male sensitive heart awesome momma loved series way go bundle sawyer dr morgan sheriff gabe handy man jordan veterinarian story amazing steamy fast read wait read buckhorn legacy continue saga',\n",
       " 'love guy say enough bought book individually bundle definitely better way go mention love buckhorn brother',\n",
       " 'lori foster hit miss usually excellent job shorter story anthology able make character come life even shorter word count maintain pacing tension sizzle book part earlier work surprisingly good like alpha protective aspect brother way take care love bundle great value enjoy',\n",
       " 'bundle brings brother together sexy hell box set buckhorn men damn sexy sweet yes even morgan fall minute always lori foster great series read one time sawyer favorite sexy hell doctor morgan although tough nail think lovable love closeness family brother course sawyer son casey love house full men haha sawyer morgan love single know hometown reputation aloud cut loose honey break sawyer fence sawyer defense help fall beautiful strong woman come misty honey sister come visit morgan help strong arm loving sawyer sweet sexy hell romantic smitten morgan hot misty get enough loved part morgan naked kitchen honey make dress funny honey misty men break defense build back even though claim love bachelor get case love bug another great series follow wait casey storygabe jordan although liked sawyer morgan buckhorn beginning sequel good sexy men courageous woman fun loving family great read good first book even though jordan gabe sexy brother sexy story felt almost pushed get happily ever gabe jordan well sought bachelor catch ideal woman lost brother felt quick rushed pared sawyer fav morgan sexy',\n",
       " 'book think think romance novel want hot steamy sex scene romance great dialogue relationship book cheese',\n",
       " 'first lori foster book great story brother finished reading jordan yet decided give review romantic good story great character lot humour think kindle checking lori book',\n",
       " 'romance book bundle story hero sawyer morgan gabe jordan brother live together childhood home sawyer doctor morgan sheriff gabe laid back handyman jordan vet man way pillar small town community womanizer nice respectful way perfect gave star deduction one decent halo head glowing handsome tall muscular sexy honest single well endowed straight brother amazing two shocking three stretch four defying law possibility story funny sweet thoroughly enjoyable sawyer divorced single father teenage son run medical practice home housecalls meet honey loses control car crash fence turn suffering pneumonia running someone get sawyer shelter take care course fall love morgan single large temper match least pretend temper bark worse bite everyone afraid scowl enough keep miscreant town everyone else best behavior misty honey sister enters picture show help honey prepare wedding morgan take instant dislike dislike amplified attraction think seductive flirtatious walking billboard trouble misty broke unemployed pregnant wrongly accused stealing arrested charged bos abandoned boyfriend announced pregnancy learning situation morgan opinion work clear name gabe town handyman extraordinaire meet lizzy redhead find particularly attractive first come interview paper writing people performed heroic act lizzy carrying around lot guilt death mother serious self confidence issue true story opposite attract gabe laid back spends free time lollygagging around water sunning well aware attractiveness opposite sex virility lizzy uptight one get freckle burn spends minute sun confidence attractiveness anything else jordan vet golden voice georgia single mother two work dancer waitress provide child ailing mother burnt badly ex husband trust men know make men seem spend life bending backwards help others especially jordan great child mother eating hand book one funniest jordan reaction seeing georgia dance skimpy outfit priceless however book one focus much secondary character romance brewing georgia mother misty honey father sawyer son felt bit shortchanged main character love story liked story everyone likable many time romance get bombarded alpha male testosterone laden treat woman like doormat hero nice get men manly sensitive woman spunk something also like stood situation called likable character cute story recommend',\n",
       " 'love old fashioned family see someone need reach right help without thinking make miss old day brother sexy way enjoyed reading one fall fall hard love bug',\n",
       " 'finished series great value story really good purchased enticing two book lori one casey story enticing little higher price considering bundle price buckhorn brother series needed know happened casey enticing',\n",
       " 'excited read series buckhorn brother seeing great review got since liked one foster book bought bundle first story series sawyer oldest brother sexy companionate doctor also loving father amazing brother story start safe honey run car fence instantly attracted story wanting find wanting get away brother danger want endanger honesty bored reading story stay interested care honey danger sawyer somewhat bipolar practically keeping honey house since danger want hurt yet wanted leave let time would shake wanting get word violent person according brother many thing story drove nut sawyer wanted honey stay going tell honey said felt safe sawyer tell anything big danger mystery sawyer brother always interrupting honey intimate time big moment came would much sweeter private done causal way brother around overall expected hoped story would second story morgan second brother hunky sheriff story fight urge become involved misty honey sister story much better sawyer interested morgan switch much personality however mess misty car wanted leave really like seemed juvenile scowling got old personality acted tough big softy overall decent story gabe story third youngest brother sexy layback fun loving brother story great meet elizabeth complete opposite gabe prissy bookworm inexperienced nave gabe clash book also big attraction one another gabe take upon show elizabeth fun life story little different two since elizabeth different honey misty fun sexy story showed opposite attract jordan third brother last story sexy calm vet story slightly different rest meet georgia dancer bar divorced take care mother two child spark fly right away despite jordan liking georgia dancer never tried force quit accepted take care kid worried story going short great guy glad story turned complete book probably second favorite gabe casey sawyer son also involved story one called enticing overall series started little rocky ended great four brother great quality flaw time story thing became predictable also seemed like every brother fell instantly love woman story lot leading realizing feeling happened right away every time end help fall love',\n",
       " 'story good seemed rush relationship development character said story line good description scenery town perfect enjoyed book',\n",
       " 'story entertaining end fourth one enough macho men perfection guy harder believe vampire werewolf real men much',\n",
       " 'hot hot hot four amazing story four charming men read two paperback looking forward reading dont rule great nice collection',\n",
       " 'love man actually right fight strong woman perfect antidote better half totally sexy mostly naked men',\n",
       " 'lori foster captured attention story give great detail story excellent plot',\n",
       " 'time asked review say pretty much thing either like far loved highlander book purchased one exception worth buying really enjoyed',\n",
       " 'three three good series enjoyed much hope many thank',\n",
       " 'battle scottish clan mysterious warrior hunter save life unconscious lachlan rouge fox macgowan lachlan brother tease tenderly hunter carried battlefield safety evermyst lover even though resents owing anyone anything lachlan vowing pay debt want thank warrior probably saved life lachlan still owes hunter reject everything rogue fox offer lachlan become intrigued warrior swears learn secret great fighter uncover secret shocked beyond belief beginning understand fascination hunter observes warrior talking enemy evil stalk evermyst warrior bride may strongest lois greiman scottish romance cast make quite exciting tale hunter wonderful warrior secret surprise audience lachlan obsessive make remittance savior uncovers secret change obsession secondary character add depth tale provide much satisfaction reader sixteenth century romance harriet klausner',\n",
       " 'love good highland story read series bit slow part still great read several chapter copy unfinished sentence end chapter able figure missing word enjoy',\n",
       " 'thought read book st john older brother marcus really like book turn wrong felt legitimately changed new person without losing person read day keep reading like get',\n",
       " 'great read wonderful author love descriptive writing story never seem drag always twist turn story',\n",
       " 'good read enjoyed st john tremendously even first book thought heroine good match',\n",
       " 'favorite series story esme canville st john radwell st john villain first book series inconvenient duchess year since last novel st john transformed process making respectable person esme however looking villain order avoid arranged marriage father planned esme seek st john compromise st john however delivers brother continues strained relationship could expected however esme st john become involved relationship enjoyed book character st john really disliked first book almost stopped reading book however completely redeemed deeply interested remade still deal past care consideration esme despite temptation demonstrates character changed book lighter read overly complicated intense enjoyed recommend',\n",
       " 'think would enjoy reading st john radwell reading inconvenient dutch author turned character one well liked definitely worth reading',\n",
       " 'first need read inconvenient duchess read book set hero better light understand go really enjoyed heroine outcome dilemma love hero first need read book like spoiler',\n",
       " 'esme abused father mother leaf seeking way going marry realizes man awful old father witness scene across street decides captain radwell man ruin get away father count honorable streak trying delivers brother wife help stick around great read',\n",
       " 'book sequel inconvenient duchess focus villain book leaving emerald necklace duchess gave joined army served distinction leaf army must live one year scandal free want reward offered prince regent esme danville life abusive father want marry man age older abusive seeing way decides become someone mistress thus get marriage called seeing st john breaking mistress without laying hand decides one want hearing outlandish unladylike proposal refuse end taking brother house place welcome agree may stay certain condition duchess try introduce eligible men without success esme eye st john trying live infamous deal addiction laudanum us deal wartime memory hard ignore esme resolve slowly start crumble inevitable return london esme endure abuse father despair seeing st john get reward face one challenge another rescue get happily ever always wanted know happened end first book went ahead bought one think good kept attention something regency recommend others read first book st john also show people first book prospered suggest read book order event first book mentioned',\n",
       " 'first back description throw bit book went another direction didnt expect disappointment esme desperate leave father physically abuse marrying much older man go new neighbor next door happens rake st john insists mistress st john trying gentleman returning war want make amends brother duke wife miranda want repair reputation plus poor though waiting find earl due inheritance fearing esme might kill like hinted return father take care brother wife two child agree help esme lying father finding lost illness yea wasnt buying next week st john esme become close father keep writing come back home liked st john esme character though understand st john kept pushing away wanted strangle talked taking virginity offering nothing though admire female read people know wanted despite hero protest point need get back bone came late finally get want decides make excuse push away wanted slap story like soap opera guy throned even wicked father esme get bad idea head st john sure loved even though never said book many silly stupid thing going taste skimmed alot cannot good conscience give book could hold interest got upset left wondering whatever happened child duke bring tale hardly mention hero heroine likeable enough save book',\n",
       " 'perhaps place character past history current personality might stand close scrutiny turn phrase quite deft character simply fun inclined quibble faintest besmirching overall entertainment duel slight jump feel insert duel author note part got mind hiccuping review cover detail quite well enough bit really really liked say spoil snicker quite fair dose humor unfortunately first sample text end',\n",
       " 'wonderful job turning character someone could stand someone began champion',\n",
       " 'st john story great close series found inconvenient duchess free quite ago read m merrill book quite good writer highly recommend series',\n",
       " 'glad found sequel enjoyed book immensely historical romance done',\n",
       " 'reading duke story knew read brother story well even better first book',\n",
       " 'element typical novel abound story bit far fetched even genre decent likeable character suspense thrown actually read twice',\n",
       " 'already liked cheeky hero reading first book inconvenient duchess always love bad boy make story funny trying best stay heroine clutch well really clutch maintaining honor quite turn around rakish hellion started finished story one day quick satisfying read flow smoothly enough tension deep good heading find story',\n",
       " 'finished stranger almost month ago put thought word review reading first chapter unsure whether read like idea hero deceiving heroine grew story year ago caleb half brother pas shafton farm house ask meal laura shafton naive husband welcome stranger open arm soon unthinkable happens one brother attempt rape pregnant laura caleb try stop brother laura trauma attempted attack murder husband implementing brother crime including caleb brother leave laura left scarred traumatized widow baby way fast forward year later released prison caught scapegoat brother get away caleb still remembers pretty laura shafton happened ranch pass wondering okay happened get find laura year old son seeing scarred face haunted eye brings back memory absolve even offer help around ranch cautiously take stranger offer soon find befriending mysterious rugged caleb son fall love male figure around really surprised find actually liking story laura strong heroine cry lost family raising son alone losing confidence showing face town embarrassed scarred face survived ordeal kept moving make heroine love caleb hero sympathize half breed american native american feel wanting around brother accepted realizing evil trying fully break free hold even around enjoyed caleb laura separated definitely together son adorable relationship caleb caleb fatherly patience made like caleb even overall definitely pick one take one picky reader say',\n",
       " 'enjoy western mystery romance good story time gone love kind story',\n",
       " 'great read would given book five star except repetitive thought process beginning saying alright already get want stay afraid recognize reject turn reminder would okay perhaps le wordy one however nearly half way book move away plenty action suspense throughout nice romance boot',\n",
       " 'love good romance genre must read book everything keeper',\n",
       " 'love book enjoyable read stop reading find happened end stacy attitude became kinda time throughout book nascar love nascar',\n",
       " 'nascar driver jake henson take refuge near white river arkansas ozarks national forest physically recovering boating accident left injured best friend dead next door cabin borrowed stacy carter yorkie oscar borrowed brother cabin escape medium made daughter notorious politician amazon disarmed thief oscar introduces temporary neighbor one another instantly attracted hide history one another belief detests publicity assumes detest root besides short fling hill neither expected love meet finish line though must reveal concealed fear relationship end checkered flag dropped almost famous fun contemporary romance starring two celebrity taking respite fame jake stacy likable character oscar cute belief raging doberman fan enjoy story two people hiding critical part r eacute sum eacute beloved harriet klausner',\n",
       " 'almost famous gina wilkinsharlequin nascar libraryif like reading connected book may want read heart caution first book continues one ended jake hinson go friend fishing cabin recover boating accident physical healing deal also guilt friend died use constantly moving staying busy take long jake bored met beautiful neighbor feisty dog stacy carter wanted limelight headed brother fishing cabin planned staying somehow handsome neighbor drew best seem recognize last incident past jake stacy hide true identity enjoy regular people blossoming relationship survive stacy find nascar driver enjoys medium trying hide book really good recommend reading order get full picture',\n",
       " 'summary seemed cute interesting story meet stacy heroine want like hear past heroic action near impossible like gina wilkins potential story get weighted plain eye rolling extremely stacy even trying jake giving showing nice man m wilkins emasculates jake hinson completely turning stacy carter new dog simpering whimpering pleading stacy throw bone oscar yorkie disappears m wilkins make jake replacement quick transition definitely ever read another gina wilkins book way writes men',\n",
       " 'whole desert rogue series awesome men alpha male woman strong well written must read',\n",
       " 'love susan mallery recent book try fool gold series saw older book rereleased buy really happy bought part time pause book read order book stand alone understand dynamic better love story people finding love life love series',\n",
       " 'another great set story almost fall guy make unbelievably perfect always smile silly prince falling love',\n",
       " 'read every one story well written author description character made superb enjoy',\n",
       " 'desert rouge series paperback read glad get ebooks',\n",
       " 'good thing m crusie written prolifically since bundle made instant addict remember ever chuckling aloud much reading anything loved character including secondary one zipped plot often asking going write way course write way every time wit often tongue cheek kind escapist lit candy yum',\n",
       " 'get enough jennifer crusie bundle great value enjoyed story intertwined wait read jennifer book',\n",
       " 'four book crusie earlier book shorter newer novel plotlines quite well developed trademark humor loveable character present spade book great summer read set steal think getting rid bradley far best four followed strange bedpersons charlie night lady want weakest four opinion still readable enjoy',\n",
       " 'really like jennifer crusie writing enjoyed several book sense humor wonderful refreshing',\n",
       " 'always thrilled jennifer crusoe book writesa great book loved always look forward new book',\n",
       " 'good story four story great character great story line cruise give light reading style enjoy',\n",
       " 'discovered jennifer crusie late really enjoy book backlist book bit trip ninety memory lane use pay phone make call use newspaper clipping research said plot great want believe character romance spot',\n",
       " 'book paperback spent line download price sure asking much think probably worth one read story go quick time get involved character feel one story halfway got honeymoon castaway story ended wondering thing work wished book',\n",
       " 'agree would like spent time character bummed ended agree could used depth really loved character length given popped book read much like brilliant fantasy like story far story sweet quality hot thoroughly enjoyed look forward author',\n",
       " 'annmarie great story telling exciting sometimes story really end leaf unsatisfied liked story sure understood felt like tidbit instead large morsel',\n",
       " 'book good wish insight happened lance gabe evan island managed life together good book recommend reading mood hot menage',\n",
       " 'wow major league book hotness love reading bisexual men much menage etc two men pleasure admit female great way introduce author definately purchasing m mckenna brava',\n",
       " 'hot fun read mandy roth smiling ear ear talented creative writing second installment talon series cute find sachin hold many secret even king know story kept glued page could clearly visualize every scene produced excitement drama foretold character sachin paige perfect smiling laughing playfulness erotic scene absolutely thrilling getting excited arousal read public side building town sex scene sachin paige freakn hot sachin paige hea perfect laughing end strong tough guy sachin faint paige go labor faint mentioning daughter growing date lol truly cute story know awesome read craving end one series highly recommend hungry mind sexual quick fix need exciting drama awesome read',\n",
       " 'finished second book view kill sensational storyline say character well written grab beginning let go even story finished story maybe short joy read devour want story end character sachin terrific saved watched matured fantastic woman love definitely wonderful match paige perfect pair',\n",
       " 'mandy roth quickly taking reign paranormal romance series going start king prey one view kill master hunt rise king far using bird prey paranormal romance genre character bit try introduce sell reader however due past novel read mandy roth identity michelle pillow willing try new series must admit given hot heated romance situation usually look falcon hawk imaginary lead realized fully shift like lycan easier picture warrior novel series sexy warrior mandy roth immortal ops series boxed intro set novel would great introduce new series like manner get new audience introduced bird prey romance series',\n",
       " 'great follow king prey main character right hand man king hawk sachin meet mate young claim continues visit grows mistake made trust lost sachin must figure want hang liked book went different approach main character meet relationship progress instant love flying sunset real love undeniable passion two common paranormal romance enjoyed following character learning past future love series far book one favorite definitely recommend fan paranormal romance shifter story received book free author exchange honest review',\n",
       " 'like series found simple worth read glad two ended happy love book',\n",
       " 'mandy roth always fantastic series book love character storyline definitely must read book lover paranormal shifter romance',\n",
       " 'great series far second book wonderful first caricature wonderfully funny endearing definitely worth read book short really get know caricature',\n",
       " 'looking story since book two king prey series also seem going mandy roth faze purchased book one paper form part anthologytalonsthen purchased story kindle versionking prey talon story decided look book happily found one good st one enjoy m roth writing enjoyed one',\n",
       " 'much say hot good story quick read worth every minute good highly recommend',\n",
       " 'well written plot character cliched whole fat chubby thing could well written bad descriptives made issue icky instead luscious real save money',\n",
       " 'short novella good tempo bargaining devil sometimes make strange bedfellow pun intended',\n",
       " 'story several theme personally really enjoy erotica erotic romance full figured heroine military hero interracial relationship element coercion although coercion small part story characterize hardcore full still enjoy know idea coercion work everyone abby seeking appease mason body hot plus really something want resisting mason week denying every turn think convenient reason give attraction mason part see opportunity force spend time take chance resisted man month know military alpha commanding presence muscular body beautiful brown skin sexy bedroom eye total good guy way around girl thinking abby reason resisting mason spend weekend together stronger feeling lust develop story long actually around page lot sex done way love sex done super hot well written sexy edge charge man sweet emotional connection h h love moment definitely felt hea store couple thought hot read one yummy hero tired taking answer way abby getting away',\n",
       " 'first book shelli stevens read fell love abby mason mason perfect guy want abby girl story well written give little bit everything enjoyed story much read several time continue back want great funny quick read',\n",
       " 'novel good character written well would liked story longer',\n",
       " 'loved book definite keeper rafe really loved wife cathy love especially evident pivotal moment leaf rafe decision whether proceed forward go back safe wife dee knight superb job describing tornado scene new found fear respect tornado',\n",
       " 'east meet west texas cowboy rafe walker fall well bostonian cathy fitzgerald weekend hot passion lead rafe cathy rearranging life together spontaneous marriage proposal surprised yes cathy packing city life moving rafe texas ranch four year later rafe cathy find passion may enough build relationship marriage crumbling apart two obviously love find way salvage marriage start trust one another second wind good story communication trust key solid relationship rafe cathy neither add problem job leave much one one time cathy well rafe honestly gave whole lot got rafe bad person cathy level opposite attract definitely demonstrated lacked aspect marriage compensated strong passion hot together need work life outside bedroom reader looking good breaking making story second wind great choice enjoyed much leyreviewed joyfully reviewed',\n",
       " 'second wind midsummer night steam written well enjoy book please continue write thank',\n",
       " 'got kindle one first title downloaded read dee knight story author never disappoints one best yet love story marriage crisis like cabin fever vanessa hart couple find way back happiness setting description along emotional character bring story life good job m knight',\n",
       " 'second windcathy walker threw expensive suitcase thunderbird rafe watched begged leave time sad puppy eye going sway fromleaving time matter good sex met rodeo rafe riding huge bull dry humped barn later cathy letting hair going rodeo instead sipping champagne country club heading back boston take place attorney family tradition never regretted love making went home never called one day door step heart bounded chest invited drink proposed accepted four year ago last year rarely saw treated like fragile porcelin instead wife moneey trust fund saved ranch salary kept black yet name deed moment rafe sat atop bull glanced pretty woman clothes new screamed designer hooked smiled goner seven second later thrown care meet woman looking back sex amazing got hired county stayed away longer longer knew wanted thing life know standing watching go choked lump throat knowing took heart dee knight pen one terrific read make shed tear squirm glued seat time rapidly read second wind reminds every newly married couple go fussing fighting loving sex white hot two get together explode really great read enjoy',\n",
       " 'gotta love k mitchell custom ride short short story fast super fun read enjoy recommended',\n",
       " 'expected alot book got much could explained would made book better came away book still fog character life staying together maybe anyone know gay confused decide stumped',\n",
       " 'k mitchell favorite author ability create realistic character amazing love story men would would call alpha type even though primarily jeff charge ryan also step realistic storyline jeff let gay fear losing time daughter ryan air force scenario hide part sex scene author writes incredibly descriptive erotic make feel little like voyeur agree reviewer book end abruptly hope story continued like book story last kindle book advertisement book read buy short story still great quick read feel worth price',\n",
       " 'book great read disappointing time like book end without finishing story going book leaf hanging wanting know able keep daughter continue grow two main character life together could written better put',\n",
       " 'love k mitchell exception getting bam could used another k story fast read go read',\n",
       " 'kind take review grain salt subjective person viewpoint liked book author like collision course souvenir thought ok short story bad wrong ended location percent ending abrupt question almost story stopped middle expected get next chapter turned page sudden staring author bio figure happened even rebooted kindle thinking story loaded wrong spent min combing page page blurb story looking sequel luck read many story author liked however never pissed disappointed disgusted gave star cause story started well hardly relationship development basically guy insane chemistry developed story like book already mentioned would great mitchell chose wrong story line short short story hope revise republished story way longer format want know happens trust read short story perfect plot line could told way reader happy end definitely save money make mistake like',\n",
       " 'mix one carefree man one closeted man daughter got really great read know read k mitchell book white hot read book life reputation sizzling sex depth emotion character felt like right character going trial triumph next breezed book quickly think light hearted read got comical moment also got tender moment many time rooted character get heart desire ryan life structured carefree life got issue problem ordered loved club random hook yet willingness even sure step comfort space liked touching moment struggle want jeff loved scene even though broke heart jeff hard understand got lot going lot hide believable lose daughter seem let go ryan sort conundrum good one way ryan hunky catch anna jeff daughter add cute heartwarming touch smitten ryan totally favor daddy happy people could understanding want story hot sizzling scene camaro vehicular weapon choice need read custom ride give story cherry originally posted whipped cream review',\n",
       " 'glad decided get book upon accident douglas cicely perfect erach could put book start finish cant wait get book',\n",
       " 'reading book kindle would torn piece one book villain gleefully tell soon victem evil plan took long gloating killed heroine pathetic annoying wanted die freezing fear fainting gag character supposed intelligent even figure villain standing front gun pointed plenty could complain annoys thinking',\n",
       " 'age twenty six lady cicely ware considered quite shelf quite determined however let spinsterhood keep knowing feel like experience passion quickly come list rake belief able teach always halfway love douglas duke ethingham waltz proposition douglas stunned cicely asks seduce quickly refuse although cicely disappointed resolve move next gentleman list however much douglas discovers allow cicely anyone arm begin sensuous journey douglas stunned find every moment cicely company make want finally begin realize falling deeply love cicely life threatened douglas whatever necessary protect attack continue find person responsible late without doubt melissa schroeder get better every book love historical romance admit bit historical romance snob take lot truly become absorbed book genre melissa schroeder accidental series certainly hooked lesson seduction scrumptious feast reader romance want devour melissareviewed joyfully reviewed',\n",
       " 'story great continuation series loved enjoyed like others character continue grow read series wait read next one',\n",
       " 'really enjoy world wild magic fantasy romance unusual relationship dealt well good see diversity character world work well',\n",
       " 'love dragon treat novel bianca arc take land dragon exist happy around people dragon old dragon happy lend paw tongue whatever help friend definitely child read due graphic sex scene',\n",
       " 'cannot read book without feeling love sexual adventure exploded page truly exciting book',\n",
       " 'lucia arrives doorstep king draconia idea destiny would change dramatically perhaps simply fulfilling destiny matter determined save dying friend dragon reynor must engage help knight sir kaden love dragoness linea waitress simple pub lucia certainly never expected return tavern two dragon two knight queen draconia tow troupe hero arrive time help reynor body withering spirit well soon becomes clear knight kaden marcus lucia mate fated complete union dragon knight round family lucia draconia heard rumor strange custom two dragon knight must marry one woman uncertain go read many review secret huge fan author bianca arc especially dragon knight story imagine pleasure continues imagine new story fascinating series seems trouble finding way keep story fresh exciting proven newest edition saga wing change new story enjoy return eacute nage theme began series scenario guarantee built angst story lucia try come term idea mating two men situation beyond experience societal norm country kaden marcus task convincing love true right little help marcus dragoness lady linea course relationship three sole focus arc book flesh nicely long hidden secret lucia hiding long hidden learn lucia secret see may well important figure future war draconia sskithdron author introduces u yet another intriguing new specie something believe becoming rather spoiled long time lover fantasy story excitement introduction new creature build expanding horizon within world interest well wing change fifth story dragon knight series released print future anthology dream dragon book read standalone without leaving reader confused story best enjoyed read entire series order trust regret series order lady lair dragon knight iithe ice dragon dragon knight prince spy dragon knight samhain wing change',\n",
       " 'actually part dragon knight series introduced character would beneficial upcoming book series looking hot sex also great story line introduces character become common place dragon knight series progress young woman book strong character although little lost actually saw flaw dragon knight becomes involved liked author took story look forward series',\n",
       " 'm arc done wonderful job entire series book particular brought life special love creates single family two knight dragon partner one special woman depth love course passion joy read',\n",
       " 'fifth book bianca arc dragon seriesi loved story character amazing expectedi love series would highly recommend anybody',\n",
       " 'dragon knight series take short turn away main character tell story lucia marcus lucia commoner working serving maid local tavern lucia trying help dragon sir reynor hurtand ill skill job finally go castle get help healer immediately involvedwith dragon knight sir marcus partner sir kaden reynor mate lucia country helios raised jinni commoner background limited healing ability afraid dragon sir marcus totally captivated partner also attracted spite feelingsof guilt reynor injury three become family reynor healed able fly learning lucia background act part serving maid becomes part attraction two knight story listed number series enjoyed story liked character development sure regular book series provides intergral part plot reading entire series miss book',\n",
       " 'dragon knight world knight ride dragon slay wing change dream dragon novella read firedrake give backgroung insite helos gryphon advance story line enhance another enjoyable read dragon knight relm',\n",
       " 'read book series loved everyone character amazing highley recommend series anyone love romance action secret sex intrigue even pre ordered next book due august wait bianca arc writing amazing get reading series going start reading book half good series awsome thank bianca giving wonderful time reading book',\n",
       " 'touching book dealing two people lot scare overcome able',\n",
       " 'book state part series follows hired cowboy book nice read continue read book author',\n",
       " 'really liked book able get free kindle ereader enjoyed main character character well really like read american western cowboy romance hunky good looking read one sitting thats good wait read book author',\n",
       " 'good read enjoyed couple took get love enjoy donna alward love story',\n",
       " 'enjoy book even though similar previous book author clean though',\n",
       " 'marriage circle good book enjoyed whole book would suggest everyone read',\n",
       " 'linda howard book rock enjoyed reading book since read several mackenzie book past year since started reading linda book',\n",
       " 'like linda howard book one best mackenzie series well written nice plot engaging filled family oriented character mari mackenzie daughter youngest among wolf mary child sweet like father also loved horse marriage nice wonderful man something remember help cute niece stole whole show',\n",
       " 'love linda howard book esspecally love machenzie magic read one',\n",
       " 'mari story star bump half star owing gathering family end story unfortunately suffers telling showing plot detail chemistry mari alex suffers well reader thrown present without adequate description past meeting attraction couple suspenseful aspect novel also suffers flashback scene would helped tremendously familiar mackenzie family book expect instant attraction hero heroine developed one',\n",
       " 'mari mackenzie story working horse trainer prestigious owner kentucky wake one morning find bed man know mari find middle investigation involving insurance fraud realizes met man going marry mari journey altar short one engaging story alex macneil return ruth wyoming meet mackenzie clan opportunity check member family watch alex face wrath five brother question motif entertaining story excuse revisit mackenzie mountain make worthwhile',\n",
       " 'always enjoy reading linda howard novel keep turning page start finish without putting mackenzie family entertaining series would recommend book anyone',\n",
       " 'enjoyed book fun catch youngest mackenzie wish book full length story good short story',\n",
       " 'enjoyed book much mackenzie series fun read recommend adult wait get started next one',\n",
       " 'second hawke series reading three quarter way rate anyway love looking forward reading two loaded kindle first read ride devil one good keep good work robert vaughan',\n",
       " 'book different main character hawke pianist story simple one subterfuge still found relaxing',\n",
       " 'great story original theme hawke realistic character non judgemental relationship woman night refreshing dancer villain love hate really enjoyed storyline base satisfactory completion story present',\n",
       " 'enjoyed reading story entertaining written well protagonist likable unique concert pianist gunfighter unlikely combination author made work see author written book featuring protagonist book plan try recommended fan classic western',\n",
       " 'really enjoyed book totally finished hard put wait start reading',\n",
       " 'hawke dancer finally meet spark fly enjoyable western vaughan well informed concerning happening developing frontier regret buying novel',\n",
       " 'good book keep interested way thru book character hawke sure one guy mess enjoy reading western sure glad bought book',\n",
       " 'vaughan written great western well chosen character hawke supporting character enjoy reading western want read',\n",
       " 'different type western well written read four book one interesting read hard stop start book would think world renowned pianest playing honky tonk music saloon would quick draw yes little different interesting western liked four read give four em five star',\n",
       " 'hawke interesting unusual hero author writes extremely well hold interest end fun read',\n",
       " 'liked book although must say understand big deal called secret want hero know enjoy book felt like ended well good read',\n",
       " 'francesca hayley affair italian millionaire angelo falcone tell keep affair happy decision three year later angelo another chance francesca never saw outcome coming many people like book like kind love never get enough',\n",
       " 'love billionaire series especially europians watch cathy williams work really enjoy work anyone remembers old story love work keep cathy watching',\n",
       " 'liked book understand problem never asked marry proposed going england like wanted continue wanted closer hand got vindictive said crimeney course meet decides seek revenge um wanna permanent mistress never said word let alone l word knew man set rule decided change forgot tell get past poor thing book pretty good francesca angelo really chemistry left rooting two especially set aside pride fessed think good enough',\n",
       " 'book bad totally funny take standard old style harlequin plot change heroine another male change dialogue even endearment add couple inconsistent werewolf detail go book sort bad left giggling',\n",
       " 'like type story love conquers end bad guy get deserves laine devlin mate discovered devlin save laine beaten raped alpha pack leader devlin business partner moving company new city devlin sent scout new location company interim also try connect pack city unfortunately pack leader cruel unfair ruler eye set devlin newly discovered mate laine needle say change leadership',\n",
       " 'j l langley created wonderful world werewolf mate love romance love fun tale indeed devlin visiting another town looking place business partner move construction company sizing local werewolf pack introducing scope feasibility moving find ruthless pack alpha abusing omega werewolf named laine terrorizing rest pack one thing werewolf recognize mate instantly special person fate chosen omega laine devlin mate quickly claim laine must work dispatch alpha remove post town peace laine live happily ever erotic nature wonderfully sexy romantic funny witty around good fun pace swift though danger presented within page seems dispelled easily make real suspense still totally fun engrossing story heartily recommend especially recommend without reservation caution order two story set universe character book mentioned without reservation enjoy two book still wonderful entertaining tale',\n",
       " 'fan series recognise overall wold short story could read unofficial prequel series character mentioned briefly though name without reservation unfamiliar novel would read first full novel enjoyed one find laine irritating like others everyone perfect nice change short read enjoy series probably like addition well',\n",
       " 'reading sample disappointed rest seemed like would mature writing deeper plot however plot rather simple character feel two dimensional time almost annoying laine one character particular weak character focus mainly clumsy would say immature part character one perfect depth added make clumsy characteristic endearing show laine could act like teenager least book sex plot progession advise anyone buy story even cheap price short really make reader feel emotion',\n",
       " 'liked layne dev leading pair well matched balanced usually like one half couple seems contributing relationship half although laine look like typical damsel distress also loving caring try somewhat get trouble layne cute true read big smile face time sometimes want feel good put fast light fun read book recommend pick like fight scene satisfy seemed edited away know explain felt rushed although potential something exciting maybe short story found romance ok lacked bit action angst even admit prefer angst tolerable level mine pretty low rating star next book series going tbr list',\n",
       " 'first mention bring finish book stopped ca like fantasy werewolf vampire general reason seem able like genre mm literature especially werewolf mating two guy see suddenly supposed live love life build nothing well wanted give genre another try andlone example bad one however boring unimaginative story read started genre far general happens beginning warned beginning might exciting really intend cause heart attack something laine hey mate dev seems way start sex next morning character make plan family introducings etc next day build suspense tension nothing well exactly happens word book course really make interesting whatever happens next gave might get tad enthralling already fed beginning really believe going anywhere near great mention sublime let opinion scare away happen like werewolve mating plot mm book problem immediate mating falling love build whatsoever know maybe like',\n",
       " 'turned favorite story anthology heart ash found idea alpha omega werewolf romance refreshing yes laney much like uke traditional yaoi story like yaoi little effeminate may seem stereotypical men like certainly gay men even bottom yet rarely see reader griping many romance strong handsome men either short ugly avoid stereotypical fantasy romance real life laney clumsiness little top relationship dev sweet hot would liked character developed short story novel langley set stage without werewolf series get depth next two novel overall enjoyed everything author especially werewolf check next two without reservationsandwith caution highly recommended',\n",
       " 'whole instantly recognizing mate thing totally love eye teeth shifting emotion run high cool like genre like family loyalty friend course love romance like throw decent wolf action bam got story particularly liked one couple decided really quickly beginning plenty story got idea page end couple even going work two guy even feel way story work together solve big problem alpha enjoyed',\n",
       " 'accidentally read second book series first say liked better author really talent take time expand one thing found oddly creepy curious devlin name used gaming avatar pseudonymn laine totally type guy dig j l reading journal lol really though book help melt icy heart believe romance',\n",
       " 'absolutely love funny werewolf j l langley without reservation love dev strong werewolf arrives asheville business like every good werewolf want meet local alpha give respect leader local alpha really piece shit meet alpha trying rape lainey omega werewolf dev save lainey find mate lainey little tiny beautiful man red hair amber eye propension making trouble also eager puppy bed dev like much matter spend life take trouble mate like book j l langley humor main aspect novel way make happy leave smile face also eager read wait read next enstallment wonderful series',\n",
       " 'read book werewolf mate regelance book choose would least favorite due much action enjoy thought couple adorable together',\n",
       " 'laughed awful lot reading book loved sucker story involving toppy top mouthy bottom laine absolutely adorable biggest klutz worst coordination driving record planet say exactly pop head devlin alpha looking relocate pack dev dominant sexy strong smart great sense humor good thing since best friend wife laine catalyst disaster wonderful short read truly wish longer',\n",
       " 'beginning book charming funny laine character quirky sweet adorable hilarious penchant getting trouble combined total klutz make character completely lovable character fall love well grammy laine grandmother cole dev best friend cole mate caroline like laine penchant getting trouble complete total klutz story short yet sweet truly enjoyed reading laine keep dev toe shenanigan keep giggling throughout story enjoyable read see kiwi complete sweet pea review mrsconditreadsbooks com index php p',\n",
       " 'like series lainey character waaay much clutz lol',\n",
       " 'langley never fails deliver love good shifter tale one definitely plea dev reluctant hero rising occasion save mate lainey abusive alpha lainey spunky cute klutz keep handsome mate reader laughing groaning turn antic fast paced sensual story kept turning page find happened next one permanent place reader enough',\n",
       " 'thought quick read perhaps liked soo much able read fast took hour pretty face paced hope see dev laine enjoyed jumped right action slow dev new town best friend cole mate caroline going relocating work dev stumble upon local pack assualting omega get angry go recue laine local omega filter mouth say mind joy realized early book destined mate local pack alpha continues torment laine dev decide proctect new lover mate',\n",
       " 'brief story enjoyable lot hero heroine married long enough fall rut husband twin always wondered whether wife might preferred brother twin swapped place couple time married couple courtship husband always felt le socially adept twin heroine always able tell difference twin never doubted married twin wanted marry still settled comfortableness want passion fear husband may strayed though breakfast make outrageous statement possibly taking lover jolting loving inattentive husband action nice story loving couple short story however',\n",
       " 'loved story main character amelia married want recapture husband attention decides take lover beautiful love story keep wondering amelia husband highly recommend story enjoy romance',\n",
       " 'lady amelia decided take lover announcing husband breakfast probably way begin adventure victoria alexander way making laugh one else antic husband wife truely hilarious really want lover husband attention really want take lover offer help enlist help twin brother renowned rake achieving true goal really one funniest book read long time victoria alexander always favorite',\n",
       " 'thoroughly charming short story typically victoria alexander enjoy writing enjoy book happen love breezy style sophisticated character twist story complication identical twin heroine hero taking full advantage similarity hint mystery confusion added right touch spice one scene particular made laugh loud go wrong one',\n",
       " 'lady amelia secret lover delightful short story couple love dearly grown complacent comfortable marriage funny touching clever loved way table kept turned plot wove character prose flow beautifully joy read lovely',\n",
       " 'lot action lot sex much else charcters lack depth hard time finishing story sure glad free',\n",
       " 'lot question lot answer tied together put book plan reading straight',\n",
       " 'give five star unbreakable sydney somers fantastic action filled story tradition buffy vampire slayer found almost impossible put chemistry main character well secondary one outstanding story first start jordan partner lover gage brutally attacked war demon process fatally injured gage end dying arm fast forward five year future jordan still cop day night kicking demon slayer attitude imagine anger hurt discovers gage really die night instead stayed away last five year misguided attempt protect shadow demon hunt slays every night book definitely keeper love story demon hero hot sex great love denied sure love unbreakable',\n",
       " 'book bad think ever read something quite like plot book bore plot summary know reviewer fond like fantasy urban fantasy type novel think might like one aware book rather racy bit think kid probably read problem book chapter demarcation chapter demarcation make much easier see far along person book close person end chapter need find stopping place time give shot might bit escapist fun liked character wait read next one',\n",
       " 'refrain giving star book might bought full price feel injustice author judgmental putting book freebie draw interest genre said demon tale one would choose read favorite author fan horror supernatural fiction reserve right tad critical set story pre prologue like great tell history demon came well written interesting gave hope would great book another reviewer stated though actual prologue rather cliche ridden gage lethal charm jordan resisting every turn melted kiss pushed know pre prologue shadow demon roam earth evil feed emotion jordan heroine vigilante destroyer cop day demon slayer night witnessed brutal murder partner lover sword shadow demon storyline bad lack development character jordan stubborn feisty much else learn twist tale shocking expected get know enough character really care twist revealed gave oh reaction wow never would guessed shocker title call repetitive become fight scene replay worse sex scene basically repeated think even reader love racy sex scene would disappointed rd replay skipped altogether nothing new',\n",
       " 'got one free kindle well written plan buy book series',\n",
       " 'absolutely fantastic series sexy vamp scary bad guy well told loved hero heroine equally pick favorite want please',\n",
       " 'enjoy elegant language appreciate good editing year old woman guardian bright finished first book read introduction second called quits author writes heroine intelligent mean particularly author said heroine stupid thing',\n",
       " 'maggie shayne written terrific collection vampire story intertwined loved following life eric tamara roland rhiannon story line james child adulthood also good story portray vampire simply people live without sun need blood survive must read',\n",
       " 'book great read definitely read book author well written move well little romance little fun one',\n",
       " 'became attached character liked series part complaint character kept saying monster people immortality agree however author kept calling dark gift like either good people different dark monster thing sure put word author kept going character thought example jamison thought disgusted angelica kept going getting annoying yeah ended skipping section character got point st time explained thought feeling part liked series point bothered',\n",
       " 'love maggie shayne one best loved series mich get part two really good several book one connects great book',\n",
       " 'wonderful collection full length book loved every one unique vampire story',\n",
       " 'loved series book always like maggie shayne kept busy day keep tissue handy lot vampire adventure',\n",
       " 'get book amazing read regret purchasing able put',\n",
       " 'really enjoyed following character story vampire secret government agency conspiracy intrigue romance could want',\n",
       " 'wonderful book vampire lover fantasy loved vampire reader maggot shayne book one favorite',\n",
       " 'love maggie shayne book several story come together good read recommend',\n",
       " 'story connected went unique superhuman skill never let use skill till last chapter annoying last story book sweet care set read book author good pt',\n",
       " 'loved story couple missed take another world great character awesome story love must read maggie shayne fan',\n",
       " 'vampire story place loved vampire maggie shayne vampire human ever much nicer human love story five intertwined together one big surprise one guessing stand alone loved six store delightful read',\n",
       " 'loved thesis first came think one time favorite series always',\n",
       " 'wing night series enchanting series series led maggie shayne adore fell love vampire series reading collection served deepen love entire series jumped chance collection kindle app part one contains favorite character rihanna roland tamara eric list go grab collection step enchanting story immortal vampire embrace night fall love amazing character p maggie getting read return character new series catch one reading wait new novel',\n",
       " 'love book maggie shayne awesome story great read anyone love romance',\n",
       " 'wing night part happy chance revisit series cannot wait',\n",
       " 'collection story shockingly well written plot well thought character depth story fast paced short story could give anne rice run money',\n",
       " 'slow reader get read break character beleaveable story looking forward till next break read wait buy wing night part ever come movie love see maggies book collection awesome loved every one',\n",
       " 'story kept attention hard put author weave tale help develop kinship character fantastical world',\n",
       " 'lost much sleep reading story could put kindle keep reading thank wonderful adventure',\n",
       " 'maggie shayne intertwines people way captivates plowed story great plot action',\n",
       " 'wing night continuous arrangement love story telling character came beautifully written flow one book next would recommend book anyone looking great paranormal read',\n",
       " 'loved th book favorite love version vampire keep going book wish last little longer though',\n",
       " 'absolutely love maggie shayne book love story stand alone also tie together reveal wider world collection disappoint volume reader get follow life multiple vampire couple try secure place world find true love stay clutch evil government agency hell bent destroying great binge reading material',\n",
       " 'omg believe story finally together one book loved maggie shayne work year ecstatic hear reprinting done bring first part series together excellent writing perfect paranormal story vampire really enjoyable work read',\n",
       " 'paperback series keep reading reread book time rock',\n",
       " 'ahh maggie shayne year ago back imprint silhouette shadow eric marquand stole heart first book ever read make vampire romantic lead kicked genre exploded stopped truly groundbreaking thank much leading way clearing path read book human become vampire contain rare blood antigen vampire one human antigen chosen feel drawn protect government agency dpi department paranormal investigation capture make lab rat every vampire possible using chosen capture hesitate kill series get complete story two character book still get reacquaint favorite along way read book teenager hesitant reread adult many book loved back fail resonate wing night disappoint enthralled truly believe without series would twilight midnight breed blackdagger brotherhood saying wing night inspired book saying wing night created genre made popular',\n",
       " 'book well written thought story grab think mood time nothing related book',\n",
       " 'book description describes collection novel part vampire series first five book revolve around group vampire chosen well despicable branch cia known dpi follow trial tribulation love hunted dpi final book part collection revolves around another vampire chosen story well written found fully pulled story first story became involved character really grew love story continued first five story built last one got know previous character well introduced know character box set highly enjoyable read look forward reading second set soon afford love vampire story collection refreshing change plethora vampire novel market',\n",
       " 'thought read oh maggie shayne book wrong good entertaining recommend highly',\n",
       " 'confess read many year ago got special offer kindle version six book one time decided might nice revisit much end last one immediately popped site ordered next six delivered kindle uninterrupted reading recommend like good storyline vampire aspect supernatural well political aspect romance violence albeit non horrific type read anytime daytime night time loose sleep gain desire dark',\n",
       " 'series book best vampire story ever read fast paced great lovable character plenty action mention sexual tension throughout real page turner made want part family lol want read next series probably wait till someone give gift card price second series little prohibitive hand book definitely worth yo love read lovable vampire',\n",
       " 'intense book followed group vampire told story vampire chosen felt portrayal vampire interesting male hot female enticing truly enjoyed story thing would caution really must love vampire thing vampire enjoy book',\n",
       " 'maggie great job hooked wont give spoiler must say recommend book story flowed easily kept wondering',\n",
       " 'first disappointed broken separate story till realized story tied together character adding new character story absolutely loved book',\n",
       " 'series first one sucked vampire reading world general picked wing night could put many amazing character love much maggie shayne never cease amaze thrill incredible book get disappointed',\n",
       " 'first time reading collection paperback copy kept year totally engrossing set book maggie shayne one favorite paranormal author one sure pick one book enjoy wing night part contains six wonderful tale creature night known vampire read maggie line vampire story original one one came see people like fall love least maybe like paranormal romance get collection disappointed disappointed give five star looking forward obtaining book kindle nook',\n",
       " 'good author reading book author wish leave hanging outcome',\n",
       " 'second book patrice michelle bought really enjoyed one great story would recommend book',\n",
       " 'anticipation good book make blush point overall good book would suggest others',\n",
       " 'deidre nelson back ventura texas watching parent bedand breakfast away jonas mendez town sheriff last time deidre jonas saw say goodbyebefore deidre left new york ten year ago ten year long time attraction simmered betweendeidre jonas strong ever anticipation whatmight become even stronger anticipation perfect title jonas deidre story ilove got back course time sbetter lot heat heart anticipation sexy romantic story nannettereviewed joyfully reviewed',\n",
       " 'great story thought author rushed opening heart kinda quick would happened anyway love story right way jacob desiree remember felt year earlier still held moral great story great read reconnecting person loved also finding heart learning love',\n",
       " 'anticipation good story well written enjoyed book keep good work also thank',\n",
       " 'love cowboy romance patrice excellent romance writer read number book keep reading rather read watch movie',\n",
       " 'story well written brought smile face story two people struggling get always belonged',\n",
       " 'go wrong hot steamy cowboy little short yet good story readable hour',\n",
       " 'rafe emma forever luved book much wish could read two sad book short guess oh well happy best ever',\n",
       " 'eastern texas age five emma radcliff made monumental announcement going marry rafe sinclair done lot growing fifteen year since decided going marry wearing breech working horse father ranch suit fine plan thwarted father insists marry rafe rafe sinclair really interest getting married stipulation grandfather force issue married time turn thirty loses circle ranch since known emma entire life seems like relatively safe choice last thing anticipates little hellcat insistence agree stay bed make matter worse little emma looking mighty gown discovered want every way since emma insists sex clause rafe counter clause reserve right change mind void clause time though still entirely comfortable situation emma agrees also request allowed work horse triple r want well almost thing go exactly according plan emma father refuse allow return work horse marriage take place counterattack insistence take horse rafe emma marry sooner vow spoken trouble start emma always attracted rafe rafe definitely finding difficult adhere marital privilege clause guy discovers new wife sexiest thing two leg well man word grab take bed going seduce emma stubborn persuasive one hold longest beth williamson present reader yet another wonderful historical tale contribution leather lace series branded emma first page face afraid go convention wait read find even rafe tame rafe grew knowing emma course never seen sort sexual way seeing practically salivating thinking bedding wife m williamson even throw several supporting character love hate hate love either case definitely unique fun sure keep eye leather lace series book rebecca going contribution high noon released november th melissa schroeder seduction widow mcewan released november th chrissy dionne courtesy romance junky',\n",
       " 'love leather lace series really well written story depth feel love character make romance believable branded yet another victory thumb highly recommended',\n",
       " 'emma radcliff loved rafe sinclair life vowing tender age five marry live ridicule one statement hardened heart rafe find father given permission signed marriage contract rafe emma hurt angry know deep man life rafe could never love woman like set negotiate marriage term rafe sinclair believe grandfather put stipulation inheritance marry birthday ranch life longer choice find wife rafe look forward politics go along wife hunting however problem solved emma radcliff father agree marrying emma get emma agree inheritance safe rafe wife emma rafe learn team cantankerous way emma opinion rafe angry time even winced displeasure thought rafe loyal hero worthy patient kind emma wished bit softer sexy virile man beth williamson came emma characterization time read last word closed branded knew without doubt emma meant rafe vice versa beth williamson never fails deliver book keep entertained edge seat storyline branded unique loved ended nobody writes western historical romance like beth williamson proud one biggest fan',\n",
       " 'story pretty boring found skimming page main girl really drove nut top stubborn rude time erotica book looking quick read like hour top really book',\n",
       " 'enjoyed christmas romance kindle revisit anytime want read',\n",
       " 'another reviewer wrote rebecca winter story prince gushed much young child became alarmed could barely finish story bothered usually read rebecca story excellent clean one even pas onto friend save money buy else throw trash like',\n",
       " 'charming anthology love christmas story different enjoyed probably read',\n",
       " 'though short story true bianchin fashion story love crossed due ow lover split reunite four year later child know get marry side source still bar way love verbal dialogue true bianchin form',\n",
       " 'love',\n",
       " 'read least three time yes still water bit perfect holiday story love faith forgiveness like book collection one always make happy though thought idea belief really christmas magic faith love',\n",
       " 'liked hero heroine well matched loved know even know love literally idea loved even want left month found month pregnant baby month old caught heroine take thing granted talked hero assistant told sleeping together insecurity pregnant woman thought wanted someone else faithful time apart always plus favorite part told proposed waiter going propose tonight g f leaf hero get leaf say anything come back minute later ring fun story worth time read',\n",
       " 'book sweet h really annoyed towards end really stupid absolutely loved h stuff book thought bit much thought bit rushed overall thought really great sweet adorable touching romance novel would definitely recommend book anyone everyone',\n",
       " 'really enjoyed book book great romance fight turmoil love author great wait find',\n",
       " 'found emotion book intense author excellent job writing romance could feel passion anna nikos misunderstanding added suspense book anna strong heroine backbone pride came strong worked well story controlling nikos needed someone stand sample chapter felt warmth breath could smell skin scent soap hot desert sun something something describe made yearn ferocity heart hungered christmas child nikos hurry second took lip finally touched exquisite torture finally kissed world seemed whirl around making dizzy making knee weak',\n",
       " 'great book second book jennie lucas read liked book great romance fight turmoil love author great wait find',\n",
       " 'one favorite author sometimes predictable always add extra twist book fun read element good book humor sex fascinating character great love story',\n",
       " 'made laugh enjoyed book one different writer change location character use story book start reading book want put',\n",
       " 'funniest laugh loud book read long time great story great character',\n",
       " 'recently stating seldom find star book read row naturally pleased read stephanie bond nothing good book hero reviewing hotel recently bought big corporation stay hotel without manager cindy aka heroine knowledge hilarious happenstance start first page continue throughout book cindy hard working lovable accident prone good hotel manager eric hero hatchet job hotel crazy heroine want pad report chemistry great h h naturally needed good romance humor top notch great great read highly recommend book thank m bond entertainment',\n",
       " 'first book stephanie bond started reading book bedtime thinking fall asleep page laughing much finish one read even meant staying till thoroughly enjoyed',\n",
       " 'read stop wedding author impressed purchased one disappointed found rolling eye rather laughing stated review storyline hackneyed interaction forced rushed believable',\n",
       " 'delightful silly story stephanie bond know make reader laugh quirky character unbelievable story line although outcome predictable way get slap stick laughing',\n",
       " 'laughed hard throughout entire book long time entire cast character endearing would love stay chandelier hotel although would steer clear hair salon would love find story like one definitely recommend well written book looking good romcom',\n",
       " 'difficult time trying go kindle fire looking title please satisfied',\n",
       " 'quick easy read story engaging well written character real story line believable enough lovely story book description catch interest reading book',\n",
       " 'another downloaded kindle enjoyed stephanie bond book sure enjoyable others',\n",
       " 'funny book go wrong believe happens woman loved',\n",
       " 'tee heed chuckled laughed loud antic naughty nice real romance comedy delightful movie would',\n",
       " 'fun holiday story interesting character story unique cindy getting really funny situation bond good writer easy read',\n",
       " 'fun book read nd time sure familiar love reading seasonal book season',\n",
       " 'stephanie bond excellent author u enjoy romantic comedy added list favorite author book delightfully humorous hope continues tickle funny bone year come',\n",
       " 'love stephanie bond comical story keep wanting wait another one romance clumsiness little calamity lol',\n",
       " 'good hoilday book g good reading love people book would recommend book',\n",
       " 'cute entertaining past read friend family lighhearted really ejoy author stephanie bod',\n",
       " 'enjoyed holiday read purchased box set included enjoyable holiday romance read fun read holiday take place holiday',\n",
       " 'agree review funny good character good plot ending way pat abrupt caught suprise like oops time gotta end otherwise good',\n",
       " 'liked book read stephanie bond like way see main character view one seemed bit rushed though felt like could much story needle say another funny love story bond definitely worth money',\n",
       " 'stephanie bond entertaining never unnecessary descriptive sex tell good story without junk',\n",
       " 'christmas romance make crack opening scene book mishap pretty much set tone throughout whole book yes many u relate main thing romance number lie misrepresentation throughout thing romance honest beginning end okay loved story much really care think sad anyhow book heartwarming funny highly reccomend anyone looking nice holiday read',\n",
       " 'one funniest book ever read stephanie good writer outstanding laughed hard tear eye quit awhile course finished book always pick stephanies book',\n",
       " 'stephanie bond become new favorite author really great bringing story together keeping hanging end find hard put book start',\n",
       " 'stephanie bond writes funny romance easy read funny enjoyable story stephanie bond reader',\n",
       " 'enjoyed reading story character good good read predictable expected',\n",
       " 'found cassie ross tale surprisingly refreshing far erotic romance novella go even ross initial seduction romantic word pillow talk completely captivated interested found could put story dialogue emma draw upon morning conversation compell even hardened bugger romance novel fall love rake like ross disappointment would loved another word well done emma',\n",
       " 'london time another meeting brother absinthe club time ross benson turn share wild tale sexual exploit resulted reckless moment ross benson wealthy titled thoroughly enjoys london social scene entail earned reputation among woman careful avoid interacting marriage minded young woman innocent last thing intends happen seduce sister best friend timothy cassandra rollins far prefers life country detests crowd care le fashion interest thing woman covet true bluestocking thrives furthering knowledge world love book trait share shallow society woman adoration ross cassandra sleep interrupted return brother ross voice singing bawdy song certainly meant lady hear men obviously inebriated grow concerned singing stop hears thud low curse open door check timothy passed sitting position outside bedroom ross trying unsuccessfully rouse manage get timothy bed ross admits remember guest room cassandra make offer escort room end climbing bed formidable aunt maidenly point view offer assistance may turn mistake getting ready leave ready bed ross request kiss good night find deny request soon want deny pleasure find bed come regret result reckless moment reckless moment third book emma wilde brother absinthe club storyline full loveable character passion suspense come eagerly anticipate series adored cassandra different society lady extremely intelligent honest mention beautiful combination trait manages snare ross affection keep firmly enthralled ross living privileged lifestyle long even see self indulgent jaded marries cassandra little issue past pose threat admit fascinated twist storyline personally recommend reading book series honestly loved easily read stand alone story detract enjoyment chrissy dionne courtesy romance junky',\n",
       " 'first book read series already downloaded rest short enough keep reader satisfied',\n",
       " 'ross benson viscount winterton recently returned africa jaded rake man object many woman fantasy timothy rollins arriving back ivydale manor drunk wake young cassandra timothy sister help men bed end bed ross lifetime crush repercussion none counted ross handsome sought never inclination toward innocent young woman unfathomable reason cassandra tempts like woman seduces night drunken stupor choice marry alluring cassandra reckless moment charming story opposite attracting ross cassandra burn page explosive chemistry foundation building marriage convenience forever love cassandra woman many appreciate independence common sense genuine love ross family warm witty charming beautiful vain bone body endeared even ross hand charming handsome rogue jaded spoiled cassandra brings peg clueless love baited breath reader watched fell cassandra spell day underlying mystery ross past keep reader guessing intrigued storyline journey falling love mystery threat couple safety thoroughly enjoyed emma wilde reckless moment intend purchase previous title scarletreviewed joyfully reviewed',\n",
       " 'read everything author written decided read series even though seemed raunchy book quite steamy first book found really enjoyed like way author develops character like way insurmountable misunderstanding love way h always fall head heel h despite wanting despite alpha love good romance author always delivers',\n",
       " 'cannot begin tell many time passed book look interesting seemed like one book written samantha cruise cannot good boy ever wrong eroctic sensual passionate sexiest hottest steamiest graphic book ever read say hot say sexy say extremely eroctic let repeat sure samantha cruise written book date able find hope writes book book hot made left husband happy man would highly recommend book great job m cruise',\n",
       " 'book started hot lost steam quickly would preferred lot sex compensate detailed storyline',\n",
       " 'like book probably would like admit thought good romance thrilling book enough read second book',\n",
       " 'going want interrupted one flat second reading one one full two sweltering hot men little lady loved level expectation type book tends high side tolerant willing forgive minor thing heat hot enough wink surprise shocked found really great story filled interesting multi dimensional character one lawman outlaw cowboy rancher doctor rich folk even indian captive yes plot whoa nellie devin man die hot alpha male way caleb also shocker always quiet one give outward appearance propriety shock sock meg well boy howdy develop novel remember last time really got invested relationship talking kindle may old crazy like blockbuster movie list director completely worth dollar check fantastic want',\n",
       " 'buy romance book never know going get could put story wonderfully written love second chance romance story way followed blossoming high school romance betrayal hero heroine finding way back finished book immediately went searching book author sad see none m leedy write another book officially auto buy list pick book romance lover disappointed',\n",
       " 'mind author write back story come half book early year full chapter beginning year old way high school beyond nothing really broke lizzy payton apart first place half chapter even relate happened anyway extra added chapter became boring repetitious ask admit first chapter started skimming rarely ever ever would recommend book sorry say',\n",
       " 'honestly remember book top head sadly would say nothing stood',\n",
       " 'really sweet romance always like story h h high school sweetheart could used editing typo example perhaps little long page nicely done enjoyable looking forward book author',\n",
       " 'remember first love many u thought forever love life go high school thinking met love life till something happens stand room person payton lizzie kind love put book mean lizzie thought end sometimes hurt people person love wait see book author anything like heart lead home would buy second regret book purchase',\n",
       " 'book started good book started skim repetative h get picked get picked afterwards get picked ok h h finally start relationship almost half way book back paying attention spoiler h cheat h nemisis tell mad fast forward year later come back town h want win back attempt make jealous making girl cheated front pretend go hope drive h back arm maybe one illogical thing ever heard stupid idea girl girl cheated moronic could dealt slow story middle could even gotten many romance cliche book h attempt woo h making ow front h ruined book bother maybe like book',\n",
       " 'cannot beat edgar rice burroughs rousing tale though would classify pre teen likely audience though great u old codger',\n",
       " 'real star book author writing although somewhat baroque fascinating product real wordsmith considering written subject matter hard put story however bit primitive read story found making movie unfortunately movie box office bomb film true book understand think many would read book first real joy writing necessarily story',\n",
       " 'john carter one first introduction reading sci fi enjoyed book young man read disney movie came yes movie train wreck book worth read base reading book movie recommend series book younger reader',\n",
       " 'bought series heard movie recently needed something read trip never read anything author course seen tarzan movie kid pleasantly surprised although take getting used style writing thouroughly enjoyed reading novel',\n",
       " 'familiar story movie preview became curious ordered collection amazon presented right price story line captured attention author took one great fantasy ride story story enjoy fantasy get collection price right',\n",
       " 'let begin saying avid sci fi reader fact normally read genre download adventure john carter mar original five story sure maybe reading h rider haggard allan quatermain series saw similarity story aq jc chock full adventure nonstop action take place exotic location africa mar easy read jog treadmill probably reason maybe subconscious nature storyline princess mar first book series already mentioned say much generally though story creature always war green martian ugly tall unemotional v red martian attractive human like full emotion lot warring going planet barsoom mar green martian red martian green green red battling red come captured one time another side win green red heart betrayed green red imprisoned ultimately none earth man john carter ex captain csa american civil war unwitting traveler strange world also love story sandwiched action adventure segment john carter fall love beautiful princess dejah thoris red martian reason mentioned conflict really suspend disbelief remember written thoroughly enjoy reading series star',\n",
       " 'wanted read watched movie name glad burroughs tell great story bit long winded time overall story great worth read',\n",
       " 'great place go need break everyday life like try tarzan well may surprised haow much adult read really though read young teen well',\n",
       " 'seeing recent major movie prompted pursue reading original series novel found highly entertaining captivating read long ago writing good bit dated burroughs still hold attention writting may seem little juvenile thrilled time read kindle recommend simply wish read series purely entertainment value',\n",
       " 'barsoom series edgar rice burroughs princess mar story v book collection magnificent captivating apparent first chapter edgar rice burroughs genius wonderful story filled spectacular thought imagination original epic enthralling unable put chomping bit read next four book collection true master sci fi adventure genre par vance well god mar edgar rice burroughs hectic chaotic frenetic pace continues john carter son carthoris tar tarkas take issus black rescue dejah thoris princess helium massive battle unrelenting treachery deceit continues fuel fusilade destruction enemy air fleet pulp sci fi adventure best make one entertaining story time pen master storyteller warlord mar saga action continues unabated third book barsoom series fantastic almost constant conflict confronts john carter prince helium fight release beloved dejah thoris budding love son carthoris thuvia ptarth brings joy house edge seat battle lord thenes matai shang minion thurid keep awake night jed come together unite jedakk jedakaks warlord barsoom thuvia maid mar carry expands epic collection story book iv series shift focus away john carter son carthoris thuvia love life enduring many hardship death defying battle contraption carthoris rescue thuvia receives blessing kulan tith designated husband marry stead although bit repetitive event confrontation similar previous book never le thrilling roller coaster ride exhilarate enthrall throughout onward v final book collection chessman mar least favorite book barsoom series loved pacing one original imaginative creature humanoid creation science fiction ghek kaldane bantoom kaldane unquestionably one unusual unique creepy entertaining yet unsettling being ever conjured inditer sci fi genre simply wonderful amazing creature story shift carthoris thuvia new heroine tara princess helium suitor gahan jeddak gatholian love series spite predictability occasional redundancy true classic movie work',\n",
       " 'burroughs barsoom novel among first science fantasy book read child long ago fact still eleven volume original ballantine book paperback stashed box along numerous work heinlein clarke asimov others stand idea giving least know read digitally want bad entire series part set burroughs writing style would considered comically stereotyped hackneyed modern standard theme chivalry bravery respect others timeless even though might considered style modern standard idea worth preserving imo type story well grew type story want make sure grandson',\n",
       " 'bought book read thought like read like fantasy recommend book anyone like fantasy also',\n",
       " 'loaded kindle fire got christmas inexpensive includes edgar rice borough john carter story let say first liked disney movie john carter mar clearly lot people looking first book kindle really pleased kindle edgar rice borough language turn last century since story take place preceding century seems appropriate story bit formulaic heck people read dan brown clive cusler book enjoyed story might suggest complete unexporgated collection edgar borough story little expensive probably add next fun full turn last century value situation little contrived good read short book packaged together disguise originally produced serially released year apart probably stand merit bit better given bit breathing space book great stuff kind manifest destiny way regard cliffc',\n",
       " 'first three book fit together wonderfully opening trilogy john carter mar series pure fantasy adventure book topped two somewhat lesser work still enjoyable interested sword planet fiction kindle ebook also check alan burt akers series direct descendent burroughs transit scorpio first series would also recommend talera series includes sword talera wing talera witch talera also available ebooks see lot folk brag book proud book look review paperback version see others enjoy well consider excellent modern continuation sword planet tradition',\n",
       " 'enjoyed set book much timeless work art much action adventure love suspence think required reading school great story',\n",
       " 'fun engaging story frankly enjoyed book much expected good action sequence continuous plot twist great story scifi fan',\n",
       " 'burroughs series classic genuine joy read ebook format',\n",
       " 'bought read saw movie tedious language changed much way female character portrayed indicative period novel written course science way base buth written long long ago another culture',\n",
       " 'diana bold written enjoyable story full rich complex character help root hoydonish american straight laced british hero enjoy story different approach romance writes intriguing tone yet none mimic except broad range storytelling emma come london one purpose mind use generous dowry win titled husband determined fulfill mother dying wish show american society shunned could land peer equally determined find man man could love michael need heiress able handle fire branded american strong enough let go british reserve love always longed fell love secondary character well emma father favorite character cut chase loved jane another favorite mine believe story strengthened book instead detracting altogether another solid story diana look eagerly next series',\n",
       " 'really enjoyed victorian romance diana bold hero always tried perfect always tamping need desire emma brash american marries money turn world upside definitely read book',\n",
       " 'michael emma lucien jane novel contains certain amount intrigue character half developed lucien jane separate book wager novella best',\n",
       " 'really fun read loved writing style character personality exciting read loved little twist end great story',\n",
       " 'girl meet boy get married nevertheless author writes quite well made interesting however constant interruption included keep main couple apart got irritating also realized would include explicit gross sex scene probably never would chosen book think first book overly sexual prefer anne perry type writing love custom th century england like jane austin',\n",
       " 'viscount michael blake nonsense somewhat staid man trying keep inheritance afloat father earl warren seems trying see quickly bankrupt marriage arranged duke daughter look money trouble finally behind lady question found compromising position michael brother go wedding need rich heiress one look like fit bill upstart american emma mark emma attracted michael think rigid liking spends time though proposes undesirable way decides consider proposal time spends kiss think suit way fit mold michael think proper english bride american heiress heartfelt look late th century marriage mart england new york drawn character well situation historical romance also intrigue spunky leading lady love upstart american enjoyed look marrying title money like see ton put place also like american heiress tanyareviewed joyfully reviewed',\n",
       " 'since father death penny plagued trouble ranch sinister character lurking though like idea much feel choice send mail order husband dreaming knight shining armor coming right problem despite professed pessimism regarding scheme penny jace engaging character making great equal partner called also falling easily traditional role meek woman strong protective man time fascinating see movement back forth two mistaken assumption side throughout story became frustrating end heartbreaking see character following noble action neither wanted glad worked end wish thing could resolved bit sooner humorous bit sprinkled throughout story great',\n",
       " 'great read husband special person anyone dream hero tied marriage',\n",
       " 'maybe maybe mail order husband story well played reader mind written well transport u reader back time drawing u story unfolds love book draw reader story first chapter',\n",
       " 'interesting lauri robinson put twist story keep inteerst end make wonder going turn recommend book read think anyone would enjoy reading',\n",
       " 'great story line penny heroine bi polar could done whole lot better character needed developement candy land',\n",
       " 'one ever heard marriage proxy yet penny chace weeknight shining armour figment imagination trial tribulation find truly second nod chance need stay truly want e return philadelphia',\n",
       " 'yet another story full humanly flawed character diana bold shy away hurtful emotion story absolutely love book make believe people could exist real world fact believe know daughter duke natalia know must someday duty marry father command however stopped dreaming war hero seems nothing like men society see large dowry look built reputation cold lady follows strict rule allowing two dance gentleman ball reality wish encourage man know meet father approval dylan unloved unwanted second son earl sold commission fund see harm participating silly wager get cold fish girl dance twice girl warm kind seems see like one else ever cared never counted losing heart may wagered bargained lose could totally relate natalia feared wanted something flaw like girl insecure heartfelt desire wanted hard time forgiving perhaps little immature daydream real could said diana hero started reading book recently found writes passion dedication true life possible cookie cutter perfect wrong hero must man man flaw insecurity sure see searching next diana bold book get hand get enough story',\n",
       " 'refreshing story loved heroine hero seem impulsive hero got easy money thing said heroine would loved see hero punished little heroine',\n",
       " 'london dylan blake spent twelve long year dedicated service crown sold commission hope father would allow take one many blake estate father refused dylan attempt finding comparable employment proving unfruitful may son earl situation getting dire little fund verge evicted boarding house staying father hatred blatantly obvious large dowry lady natalia sinclair highly sought young woman illusion many would suitor far interested monetary value besides perfectly aware father select future husband therefore endless party courtship technique pointless one man appeal captain dylan blake second son posse title dylan take great pride infuriating father better way accomplish arrive late father important annual ball receiving one prized invitation considered social accomplishment one hundred guest shindig dylan throw whole thing arriving late guest horrified dylan audacity natalia intrigued read newspaper article lauding military accomplishment would love man like court dylan escape stuffiness ballroom along friend lord basingstake dylan confronted lord jonathan make wager regarding dylan ability charm woman jonathan choosing woman chosen natalia dylan get agree second dance something man thus far able accomplish wager one hundred pound never trouble charming woman dylan soon discover natalia unlike woman see right good look bluster see empty shell man become emotion behind request dance simple fact turn dylan life change major way good woman smart accept le throw well hidden family secret dylan may find one thing always wanted someone love unconditionally diana bold captivated american heiress really wanted know dylan natalia story dylan need love acceptance really pull heartstrings make wonder father hate much natalia impossible like smart beautiful pretentious loved emotional turmoil character experience throughout storyline especially enjoyed dylan learns family secret father tried hard keep hidden wonderful tale highly recommend wager american heiress trust want read dylan brother michael trial tribulation improper american woman chrissy dionne courtesy romance junky',\n",
       " 'interesting read quickly like blatant sexual scene appreciate one',\n",
       " 'second son dylan blake know hated father unprepared cut come home war hero well captain selling commission spent year army want retire manage one family estate someone else foolishly take bet get lady natalia dance two dance one evening feel charm one way finally get fund count rebuked lady charmed whole lady natalia sinclair child duke clayton therefore huge dowry know many ton seeking marriage want loved fund always intrigued captain blake moment see want talk initially standoffish meeting eye looked dead every fortune seeker charm everything ruined one indiscretion able buck society together find love crave thoroughly enjoyed wager read book one series book two missed suspense story intended stand along book wonderful make mistake read book two book one author wonderful job keeping true storyline character many series book seem lose continuity one spot love tale ton want see second son good ending historical book pick wager first tanyareviewed joyfully reviewed',\n",
       " 'second son earl warren captain dylan blake always made feel unloved unwanted last ten year fighting country come home hero even heroic accomplishment done nothing earn father acceptance love irritated loose end goaded old adversary wager get elusive lady natalia sinclair dance two dance one evening win two hundred pound needing fund dylan take challenge feeling huge dowry attractive feature lady natalia found extremely difficult trust reading following heroic deed captain dylan blake natalia built dylan dashing hero unfortunately finally met charmed rejected initial request dance discovering father ordered older brother michael win hand dylan determined come second place initiating campaign win natalia heart dylan loses natalia ready admit love detail wager come light would natalia broken trust big obstacle two awakened heart overcome tracy seybold writing diana bold captivated skillful blend intriguing plot intelligent character problem story started late evening trouble putting much much tossing turning get finish bold fashioned dylan compelling intriguing man terribly hurt inability father demonstrate loving kindness towards except form disgust ten year heroic fighting dylan sold commission quickly running fund knowing would infuriate father dylan showed late fete father cut financially partly explains drunken error easily goaded wager wager actually quite innocent snooty daughter duke dance twice one night caught lady eye earlier evening dylan sure charm utterly shocked seeming star struck young woman refused dance natalia victim low self esteem school victim jealousy made think attractive thing huge dowry young impressionable girl peer pressure marked wariness anyone tried get close followed dylan exploit heroism war natalia infatuated hero enough fall foot chance get know talk able understand begin trust especially realized sought thing someone really cared',\n",
       " 'diana bold written story dylan younger son lord lady natalia child wealthy duke start wager must win get two dance haughty heroine part story brother michael wealthy american heiress character want know clarice',\n",
       " 'loved story great character unusual plot really love author voice hero wager getting heroine dance count falling love',\n",
       " 'first glance almost dismissed longclaws seen monster novel derivative horror filled bookshelf long ago wrong instead longclaws immediately swept darkly fabulous storytelling instead struggling finish book thinking book thing anxious return reading honest couple minor technical issue block paragraph instead indentation occasional odd formatting glitch like errant comma inside word transition noted extra paragraph spacing score hard formatting say error minor author storytelling point sharp enough formatting bothered little stood book attention detail paid monster usually monster horror monster pretty one dimensional monster fall category critter get revenge killing eating critter kill eats much reason critter get hold something radioactive kill eats know drill however longclaws author built entire history social structure critter skillfully weave story human history mythology read find delighted mind start making certain connection shared history peek brings mind monster funny thing start wonder real monster start little little feel world predator v prey reading bit author seems like might one book written long ago lingering dusty drawer computer file brought dusted decided put publication hope tale dust put want see else lurks darkness brain',\n",
       " 'immediately drawn book cover reminds lurid meant good way cover old horror story love miss today generic appearance book plot summary sealed deal read one three different story line intricately woven compelling story clan vampire like being called longclaws living parallel prehistoric like world hunting fresh blood hiding even menacing creature ancient indian tribe knowing dangerous otherworldly beast closing energy line leading world teenage runaway boy ending old great uncle life protect humanity guarding portal one longclaw discovers way cross border paradise human world superior predator among easy prey brutal fight survival begin side author us different time line parallel world different point view sometimes retelling scene experienced human longclaws book get lost overwhelming confusing complexity never case longclaws part converge coherent unique whole underlying premise folklore especially vampire werewolf stem encounter creature another dimension mark longclaws outstanding work fang claw genre however distinctive novel surely appeal fan type horror received copy book author exchange honest review',\n",
       " 'author steve peek sleeping light thought afraid dark reading book need light answer longclaws steve peek writing style masterful unique take peek cover written story address human condition capacity deal unimaginable find way carry totally enjoyed everything book plot character style pace unpredictability even coming nightmare turn light highly recommend book reviewed thomas jerome bakerauthor ofstory teller pursuit happiness',\n",
       " 'book review longclaws steve peek novel genre horror thriller one novel two theme unfolding alternating chapter tie together brilliantly start creature distance past kind creature legend made people never take ounce truth introduced longclaws clan animal vicious bloodthirsty yet protective alone unforgiving world reader taken adventure book describes beautifully imagine mind written kudos alone picture painted well enter mason family history knowledge creature keeper entrance separate world imperative door remain close alternative would involve chaos destruction world book start little slow however encourage reader keep reading twist turn come page keep interest wonder happens next always amazed author create unique different world mr peek done well thought written novel book received free exchange honest review',\n",
       " 'looking cover book really sure going find inside thrilled content impressed author ability transport reader another world make forget reading work story amazing steve peek unique talent building believable character help identify story complex lot element seen expected like book keep edge seat entire experience book choose particularly fascinated way character reacted thing suspense manages build uncertainty terror leaf half afraid turn page half afraid type book could adapted exciting movie author description detailed bring book life eye though watching film example descriptive writing house looked never seen coat paint gray plank warped strained rusty nail bled dark red streak year rain rather telling reader everything going happen step step steve peek allows u connect dot reveals story action character extra fluff poorly utilized space novel time reach middle book page turn furiously wait find going happen next time hated see book steve peek real talent writing look forward seeing come next would definitely recommend book anyone like complex mystery measure terror truly original unexpected twist received digital copy book review opinion',\n",
       " 'never read book like steve peek long claw thriller horror story tale unfolds much mystery section story delivered one chunk time held captive page simply desire find something happened previous chapter one book keep saying okay one page mow lawn keep saying last page knowing got quickly mr peek tell story many perspective jumping around character character revealing bigger picture stage normally writing style put like bond main character like narrative run follow someone else long claw although main character character touched upon unique interesting turn tale surprised feel little disappointed take leave character following good thing mean fully invested every one strong testament author skill amazing part character followed insect werewolf sort regular people others people special power awareness yes insect steve peek take mind inner working specie insect created well story epic majority span course fifty ish year period root go back ten thousand year modern mystery legend woven fabric new legend foundation story story begin bang put hooked first five page disappointed continue story conclusion',\n",
       " 'author steve peek created world embrace many legend werewolf vampire like being alternate dimension gate allow passage world ancient human learned way shut door building stonehenge indian mound america structure around world human spread built impediment destroyed weakening line connected worldwide pack longclaws found way cross world dimension far food chain world incredibly fast claw protruding hand made slashing cutting prey northern alabama forest cut collapsed bridge river swollen torrential rain battle clan longclaws two family mason long line watched mound event old indian woman granddaughter excellent',\n",
       " 'probably last book would pick read read alien agenda familiar work steve peek pleasantly surprised reality often stranger anything could imagine start like horror werewolf story quickly becomes credible account creature coming energy portal world parallel universe gave star well written hard put character development way author tied everything together fact every time thought figured wrong doh definitely worth reading read alien agenda get',\n",
       " 'author steve peek managed straddle two world bring character veil separate still maintain shroud mystery around tale longclaws realm refer hell behind legend vampire going cause sleep light longclaws predator super human strength speed bravery world survival constant battle member clan important role play vital survival yet meet individual seems unimportant able see big picture battle survival fiercely loyal clan tradition one leader find way cross veil surround world survive human unknown demon weak yet survive respected longclaws passing veil ley line young boy would never know belong family feel loved find self respect wondered villain tale saw faction fighting survival way knew steve peek writing style almost dreamlike blending indian folklore ley line myth legend tale stay hauntingly beautiful way ground tale humanity finest everyday people coping impossible often mirroring clan survival win end personal note absolutely loved writing plot character style pace world building anticipated nightmare much',\n",
       " 'fine book chock full idea action liked character twist turn anything bit much detail aspect longclaws world overall quite enjoyable read',\n",
       " 'great plot new idea character consistent believable suspense phenomenal pace right keep wondering ever bored',\n",
       " 'although outside usual genre selection really enjoyed book hard put fact except dinner sleep big sci fi let stop reading book',\n",
       " 'question extraterrestrial civilization survive impending destruction home planet answer embed specie dna meteor send flying throughout galaxy hope eventually one meteor impact planet suitable regeneration specie scenario robert williams first rate science fiction novel peculiar mo story reminded bit cross andromeda strain invasion body snatcher fact neither andromeda strain action take place primarily remote laboratory scientist study alien organism infected killed small town population peculiar mo action town center around organism effect local people biological terrorism military unit studying alien organism trying limit spread tension grows steadily unit scientist come terrifying realization organism attempting invade earth infect author scientific explanation mechanism alien plasmid short strand dna could use earth plant animal including human regenerate alien specie rebuild group consciousness memory quite detailed remotely enough science background know plausible fascinating concept credible typical alien invade human body story give author lot credit originality author build story around several character principal character including kelly ross spencer dale mysterious john gordon likable well developed three dimensional character bad guy author kill satisfying e gruesome way another reviewer noted military unit involved story small led non commissioned officer private work realistic since government already dealt previous meteor strike contained alien plasmid potential danger recognized guessing author reasoning larger unit battalion would brought much attention local people case fairly minor quibble read story robert williams expected writing professional quality story flowed smoothly scene scene character dialog realistic story grabbed beginning action pretty much nonstop ending extremely tense violent climax blended smoothly action relationship kelly spencer blossoming romance brings closer together editing generally good number typo kindle version enough mistake affect enjoyment book author proofread final manuscript closely spoiler reading peculiar mo know ever turn back cat bottom line first rate page turner science fiction techno thriller fan certainly one original intelligently written alien invasion story read',\n",
       " 'book really remind stephen king type story others reviewed plot repeat want say much enjoyed book others mentioned could use editing regardless fact book used irregardless still recommending read book use non word pet peeve believe tell never thought see day recommend book used alien invasion meet government mishandling small country town setting fast paced story hard put begun main character true life country setting perfect occurrence world enjoy stephen king book think enjoy book love read struggle good evil book',\n",
       " 'wow story take hold take terror never look tree cat ever fantastic character development walk away feeling like actually met people well worth price pas',\n",
       " 'plasmid outer space invade small missouri town come meteor explodes abandoned farm begin infect feral cat really creepy scene cat interspersed scene normal people leading normal life help ratchet suspense higher soon army involved military chooses avoid alarming local lead complication story told multiple point view character likable despicable deep trouble plasmid multiply prepare takeover people earth cat warning scene cat squeamish writing description well done plenty conflict though character expressed insight helped give depth feel real connection may many character involved still would like better feel main character particularly gordon action scene long drawn slowed pace would liked final part book battle surviving character recuperated also bit drawn taste overall though suspenseful book lot action conflict well worth reading',\n",
       " 'great read loved character development found attached many character really disliking others well written story kept guessing look forward reading novel mr williams',\n",
       " 'although fan sci fi enjoyed book look forward author small town character good writing little horror little medical little old thing far fetched unbelievable found tree goddess thing bit much taste writes like stephen king younger day reminded pet sematary reading story sure seeing lot mr william work future one wait',\n",
       " 'bought kindle version mother read ereader easy purchase easy immediate delivery overall transaction great',\n",
       " 'several different version bible hard copy nice one available kindle travel',\n",
       " 'fine kindle addition kindle library ideal able take wherever go best book ever written ever written one',\n",
       " 'worth money another version bible read somewhere nkjv kjv closer kjv definetely worth adding array literature kindle collection amazon made price affordable concise publication word god disappointed oh yes genesis literal study find time knew truth',\n",
       " 'fast paced well written story action steady enough history travel supplement action greg mackenzie helper good story',\n",
       " 'pleasant surprise got kindle book amazon really expected little get book slowly captured interest pulled page got e book worried bit plot line sounded like another dan brown wanna be however secret scroll chester campbell delivers level wonderful read thriller hard put retired air force osi agent greg mckenzie wife jill trip holy land shortly return home souvenir street vendor convinces jill purchase souvenir turn ancient scroll innocently return home mckenzie world turn upside jill taken hostage battle militant palestinian radical israeli recover ancient scroll police however target greg suspect wife disappearance little help friend others set alone perilous chase save wife spirited america back israel secret scroll honestly classic page turner often kept reading knew go sleep kept saying one chapter thriller without large body count book historical artifact without trying clone dan brown yes plenty action intrigue real suspense come mckenzie effort save wife trying stay step ahead mysterious figure stop nothing get scroll many twist turn store reader well strong realism characterization main character seems bit like neighbor rather james bond super hero type like character like book secret scroll greg mckenzie mystery',\n",
       " 'arab youth find old jar cave jordan scroll take ramallah cousin get translated might kabbalist secret questioned israeli security service body found rammed car greg mckenzie retired osi military hot headed blurts opinion keep advancement military make enemy nashville police dept worked detective office retirement military greg wife jill visit israel mid east souvenir street vendor convinces jill purchase appears old scroll tuck carryon picking luggage airport return find lock case cut luggage rifled immediately returning home jill suddenly disappears greg get phone call telling exchange jill scroll greg take two different professor translate scroll story continues filled murder close escape car chase palestinian radical group israeli radical group jordan scroll story page turner fascinating fast moving long easy read entertaining recommend',\n",
       " 'greg mckenzie guy could neighbor work love wife accompanies church trying quit smoking hold temper swear much suddenly home church sponsored trip holy land wife jill find middle situation could ignite world war plot reminds somewhat hitchcock man knew much story tension consequence character thrust situation involving foreign culture place outside normal life campbell build reader sympathy greg jill mckenzie likeable couple one enjoy spending time want see get dire situation plenty action greg man background law enforcement race time rescue wife avert international tragedy keep reader flipping page want know happens next going reunited first series good place start unfamiliar campbell work good characterization smooth plotting even touch humor',\n",
       " 'fast paced tale started innocently holy land pleasant trip hint something wrong greg sens picking little nuance quite put finger bothering many coincidence got home fun started jill kidnapped pull stop call every favor could beginning series made think little harder loved relationship genuine love great read recommend reading series',\n",
       " 'book fast moving story start finish read next two book series purchased book unhappy author wonderful job describing setting character also plot felt like traveling along mckenzies travel israel also hometown nashville caught background ready read next book series greg jill wonderful married older couple interesting family want find friend also book interesting information holy land modern day look tension different country nationality recommend anyone wanting mystery make fast read lot action every',\n",
       " 'greg mckenzie worst enemy greg year old retired intelligence agent inspector derailed career several time blowing lid spouting greg chip shoulder feel former supervisor co worker singled retribution probably right greg wife jill take trip holy land church group greg supposed work anger management skill returning home end trip greg feel jill singled unfair treatment custom airport security jill kidnapped kidnapper group palestinian want scroll greg possession seems souvenir scroll greg bought actually real ancient relic another group time radical israeli contact scroll past action greg cannot count much help local law enforcement fbi fortunately friend help greg investigation lead tangled trail international intrigue scroll say two different political group want scroll greg find way stay alive rescue jill novel chester campbell created unique character greg mckenzie year old retired investigator experience help identify lead follow yet flawed hero sometimes anger mouth get better flaw make seem real following made entertaining read',\n",
       " 'another great greg mckenzie book one involving ancient manuscript danger possibility world war iii real thriller another book could put',\n",
       " 'good book got morning finished started reading could put well written plenty action nice older hero wth vice trying quit smoking holding temper control neither well review tell main character plot good warn start book bedtime sure lose sleep put',\n",
       " 'book took longer read feel really capture attention start many different entity work novel sometimes made seem like filler instead background',\n",
       " 'book contains page oversize type really boiling maybe page worth writing author one main premise gov covering ufo phenomenon prevent economic chaos panic economic side oh course obligatory link author book save downloaded free way description state page long count cover title page couple blank page author listing book sale',\n",
       " 'book let call book start claiming constitution hide information ufo cover beginning place first book gotten amazon cover several reader comment spell advertisement made experience non book worthless understand author state beginning james patterson come mind book encourage reader buy rest book unfortunately mr wilkenson say would recommend non book anyone lack material using reader comment advertising waste time',\n",
       " 'barely worth money hard stay interested well written would wait till free burrow prime',\n",
       " 'cool',\n",
       " 'entranced way author brought together margaret atwood surfacing shamanism book helped understand shamanism little prompted add surfacing reading list',\n",
       " 'although well written fascinating hook without reading atwood surface first much connect book bad evident reading surface first must get book gave star felt incredibly well done well written thought provoking go back read atwood book get read',\n",
       " 'course read surfacing would even better review urge compels message heard told thoreau emerson greek philosopher indian american shaman meet eye communing nature bring u back true nature silence speaks volume eager soul ready change human life strength found every day detail proving u made quest surfacing happens wilderness canada ruthless cold could happened island desert anywhere removed shopping mall starbucks civilization journey within worth read become self fulfilling self made self reliant',\n",
       " 'enjoyed character development especially bias kept father son father lack understanding son sexual preference true life many elderly still express especially folk seventy',\n",
       " 'good concept great sex good charcters interesting story line held inteerest end like outcome',\n",
       " 'read several book author find completely baffled poor example writing storytelling simplistic came across first work freshman english major trained fbi agent would make federal judge whose life danger car open story totally lacked realism waste save money like author avoid book sully better memory writing',\n",
       " 'read book author much better poorly executed story long would think started ended abrupt ending without really answering point brought book lot promise follow book amounted would recommend book friend say go spend money one many wonderful story available moved way quickly even make sense love le hour really',\n",
       " 'federal judge jackson benedict trying case involving favorite son notorious family begin getting suspicious gift threatening note despite objection federal agent trey london insists need protection jackson attracted trey trey seems feel jackson live long enough anything court appointed take stereotypical important person need protection fall bodyguard story give interesting twist making party men changed dynamic story considerably especially jackson think trey overreacting treating like woman sexy determined trey stubborn jackson likeable character love scene hot suspense angle well done part coincidence red herring kept interesting really flaw book jackson father whose top controlling behavior seemed bit much resolution stalker angle thought abrupt overall court appointed hot entertaining read give kudos annmarie mckenna turning old romance clich eacute something new cassiereviewed joyfully reviewed',\n",
       " 'fiction plot character driven spicy romance somewhere writing style interest fiction series sex scene hung flimsy plot court appointed example type even find sex scene compelling since neither character interest skillfully developed posit people imminent danger murdered likely take time nookie still extremely vulnerable locale likely take even time make phone call locale call could easily safely completed via cell phone sped away safehouse wish could figure kind tale buying always obvious',\n",
       " 'sweet little story virgin meet wild child sex hot lot emotional depth still cute story lot sex',\n",
       " 'may short manages achieve lot front hot sex well developed character easily grow tender touching emotional moment nice plot prefer one diving deep longer story mitchell initial setting really amusing character meet rubbish dump cade may experienced flamboyant older one failed relationship jerk left vulnerable lonely elliot young man almost virgin romantic heart believing finding one true love seem different would thought cade would preferred exprienced older lover elliot persistence sincerity would win hard hearted love chemistry men would love read couple making last great novella',\n",
       " 'love k mitchell story may short great cade pierced bad boy free spirit elliot uptight everything book make mistake kind guy cade brings naughty wonderful opposite attract story',\n",
       " 'cade facial piercings elliott counted recycling duty part community service trashing ex car elliott possessing stolen property bought stolen purse grab envelope ticket concert agree meet decide get elliott opposite rude pierced tattooed cade year younger travel agent nice boy yet fascinated cade night later cade invite concert go better judgment cade piece crap car break weird concert stuck mountain winter end getting back seat finally getting home kind settle seeing cade elliott first beyond bj thing going well cade run ex concert found ticket freak try give elliott brush something thought interesting usually touched cade ex unsafe sex tested wait month test came back clean always understood needed month window know book get first test clean everything bareback city anyway love tattooed pierced bad boy opposite attract thing really much plot guy trying form relationship cade insecurity elliott youth mean want comfort read go',\n",
       " 'best describe book due main character opposite side track come two different world serving community service meet find much alike much common difference fall love build perfect relationship learn love care look difference',\n",
       " 'knew community service could sexy want story hot emotional satisfying one author always turn k mitchell know open k mitchell story sure squirm seat root hea book exception story flowed effortlessly page page reeling letting end fact found thinking cade elliot later chore get wrong thinking aside part drove crazy got skin emotional attachment mark great story one fit bill cade piece pierced work conform standard except lack standard need man endearing loved fallibility bad relationship bear scar still breathing still going life hand many people would crack especially circumstance lived elliot character wanted cuddle seriously handsome yes young sure way lived odd circumstance wanted know bit back story foiled attempt relationship given length story still enjoyed learning strength drew appeared fragile time merely masked true devotion cade great stuff leave love scene m mitchell writes carefully constructed love scene never fail warrant chilled drink need hunt special person felt love lust cade elliot even sure experience sex scene backseat bucky plymouth reading rereading savor experience want book sure make blush best reason need read hot ticket give book cherry originally posted whipped cream review',\n",
       " 'loved wonderfuldiving deepby k mitchell much decided check work hot ticket short fun surprisingly emotional read great author cute book great character beginning bit confusing author chooses reveal background info slowly rest book flow smoothly piece begin fit together elliot sweet geeky guy cade sensitive smart despite rebel appearance men common think begin steamy affair sex book extremely hot still tasteful two men fantastic chemistry seem understand deep emotional level despite different exterior appearance kindred spirit conflict book mostly internal mostly cade end burned bad relationship past trust commitment issue elliot much younger inexperienced cade imagine elliot wanting stick around k mitchell good character driven romance tiny bit external conflict secondary relationship romance m mitchell put lot focus feeling growth rather external force interfere short book page make wonderful addition rainy day list',\n",
       " 'book fun written lighthearted way make smile serious issue talked give reader insight character reaction short book quick read contains satisfactory love story enjoy',\n",
       " 'book reminded reality tv show dating dark enjoyed one good ending sort ruined little completely enough basically delia trying get people support library well library appreciation day coming know need something huge get people show tell everyone surprise visitor coming little know bobo retired hockey player life town act done justin archer show voted american woman sexist man alive unfortunately delia could ask help leaf delia find locked basement justin want keep identity secret mainly want girl recognize sexiest man alive justin know delia know exactly talk hour hour really get know without able see ending little gooey thinking hard feeling somewhere thing always work way want thinking ending little dragged would made sense least believable cute fast read',\n",
       " 'good author cute romantic book great valentine read wish longer get book enjoy',\n",
       " 'part series read loved whole series also kindle',\n",
       " 'every one story keep edge seat like series intertwine character previous book continuity history draw love strong female character love conquers end lot sizzle sort thing',\n",
       " 'wing night part collection second set six maggie shayne twilight book entering twilight realm really like entering another world become invested character sorry book ended great part collection especially e book format thrill go touch kindle',\n",
       " 'read year ago recently found wing night part real deal decided download kindle revisit one favorite series long ago got caught immediately upon finishing part downloaded wing night part read looking wing night web site checking rhiannon chronicle info new book coming series disappoint matter revisiting first timer set scene new book give great series immediate enjoyment highly recommend',\n",
       " 'read couple past story flow together well meet past character like bringing family back together hope fully continue series day',\n",
       " 'story par original twilight phantasy disappointed take maggie shayne good writer could possibly right alley merely stating excited read series first book best vampire posse trait vampire character read many skill also think wonderful constantly putting harm way though bright somehow',\n",
       " 'plot story pretty common harlequin romance poor shopgirl alanna meet handsome wealthy leon becomes mistress together month tell never marry leaf marries brother five year later meet chance know leon still hate blame brother death wracked guilt blame death well three month later leon track discovers year old son force marry child father figure grow wealth andreokos end truth alanna inheritance husband death come said story nothing new page packed full emotion problem much emotion many secret lie uncover word limit could justice story really needed told full length novel full impact well worth first book author look work',\n",
       " 'fast paced depth made dislike hero beginning way jack butt heroine never cared find fact accused thought worst even though knew month together time constantly together yet thought greedy money new exciting like',\n",
       " 'used julia james really involved book lead think heroine undesirable end turn awesome kind woman like type book really liked little book could called book first book read greek million dollar baby good enough quality proceed buy least book within following day easily better',\n",
       " 'would several year road run someone meant world hurt alanna dumped leon turned around married brother pregnant leon child time short story happens see complete even novella telling read several julia james story still enjoy rereading',\n",
       " 'kept interest hot bothered story line interesting well enjoy drama unfold',\n",
       " 'solange dane couple roarke men woman say thank definitely read story',\n",
       " 'become fan maureen smith story fast paced realistic storyline intertwined hot romance lead character fact character recurr book make want find story continues',\n",
       " 'great read could put book good arthur great story line must read',\n",
       " 'book great book made laugh cry laugh heartfelt story dane solange definitely must read',\n",
       " ...]"
      ]
     },
     "execution_count": 52,
     "metadata": {},
     "output_type": "execute_result"
    }
   ],
   "source": [
    "corpus"
   ]
  },
  {
   "cell_type": "code",
   "execution_count": 49,
   "metadata": {
    "id": "sm9ux3S2G0pR"
   },
   "outputs": [],
   "source": [
    "from sklearn.feature_extraction.text import CountVectorizer\n",
    "cv = CountVectorizer(max_features=50000)\n",
    "X = cv.fit_transform(corpus).toarray()"
   ]
  },
  {
   "cell_type": "code",
   "execution_count": 52,
   "metadata": {
    "id": "7QOAsbKRSIom"
   },
   "outputs": [],
   "source": [
    "x=X[:50000]"
   ]
  },
  {
   "cell_type": "code",
   "execution_count": 53,
   "metadata": {
    "colab": {
     "base_uri": "https://localhost:8080/"
    },
    "id": "BDK6cGCOSNhg",
    "outputId": "9b64b352-b6ec-4e56-c562-c449efd18b8b"
   },
   "outputs": [
    {
     "data": {
      "text/plain": [
       "10000"
      ]
     },
     "execution_count": 53,
     "metadata": {},
     "output_type": "execute_result"
    }
   ],
   "source": [
    "len(x)"
   ]
  },
  {
   "cell_type": "code",
   "execution_count": 54,
   "metadata": {
    "id": "6dadyuiEG0pS"
   },
   "outputs": [],
   "source": [
    "# Extracting dependent variable from the dataset\n",
    "y = pd.get_dummies(df['Score'])\n",
    "y = y.iloc[:, 1].values\n"
   ]
  },
  {
   "cell_type": "code",
   "execution_count": 55,
   "metadata": {
    "colab": {
     "base_uri": "https://localhost:8080/"
    },
    "id": "-hxB0kPUR7wC",
    "outputId": "e33b121e-3a08-497e-97a1-3108019555f9"
   },
   "outputs": [
    {
     "data": {
      "text/plain": [
       "10000"
      ]
     },
     "execution_count": 55,
     "metadata": {},
     "output_type": "execute_result"
    }
   ],
   "source": [
    "len(y)"
   ]
  },
  {
   "cell_type": "markdown",
   "metadata": {
    "id": "Uc5MkDS7G0pT"
   },
   "source": [
    "# Dumping the CV for future use"
   ]
  },
  {
   "cell_type": "code",
   "execution_count": 56,
   "metadata": {
    "id": "R-VwBDzPG0pT"
   },
   "outputs": [],
   "source": [
    "import pickle ## importing pickle used for dumping models\n",
    "pickle.dump(cv, open('cv.pkl', 'wb')) ## saving to into cv.pkl file"
   ]
  },
  {
   "cell_type": "markdown",
   "metadata": {
    "id": "1SKikIOEG0pU"
   },
   "source": [
    "# Modeling and Training"
   ]
  },
  {
   "cell_type": "code",
   "execution_count": 57,
   "metadata": {
    "colab": {
     "base_uri": "https://localhost:8080/"
    },
    "id": "ErnqEJNpG0pU",
    "outputId": "6f75b88f-229e-4f11-9cf5-9b260aa3ce32"
   },
   "outputs": [
    {
     "name": "stdout",
     "output_type": "stream",
     "text": [
      "Number transactions X_train dataset:  (8000, 24052)\n",
      "Number transactions y_train dataset:  (8000,)\n",
      "Number transactions X_test dataset:  (2000, 24052)\n",
      "Number transactions y_test dataset:  (2000,)\n"
     ]
    }
   ],
   "source": [
    "from sklearn.model_selection import train_test_split\n",
    "\n",
    "# split into 70:30 ration\n",
    "X_train, X_test, y_train, y_test = train_test_split(x, y, test_size = 0.2, random_state = 42)\n",
    "\n",
    "# describes info about train and test set\n",
    "print(\"Number transactions X_train dataset: \", X_train.shape)\n",
    "print(\"Number transactions y_train dataset: \", y_train.shape)\n",
    "print(\"Number transactions X_test dataset: \", X_test.shape)\n",
    "print(\"Number transactions y_test dataset: \", y_test.shape)\n"
   ]
  },
  {
   "cell_type": "markdown",
   "metadata": {
    "id": "4f69_DzyG0pU"
   },
   "source": [
    "# Creating a model using Multinomial NaiveBayes Without handling the imbalanced class"
   ]
  },
  {
   "cell_type": "code",
   "execution_count": 58,
   "metadata": {
    "id": "stMp8zNvG0pV"
   },
   "outputs": [],
   "source": [
    "from sklearn.naive_bayes import MultinomialNB\n",
    "model = MultinomialNB()"
   ]
  },
  {
   "cell_type": "code",
   "execution_count": 59,
   "metadata": {
    "colab": {
     "base_uri": "https://localhost:8080/"
    },
    "id": "LzOsQyS-G0pV",
    "outputId": "da5900c4-2197-4e72-a97f-75d1b5d4f7aa"
   },
   "outputs": [
    {
     "data": {
      "text/plain": [
       "MultinomialNB(alpha=1.0, class_prior=None, fit_prior=True)"
      ]
     },
     "execution_count": 59,
     "metadata": {},
     "output_type": "execute_result"
    }
   ],
   "source": [
    "#Fitting the model to the training sets\n",
    "model.fit(X_train, y_train)"
   ]
  },
  {
   "cell_type": "markdown",
   "metadata": {
    "id": "4ub4dRiwG0pV"
   },
   "source": [
    "# Prediction\n"
   ]
  },
  {
   "cell_type": "code",
   "execution_count": 60,
   "metadata": {
    "colab": {
     "base_uri": "https://localhost:8080/"
    },
    "id": "_M5BKYfzG0pW",
    "outputId": "c9c79010-2c57-4ce0-ec22-e1c75c625330"
   },
   "outputs": [
    {
     "data": {
      "text/plain": [
       "array([1, 1, 1, ..., 1, 1, 1], dtype=uint8)"
      ]
     },
     "execution_count": 60,
     "metadata": {},
     "output_type": "execute_result"
    }
   ],
   "source": [
    "y_pred=model.predict(X_test)\n",
    "y_pred"
   ]
  },
  {
   "cell_type": "markdown",
   "metadata": {
    "id": "5VHlbCtcG0pW"
   },
   "source": [
    "# Evaluating Model"
   ]
  },
  {
   "cell_type": "code",
   "execution_count": 61,
   "metadata": {
    "colab": {
     "base_uri": "https://localhost:8080/"
    },
    "id": "8vRgvM4lG0pW",
    "outputId": "f2bde354-6144-41c9-b451-8bfa8e322c7d"
   },
   "outputs": [
    {
     "name": "stdout",
     "output_type": "stream",
     "text": [
      "[[  93  161]\n",
      " [  39 1707]]\n",
      "Accuracy Score Is:-  90.0\n"
     ]
    }
   ],
   "source": [
    "from sklearn.metrics import confusion_matrix,accuracy_score, classification_report\n",
    "cm = confusion_matrix(y_test, y_pred)\n",
    "score = accuracy_score(y_test,y_pred)\n",
    "print(cm)\n",
    "print('Accuracy Score Is:- ' ,score*100)\n"
   ]
  },
  {
   "cell_type": "code",
   "execution_count": 62,
   "metadata": {
    "colab": {
     "base_uri": "https://localhost:8080/"
    },
    "id": "ps4g-AJHKGCf",
    "outputId": "fca2f71a-657b-4f3a-c372-400696515647"
   },
   "outputs": [
    {
     "name": "stdout",
     "output_type": "stream",
     "text": [
      "              precision    recall  f1-score   support\n",
      "\n",
      "           0       0.70      0.37      0.48       254\n",
      "           1       0.91      0.98      0.94      1746\n",
      "\n",
      "    accuracy                           0.90      2000\n",
      "   macro avg       0.81      0.67      0.71      2000\n",
      "weighted avg       0.89      0.90      0.89      2000\n",
      "\n"
     ]
    }
   ],
   "source": [
    "print(classification_report(y_test,y_pred))"
   ]
  },
  {
   "cell_type": "markdown",
   "metadata": {
    "id": "H7EcGaEVVCkx"
   },
   "source": [
    "**Using SMOTE Algorithm**"
   ]
  },
  {
   "cell_type": "code",
   "execution_count": 94,
   "metadata": {},
   "outputs": [
    {
     "name": "stdout",
     "output_type": "stream",
     "text": [
      "Collecting imblearn.over_sampling\n",
      "Note: you may need to restart the kernel to use updated packages.\n"
     ]
    },
    {
     "name": "stderr",
     "output_type": "stream",
     "text": [
      "  ERROR: Could not find a version that satisfies the requirement imblearn.over_sampling (from versions: none)\n",
      "ERROR: No matching distribution found for imblearn.over_sampling\n"
     ]
    }
   ],
   "source": [
    "#pip install imblearn.over_sampling"
   ]
  },
  {
   "cell_type": "code",
   "execution_count": null,
   "metadata": {},
   "outputs": [],
   "source": []
  },
  {
   "cell_type": "code",
   "execution_count": 54,
   "metadata": {
    "colab": {
     "base_uri": "https://localhost:8080/"
    },
    "id": "DF-GKSA9KUH2",
    "outputId": "cdc9374e-0e73-49f1-caa1-26bbb3bf2b75"
   },
   "outputs": [
    {
     "ename": "NameError",
     "evalue": "name 'y_train' is not defined",
     "output_type": "error",
     "traceback": [
      "\u001b[1;31m---------------------------------------------------------------------------\u001b[0m",
      "\u001b[1;31mNameError\u001b[0m                                 Traceback (most recent call last)",
      "\u001b[1;32m<ipython-input-54-4ceb2883830c>\u001b[0m in \u001b[0;36m<module>\u001b[1;34m\u001b[0m\n\u001b[1;32m----> 1\u001b[1;33m \u001b[0mprint\u001b[0m\u001b[1;33m(\u001b[0m\u001b[1;34m\"Before OverSampling, counts of label '1': {}\"\u001b[0m\u001b[1;33m.\u001b[0m\u001b[0mformat\u001b[0m\u001b[1;33m(\u001b[0m\u001b[0msum\u001b[0m\u001b[1;33m(\u001b[0m\u001b[0my_train\u001b[0m \u001b[1;33m==\u001b[0m \u001b[1;36m1\u001b[0m\u001b[1;33m)\u001b[0m\u001b[1;33m)\u001b[0m\u001b[1;33m)\u001b[0m\u001b[1;33m\u001b[0m\u001b[1;33m\u001b[0m\u001b[0m\n\u001b[0m\u001b[0;32m      2\u001b[0m \u001b[0mprint\u001b[0m\u001b[1;33m(\u001b[0m\u001b[1;34m\"Before OverSampling, counts of label '0': {} \\n\"\u001b[0m\u001b[1;33m.\u001b[0m\u001b[0mformat\u001b[0m\u001b[1;33m(\u001b[0m\u001b[0msum\u001b[0m\u001b[1;33m(\u001b[0m\u001b[0my_train\u001b[0m \u001b[1;33m==\u001b[0m \u001b[1;36m0\u001b[0m\u001b[1;33m)\u001b[0m\u001b[1;33m)\u001b[0m\u001b[1;33m)\u001b[0m\u001b[1;33m\u001b[0m\u001b[1;33m\u001b[0m\u001b[0m\n\u001b[0;32m      3\u001b[0m \u001b[1;33m\u001b[0m\u001b[0m\n\u001b[0;32m      4\u001b[0m \u001b[1;31m# import SMOTE module from imblearn library\u001b[0m\u001b[1;33m\u001b[0m\u001b[1;33m\u001b[0m\u001b[1;33m\u001b[0m\u001b[0m\n\u001b[0;32m      5\u001b[0m \u001b[1;31m#pip install imblearn (if you don't have imblearn in your system)\u001b[0m\u001b[1;33m\u001b[0m\u001b[1;33m\u001b[0m\u001b[1;33m\u001b[0m\u001b[0m\n",
      "\u001b[1;31mNameError\u001b[0m: name 'y_train' is not defined"
     ]
    }
   ],
   "source": [
    "print(\"Before OverSampling, counts of label '1': {}\".format(sum(y_train == 1)))\n",
    "print(\"Before OverSampling, counts of label '0': {} \\n\".format(sum(y_train == 0)))\n",
    "\n",
    "# import SMOTE module from imblearn library\n",
    "#pip install imblearn (if you don't have imblearn in your system)\n",
    "from imblearn.over_sampling import SMOTE\n",
    "sm = SMOTE(random_state = 2)\n",
    "X_train_res, y_train_res = sm.fit_resample(X_train, y_train.ravel())\n",
    "\n",
    "print('After OverSampling, the shape of train_X: {}'.format(X_train_res.shape))\n",
    "print('After OverSampling, the shape of train_y: {} \\n'.format(y_train_res.shape))\n",
    "\n",
    "print(\"After OverSampling, counts of label '1': {}\".format(sum(y_train_res == 1)))\n",
    "print(\"After OverSampling, counts of label '0': {}\".format(sum(y_train_res == 0)))\n"
   ]
  },
  {
   "cell_type": "code",
   "execution_count": 55,
   "metadata": {
    "colab": {
     "base_uri": "https://localhost:8080/"
    },
    "id": "_xxm1IRzLD9F",
    "outputId": "085cfc6d-fa0f-4cc4-8b53-a557b17efd6f"
   },
   "outputs": [
    {
     "ename": "NameError",
     "evalue": "name 'model' is not defined",
     "output_type": "error",
     "traceback": [
      "\u001b[1;31m---------------------------------------------------------------------------\u001b[0m",
      "\u001b[1;31mNameError\u001b[0m                                 Traceback (most recent call last)",
      "\u001b[1;32m<ipython-input-55-607cbfa9ade1>\u001b[0m in \u001b[0;36m<module>\u001b[1;34m\u001b[0m\n\u001b[1;32m----> 1\u001b[1;33m \u001b[0mmodel\u001b[0m\u001b[1;33m.\u001b[0m\u001b[0mfit\u001b[0m\u001b[1;33m(\u001b[0m\u001b[0mX_train_res\u001b[0m\u001b[1;33m,\u001b[0m \u001b[0my_train_res\u001b[0m\u001b[1;33m.\u001b[0m\u001b[0mravel\u001b[0m\u001b[1;33m(\u001b[0m\u001b[1;33m)\u001b[0m\u001b[1;33m)\u001b[0m\u001b[1;33m\u001b[0m\u001b[1;33m\u001b[0m\u001b[0m\n\u001b[0m\u001b[0;32m      2\u001b[0m \u001b[0mpredictions1\u001b[0m \u001b[1;33m=\u001b[0m \u001b[0mmodel\u001b[0m\u001b[1;33m.\u001b[0m\u001b[0mpredict\u001b[0m\u001b[1;33m(\u001b[0m\u001b[0mX_test\u001b[0m\u001b[1;33m)\u001b[0m\u001b[1;33m\u001b[0m\u001b[1;33m\u001b[0m\u001b[0m\n\u001b[0;32m      3\u001b[0m \u001b[1;33m\u001b[0m\u001b[0m\n\u001b[0;32m      4\u001b[0m \u001b[1;31m# print classification report\u001b[0m\u001b[1;33m\u001b[0m\u001b[1;33m\u001b[0m\u001b[1;33m\u001b[0m\u001b[0m\n\u001b[0;32m      5\u001b[0m \u001b[0mprint\u001b[0m\u001b[1;33m(\u001b[0m\u001b[0mclassification_report\u001b[0m\u001b[1;33m(\u001b[0m\u001b[0my_test\u001b[0m\u001b[1;33m,\u001b[0m \u001b[0mpredictions1\u001b[0m\u001b[1;33m)\u001b[0m\u001b[1;33m)\u001b[0m\u001b[1;33m\u001b[0m\u001b[1;33m\u001b[0m\u001b[0m\n",
      "\u001b[1;31mNameError\u001b[0m: name 'model' is not defined"
     ]
    }
   ],
   "source": [
    "\n",
    "model.fit(X_train_res, y_train_res.ravel())\n",
    "predictions1 = model.predict(X_test)\n",
    "\n",
    "# print classification report\n",
    "print(classification_report(y_test, predictions1))\n"
   ]
  },
  {
   "cell_type": "code",
   "execution_count": null,
   "metadata": {
    "colab": {
     "base_uri": "https://localhost:8080/"
    },
    "id": "naBJkH4IK4B0",
    "outputId": "7c0c715c-8b6f-4185-b989-e0cb4506b511"
   },
   "outputs": [],
   "source": [
    "cm = confusion_matrix(y_test, predictions1)\n",
    "score = accuracy_score(y_test,predictions1)\n",
    "print(cm)\n",
    "print('Accuracy Score Is:- ' ,score*100)\n"
   ]
  },
  {
   "cell_type": "markdown",
   "metadata": {
    "id": "lv2aB_srG0pX"
   },
   "source": [
    "# Saving our model"
   ]
  },
  {
   "cell_type": "code",
   "execution_count": null,
   "metadata": {
    "id": "wRJVljj_G0pX"
   },
   "outputs": [],
   "source": [
    "import pickle\n",
    "pickle.dump(model,open(\"amazon.pkl\", \"wb\"))"
   ]
  },
  {
   "cell_type": "markdown",
   "metadata": {
    "id": "jXx9-I8AG0pX"
   },
   "source": [
    "# Test our save model by loading it and testing on test data."
   ]
  },
  {
   "cell_type": "code",
   "execution_count": null,
   "metadata": {
    "colab": {
     "base_uri": "https://localhost:8080/"
    },
    "id": "npJDszsKG0pZ",
    "outputId": "7dfb7a8c-ab0c-4da3-f1a5-32b37325cbf1"
   },
   "outputs": [],
   "source": [
    "loaded_model = pickle.load(open(\"amazon.pkl\", \"rb\"))\n",
    "loaded_model.predict(X_test)\n",
    "loaded_model.score(X_test,y_test)"
   ]
  },
  {
   "cell_type": "code",
   "execution_count": null,
   "metadata": {
    "colab": {
     "base_uri": "https://localhost:8080/"
    },
    "id": "4VMtfYD-Lmqq",
    "outputId": "dbb56594-762a-41f5-9831-ce73ed69ea8f"
   },
   "outputs": [],
   "source": [
    "loaded_model.predict(X_test)"
   ]
  },
  {
   "cell_type": "markdown",
   "metadata": {
    "id": "wQz9ExLRG0pa"
   },
   "source": [
    "# Prediction for a new review"
   ]
  },
  {
   "cell_type": "code",
   "execution_count": null,
   "metadata": {
    "colab": {
     "base_uri": "https://localhost:8080/"
    },
    "id": "Ej5zNZHxG0pb",
    "outputId": "c51b87d9-482e-4947-acd1-ec12201157c1"
   },
   "outputs": [],
   "source": [
    "def new_review(new_review):\n",
    "  new_review = new_review\n",
    "  new_review = re.sub('[^a-zA-Z]', ' ', new_review)\n",
    "  new_review = new_review.lower()\n",
    "  new_review = new_review.split()\n",
    "  ps = PorterStemmer()\n",
    "  all_stopwords = stopwords.words('english')\n",
    "  all_stopwords.remove('not')\n",
    "  new_review = [ps.stem(word) for word in new_review if not word in   set(all_stopwords)]\n",
    "  new_review = ' '.join(new_review)\n",
    "  new_corpus = [new_review]\n",
    "  new_X_test = cv.transform(new_corpus).toarray()\n",
    "  new_y_pred = loaded_model.predict(new_X_test)\n",
    "  return new_y_pred\n",
    "new_review = new_review(str(input(\"Enter new review...\")))\n",
    "if new_review[0]==True:\n",
    "  print(\"Positive review\")\n",
    "else :\n",
    "  print(\"Negative review\")\n",
    "\n"
   ]
  },
  {
   "cell_type": "code",
   "execution_count": null,
   "metadata": {
    "colab": {
     "base_uri": "https://localhost:8080/"
    },
    "id": "TCvWVf1YG0pg",
    "outputId": "43c452a7-c98a-4661-b5c2-b0fa363b6312"
   },
   "outputs": [],
   "source": [
    "def new_review(new_review):\n",
    "  new_review = new_review\n",
    "  new_review = re.sub('[^a-zA-Z]', ' ', new_review)\n",
    "  new_review = new_review.lower()\n",
    "  new_review = new_review.split()\n",
    "  ps = PorterStemmer()\n",
    "  all_stopwords = stopwords.words('english')\n",
    "  all_stopwords.remove('not')\n",
    "  new_review = [ps.stem(word) for word in new_review if not word in   set(all_stopwords)]\n",
    "  new_review = ' '.join(new_review)\n",
    "  new_corpus = [new_review]\n",
    "  new_X_test = cv.transform(new_corpus).toarray()\n",
    "  new_y_pred = loaded_model.predict(new_X_test)\n",
    "  return new_y_pred\n",
    "new_review = new_review(str(input(\"Enter new review...\")))\n",
    "if new_review[0]==True:\n",
    "  print(\"Positive review\")\n",
    "else :\n",
    "  print(\"Negative review\")\n",
    "\n"
   ]
  },
  {
   "cell_type": "code",
   "execution_count": null,
   "metadata": {
    "id": "YdeaHm6gM1C-"
   },
   "outputs": [],
   "source": []
  }
 ],
 "metadata": {
  "colab": {
   "name": "1-Updated_Amazon_Kindle_Review_NLP.ipynb",
   "provenance": []
  },
  "kernelspec": {
   "display_name": "Python 3",
   "language": "python",
   "name": "python3"
  },
  "language_info": {
   "codemirror_mode": {
    "name": "ipython",
    "version": 3
   },
   "file_extension": ".py",
   "mimetype": "text/x-python",
   "name": "python",
   "nbconvert_exporter": "python",
   "pygments_lexer": "ipython3",
   "version": "3.7.3"
  }
 },
 "nbformat": 4,
 "nbformat_minor": 1
}
