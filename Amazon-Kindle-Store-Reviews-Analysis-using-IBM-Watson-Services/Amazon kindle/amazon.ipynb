{
 "cells": [
  {
   "cell_type": "code",
   "execution_count": 48,
   "metadata": {},
   "outputs": [],
   "source": [
    "import pandas as pd\n",
    "import numpy as np\n",
    "import  nltk #natural language tool kit\n",
    "import re #regular expression -removing the special characters\n",
    "from  nltk.stem.porter import PorterStemmer\n",
    "from nltk.corpus import stopwords\n",
    "from sklearn.model_selection import train_test_split\n",
    "\n",
    "import tensorflow\n",
    "from tensorflow.keras.models import Sequential\n",
    "from tensorflow.keras.layers import Dense\n"
   ]
  },
  {
   "cell_type": "code",
   "execution_count": 49,
   "metadata": {},
   "outputs": [],
   "source": [
    "from sklearn.feature_extraction.text import CountVectorizer"
   ]
  },
  {
   "cell_type": "code",
   "execution_count": 50,
   "metadata": {},
   "outputs": [],
   "source": [
    "import tensorflow as tf\n",
    "from tensorflow.keras import backend as k"
   ]
  },
  {
   "cell_type": "code",
   "execution_count": 51,
   "metadata": {},
   "outputs": [],
   "source": [
    "import pandas as pd\n",
    "import numpy as np\n",
    "import  nltk #natural language tool kit\n",
    "import re #regular expression -removing the special characters\n",
    "from  nltk.stem.porter import PorterStemmer\n",
    "from nltk.corpus import stopwords\n",
    "from sklearn.model_selection import train_test_split\n"
   ]
  },
  {
   "cell_type": "code",
   "execution_count": 52,
   "metadata": {},
   "outputs": [],
   "source": [
    "from tensorflow.keras.models import Sequential\n",
    "from tensorflow.keras.layers import Dense"
   ]
  },
  {
   "cell_type": "code",
   "execution_count": 53,
   "metadata": {},
   "outputs": [],
   "source": [
    "from tensorflow.keras import models"
   ]
  },
  {
   "cell_type": "code",
   "execution_count": null,
   "metadata": {},
   "outputs": [],
   "source": []
  },
  {
   "cell_type": "code",
   "execution_count": 54,
   "metadata": {
    "executionInfo": {
     "elapsed": 19,
     "status": "ok",
     "timestamp": 1636116879389,
     "user": {
      "displayName": "Saipriya Aitha",
      "photoUrl": "https://lh3.googleusercontent.com/a-/AOh14GgdVCDZooBrg1a4lKVikbebKWq91aA9bmHUpZDw-ro=s64",
      "userId": "06057281574739852500"
     },
     "user_tz": -330
    },
    "id": "JHI50Ut6A2JN"
   },
   "outputs": [],
   "source": [
    "#import required libraries\n",
    "\n",
    "#import pandas library\n",
    "import pandas as pd\n",
    "#import numpy\n",
    "import numpy as np\n",
    "#import requests\n",
    "import requests\n",
    "#import io\n",
    "import io\n",
    "import os"
   ]
  },
  {
   "cell_type": "code",
   "execution_count": 55,
   "metadata": {
    "colab": {
     "base_uri": "https://localhost:8080/"
    },
    "executionInfo": {
     "elapsed": 16,
     "status": "ok",
     "timestamp": 1636116879390,
     "user": {
      "displayName": "Saipriya Aitha",
      "photoUrl": "https://lh3.googleusercontent.com/a-/AOh14GgdVCDZooBrg1a4lKVikbebKWq91aA9bmHUpZDw-ro=s64",
      "userId": "06057281574739852500"
     },
     "user_tz": -330
    },
    "id": "RzvIQDDhBJYq",
    "outputId": "9562e934-e051-4365-ed20-532e109af515"
   },
   "outputs": [],
   "source": [
    "#from google.colab import drive\n",
    "#drive.mount('/content/drive')"
   ]
  },
  {
   "cell_type": "code",
   "execution_count": 56,
   "metadata": {
    "executionInfo": {
     "elapsed": 10869,
     "status": "ok",
     "timestamp": 1636116890250,
     "user": {
      "displayName": "Saipriya Aitha",
      "photoUrl": "https://lh3.googleusercontent.com/a-/AOh14GgdVCDZooBrg1a4lKVikbebKWq91aA9bmHUpZDw-ro=s64",
      "userId": "06057281574739852500"
     },
     "user_tz": -330
    },
    "id": "NiXtHTtcCGGR"
   },
   "outputs": [],
   "source": [
    "#import the dataset in the data variable\n",
    "data=pd.read_csv(\"kindle_reviews.csv\")"
   ]
  },
  {
   "cell_type": "code",
   "execution_count": 57,
   "metadata": {
    "colab": {
     "base_uri": "https://localhost:8080/"
    },
    "executionInfo": {
     "elapsed": 385,
     "status": "ok",
     "timestamp": 1636116899826,
     "user": {
      "displayName": "Saipriya Aitha",
      "photoUrl": "https://lh3.googleusercontent.com/a-/AOh14GgdVCDZooBrg1a4lKVikbebKWq91aA9bmHUpZDw-ro=s64",
      "userId": "06057281574739852500"
     },
     "user_tz": -330
    },
    "id": "HstwcTD8BLby",
    "outputId": "9d66e652-d36e-4f31-f853-e5ee98e210c8"
   },
   "outputs": [
    {
     "data": {
      "text/plain": [
       "(982619, 10)"
      ]
     },
     "execution_count": 57,
     "metadata": {},
     "output_type": "execute_result"
    }
   ],
   "source": [
    "data.shape"
   ]
  },
  {
   "cell_type": "code",
   "execution_count": 58,
   "metadata": {
    "colab": {
     "base_uri": "https://localhost:8080/",
     "height": 310
    },
    "executionInfo": {
     "elapsed": 9,
     "status": "ok",
     "timestamp": 1636116901331,
     "user": {
      "displayName": "Saipriya Aitha",
      "photoUrl": "https://lh3.googleusercontent.com/a-/AOh14GgdVCDZooBrg1a4lKVikbebKWq91aA9bmHUpZDw-ro=s64",
      "userId": "06057281574739852500"
     },
     "user_tz": -330
    },
    "id": "vM1ozjugBNwE",
    "outputId": "678457a8-b77e-4754-e77b-45e6e062906f"
   },
   "outputs": [
    {
     "data": {
      "text/html": [
       "<div>\n",
       "<style scoped>\n",
       "    .dataframe tbody tr th:only-of-type {\n",
       "        vertical-align: middle;\n",
       "    }\n",
       "\n",
       "    .dataframe tbody tr th {\n",
       "        vertical-align: top;\n",
       "    }\n",
       "\n",
       "    .dataframe thead th {\n",
       "        text-align: right;\n",
       "    }\n",
       "</style>\n",
       "<table border=\"1\" class=\"dataframe\">\n",
       "  <thead>\n",
       "    <tr style=\"text-align: right;\">\n",
       "      <th></th>\n",
       "      <th>Unnamed: 0</th>\n",
       "      <th>asin</th>\n",
       "      <th>helpful</th>\n",
       "      <th>overall</th>\n",
       "      <th>reviewText</th>\n",
       "      <th>reviewTime</th>\n",
       "      <th>reviewerID</th>\n",
       "      <th>reviewerName</th>\n",
       "      <th>summary</th>\n",
       "      <th>unixReviewTime</th>\n",
       "    </tr>\n",
       "  </thead>\n",
       "  <tbody>\n",
       "    <tr>\n",
       "      <th>0</th>\n",
       "      <td>0</td>\n",
       "      <td>B000F83SZQ</td>\n",
       "      <td>[0, 0]</td>\n",
       "      <td>5</td>\n",
       "      <td>I enjoy vintage books and movies so I enjoyed ...</td>\n",
       "      <td>05 5, 2014</td>\n",
       "      <td>A1F6404F1VG29J</td>\n",
       "      <td>Avidreader</td>\n",
       "      <td>Nice vintage story</td>\n",
       "      <td>1399248000</td>\n",
       "    </tr>\n",
       "    <tr>\n",
       "      <th>1</th>\n",
       "      <td>1</td>\n",
       "      <td>B000F83SZQ</td>\n",
       "      <td>[2, 2]</td>\n",
       "      <td>4</td>\n",
       "      <td>This book is a reissue of an old one; the auth...</td>\n",
       "      <td>01 6, 2014</td>\n",
       "      <td>AN0N05A9LIJEQ</td>\n",
       "      <td>critters</td>\n",
       "      <td>Different...</td>\n",
       "      <td>1388966400</td>\n",
       "    </tr>\n",
       "    <tr>\n",
       "      <th>2</th>\n",
       "      <td>2</td>\n",
       "      <td>B000F83SZQ</td>\n",
       "      <td>[2, 2]</td>\n",
       "      <td>4</td>\n",
       "      <td>This was a fairly interesting read.  It had ol...</td>\n",
       "      <td>04 4, 2014</td>\n",
       "      <td>A795DMNCJILA6</td>\n",
       "      <td>dot</td>\n",
       "      <td>Oldie</td>\n",
       "      <td>1396569600</td>\n",
       "    </tr>\n",
       "    <tr>\n",
       "      <th>3</th>\n",
       "      <td>3</td>\n",
       "      <td>B000F83SZQ</td>\n",
       "      <td>[1, 1]</td>\n",
       "      <td>5</td>\n",
       "      <td>I'd never read any of the Amy Brewster mysteri...</td>\n",
       "      <td>02 19, 2014</td>\n",
       "      <td>A1FV0SX13TWVXQ</td>\n",
       "      <td>Elaine H. Turley \"Montana Songbird\"</td>\n",
       "      <td>I really liked it.</td>\n",
       "      <td>1392768000</td>\n",
       "    </tr>\n",
       "    <tr>\n",
       "      <th>4</th>\n",
       "      <td>4</td>\n",
       "      <td>B000F83SZQ</td>\n",
       "      <td>[0, 1]</td>\n",
       "      <td>4</td>\n",
       "      <td>If you like period pieces - clothing, lingo, y...</td>\n",
       "      <td>03 19, 2014</td>\n",
       "      <td>A3SPTOKDG7WBLN</td>\n",
       "      <td>Father Dowling Fan</td>\n",
       "      <td>Period Mystery</td>\n",
       "      <td>1395187200</td>\n",
       "    </tr>\n",
       "  </tbody>\n",
       "</table>\n",
       "</div>"
      ],
      "text/plain": [
       "   Unnamed: 0        asin helpful  overall  \\\n",
       "0           0  B000F83SZQ  [0, 0]        5   \n",
       "1           1  B000F83SZQ  [2, 2]        4   \n",
       "2           2  B000F83SZQ  [2, 2]        4   \n",
       "3           3  B000F83SZQ  [1, 1]        5   \n",
       "4           4  B000F83SZQ  [0, 1]        4   \n",
       "\n",
       "                                          reviewText   reviewTime  \\\n",
       "0  I enjoy vintage books and movies so I enjoyed ...   05 5, 2014   \n",
       "1  This book is a reissue of an old one; the auth...   01 6, 2014   \n",
       "2  This was a fairly interesting read.  It had ol...   04 4, 2014   \n",
       "3  I'd never read any of the Amy Brewster mysteri...  02 19, 2014   \n",
       "4  If you like period pieces - clothing, lingo, y...  03 19, 2014   \n",
       "\n",
       "       reviewerID                         reviewerName             summary  \\\n",
       "0  A1F6404F1VG29J                           Avidreader  Nice vintage story   \n",
       "1   AN0N05A9LIJEQ                             critters        Different...   \n",
       "2   A795DMNCJILA6                                  dot               Oldie   \n",
       "3  A1FV0SX13TWVXQ  Elaine H. Turley \"Montana Songbird\"  I really liked it.   \n",
       "4  A3SPTOKDG7WBLN                   Father Dowling Fan      Period Mystery   \n",
       "\n",
       "   unixReviewTime  \n",
       "0      1399248000  \n",
       "1      1388966400  \n",
       "2      1396569600  \n",
       "3      1392768000  \n",
       "4      1395187200  "
      ]
     },
     "execution_count": 58,
     "metadata": {},
     "output_type": "execute_result"
    }
   ],
   "source": [
    "data.head()"
   ]
  },
  {
   "cell_type": "code",
   "execution_count": 59,
   "metadata": {
    "executionInfo": {
     "elapsed": 3,
     "status": "ok",
     "timestamp": 1636116902887,
     "user": {
      "displayName": "Saipriya Aitha",
      "photoUrl": "https://lh3.googleusercontent.com/a-/AOh14GgdVCDZooBrg1a4lKVikbebKWq91aA9bmHUpZDw-ro=s64",
      "userId": "06057281574739852500"
     },
     "user_tz": -330
    },
    "id": "AFNytlWaCSWE"
   },
   "outputs": [],
   "source": [
    "#assigning 50000 rows to data\n",
    "data=data.head(50000)"
   ]
  },
  {
   "cell_type": "code",
   "execution_count": 60,
   "metadata": {
    "colab": {
     "base_uri": "https://localhost:8080/"
    },
    "executionInfo": {
     "elapsed": 4,
     "status": "ok",
     "timestamp": 1636116903407,
     "user": {
      "displayName": "Saipriya Aitha",
      "photoUrl": "https://lh3.googleusercontent.com/a-/AOh14GgdVCDZooBrg1a4lKVikbebKWq91aA9bmHUpZDw-ro=s64",
      "userId": "06057281574739852500"
     },
     "user_tz": -330
    },
    "id": "rsJXQX-JCXQb",
    "outputId": "a7bcecfd-e4aa-481f-9422-b56cf5e613ce"
   },
   "outputs": [
    {
     "data": {
      "text/plain": [
       "Unnamed: 0        False\n",
       "asin              False\n",
       "helpful           False\n",
       "overall           False\n",
       "reviewText         True\n",
       "reviewTime        False\n",
       "reviewerID        False\n",
       "reviewerName       True\n",
       "summary           False\n",
       "unixReviewTime    False\n",
       "dtype: bool"
      ]
     },
     "execution_count": 60,
     "metadata": {},
     "output_type": "execute_result"
    }
   ],
   "source": [
    "#checking for null values\n",
    "data.isnull().any()"
   ]
  },
  {
   "cell_type": "code",
   "execution_count": 61,
   "metadata": {
    "colab": {
     "base_uri": "https://localhost:8080/"
    },
    "executionInfo": {
     "elapsed": 6,
     "status": "ok",
     "timestamp": 1636116904767,
     "user": {
      "displayName": "Saipriya Aitha",
      "photoUrl": "https://lh3.googleusercontent.com/a-/AOh14GgdVCDZooBrg1a4lKVikbebKWq91aA9bmHUpZDw-ro=s64",
      "userId": "06057281574739852500"
     },
     "user_tz": -330
    },
    "id": "2J-JRTEJCao1",
    "outputId": "42b452b7-d5ce-4d81-f775-ec0160c6d8da"
   },
   "outputs": [
    {
     "data": {
      "text/plain": [
       "Unnamed: 0          0\n",
       "asin                0\n",
       "helpful             0\n",
       "overall             0\n",
       "reviewText          1\n",
       "reviewTime          0\n",
       "reviewerID          0\n",
       "reviewerName      149\n",
       "summary             0\n",
       "unixReviewTime      0\n",
       "dtype: int64"
      ]
     },
     "execution_count": 61,
     "metadata": {},
     "output_type": "execute_result"
    }
   ],
   "source": [
    "data.isnull().sum()"
   ]
  },
  {
   "cell_type": "code",
   "execution_count": 62,
   "metadata": {
    "executionInfo": {
     "elapsed": 2,
     "status": "ok",
     "timestamp": 1636116905658,
     "user": {
      "displayName": "Saipriya Aitha",
      "photoUrl": "https://lh3.googleusercontent.com/a-/AOh14GgdVCDZooBrg1a4lKVikbebKWq91aA9bmHUpZDw-ro=s64",
      "userId": "06057281574739852500"
     },
     "user_tz": -330
    },
    "id": "jov4ux6zCc17"
   },
   "outputs": [],
   "source": [
    "#deleting or dropping the unwanted columns from the dataset\n",
    "del data['Unnamed: 0']\n",
    "del data['asin']\n",
    "del data['helpful']\n",
    "del data['reviewTime']\n",
    "del data['reviewerID']\n",
    "del data['reviewerName']\n",
    "del data['unixReviewTime']"
   ]
  },
  {
   "cell_type": "code",
   "execution_count": 63,
   "metadata": {
    "colab": {
     "base_uri": "https://localhost:8080/",
     "height": 363
    },
    "executionInfo": {
     "elapsed": 6,
     "status": "ok",
     "timestamp": 1636116907159,
     "user": {
      "displayName": "Saipriya Aitha",
      "photoUrl": "https://lh3.googleusercontent.com/a-/AOh14GgdVCDZooBrg1a4lKVikbebKWq91aA9bmHUpZDw-ro=s64",
      "userId": "06057281574739852500"
     },
     "user_tz": -330
    },
    "id": "mjh88UMICgAT",
    "outputId": "4a0043e4-40a0-47ac-ae90-d32a63ff42a2"
   },
   "outputs": [
    {
     "data": {
      "text/html": [
       "<div>\n",
       "<style scoped>\n",
       "    .dataframe tbody tr th:only-of-type {\n",
       "        vertical-align: middle;\n",
       "    }\n",
       "\n",
       "    .dataframe tbody tr th {\n",
       "        vertical-align: top;\n",
       "    }\n",
       "\n",
       "    .dataframe thead th {\n",
       "        text-align: right;\n",
       "    }\n",
       "</style>\n",
       "<table border=\"1\" class=\"dataframe\">\n",
       "  <thead>\n",
       "    <tr style=\"text-align: right;\">\n",
       "      <th></th>\n",
       "      <th>overall</th>\n",
       "      <th>reviewText</th>\n",
       "      <th>summary</th>\n",
       "    </tr>\n",
       "  </thead>\n",
       "  <tbody>\n",
       "    <tr>\n",
       "      <th>0</th>\n",
       "      <td>5</td>\n",
       "      <td>I enjoy vintage books and movies so I enjoyed ...</td>\n",
       "      <td>Nice vintage story</td>\n",
       "    </tr>\n",
       "    <tr>\n",
       "      <th>1</th>\n",
       "      <td>4</td>\n",
       "      <td>This book is a reissue of an old one; the auth...</td>\n",
       "      <td>Different...</td>\n",
       "    </tr>\n",
       "    <tr>\n",
       "      <th>2</th>\n",
       "      <td>4</td>\n",
       "      <td>This was a fairly interesting read.  It had ol...</td>\n",
       "      <td>Oldie</td>\n",
       "    </tr>\n",
       "    <tr>\n",
       "      <th>3</th>\n",
       "      <td>5</td>\n",
       "      <td>I'd never read any of the Amy Brewster mysteri...</td>\n",
       "      <td>I really liked it.</td>\n",
       "    </tr>\n",
       "    <tr>\n",
       "      <th>4</th>\n",
       "      <td>4</td>\n",
       "      <td>If you like period pieces - clothing, lingo, y...</td>\n",
       "      <td>Period Mystery</td>\n",
       "    </tr>\n",
       "    <tr>\n",
       "      <th>5</th>\n",
       "      <td>4</td>\n",
       "      <td>A beautiful in-depth character description mak...</td>\n",
       "      <td>Review</td>\n",
       "    </tr>\n",
       "    <tr>\n",
       "      <th>6</th>\n",
       "      <td>4</td>\n",
       "      <td>I enjoyed this one tho I'm not sure why it's c...</td>\n",
       "      <td>Nice old fashioned story</td>\n",
       "    </tr>\n",
       "    <tr>\n",
       "      <th>7</th>\n",
       "      <td>4</td>\n",
       "      <td>Never heard of Amy Brewster. But I don't need ...</td>\n",
       "      <td>Enjoyable reading and reminding the old times</td>\n",
       "    </tr>\n",
       "    <tr>\n",
       "      <th>8</th>\n",
       "      <td>5</td>\n",
       "      <td>Darth Maul working under cloak of darkness com...</td>\n",
       "      <td>Darth Maul</td>\n",
       "    </tr>\n",
       "    <tr>\n",
       "      <th>9</th>\n",
       "      <td>4</td>\n",
       "      <td>This is a short story focused on Darth Maul's ...</td>\n",
       "      <td>Not bad, not exceptional</td>\n",
       "    </tr>\n",
       "  </tbody>\n",
       "</table>\n",
       "</div>"
      ],
      "text/plain": [
       "   overall                                         reviewText  \\\n",
       "0        5  I enjoy vintage books and movies so I enjoyed ...   \n",
       "1        4  This book is a reissue of an old one; the auth...   \n",
       "2        4  This was a fairly interesting read.  It had ol...   \n",
       "3        5  I'd never read any of the Amy Brewster mysteri...   \n",
       "4        4  If you like period pieces - clothing, lingo, y...   \n",
       "5        4  A beautiful in-depth character description mak...   \n",
       "6        4  I enjoyed this one tho I'm not sure why it's c...   \n",
       "7        4  Never heard of Amy Brewster. But I don't need ...   \n",
       "8        5  Darth Maul working under cloak of darkness com...   \n",
       "9        4  This is a short story focused on Darth Maul's ...   \n",
       "\n",
       "                                         summary  \n",
       "0                             Nice vintage story  \n",
       "1                                   Different...  \n",
       "2                                          Oldie  \n",
       "3                             I really liked it.  \n",
       "4                                 Period Mystery  \n",
       "5                                         Review  \n",
       "6                       Nice old fashioned story  \n",
       "7  Enjoyable reading and reminding the old times  \n",
       "8                                     Darth Maul  \n",
       "9                       Not bad, not exceptional  "
      ]
     },
     "execution_count": 63,
     "metadata": {},
     "output_type": "execute_result"
    }
   ],
   "source": [
    "#first 10 rows of data\n",
    "data.head(10)"
   ]
  },
  {
   "cell_type": "code",
   "execution_count": 64,
   "metadata": {
    "colab": {
     "base_uri": "https://localhost:8080/"
    },
    "executionInfo": {
     "elapsed": 6,
     "status": "ok",
     "timestamp": 1636116907715,
     "user": {
      "displayName": "Saipriya Aitha",
      "photoUrl": "https://lh3.googleusercontent.com/a-/AOh14GgdVCDZooBrg1a4lKVikbebKWq91aA9bmHUpZDw-ro=s64",
      "userId": "06057281574739852500"
     },
     "user_tz": -330
    },
    "id": "OLG5EwMSCh91",
    "outputId": "43e8f499-858e-4bd0-b685-22731dd9d0b1"
   },
   "outputs": [
    {
     "data": {
      "text/plain": [
       "5    23090\n",
       "4    14980\n",
       "3     7013\n",
       "2     2832\n",
       "1     2085\n",
       "Name: overall, dtype: int64"
      ]
     },
     "execution_count": 64,
     "metadata": {},
     "output_type": "execute_result"
    }
   ],
   "source": [
    "#checking value counts\n",
    "data.overall.value_counts()"
   ]
  },
  {
   "cell_type": "code",
   "execution_count": 65,
   "metadata": {
    "colab": {
     "base_uri": "https://localhost:8080/"
    },
    "executionInfo": {
     "elapsed": 6,
     "status": "ok",
     "timestamp": 1636116908682,
     "user": {
      "displayName": "Saipriya Aitha",
      "photoUrl": "https://lh3.googleusercontent.com/a-/AOh14GgdVCDZooBrg1a4lKVikbebKWq91aA9bmHUpZDw-ro=s64",
      "userId": "06057281574739852500"
     },
     "user_tz": -330
    },
    "id": "7vmBG9o0Cknw",
    "outputId": "5dba57fd-9028-4be0-eb71-dbaed66f1db3"
   },
   "outputs": [
    {
     "data": {
      "text/plain": [
       "overall       0\n",
       "reviewText    1\n",
       "summary       0\n",
       "dtype: int64"
      ]
     },
     "execution_count": 65,
     "metadata": {},
     "output_type": "execute_result"
    }
   ],
   "source": [
    "#check the null values\n",
    "data.isna().sum()"
   ]
  },
  {
   "cell_type": "code",
   "execution_count": 66,
   "metadata": {
    "executionInfo": {
     "elapsed": 4,
     "status": "ok",
     "timestamp": 1636116910205,
     "user": {
      "displayName": "Saipriya Aitha",
      "photoUrl": "https://lh3.googleusercontent.com/a-/AOh14GgdVCDZooBrg1a4lKVikbebKWq91aA9bmHUpZDw-ro=s64",
      "userId": "06057281574739852500"
     },
     "user_tz": -330
    },
    "id": "DfS_aEesCmcI"
   },
   "outputs": [],
   "source": [
    "#joining review description and summary into one col\n",
    "data['reviewText']=data['reviewText']+\" \"+data['summary']"
   ]
  },
  {
   "cell_type": "code",
   "execution_count": 67,
   "metadata": {
    "colab": {
     "base_uri": "https://localhost:8080/",
     "height": 206
    },
    "executionInfo": {
     "elapsed": 6,
     "status": "ok",
     "timestamp": 1636116911235,
     "user": {
      "displayName": "Saipriya Aitha",
      "photoUrl": "https://lh3.googleusercontent.com/a-/AOh14GgdVCDZooBrg1a4lKVikbebKWq91aA9bmHUpZDw-ro=s64",
      "userId": "06057281574739852500"
     },
     "user_tz": -330
    },
    "id": "lCv9YH89CoZg",
    "outputId": "f7820ce3-7725-426e-fa98-da72cf8245c8"
   },
   "outputs": [
    {
     "data": {
      "text/html": [
       "<div>\n",
       "<style scoped>\n",
       "    .dataframe tbody tr th:only-of-type {\n",
       "        vertical-align: middle;\n",
       "    }\n",
       "\n",
       "    .dataframe tbody tr th {\n",
       "        vertical-align: top;\n",
       "    }\n",
       "\n",
       "    .dataframe thead th {\n",
       "        text-align: right;\n",
       "    }\n",
       "</style>\n",
       "<table border=\"1\" class=\"dataframe\">\n",
       "  <thead>\n",
       "    <tr style=\"text-align: right;\">\n",
       "      <th></th>\n",
       "      <th>overall</th>\n",
       "      <th>reviewText</th>\n",
       "      <th>summary</th>\n",
       "    </tr>\n",
       "  </thead>\n",
       "  <tbody>\n",
       "    <tr>\n",
       "      <th>0</th>\n",
       "      <td>5</td>\n",
       "      <td>I enjoy vintage books and movies so I enjoyed ...</td>\n",
       "      <td>Nice vintage story</td>\n",
       "    </tr>\n",
       "    <tr>\n",
       "      <th>1</th>\n",
       "      <td>4</td>\n",
       "      <td>This book is a reissue of an old one; the auth...</td>\n",
       "      <td>Different...</td>\n",
       "    </tr>\n",
       "    <tr>\n",
       "      <th>2</th>\n",
       "      <td>4</td>\n",
       "      <td>This was a fairly interesting read.  It had ol...</td>\n",
       "      <td>Oldie</td>\n",
       "    </tr>\n",
       "    <tr>\n",
       "      <th>3</th>\n",
       "      <td>5</td>\n",
       "      <td>I'd never read any of the Amy Brewster mysteri...</td>\n",
       "      <td>I really liked it.</td>\n",
       "    </tr>\n",
       "    <tr>\n",
       "      <th>4</th>\n",
       "      <td>4</td>\n",
       "      <td>If you like period pieces - clothing, lingo, y...</td>\n",
       "      <td>Period Mystery</td>\n",
       "    </tr>\n",
       "  </tbody>\n",
       "</table>\n",
       "</div>"
      ],
      "text/plain": [
       "   overall                                         reviewText  \\\n",
       "0        5  I enjoy vintage books and movies so I enjoyed ...   \n",
       "1        4  This book is a reissue of an old one; the auth...   \n",
       "2        4  This was a fairly interesting read.  It had ol...   \n",
       "3        5  I'd never read any of the Amy Brewster mysteri...   \n",
       "4        4  If you like period pieces - clothing, lingo, y...   \n",
       "\n",
       "              summary  \n",
       "0  Nice vintage story  \n",
       "1        Different...  \n",
       "2               Oldie  \n",
       "3  I really liked it.  \n",
       "4      Period Mystery  "
      ]
     },
     "execution_count": 67,
     "metadata": {},
     "output_type": "execute_result"
    }
   ],
   "source": [
    "data.head()"
   ]
  },
  {
   "cell_type": "code",
   "execution_count": 68,
   "metadata": {
    "executionInfo": {
     "elapsed": 3,
     "status": "ok",
     "timestamp": 1636116912046,
     "user": {
      "displayName": "Saipriya Aitha",
      "photoUrl": "https://lh3.googleusercontent.com/a-/AOh14GgdVCDZooBrg1a4lKVikbebKWq91aA9bmHUpZDw-ro=s64",
      "userId": "06057281574739852500"
     },
     "user_tz": -330
    },
    "id": "jSzNyz6xCrh-"
   },
   "outputs": [],
   "source": [
    "data.drop(['summary'],axis=1,inplace=True)"
   ]
  },
  {
   "cell_type": "code",
   "execution_count": 69,
   "metadata": {
    "colab": {
     "base_uri": "https://localhost:8080/"
    },
    "executionInfo": {
     "elapsed": 10,
     "status": "ok",
     "timestamp": 1636116913921,
     "user": {
      "displayName": "Saipriya Aitha",
      "photoUrl": "https://lh3.googleusercontent.com/a-/AOh14GgdVCDZooBrg1a4lKVikbebKWq91aA9bmHUpZDw-ro=s64",
      "userId": "06057281574739852500"
     },
     "user_tz": -330
    },
    "id": "txpuy80PCt8n",
    "outputId": "24c38f6e-9a61-4b19-d98c-c6bc8362ecda"
   },
   "outputs": [
    {
     "data": {
      "text/plain": [
       "overall       0\n",
       "reviewText    1\n",
       "dtype: int64"
      ]
     },
     "execution_count": 69,
     "metadata": {},
     "output_type": "execute_result"
    }
   ],
   "source": [
    "#checking for null values\n",
    "data.isna().sum()"
   ]
  },
  {
   "cell_type": "code",
   "execution_count": 70,
   "metadata": {
    "executionInfo": {
     "elapsed": 5,
     "status": "ok",
     "timestamp": 1636116914956,
     "user": {
      "displayName": "Saipriya Aitha",
      "photoUrl": "https://lh3.googleusercontent.com/a-/AOh14GgdVCDZooBrg1a4lKVikbebKWq91aA9bmHUpZDw-ro=s64",
      "userId": "06057281574739852500"
     },
     "user_tz": -330
    },
    "id": "IsLWr7kKCwL-"
   },
   "outputs": [],
   "source": [
    "#since there is only one null value, replace it with blank space\n",
    "data['reviewText'].fillna(\"\",inplace = True)"
   ]
  },
  {
   "cell_type": "code",
   "execution_count": 71,
   "metadata": {
    "executionInfo": {
     "elapsed": 4,
     "status": "ok",
     "timestamp": 1636116916383,
     "user": {
      "displayName": "Saipriya Aitha",
      "photoUrl": "https://lh3.googleusercontent.com/a-/AOh14GgdVCDZooBrg1a4lKVikbebKWq91aA9bmHUpZDw-ro=s64",
      "userId": "06057281574739852500"
     },
     "user_tz": -330
    },
    "id": "e6yPdQjICzFq"
   },
   "outputs": [],
   "source": [
    "#Grouping the overall rating of scale 1-5 to 2 categories\n",
    "def review_sentiment(rating):\n",
    "    #0(positive) and  with 1(negative) \n",
    "    if(rating == 5 or rating == 4 or rating==3):\n",
    "        return 0\n",
    "    else:\n",
    "        return 1"
   ]
  },
  {
   "cell_type": "code",
   "execution_count": 72,
   "metadata": {
    "executionInfo": {
     "elapsed": 4,
     "status": "ok",
     "timestamp": 1636116918015,
     "user": {
      "displayName": "Saipriya Aitha",
      "photoUrl": "https://lh3.googleusercontent.com/a-/AOh14GgdVCDZooBrg1a4lKVikbebKWq91aA9bmHUpZDw-ro=s64",
      "userId": "06057281574739852500"
     },
     "user_tz": -330
    },
    "id": "kH_xsj1UC28a"
   },
   "outputs": [],
   "source": [
    "data.overall = data.overall.apply(review_sentiment)"
   ]
  },
  {
   "cell_type": "code",
   "execution_count": 73,
   "metadata": {
    "colab": {
     "base_uri": "https://localhost:8080/"
    },
    "executionInfo": {
     "elapsed": 9,
     "status": "ok",
     "timestamp": 1636116919194,
     "user": {
      "displayName": "Saipriya Aitha",
      "photoUrl": "https://lh3.googleusercontent.com/a-/AOh14GgdVCDZooBrg1a4lKVikbebKWq91aA9bmHUpZDw-ro=s64",
      "userId": "06057281574739852500"
     },
     "user_tz": -330
    },
    "id": "kVOTwm40C5ND",
    "outputId": "fbc385de-e1fa-4d5d-d9fe-ef501e9935ca"
   },
   "outputs": [
    {
     "data": {
      "text/plain": [
       "0    45083\n",
       "1     4917\n",
       "Name: overall, dtype: int64"
      ]
     },
     "execution_count": 73,
     "metadata": {},
     "output_type": "execute_result"
    }
   ],
   "source": [
    "data.overall.value_counts()"
   ]
  },
  {
   "cell_type": "code",
   "execution_count": 74,
   "metadata": {
    "colab": {
     "base_uri": "https://localhost:8080/",
     "height": 1000
    },
    "executionInfo": {
     "elapsed": 8,
     "status": "ok",
     "timestamp": 1636116919687,
     "user": {
      "displayName": "Saipriya Aitha",
      "photoUrl": "https://lh3.googleusercontent.com/a-/AOh14GgdVCDZooBrg1a4lKVikbebKWq91aA9bmHUpZDw-ro=s64",
      "userId": "06057281574739852500"
     },
     "user_tz": -330
    },
    "id": "tA0R2GhqC6ov",
    "outputId": "cb46cbb0-3123-4114-cc3d-0d99936ea610"
   },
   "outputs": [
    {
     "data": {
      "text/html": [
       "<div>\n",
       "<style scoped>\n",
       "    .dataframe tbody tr th:only-of-type {\n",
       "        vertical-align: middle;\n",
       "    }\n",
       "\n",
       "    .dataframe tbody tr th {\n",
       "        vertical-align: top;\n",
       "    }\n",
       "\n",
       "    .dataframe thead th {\n",
       "        text-align: right;\n",
       "    }\n",
       "</style>\n",
       "<table border=\"1\" class=\"dataframe\">\n",
       "  <thead>\n",
       "    <tr style=\"text-align: right;\">\n",
       "      <th></th>\n",
       "      <th>overall</th>\n",
       "      <th>reviewText</th>\n",
       "    </tr>\n",
       "  </thead>\n",
       "  <tbody>\n",
       "    <tr>\n",
       "      <th>0</th>\n",
       "      <td>0</td>\n",
       "      <td>I enjoy vintage books and movies so I enjoyed ...</td>\n",
       "    </tr>\n",
       "    <tr>\n",
       "      <th>1</th>\n",
       "      <td>0</td>\n",
       "      <td>This book is a reissue of an old one; the auth...</td>\n",
       "    </tr>\n",
       "    <tr>\n",
       "      <th>2</th>\n",
       "      <td>0</td>\n",
       "      <td>This was a fairly interesting read.  It had ol...</td>\n",
       "    </tr>\n",
       "    <tr>\n",
       "      <th>3</th>\n",
       "      <td>0</td>\n",
       "      <td>I'd never read any of the Amy Brewster mysteri...</td>\n",
       "    </tr>\n",
       "    <tr>\n",
       "      <th>4</th>\n",
       "      <td>0</td>\n",
       "      <td>If you like period pieces - clothing, lingo, y...</td>\n",
       "    </tr>\n",
       "    <tr>\n",
       "      <th>5</th>\n",
       "      <td>0</td>\n",
       "      <td>A beautiful in-depth character description mak...</td>\n",
       "    </tr>\n",
       "    <tr>\n",
       "      <th>6</th>\n",
       "      <td>0</td>\n",
       "      <td>I enjoyed this one tho I'm not sure why it's c...</td>\n",
       "    </tr>\n",
       "    <tr>\n",
       "      <th>7</th>\n",
       "      <td>0</td>\n",
       "      <td>Never heard of Amy Brewster. But I don't need ...</td>\n",
       "    </tr>\n",
       "    <tr>\n",
       "      <th>8</th>\n",
       "      <td>0</td>\n",
       "      <td>Darth Maul working under cloak of darkness com...</td>\n",
       "    </tr>\n",
       "    <tr>\n",
       "      <th>9</th>\n",
       "      <td>0</td>\n",
       "      <td>This is a short story focused on Darth Maul's ...</td>\n",
       "    </tr>\n",
       "    <tr>\n",
       "      <th>10</th>\n",
       "      <td>0</td>\n",
       "      <td>I think I have this one in both book and audio...</td>\n",
       "    </tr>\n",
       "    <tr>\n",
       "      <th>11</th>\n",
       "      <td>0</td>\n",
       "      <td>Title has nothing to do with the story.  I did...</td>\n",
       "    </tr>\n",
       "    <tr>\n",
       "      <th>12</th>\n",
       "      <td>0</td>\n",
       "      <td>Well written. Interesting to see Sideous (thro...</td>\n",
       "    </tr>\n",
       "    <tr>\n",
       "      <th>13</th>\n",
       "      <td>0</td>\n",
       "      <td>Troy Denning's novella Recovery was originally...</td>\n",
       "    </tr>\n",
       "    <tr>\n",
       "      <th>14</th>\n",
       "      <td>0</td>\n",
       "      <td>I am not for sure on how much of a difference ...</td>\n",
       "    </tr>\n",
       "    <tr>\n",
       "      <th>15</th>\n",
       "      <td>0</td>\n",
       "      <td>I really enjoyed the book. Had the normal back...</td>\n",
       "    </tr>\n",
       "    <tr>\n",
       "      <th>16</th>\n",
       "      <td>0</td>\n",
       "      <td>Great read enjoyed every minute of it .  I thi...</td>\n",
       "    </tr>\n",
       "    <tr>\n",
       "      <th>17</th>\n",
       "      <td>0</td>\n",
       "      <td>Another well written eBook by Troy Denning, bu...</td>\n",
       "    </tr>\n",
       "    <tr>\n",
       "      <th>18</th>\n",
       "      <td>0</td>\n",
       "      <td>This one promises to be another good book. I h...</td>\n",
       "    </tr>\n",
       "    <tr>\n",
       "      <th>19</th>\n",
       "      <td>0</td>\n",
       "      <td>I have a version of \"Star by Star\" that does n...</td>\n",
       "    </tr>\n",
       "    <tr>\n",
       "      <th>20</th>\n",
       "      <td>0</td>\n",
       "      <td>Excellent! Very well written story, very excit...</td>\n",
       "    </tr>\n",
       "    <tr>\n",
       "      <th>21</th>\n",
       "      <td>1</td>\n",
       "      <td>With Ylesia, a novella originally published in...</td>\n",
       "    </tr>\n",
       "    <tr>\n",
       "      <th>22</th>\n",
       "      <td>0</td>\n",
       "      <td>Great book couldn't put it down.  The story ex...</td>\n",
       "    </tr>\n",
       "    <tr>\n",
       "      <th>23</th>\n",
       "      <td>0</td>\n",
       "      <td>Most of the New Jedi Order books focus on the ...</td>\n",
       "    </tr>\n",
       "    <tr>\n",
       "      <th>24</th>\n",
       "      <td>0</td>\n",
       "      <td>I was hoping to find this one in book form. Th...</td>\n",
       "    </tr>\n",
       "    <tr>\n",
       "      <th>25</th>\n",
       "      <td>0</td>\n",
       "      <td>The events of \"Ylesia\" take place during \"Dest...</td>\n",
       "    </tr>\n",
       "    <tr>\n",
       "      <th>26</th>\n",
       "      <td>0</td>\n",
       "      <td>Really shouldn't have Han Solo on the cover as...</td>\n",
       "    </tr>\n",
       "    <tr>\n",
       "      <th>27</th>\n",
       "      <td>0</td>\n",
       "      <td>Originally published as an e-book coinciding w...</td>\n",
       "    </tr>\n",
       "    <tr>\n",
       "      <th>28</th>\n",
       "      <td>0</td>\n",
       "      <td>This book was a good idea. I have always wante...</td>\n",
       "    </tr>\n",
       "    <tr>\n",
       "      <th>29</th>\n",
       "      <td>0</td>\n",
       "      <td>Great short story. It gives a little more insi...</td>\n",
       "    </tr>\n",
       "    <tr>\n",
       "      <th>30</th>\n",
       "      <td>0</td>\n",
       "      <td>I love anything with Chewbacca in it.  Him and...</td>\n",
       "    </tr>\n",
       "    <tr>\n",
       "      <th>31</th>\n",
       "      <td>0</td>\n",
       "      <td>A great little chapter to read on my Kindle, b...</td>\n",
       "    </tr>\n",
       "    <tr>\n",
       "      <th>32</th>\n",
       "      <td>0</td>\n",
       "      <td>I love the stories with Chewie in them! this e...</td>\n",
       "    </tr>\n",
       "    <tr>\n",
       "      <th>33</th>\n",
       "      <td>0</td>\n",
       "      <td>I'm not really sure where it actually fits int...</td>\n",
       "    </tr>\n",
       "    <tr>\n",
       "      <th>34</th>\n",
       "      <td>0</td>\n",
       "      <td>I really do enjoy Troy Denning's work, I want ...</td>\n",
       "    </tr>\n",
       "    <tr>\n",
       "      <th>35</th>\n",
       "      <td>0</td>\n",
       "      <td>Timothy Zahn's Fool's Bargain is a short story...</td>\n",
       "    </tr>\n",
       "    <tr>\n",
       "      <th>36</th>\n",
       "      <td>0</td>\n",
       "      <td>Not too bad, an intro-short-story for some big...</td>\n",
       "    </tr>\n",
       "    <tr>\n",
       "      <th>37</th>\n",
       "      <td>0</td>\n",
       "      <td>I absolutely love this book. Though it is shor...</td>\n",
       "    </tr>\n",
       "    <tr>\n",
       "      <th>38</th>\n",
       "      <td>0</td>\n",
       "      <td>What can I say Stormtroopers.  A story with tr...</td>\n",
       "    </tr>\n",
       "    <tr>\n",
       "      <th>39</th>\n",
       "      <td>1</td>\n",
       "      <td>For whatever reason, Star Wars short stories a...</td>\n",
       "    </tr>\n",
       "    <tr>\n",
       "      <th>40</th>\n",
       "      <td>0</td>\n",
       "      <td>As an ebook it reads very well on my Kindle, b...</td>\n",
       "    </tr>\n",
       "    <tr>\n",
       "      <th>41</th>\n",
       "      <td>0</td>\n",
       "      <td>** Note: this story appears as a bonus in the ...</td>\n",
       "    </tr>\n",
       "    <tr>\n",
       "      <th>42</th>\n",
       "      <td>1</td>\n",
       "      <td>I admit it, I snapped this up the moment I saw...</td>\n",
       "    </tr>\n",
       "    <tr>\n",
       "      <th>43</th>\n",
       "      <td>0</td>\n",
       "      <td>I love Timothy Zahn's work!  He does what no o...</td>\n",
       "    </tr>\n",
       "    <tr>\n",
       "      <th>44</th>\n",
       "      <td>0</td>\n",
       "      <td>The hero in this story has been living in NYC ...</td>\n",
       "    </tr>\n",
       "    <tr>\n",
       "      <th>45</th>\n",
       "      <td>0</td>\n",
       "      <td>The Iron Marshall, by Louie L`Amour is one of ...</td>\n",
       "    </tr>\n",
       "    <tr>\n",
       "      <th>46</th>\n",
       "      <td>0</td>\n",
       "      <td>This is yet another  L'Amour winner. I have ye...</td>\n",
       "    </tr>\n",
       "    <tr>\n",
       "      <th>47</th>\n",
       "      <td>0</td>\n",
       "      <td>I almost didn't get this book because of the c...</td>\n",
       "    </tr>\n",
       "    <tr>\n",
       "      <th>48</th>\n",
       "      <td>0</td>\n",
       "      <td>This story by Louis L'Amour was the very first...</td>\n",
       "    </tr>\n",
       "    <tr>\n",
       "      <th>49</th>\n",
       "      <td>0</td>\n",
       "      <td>This is how it was in the big gambling and cor...</td>\n",
       "    </tr>\n",
       "  </tbody>\n",
       "</table>\n",
       "</div>"
      ],
      "text/plain": [
       "    overall                                         reviewText\n",
       "0         0  I enjoy vintage books and movies so I enjoyed ...\n",
       "1         0  This book is a reissue of an old one; the auth...\n",
       "2         0  This was a fairly interesting read.  It had ol...\n",
       "3         0  I'd never read any of the Amy Brewster mysteri...\n",
       "4         0  If you like period pieces - clothing, lingo, y...\n",
       "5         0  A beautiful in-depth character description mak...\n",
       "6         0  I enjoyed this one tho I'm not sure why it's c...\n",
       "7         0  Never heard of Amy Brewster. But I don't need ...\n",
       "8         0  Darth Maul working under cloak of darkness com...\n",
       "9         0  This is a short story focused on Darth Maul's ...\n",
       "10        0  I think I have this one in both book and audio...\n",
       "11        0  Title has nothing to do with the story.  I did...\n",
       "12        0  Well written. Interesting to see Sideous (thro...\n",
       "13        0  Troy Denning's novella Recovery was originally...\n",
       "14        0  I am not for sure on how much of a difference ...\n",
       "15        0  I really enjoyed the book. Had the normal back...\n",
       "16        0  Great read enjoyed every minute of it .  I thi...\n",
       "17        0  Another well written eBook by Troy Denning, bu...\n",
       "18        0  This one promises to be another good book. I h...\n",
       "19        0  I have a version of \"Star by Star\" that does n...\n",
       "20        0  Excellent! Very well written story, very excit...\n",
       "21        1  With Ylesia, a novella originally published in...\n",
       "22        0  Great book couldn't put it down.  The story ex...\n",
       "23        0  Most of the New Jedi Order books focus on the ...\n",
       "24        0  I was hoping to find this one in book form. Th...\n",
       "25        0  The events of \"Ylesia\" take place during \"Dest...\n",
       "26        0  Really shouldn't have Han Solo on the cover as...\n",
       "27        0  Originally published as an e-book coinciding w...\n",
       "28        0  This book was a good idea. I have always wante...\n",
       "29        0  Great short story. It gives a little more insi...\n",
       "30        0  I love anything with Chewbacca in it.  Him and...\n",
       "31        0  A great little chapter to read on my Kindle, b...\n",
       "32        0  I love the stories with Chewie in them! this e...\n",
       "33        0  I'm not really sure where it actually fits int...\n",
       "34        0  I really do enjoy Troy Denning's work, I want ...\n",
       "35        0  Timothy Zahn's Fool's Bargain is a short story...\n",
       "36        0  Not too bad, an intro-short-story for some big...\n",
       "37        0  I absolutely love this book. Though it is shor...\n",
       "38        0  What can I say Stormtroopers.  A story with tr...\n",
       "39        1  For whatever reason, Star Wars short stories a...\n",
       "40        0  As an ebook it reads very well on my Kindle, b...\n",
       "41        0  ** Note: this story appears as a bonus in the ...\n",
       "42        1  I admit it, I snapped this up the moment I saw...\n",
       "43        0  I love Timothy Zahn's work!  He does what no o...\n",
       "44        0  The hero in this story has been living in NYC ...\n",
       "45        0  The Iron Marshall, by Louie L`Amour is one of ...\n",
       "46        0  This is yet another  L'Amour winner. I have ye...\n",
       "47        0  I almost didn't get this book because of the c...\n",
       "48        0  This story by Louis L'Amour was the very first...\n",
       "49        0  This is how it was in the big gambling and cor..."
      ]
     },
     "execution_count": 74,
     "metadata": {},
     "output_type": "execute_result"
    }
   ],
   "source": [
    "data.head(50)"
   ]
  },
  {
   "cell_type": "code",
   "execution_count": 75,
   "metadata": {
    "colab": {
     "base_uri": "https://localhost:8080/"
    },
    "executionInfo": {
     "elapsed": 8,
     "status": "ok",
     "timestamp": 1636116920597,
     "user": {
      "displayName": "Saipriya Aitha",
      "photoUrl": "https://lh3.googleusercontent.com/a-/AOh14GgdVCDZooBrg1a4lKVikbebKWq91aA9bmHUpZDw-ro=s64",
      "userId": "06057281574739852500"
     },
     "user_tz": -330
    },
    "id": "mYigk8mJC8g6",
    "outputId": "f2c31fa1-10fe-4e5f-8feb-81c11bafbf10"
   },
   "outputs": [
    {
     "data": {
      "text/plain": [
       "50000"
      ]
     },
     "execution_count": 75,
     "metadata": {},
     "output_type": "execute_result"
    }
   ],
   "source": [
    "len(list(data['overall']))"
   ]
  },
  {
   "cell_type": "code",
   "execution_count": 76,
   "metadata": {
    "executionInfo": {
     "elapsed": 3,
     "status": "ok",
     "timestamp": 1636116922038,
     "user": {
      "displayName": "Saipriya Aitha",
      "photoUrl": "https://lh3.googleusercontent.com/a-/AOh14GgdVCDZooBrg1a4lKVikbebKWq91aA9bmHUpZDw-ro=s64",
      "userId": "06057281574739852500"
     },
     "user_tz": -330
    },
    "id": "LXrVoIeCC_em"
   },
   "outputs": [],
   "source": [
    "x=data.iloc[:,1].values"
   ]
  },
  {
   "cell_type": "code",
   "execution_count": 77,
   "metadata": {
    "executionInfo": {
     "elapsed": 2,
     "status": "ok",
     "timestamp": 1636116922418,
     "user": {
      "displayName": "Saipriya Aitha",
      "photoUrl": "https://lh3.googleusercontent.com/a-/AOh14GgdVCDZooBrg1a4lKVikbebKWq91aA9bmHUpZDw-ro=s64",
      "userId": "06057281574739852500"
     },
     "user_tz": -330
    },
    "id": "y3zZQdZLDGZn"
   },
   "outputs": [],
   "source": [
    "#import natural language toolkit\n",
    "#import nltk\n",
    "#nltk.download(\"stopwords\")\n",
    "#nltk.download(\"wordnet\")\n",
    "#import stopwords library to remove stopwords\n",
    "#from nltk.corpus import stopwords\n",
    "#library used for stem the words\n",
    "#from nltk.stem.porter import PorterStemmer\n",
    "#create an object for stemming\n",
    "#ps = PorterStemmer()\n",
    "#library used for stem the words\n",
    "#from nltk.stem import WordNetLemmatizer\n",
    "#create an object for wordnet lemmatizer\n",
    "#wordnet=WordNetLemmatizer()"
   ]
  },
  {
   "cell_type": "code",
   "execution_count": 78,
   "metadata": {
    "executionInfo": {
     "elapsed": 4,
     "status": "ok",
     "timestamp": 1636116923017,
     "user": {
      "displayName": "Saipriya Aitha",
      "photoUrl": "https://lh3.googleusercontent.com/a-/AOh14GgdVCDZooBrg1a4lKVikbebKWq91aA9bmHUpZDw-ro=s64",
      "userId": "06057281574739852500"
     },
     "user_tz": -330
    },
    "id": "OkMrIaSdDI_9"
   },
   "outputs": [],
   "source": [
    "import re"
   ]
  },
  {
   "cell_type": "code",
   "execution_count": 79,
   "metadata": {},
   "outputs": [],
   "source": [
    "#pip install --user -U nltk"
   ]
  },
  {
   "cell_type": "code",
   "execution_count": 80,
   "metadata": {
    "colab": {
     "base_uri": "https://localhost:8080/"
    },
    "executionInfo": {
     "elapsed": 8,
     "status": "ok",
     "timestamp": 1636116925418,
     "user": {
      "displayName": "Saipriya Aitha",
      "photoUrl": "https://lh3.googleusercontent.com/a-/AOh14GgdVCDZooBrg1a4lKVikbebKWq91aA9bmHUpZDw-ro=s64",
      "userId": "06057281574739852500"
     },
     "user_tz": -330
    },
    "id": "a-TgEByoDLA_",
    "outputId": "30c98d5d-a3d7-4bc8-eb00-c4296ed4dd3e"
   },
   "outputs": [
    {
     "name": "stderr",
     "output_type": "stream",
     "text": [
      "[nltk_data] Downloading package stopwords to\n",
      "[nltk_data]     C:\\Users\\User\\AppData\\Roaming\\nltk_data...\n",
      "[nltk_data]   Package stopwords is already up-to-date!\n",
      "[nltk_data] Downloading package wordnet to\n",
      "[nltk_data]     C:\\Users\\User\\AppData\\Roaming\\nltk_data...\n",
      "[nltk_data]   Package wordnet is already up-to-date!\n"
     ]
    },
    {
     "data": {
      "text/plain": [
       "True"
      ]
     },
     "execution_count": 80,
     "metadata": {},
     "output_type": "execute_result"
    }
   ],
   "source": [
    "import nltk\n",
    "nltk.download(\"stopwords\")\n",
    "nltk.download(\"wordnet\")"
   ]
  },
  {
   "cell_type": "code",
   "execution_count": 81,
   "metadata": {},
   "outputs": [
    {
     "name": "stderr",
     "output_type": "stream",
     "text": [
      "[nltk_data] Downloading package omw-1.4 to\n",
      "[nltk_data]     C:\\Users\\User\\AppData\\Roaming\\nltk_data...\n",
      "[nltk_data]   Package omw-1.4 is already up-to-date!\n"
     ]
    },
    {
     "data": {
      "text/plain": [
       "True"
      ]
     },
     "execution_count": 81,
     "metadata": {},
     "output_type": "execute_result"
    }
   ],
   "source": [
    "import nltk\n",
    "nltk.download('omw-1.4')"
   ]
  },
  {
   "cell_type": "code",
   "execution_count": 82,
   "metadata": {
    "executionInfo": {
     "elapsed": 369012,
     "status": "ok",
     "timestamp": 1636117833908,
     "user": {
      "displayName": "Saipriya Aitha",
      "photoUrl": "https://lh3.googleusercontent.com/a-/AOh14GgdVCDZooBrg1a4lKVikbebKWq91aA9bmHUpZDw-ro=s64",
      "userId": "06057281574739852500"
     },
     "user_tz": -330
    },
    "id": "OwvdLfT_DM1t"
   },
   "outputs": [],
   "source": [
    " # Initialize empty array to append clean text \n",
    "   #from nltk.stem import WordNetLemmatizer\n",
    "    #corpus=[]\n",
    "#from nltk.corpus import wordnet\n",
    "    #from nltk.stem.wordnet import WordNetLemmatizer\n",
    "corpus=[]\n",
    "# no of rows to clean \n",
    "for i in range(len(x)):\n",
    "    #replacing punctuations and numbers using re library \n",
    "    temp=re.sub('[^a-zA-Z]',' ',x[i])\n",
    "    # convert all text to lower cases\n",
    "    temp=temp.lower()\n",
    "    # split to array(default delimiter is \" \") \n",
    "    temp=temp.split()\n",
    "    # creating WordNetLemmatizer object to take main lemma of each word\n",
    "    from nltk.stem.wordnet import WordNetLemmatizer\n",
    "    wordnet = WordNetLemmatizer()\n",
    "    #loop for leammatization each word in string array at ith row \n",
    "    temp=[wordnet.lemmatize(word)for word in temp if not word in set(stopwords.words('english'))]\n",
    "    #rejoin all string array elements to create back into a string \n",
    "    temp=' '.join(temp)\n",
    "    #append each string to create array of clean text \n",
    "    corpus.append(temp)"
   ]
  },
  {
   "cell_type": "code",
   "execution_count": 83,
   "metadata": {
    "executionInfo": {
     "elapsed": 5282,
     "status": "ok",
     "timestamp": 1636117925005,
     "user": {
      "displayName": "Saipriya Aitha",
      "photoUrl": "https://lh3.googleusercontent.com/a-/AOh14GgdVCDZooBrg1a4lKVikbebKWq91aA9bmHUpZDw-ro=s64",
      "userId": "06057281574739852500"
     },
     "user_tz": -330
    },
    "id": "JZ2itGbdDmjO"
   },
   "outputs": [],
   "source": [
    "#creating bag of word model\n",
    "from sklearn.feature_extraction.text import CountVectorizer\n",
    "#To extract max feature, \"max_features\" is attribute to \n",
    "#experiment with to get better results\n",
    "cv=CountVectorizer(max_features= 6000)\n",
    "#z contains vectorized data (independent variable) \n",
    "z=cv.fit_transform(corpus).toarray()"
   ]
  },
  {
   "cell_type": "code",
   "execution_count": 84,
   "metadata": {
    "colab": {
     "base_uri": "https://localhost:8080/"
    },
    "executionInfo": {
     "elapsed": 1239,
     "status": "ok",
     "timestamp": 1636115138865,
     "user": {
      "displayName": "Saipriya Aitha",
      "photoUrl": "https://lh3.googleusercontent.com/a-/AOh14GgdVCDZooBrg1a4lKVikbebKWq91aA9bmHUpZDw-ro=s64",
      "userId": "06057281574739852500"
     },
     "user_tz": -330
    },
    "id": "8ZFq98DUDpPp",
    "outputId": "ddd54b75-21ca-434a-b42c-2377ab4f7015"
   },
   "outputs": [
    {
     "data": {
      "text/plain": [
       "(50000, 6000)"
      ]
     },
     "execution_count": 84,
     "metadata": {},
     "output_type": "execute_result"
    }
   ],
   "source": [
    "z.shape"
   ]
  },
  {
   "cell_type": "code",
   "execution_count": 85,
   "metadata": {
    "colab": {
     "base_uri": "https://localhost:8080/"
    },
    "executionInfo": {
     "elapsed": 536,
     "status": "ok",
     "timestamp": 1636117936270,
     "user": {
      "displayName": "Saipriya Aitha",
      "photoUrl": "https://lh3.googleusercontent.com/a-/AOh14GgdVCDZooBrg1a4lKVikbebKWq91aA9bmHUpZDw-ro=s64",
      "userId": "06057281574739852500"
     },
     "user_tz": -330
    },
    "id": "nOpWkwjqD76D",
    "outputId": "3c9e4923-7f21-48f6-dad0-723f87cc775f"
   },
   "outputs": [
    {
     "data": {
      "text/plain": [
       "['ibmamazon.save']"
      ]
     },
     "execution_count": 85,
     "metadata": {},
     "output_type": "execute_result"
    }
   ],
   "source": [
    "#save bag of word model\n",
    "import joblib\n",
    "joblib.dump(cv.vocabulary_,\"ibmamazon.save\")"
   ]
  },
  {
   "cell_type": "code",
   "execution_count": 86,
   "metadata": {
    "colab": {
     "base_uri": "https://localhost:8080/"
    },
    "executionInfo": {
     "elapsed": 4,
     "status": "ok",
     "timestamp": 1636117937045,
     "user": {
      "displayName": "Saipriya Aitha",
      "photoUrl": "https://lh3.googleusercontent.com/a-/AOh14GgdVCDZooBrg1a4lKVikbebKWq91aA9bmHUpZDw-ro=s64",
      "userId": "06057281574739852500"
     },
     "user_tz": -330
    },
    "id": "BGYFTffeECXE",
    "outputId": "29bb15b2-9fbf-45e1-c1b9-41752e69964a"
   },
   "outputs": [
    {
     "data": {
      "text/plain": [
       "array([0, 0, 0, ..., 0, 0, 0], dtype=int64)"
      ]
     },
     "execution_count": 86,
     "metadata": {},
     "output_type": "execute_result"
    }
   ],
   "source": [
    "y=data.iloc[:,0].values\n",
    "y"
   ]
  },
  {
   "cell_type": "code",
   "execution_count": 87,
   "metadata": {
    "executionInfo": {
     "elapsed": 1189,
     "status": "ok",
     "timestamp": 1636117940053,
     "user": {
      "displayName": "Saipriya Aitha",
      "photoUrl": "https://lh3.googleusercontent.com/a-/AOh14GgdVCDZooBrg1a4lKVikbebKWq91aA9bmHUpZDw-ro=s64",
      "userId": "06057281574739852500"
     },
     "user_tz": -330
    },
    "id": "scXQx6OEIZqn"
   },
   "outputs": [],
   "source": [
    "from sklearn.model_selection import train_test_split\n",
    "x_train,x_test,y_train,y_test=train_test_split(z,y,test_size=0.2,random_state=0)"
   ]
  },
  {
   "cell_type": "code",
   "execution_count": 88,
   "metadata": {
    "colab": {
     "base_uri": "https://localhost:8080/"
    },
    "executionInfo": {
     "elapsed": 625,
     "status": "ok",
     "timestamp": 1636117942790,
     "user": {
      "displayName": "Saipriya Aitha",
      "photoUrl": "https://lh3.googleusercontent.com/a-/AOh14GgdVCDZooBrg1a4lKVikbebKWq91aA9bmHUpZDw-ro=s64",
      "userId": "06057281574739852500"
     },
     "user_tz": -330
    },
    "id": "WnubKaiMEGUv",
    "outputId": "89225471-27c3-4f20-8183-837a5aeddba6"
   },
   "outputs": [
    {
     "data": {
      "text/plain": [
       "(40000, 6000)"
      ]
     },
     "execution_count": 88,
     "metadata": {},
     "output_type": "execute_result"
    }
   ],
   "source": [
    "x_train.shape"
   ]
  },
  {
   "cell_type": "code",
   "execution_count": 89,
   "metadata": {
    "colab": {
     "base_uri": "https://localhost:8080/"
    },
    "executionInfo": {
     "elapsed": 766,
     "status": "ok",
     "timestamp": 1636118039504,
     "user": {
      "displayName": "Saipriya Aitha",
      "photoUrl": "https://lh3.googleusercontent.com/a-/AOh14GgdVCDZooBrg1a4lKVikbebKWq91aA9bmHUpZDw-ro=s64",
      "userId": "06057281574739852500"
     },
     "user_tz": -330
    },
    "id": "hAbdx3ouOyQd",
    "outputId": "a5fd9846-00c9-4e31-b8ef-63b534619d11"
   },
   "outputs": [
    {
     "data": {
      "text/plain": [
       "(10000, 6000)"
      ]
     },
     "execution_count": 89,
     "metadata": {},
     "output_type": "execute_result"
    }
   ],
   "source": [
    "x_test.shape"
   ]
  },
  {
   "cell_type": "code",
   "execution_count": 90,
   "metadata": {
    "colab": {
     "base_uri": "https://localhost:8080/"
    },
    "executionInfo": {
     "elapsed": 502,
     "status": "ok",
     "timestamp": 1636118055053,
     "user": {
      "displayName": "Saipriya Aitha",
      "photoUrl": "https://lh3.googleusercontent.com/a-/AOh14GgdVCDZooBrg1a4lKVikbebKWq91aA9bmHUpZDw-ro=s64",
      "userId": "06057281574739852500"
     },
     "user_tz": -330
    },
    "id": "wIY6VrajPAJu",
    "outputId": "ca17f4c1-1eef-47e7-ec94-70cc90cce46a"
   },
   "outputs": [
    {
     "data": {
      "text/plain": [
       "(50000, 6000)"
      ]
     },
     "execution_count": 90,
     "metadata": {},
     "output_type": "execute_result"
    }
   ],
   "source": [
    "z.shape"
   ]
  },
  {
   "cell_type": "code",
   "execution_count": 91,
   "metadata": {
    "executionInfo": {
     "elapsed": 2792,
     "status": "ok",
     "timestamp": 1636118066673,
     "user": {
      "displayName": "Saipriya Aitha",
      "photoUrl": "https://lh3.googleusercontent.com/a-/AOh14GgdVCDZooBrg1a4lKVikbebKWq91aA9bmHUpZDw-ro=s64",
      "userId": "06057281574739852500"
     },
     "user_tz": -330
    },
    "id": "-E34CREDPEQx"
   },
   "outputs": [],
   "source": [
    "#import libraries\n",
    "import tensorflow\n",
    "import keras\n",
    "#import Sequential\n",
    "from tensorflow.keras.models import Sequential\n",
    "#import Dense\n",
    "from tensorflow.keras.layers import Dense"
   ]
  },
  {
   "cell_type": "code",
   "execution_count": 92,
   "metadata": {
    "executionInfo": {
     "elapsed": 459,
     "status": "ok",
     "timestamp": 1636118078656,
     "user": {
      "displayName": "Saipriya Aitha",
      "photoUrl": "https://lh3.googleusercontent.com/a-/AOh14GgdVCDZooBrg1a4lKVikbebKWq91aA9bmHUpZDw-ro=s64",
      "userId": "06057281574739852500"
     },
     "user_tz": -330
    },
    "id": "RWCnFgA_PGig"
   },
   "outputs": [],
   "source": [
    "#intialize the model\n",
    "model=Sequential()\n",
    "\n",
    "#adding input layer\n",
    "model.add(Dense(600,kernel_initializer='random_uniform',\n",
    "                activation='relu'))\n",
    "\n",
    "#adding hidden layer\n",
    "model.add(Dense(100,kernel_initializer='random_uniform',\n",
    "                activation='relu'))\n",
    "\n",
    "#adding output layer\n",
    "model.add(Dense(1,kernel_initializer='random_uniform',\n",
    "                activation='sigmoid'))\n",
    "\n",
    "#configure the learning process\n",
    "model.compile(optimizer='adam',loss='binary_crossentropy',\n",
    "              metrics=['accuracy'])"
   ]
  },
  {
   "cell_type": "code",
   "execution_count": 93,
   "metadata": {
    "colab": {
     "base_uri": "https://localhost:8080/"
    },
    "executionInfo": {
     "elapsed": 782,
     "status": "ok",
     "timestamp": 1636118088036,
     "user": {
      "displayName": "Saipriya Aitha",
      "photoUrl": "https://lh3.googleusercontent.com/a-/AOh14GgdVCDZooBrg1a4lKVikbebKWq91aA9bmHUpZDw-ro=s64",
      "userId": "06057281574739852500"
     },
     "user_tz": -330
    },
    "id": "Qbw5JIVUPJ-p",
    "outputId": "03339cca-1d7e-47a4-bfef-2b3214955f9c"
   },
   "outputs": [
    {
     "name": "stdout",
     "output_type": "stream",
     "text": [
      "[[0 0 0 ... 0 0 0]\n",
      " [0 0 0 ... 0 0 0]\n",
      " [0 0 0 ... 0 0 0]\n",
      " ...\n",
      " [0 0 0 ... 0 0 0]\n",
      " [0 0 0 ... 0 0 0]\n",
      " [0 0 0 ... 0 0 0]]\n"
     ]
    }
   ],
   "source": [
    "print(x_train)"
   ]
  },
  {
   "cell_type": "code",
   "execution_count": 94,
   "metadata": {
    "colab": {
     "base_uri": "https://localhost:8080/"
    },
    "executionInfo": {
     "elapsed": 703315,
     "status": "ok",
     "timestamp": 1636118847904,
     "user": {
      "displayName": "Saipriya Aitha",
      "photoUrl": "https://lh3.googleusercontent.com/a-/AOh14GgdVCDZooBrg1a4lKVikbebKWq91aA9bmHUpZDw-ro=s64",
      "userId": "06057281574739852500"
     },
     "user_tz": -330
    },
    "id": "w8nPjB-ZPMPL",
    "outputId": "70b29191-a6f9-439b-a367-69a432d23ed4"
   },
   "outputs": [
    {
     "name": "stdout",
     "output_type": "stream",
     "text": [
      "Epoch 1/20\n",
      "1250/1250 [==============================] - 44s 30ms/step - loss: 0.2010 - accuracy: 0.9250\n",
      "Epoch 2/20\n",
      "1250/1250 [==============================] - 36s 29ms/step - loss: 0.1107 - accuracy: 0.9575\n",
      "Epoch 3/20\n",
      "1250/1250 [==============================] - 37s 30ms/step - loss: 0.0392 - accuracy: 0.9867\n",
      "Epoch 4/20\n",
      "1250/1250 [==============================] - 38s 30ms/step - loss: 0.0059 - accuracy: 0.9986\n",
      "Epoch 5/20\n",
      "1250/1250 [==============================] - 38s 30ms/step - loss: 0.0014 - accuracy: 0.9997\n",
      "Epoch 6/20\n",
      "1250/1250 [==============================] - 41s 33ms/step - loss: 4.0910e-04 - accuracy: 0.9999\n",
      "Epoch 7/20\n",
      "1250/1250 [==============================] - 36s 29ms/step - loss: 7.8451e-05 - accuracy: 1.0000\n",
      "Epoch 8/20\n",
      "1250/1250 [==============================] - 35s 28ms/step - loss: 8.2456e-06 - accuracy: 1.0000\n",
      "Epoch 9/20\n",
      "1250/1250 [==============================] - 34s 27ms/step - loss: 3.4967e-06 - accuracy: 1.0000\n",
      "Epoch 10/20\n",
      "1250/1250 [==============================] - 34s 27ms/step - loss: 1.6740e-06 - accuracy: 1.0000\n",
      "Epoch 11/20\n",
      "1250/1250 [==============================] - 34s 27ms/step - loss: 8.2217e-07 - accuracy: 1.0000\n",
      "Epoch 12/20\n",
      "1250/1250 [==============================] - 34s 27ms/step - loss: 4.0623e-07 - accuracy: 1.0000\n",
      "Epoch 13/20\n",
      "1250/1250 [==============================] - 34s 27ms/step - loss: 2.0947e-07 - accuracy: 1.0000\n",
      "Epoch 14/20\n",
      "1250/1250 [==============================] - 34s 27ms/step - loss: 1.0892e-07 - accuracy: 1.0000\n",
      "Epoch 15/20\n",
      "1250/1250 [==============================] - 34s 28ms/step - loss: 5.8397e-08 - accuracy: 1.0000\n",
      "Epoch 16/20\n",
      "1250/1250 [==============================] - 34s 27ms/step - loss: 3.1564e-08 - accuracy: 1.0000\n",
      "Epoch 17/20\n",
      "1250/1250 [==============================] - 34s 27ms/step - loss: 1.7601e-08 - accuracy: 1.0000\n",
      "Epoch 18/20\n",
      "1250/1250 [==============================] - 34s 27ms/step - loss: 1.0218e-08 - accuracy: 1.0000\n",
      "Epoch 19/20\n",
      "1250/1250 [==============================] - 34s 27ms/step - loss: 6.1486e-09 - accuracy: 1.0000\n",
      "Epoch 20/20\n",
      "1250/1250 [==============================] - 36s 29ms/step - loss: 3.7951e-09 - accuracy: 1.0000\n"
     ]
    },
    {
     "data": {
      "text/plain": [
       "<keras.callbacks.History at 0x1a039ca63c8>"
      ]
     },
     "execution_count": 94,
     "metadata": {},
     "output_type": "execute_result"
    }
   ],
   "source": [
    "#training the model\n",
    "model.fit(x_train,y_train,epochs=20,batch_size=32)"
   ]
  },
  {
   "cell_type": "code",
   "execution_count": 95,
   "metadata": {
    "executionInfo": {
     "elapsed": 453,
     "status": "ok",
     "timestamp": 1636118869334,
     "user": {
      "displayName": "Saipriya Aitha",
      "photoUrl": "https://lh3.googleusercontent.com/a-/AOh14GgdVCDZooBrg1a4lKVikbebKWq91aA9bmHUpZDw-ro=s64",
      "userId": "06057281574739852500"
     },
     "user_tz": -330
    },
    "id": "qi9sNGSfPaOo"
   },
   "outputs": [],
   "source": [
    "#save the model\n",
    "model.save(\"amazonibm.h5\")"
   ]
  },
  {
   "cell_type": "code",
   "execution_count": 96,
   "metadata": {
    "executionInfo": {
     "elapsed": 2589,
     "status": "ok",
     "timestamp": 1636118873988,
     "user": {
      "displayName": "Saipriya Aitha",
      "photoUrl": "https://lh3.googleusercontent.com/a-/AOh14GgdVCDZooBrg1a4lKVikbebKWq91aA9bmHUpZDw-ro=s64",
      "userId": "06057281574739852500"
     },
     "user_tz": -330
    },
    "id": "XFYGQJlDPpLZ"
   },
   "outputs": [],
   "source": [
    "ypred=model.predict(x_test)"
   ]
  },
  {
   "cell_type": "code",
   "execution_count": 97,
   "metadata": {
    "colab": {
     "base_uri": "https://localhost:8080/"
    },
    "executionInfo": {
     "elapsed": 9,
     "status": "ok",
     "timestamp": 1636118873988,
     "user": {
      "displayName": "Saipriya Aitha",
      "photoUrl": "https://lh3.googleusercontent.com/a-/AOh14GgdVCDZooBrg1a4lKVikbebKWq91aA9bmHUpZDw-ro=s64",
      "userId": "06057281574739852500"
     },
     "user_tz": -330
    },
    "id": "LE2iw8fQPrUA",
    "outputId": "93aa48d6-28c8-4829-8161-6cbd3ea5b585"
   },
   "outputs": [
    {
     "data": {
      "text/plain": [
       "array([[3.7939717e-35],\n",
       "       [6.9901695e-28],\n",
       "       [7.6669481e-30],\n",
       "       ...,\n",
       "       [0.0000000e+00],\n",
       "       [0.0000000e+00],\n",
       "       [1.8628883e-10]], dtype=float32)"
      ]
     },
     "execution_count": 97,
     "metadata": {},
     "output_type": "execute_result"
    }
   ],
   "source": [
    "ypred"
   ]
  },
  {
   "cell_type": "code",
   "execution_count": 98,
   "metadata": {
    "colab": {
     "base_uri": "https://localhost:8080/"
    },
    "executionInfo": {
     "elapsed": 8,
     "status": "ok",
     "timestamp": 1636118873989,
     "user": {
      "displayName": "Saipriya Aitha",
      "photoUrl": "https://lh3.googleusercontent.com/a-/AOh14GgdVCDZooBrg1a4lKVikbebKWq91aA9bmHUpZDw-ro=s64",
      "userId": "06057281574739852500"
     },
     "user_tz": -330
    },
    "id": "nbs9E1R7Pt4o",
    "outputId": "2b77adb2-9b73-4744-8c86-bb03e4af65c2"
   },
   "outputs": [
    {
     "data": {
      "text/plain": [
       "['ibmamazon.save']"
      ]
     },
     "execution_count": 98,
     "metadata": {},
     "output_type": "execute_result"
    }
   ],
   "source": [
    "#save bag of word model\n",
    "import joblib\n",
    "joblib.dump(cv.vocabulary_,\"ibmamazon.save\")"
   ]
  },
  {
   "cell_type": "code",
   "execution_count": 99,
   "metadata": {
    "executionInfo": {
     "elapsed": 2,
     "status": "ok",
     "timestamp": 1636118876784,
     "user": {
      "displayName": "Saipriya Aitha",
      "photoUrl": "https://lh3.googleusercontent.com/a-/AOh14GgdVCDZooBrg1a4lKVikbebKWq91aA9bmHUpZDw-ro=s64",
      "userId": "06057281574739852500"
     },
     "user_tz": -330
    },
    "id": "uTUadM_3PwQk"
   },
   "outputs": [],
   "source": [
    "loaded=CountVectorizer(decode_error='replace',vocabulary=joblib.load('ibmamazon.save'))"
   ]
  },
  {
   "cell_type": "code",
   "execution_count": 105,
   "metadata": {
    "colab": {
     "base_uri": "https://localhost:8080/"
    },
    "executionInfo": {
     "elapsed": 5,
     "status": "ok",
     "timestamp": 1636118878154,
     "user": {
      "displayName": "Saipriya Aitha",
      "photoUrl": "https://lh3.googleusercontent.com/a-/AOh14GgdVCDZooBrg1a4lKVikbebKWq91aA9bmHUpZDw-ro=s64",
      "userId": "06057281574739852500"
     },
     "user_tz": -330
    },
    "id": "xspoLXMCP1b-",
    "outputId": "253a337c-7419-4019-8575-5fb827ca495c"
   },
   "outputs": [
    {
     "name": "stdout",
     "output_type": "stream",
     "text": [
      "[[5.0325293e-06]]\n",
      "negative review\n"
     ]
    }
   ],
   "source": [
    "d=\"Writing was good\"\n",
    "d=d.split('delimiter')\n",
    "result=model.predict(loaded.transform(d))\n",
    "print(result)\n",
    "prediction=result>0.5\n",
    "#print(prediction)\n",
    "if prediction[0] == False:\n",
    "    print(\"negative review\")\n",
    "elif prediction[0] == True:\n",
    "    print(\"Positive review\")\n"
   ]
  },
  {
   "cell_type": "code",
   "execution_count": 106,
   "metadata": {
    "executionInfo": {
     "elapsed": 3,
     "status": "ok",
     "timestamp": 1636118878791,
     "user": {
      "displayName": "Saipriya Aitha",
      "photoUrl": "https://lh3.googleusercontent.com/a-/AOh14GgdVCDZooBrg1a4lKVikbebKWq91aA9bmHUpZDw-ro=s64",
      "userId": "06057281574739852500"
     },
     "user_tz": -330
    },
    "id": "q2RGwKC8P5Ca"
   },
   "outputs": [],
   "source": [
    "from tensorflow.keras.models import load_model\n",
    "model=tensorflow.keras.models.load_model(\"amazonibm.h5\")"
   ]
  },
  {
   "cell_type": "code",
   "execution_count": 107,
   "metadata": {
    "executionInfo": {
     "elapsed": 867,
     "status": "ok",
     "timestamp": 1636118880703,
     "user": {
      "displayName": "Saipriya Aitha",
      "photoUrl": "https://lh3.googleusercontent.com/a-/AOh14GgdVCDZooBrg1a4lKVikbebKWq91aA9bmHUpZDw-ro=s64",
      "userId": "06057281574739852500"
     },
     "user_tz": -330
    },
    "id": "BBK2aWzzP9Zh"
   },
   "outputs": [],
   "source": [
    "#import load_model function\n",
    "from tensorflow.keras.models import load_model\n",
    "#load our saved model file\n",
    "model=tensorflow.keras.models.load_model(\"amazonibm.h5\")\n",
    "#import countvecorizer\n",
    "from sklearn.feature_extraction.text import CountVectorizer\n",
    "import joblib\n",
    "#load saved bag of word model file\n",
    "loaded=CountVectorizer(decode_error='replace',vocabulary=joblib.load('ibmamazon.save'))"
   ]
  },
  {
   "cell_type": "code",
   "execution_count": 109,
   "metadata": {
    "colab": {
     "base_uri": "https://localhost:8080/"
    },
    "executionInfo": {
     "elapsed": 4,
     "status": "ok",
     "timestamp": 1636118881446,
     "user": {
      "displayName": "Saipriya Aitha",
      "photoUrl": "https://lh3.googleusercontent.com/a-/AOh14GgdVCDZooBrg1a4lKVikbebKWq91aA9bmHUpZDw-ro=s64",
      "userId": "06057281574739852500"
     },
     "user_tz": -330
    },
    "id": "Pgu0KZrRP_vB",
    "outputId": "06495d45-84e8-433f-b2f9-92af70973ce9"
   },
   "outputs": [
    {
     "name": "stdout",
     "output_type": "stream",
     "text": [
      "[[1.5839889e-10]]\n",
      "negative review\n"
     ]
    }
   ],
   "source": [
    "d=\"good with application\"\n",
    "d=d.split('delimiter')\n",
    "result=model.predict(loaded.transform(d))\n",
    "print(result)\n",
    "prediction=result>0.5\n",
    "#print(prediction)\n",
    "if prediction[0] == False:\n",
    "    print(\"negative review\")\n",
    "elif prediction[1] == True:\n",
    "    print(\"Negative review\")"
   ]
  },
  {
   "cell_type": "code",
   "execution_count": null,
   "metadata": {
    "executionInfo": {
     "elapsed": 3,
     "status": "ok",
     "timestamp": 1636118882304,
     "user": {
      "displayName": "Saipriya Aitha",
      "photoUrl": "https://lh3.googleusercontent.com/a-/AOh14GgdVCDZooBrg1a4lKVikbebKWq91aA9bmHUpZDw-ro=s64",
      "userId": "06057281574739852500"
     },
     "user_tz": -330
    },
    "id": "OyWuSY7PSNxi"
   },
   "outputs": [],
   "source": []
  },
  {
   "cell_type": "code",
   "execution_count": null,
   "metadata": {},
   "outputs": [],
   "source": []
  },
  {
   "cell_type": "code",
   "execution_count": null,
   "metadata": {},
   "outputs": [],
   "source": []
  },
  {
   "cell_type": "code",
   "execution_count": null,
   "metadata": {},
   "outputs": [],
   "source": []
  },
  {
   "cell_type": "code",
   "execution_count": null,
   "metadata": {},
   "outputs": [],
   "source": []
  }
 ],
 "metadata": {
  "colab": {
   "authorship_tag": "ABX9TyMpOcdLYrD+A/+c9TQBu1yp",
   "name": "new.ipynb",
   "provenance": []
  },
  "kernelspec": {
   "display_name": "Python 3",
   "language": "python",
   "name": "python3"
  }
 },
 "nbformat": 4,
 "nbformat_minor": 1
}
